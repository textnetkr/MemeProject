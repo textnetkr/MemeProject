{
    "nbformat": 4,
    "nbformat_minor": 0,
    "metadata": {
        "colab": {
            "provenance": [],
            "machine_shape": "hm",
            "collapsed_sections": [
                "yqpsvm_r5_Jp",
                "iWekOJDW7YnZ"
            ],
            "authorship_tag": "ABX9TyMlgYf4G+idZvBqPMpcL2jQ"
        },
        "kernelspec": {
            "name": "python3",
            "display_name": "Python 3"
        },
        "language_info": {
            "name": "python"
        },
        "gpuClass": "standard"
    },
    "cells": [
        {
            "cell_type": "markdown",
            "source": [
                "# Install"
            ],
            "metadata": {
                "id": "5BE6n1-y8p6X"
            }
        },
        {
            "cell_type": "code",
            "execution_count": null,
            "metadata": {
                "id": "THbJXsUR8D5m"
            },
            "outputs": [],
            "source": [
                "!pip3 install pshmodule"
            ]
        },
        {
            "cell_type": "code",
            "source": [
                "!pip3 install pickle5"
            ],
            "metadata": {
                "id": "ymV9FJ2B_a48"
            },
            "execution_count": null,
            "outputs": []
        },
        {
            "cell_type": "code",
            "source": [
                "!pip3 install pandas==1.5.0"
            ],
            "metadata": {
                "id": "bCkC0ssu_cNV"
            },
            "execution_count": null,
            "outputs": []
        },
        {
            "cell_type": "code",
            "source": [
                "!pip3 install swifter"
            ],
            "metadata": {
                "id": "rIbeSA5cDVtj"
            },
            "execution_count": null,
            "outputs": []
        },
        {
            "cell_type": "code",
            "source": [
                "from google.colab import drive\n",
                "drive.mount('/content/drive')"
            ],
            "metadata": {
                "id": "DNSDtQLoDXiy",
                "colab": {
                    "base_uri": "https://localhost:8080/"
                },
                "executionInfo": {
                    "status": "ok",
                    "timestamp": 1679461891048,
                    "user_tz": -540,
                    "elapsed": 70789,
                    "user": {
                        "displayName": "박성환",
                        "userId": "16608640204304641951"
                    }
                },
                "outputId": "e1d23130-d103-4464-a9f4-c2f8bf919a48"
            },
            "execution_count": null,
            "outputs": [
                {
                    "output_type": "stream",
                    "name": "stdout",
                    "text": [
                        "Mounted at /content/drive\n"
                    ]
                }
            ]
        },
        {
            "cell_type": "markdown",
            "source": [
                "# Data Load"
            ],
            "metadata": {
                "id": "9Fj3lby0EQct"
            }
        },
        {
            "cell_type": "code",
            "source": [
                "import sys\n",
                "sys.path.append('/content/drive/MyDrive/MemeProject/src/pytorch/preprocessing')\n",
                "print(sys.path)"
            ],
            "metadata": {
                "id": "q3HFvrTHEUBv",
                "colab": {
                    "base_uri": "https://localhost:8080/"
                },
                "executionInfo": {
                    "status": "ok",
                    "timestamp": 1679461924411,
                    "user_tz": -540,
                    "elapsed": 754,
                    "user": {
                        "displayName": "박성환",
                        "userId": "16608640204304641951"
                    }
                },
                "outputId": "7ecd6fe7-8f97-4d90-b822-ba70528a4a69"
            },
            "execution_count": null,
            "outputs": [
                {
                    "output_type": "stream",
                    "name": "stdout",
                    "text": [
                        "['/content', '/env/python', '/usr/lib/python39.zip', '/usr/lib/python3.9', '/usr/lib/python3.9/lib-dynload', '', '/usr/local/lib/python3.9/dist-packages', '/usr/lib/python3/dist-packages', '/usr/local/lib/python3.9/dist-packages/IPython/extensions', '/root/.ipython', '/content/drive/MyDrive/MemeProject/src/pytorch/preprocessing']\n"
                    ]
                }
            ]
        },
        {
            "cell_type": "code",
            "source": [
                "from tqdm import tqdm\n",
                "import config as cfg\n",
                "import pandas as pd\n",
                "import swifter\n",
                "from pshmodule.utils import filemanager as fm"
            ],
            "metadata": {
                "id": "V2_3AAkdEo52"
            },
            "execution_count": null,
            "outputs": []
        },
        {
            "cell_type": "code",
            "source": [
                "df1 = fm.load(cfg.data_path_v1)\n",
                "df2 = fm.load(cfg.data_path_v2)"
            ],
            "metadata": {
                "id": "UuqNh4i7EqjY"
            },
            "execution_count": null,
            "outputs": []
        },
        {
            "cell_type": "code",
            "source": [
                "new_header = df1.iloc[1]\n",
                "df1 = df1[2:]\n",
                "df1.columns = new_header"
            ],
            "metadata": {
                "id": "SSDecVvTTMbx"
            },
            "execution_count": null,
            "outputs": []
        },
        {
            "cell_type": "markdown",
            "source": [
                "Merge"
            ],
            "metadata": {
                "id": "dAaoy6rQwpPq"
            }
        },
        {
            "cell_type": "code",
            "source": [
                "df1 = df1[['관리번호', 'utt',\t'발화구분',\t'대화소재', '화행(U)', '발화문',\t'ARG1',\t'ARG_op']]\n",
                "df2 = df2[['관리번호', 'utt',\t'발화구분',\t'대화소재', '화행(U)', '발화문',\t'ARG1',\t'ARG_op']]"
            ],
            "metadata": {
                "id": "M1tU0rmuwuLH"
            },
            "execution_count": null,
            "outputs": []
        },
        {
            "cell_type": "code",
            "source": [
                "df2.head()"
            ],
            "metadata": {
                "id": "1I1Uf0ymxPxv"
            },
            "execution_count": null,
            "outputs": []
        },
        {
            "cell_type": "code",
            "source": [
                "print(len(df1))\n",
                "print(len(df2))"
            ],
            "metadata": {
                "id": "DRgY_eOuxDGy"
            },
            "execution_count": null,
            "outputs": []
        },
        {
            "cell_type": "code",
            "source": [
                "df_A = df2[df2['관리번호'].str.startswith('A')]\n",
                "df_E = df2[df2['관리번호'].str.startswith('E')]"
            ],
            "metadata": {
                "id": "pIfm_5N8xOod"
            },
            "execution_count": null,
            "outputs": []
        },
        {
            "cell_type": "code",
            "source": [
                "df = pd.concat([df_A, df1, df_E])\n",
                "df.reset_index(inplace=True, drop=True)"
            ],
            "metadata": {
                "id": "j-8S8mDgxiE6"
            },
            "execution_count": null,
            "outputs": []
        },
        {
            "cell_type": "code",
            "source": [
                "df.shape"
            ],
            "metadata": {
                "id": "egTwYK4Oxj8e"
            },
            "execution_count": null,
            "outputs": []
        },
        {
            "cell_type": "markdown",
            "source": [
                "Numbering"
            ],
            "metadata": {
                "id": "-VlCFEwExo5f"
            }
        },
        {
            "cell_type": "code",
            "source": [
                "# no\n",
                "num_list = [i+1 for i in range(len(df))]\n",
                "df['num'] = num_list\n",
                "\n",
                "# group no\n",
                "g_list = []\n",
                "num = 1\n",
                "for i in range(len(df)):\n",
                "  if i % 24 == 0 and i != 0:\n",
                "    num += 1\n",
                "  g_list.append(num)\n",
                "\n",
                "df['g_num'] = g_list"
            ],
            "metadata": {
                "id": "sCkFa4VUxk0e"
            },
            "execution_count": null,
            "outputs": []
        },
        {
            "cell_type": "code",
            "source": [
                "df = df[['num', 'g_num', 'utt', '발화구분',\t'대화소재', '화행(U)', '발화문', 'ARG1', 'ARG_op']]\n",
                "df.rename(columns={'발화구분':'type', '발화문':'u',\t'대화소재':'material', '화행(U)':'speech', 'ARG1':'arg1', 'ARG_op':'arg_op'}, inplace=True)\n",
                "df = df.fillna('')"
            ],
            "metadata": {
                "id": "Xcpxe0OGyr5n"
            },
            "execution_count": null,
            "outputs": []
        },
        {
            "cell_type": "code",
            "source": [
                "df.head()"
            ],
            "metadata": {
                "id": "mW5Wtt2wytYb"
            },
            "execution_count": null,
            "outputs": []
        },
        {
            "cell_type": "markdown",
            "source": [
                "Reshape"
            ],
            "metadata": {
                "id": "T1_YkxyWyxgf"
            }
        },
        {
            "cell_type": "code",
            "source": [
                "result = []\n",
                "temp = []\n",
                "\n",
                "for i in tqdm(df.iterrows()):\n",
                "  temp.append([i[1]['num'], i[1]['g_num'], i[1]['utt'], i[1]['type'], i[1]['u'], i[1]['arg1'], i[1]['arg_op'], i[1]['material'], i[1]['speech']])\n",
                "  \n",
                "  if i[1]['num'] % 24 == 0 and i[1]['num'] != 0:\n",
                "    temp_u = temp[:6]\n",
                "    temp_cpr = temp[6:12]\n",
                "    temp_mm = temp[12:18]\n",
                "    temp_cpo = temp[18:24]\n",
                "\n",
                "    for u in temp_u:\n",
                "      # 밈 조합\n",
                "      for cpr in temp_cpr:\n",
                "        for mm in temp_mm:\n",
                "          for cpo in temp_cpo:\n",
                "            meme = \"{} {} {}\".format(cpr[4], mm[4], cpo[4]).strip()\n",
                "            result.append([u[0], u[1], u[2], u[7], u[8], u[4], meme, u[5], u[6]])\n",
                "    # 24개 씩 초기화\n",
                "    temp = []"
            ],
            "metadata": {
                "id": "cjA7NjmFyusu"
            },
            "execution_count": null,
            "outputs": []
        },
        {
            "cell_type": "code",
            "source": [
                "len(result)"
            ],
            "metadata": {
                "id": "7T21zxVFy3V6"
            },
            "execution_count": null,
            "outputs": []
        },
        {
            "cell_type": "code",
            "source": [
                "df = pd.DataFrame(result, columns=[['num', 'g_num', 'u_num', 'material', 'speech', 'u', 'meme', 'arg1', 'arg_op']])"
            ],
            "metadata": {
                "id": "f2pIzs8Ny31c"
            },
            "execution_count": null,
            "outputs": []
        },
        {
            "cell_type": "code",
            "source": [
                "df.head(10)"
            ],
            "metadata": {
                "id": "IGsoByyf2j2Q"
            },
            "execution_count": null,
            "outputs": []
        },
        {
            "cell_type": "markdown",
            "source": [
                "arg_op 쉼표 기준으로 쪼개기"
            ],
            "metadata": {
                "id": "Us91VT_M3FT5"
            }
        },
        {
            "cell_type": "code",
            "source": [
                "df['arg_op1'] = df.arg_op.swifter.apply(lambda x: x.str.split(',').str[0])\n",
                "df['arg_op2'] = df.arg_op.swifter.apply(lambda x: x.str.split(',').str[1])"
            ],
            "metadata": {
                "id": "_PqUfAdm2lsy"
            },
            "execution_count": null,
            "outputs": []
        },
        {
            "cell_type": "code",
            "source": [
                "df.fillna('', inplace=True)"
            ],
            "metadata": {
                "id": "B2JW6h273JTE"
            },
            "execution_count": null,
            "outputs": []
        },
        {
            "cell_type": "code",
            "source": [
                "df.drop_duplicates(inplace=True)"
            ],
            "metadata": {
                "id": "gh_7csB53NmZ"
            },
            "execution_count": null,
            "outputs": []
        },
        {
            "cell_type": "code",
            "source": [
                "df.reset_index(inplace=True, drop=True)"
            ],
            "metadata": {
                "id": "fZRANJOb3Pzj"
            },
            "execution_count": null,
            "outputs": []
        },
        {
            "cell_type": "code",
            "source": [
                "df = df[['num', 'g_num', 'u_num', 'material', 'speech', 'u', 'meme', 'arg1', 'arg_op1', 'arg_op2']]"
            ],
            "metadata": {
                "id": "gOzV7zDl3S4Y"
            },
            "execution_count": null,
            "outputs": []
        },
        {
            "cell_type": "code",
            "source": [
                "df.head()"
            ],
            "metadata": {
                "id": "Fe8rF1Oc3UYy"
            },
            "execution_count": null,
            "outputs": []
        },
        {
            "cell_type": "code",
            "source": [
                "df.iloc[430:440]"
            ],
            "metadata": {
                "id": "4KhR6H4A3WQZ"
            },
            "execution_count": null,
            "outputs": []
        },
        {
            "cell_type": "markdown",
            "source": [
                "Temp Save"
            ],
            "metadata": {
                "id": "zCJKXfs-3qBL"
            }
        },
        {
            "cell_type": "code",
            "source": [
                "fm.save(cfg.origin_ref, df)"
            ],
            "metadata": {
                "id": "izOQvLWD3fnO"
            },
            "execution_count": null,
            "outputs": []
        },
        {
            "cell_type": "markdown",
            "source": [
                "# Reduce Class"
            ],
            "metadata": {
                "id": "-SdwqOB44zrB"
            }
        },
        {
            "cell_type": "code",
            "source": [
                "import sys\n",
                "sys.path.append('/content/drive/MyDrive/MemeProject/src/pytorch/preprocessing')\n",
                "print(sys.path)"
            ],
            "metadata": {
                "colab": {
                    "base_uri": "https://localhost:8080/"
                },
                "id": "WkhOPDkP41hw",
                "executionInfo": {
                    "status": "ok",
                    "timestamp": 1677030834078,
                    "user_tz": -540,
                    "elapsed": 4,
                    "user": {
                        "displayName": "박성환",
                        "userId": "16608640204304641951"
                    }
                },
                "outputId": "d5072f05-9512-4fda-8228-69357b42152c"
            },
            "execution_count": null,
            "outputs": [
                {
                    "output_type": "stream",
                    "name": "stdout",
                    "text": [
                        "['/content', '/env/python', '/usr/lib/python38.zip', '/usr/lib/python3.8', '/usr/lib/python3.8/lib-dynload', '', '/usr/local/lib/python3.8/dist-packages', '/usr/lib/python3/dist-packages', '/usr/local/lib/python3.8/dist-packages/IPython/extensions', '/root/.ipython', '/content/drive/MyDrive/MemeProject/src/pytorch/preprocessing']\n"
                    ]
                }
            ]
        },
        {
            "cell_type": "code",
            "source": [
                "from tqdm import tqdm\n",
                "import config as cfg\n",
                "import pandas as pd\n",
                "import numpy as np\n",
                "import swifter\n",
                "from pshmodule.utils import filemanager as fm"
            ],
            "metadata": {
                "id": "qvihEPo66YNG"
            },
            "execution_count": null,
            "outputs": []
        },
        {
            "cell_type": "code",
            "source": [
                "df = fm.load(cfg.origin_ref)"
            ],
            "metadata": {
                "colab": {
                    "base_uri": "https://localhost:8080/"
                },
                "id": "sl-3vNKG6Tkd",
                "executionInfo": {
                    "status": "ok",
                    "timestamp": 1677030841991,
                    "user_tz": -540,
                    "elapsed": 1886,
                    "user": {
                        "displayName": "박성환",
                        "userId": "16608640204304641951"
                    }
                },
                "outputId": "0408e058-848e-408b-a597-03ee2a7c2f71"
            },
            "execution_count": null,
            "outputs": [
                {
                    "output_type": "stream",
                    "name": "stdout",
                    "text": [
                        "extension : .pickle\n",
                        "Loaded 181704 records from drive/MyDrive/MemeProject/data/augmentation/origin_ref.pickle\n"
                    ]
                }
            ]
        },
        {
            "cell_type": "code",
            "source": [
                "df.head()"
            ],
            "metadata": {
                "colab": {
                    "base_uri": "https://localhost:8080/",
                    "height": 424
                },
                "id": "Co3iqskE6bCs",
                "executionInfo": {
                    "status": "ok",
                    "timestamp": 1677030841992,
                    "user_tz": -540,
                    "elapsed": 11,
                    "user": {
                        "displayName": "박성환",
                        "userId": "16608640204304641951"
                    }
                },
                "outputId": "70f9d8a9-a201-456b-e3c7-d260f72d1280"
            },
            "execution_count": null,
            "outputs": [
                {
                    "output_type": "execute_result",
                    "data": {
                        "text/plain": [
                            "  num g_num u_num material speech                u  \\\n",
                            "0   1     1     1     학교생활     자랑  나 중간고사 반에서 1등했어   \n",
                            "1   1     1     1     학교생활     자랑  나 중간고사 반에서 1등했어   \n",
                            "2   1     1     1     학교생활     자랑  나 중간고사 반에서 1등했어   \n",
                            "3   1     1     1     학교생활     자랑  나 중간고사 반에서 1등했어   \n",
                            "4   1     1     1     학교생활     자랑  나 중간고사 반에서 1등했어   \n",
                            "\n",
                            "                                          meme  arg1 arg_op1 arg_op2  \n",
                            "0           그렇다면 통 크게 함 쏴야지! 근데 이제 내 것도 곁들인...  중간고사                  \n",
                            "1     그렇다면 통 크게 함 쏴야지! 근데 이제 내 몫을 제일 많이 곁들인...  중간고사                  \n",
                            "2         그렇다면 통 크게 함 쏴야지! 근데 이제 대춘이 몫도 곁들인...  중간고사                  \n",
                            "3  그렇다면 통 크게 함 쏴야지! 근데 이제 배보다 배꼽이 더 큰 걸 곁들인...  중간고사                  \n",
                            "4           그렇다면 통 크게 함 쏴야지! 근데 이제 과소비를 곁들인...  중간고사                  "
                        ],
                        "text/html": [
                            "\n",
                            "  <div id=\"df-205817cf-bd75-452a-aa64-30bcda6f50b9\">\n",
                            "    <div class=\"colab-df-container\">\n",
                            "      <div>\n",
                            "<style scoped>\n",
                            "    .dataframe tbody tr th:only-of-type {\n",
                            "        vertical-align: middle;\n",
                            "    }\n",
                            "\n",
                            "    .dataframe tbody tr th {\n",
                            "        vertical-align: top;\n",
                            "    }\n",
                            "\n",
                            "    .dataframe thead tr th {\n",
                            "        text-align: left;\n",
                            "    }\n",
                            "</style>\n",
                            "<table border=\"1\" class=\"dataframe\">\n",
                            "  <thead>\n",
                            "    <tr>\n",
                            "      <th></th>\n",
                            "      <th>num</th>\n",
                            "      <th>g_num</th>\n",
                            "      <th>u_num</th>\n",
                            "      <th>material</th>\n",
                            "      <th>speech</th>\n",
                            "      <th>u</th>\n",
                            "      <th>meme</th>\n",
                            "      <th>arg1</th>\n",
                            "      <th>arg_op1</th>\n",
                            "      <th>arg_op2</th>\n",
                            "    </tr>\n",
                            "  </thead>\n",
                            "  <tbody>\n",
                            "    <tr>\n",
                            "      <th>0</th>\n",
                            "      <td>1</td>\n",
                            "      <td>1</td>\n",
                            "      <td>1</td>\n",
                            "      <td>학교생활</td>\n",
                            "      <td>자랑</td>\n",
                            "      <td>나 중간고사 반에서 1등했어</td>\n",
                            "      <td>그렇다면 통 크게 함 쏴야지! 근데 이제 내 것도 곁들인...</td>\n",
                            "      <td>중간고사</td>\n",
                            "      <td></td>\n",
                            "      <td></td>\n",
                            "    </tr>\n",
                            "    <tr>\n",
                            "      <th>1</th>\n",
                            "      <td>1</td>\n",
                            "      <td>1</td>\n",
                            "      <td>1</td>\n",
                            "      <td>학교생활</td>\n",
                            "      <td>자랑</td>\n",
                            "      <td>나 중간고사 반에서 1등했어</td>\n",
                            "      <td>그렇다면 통 크게 함 쏴야지! 근데 이제 내 몫을 제일 많이 곁들인...</td>\n",
                            "      <td>중간고사</td>\n",
                            "      <td></td>\n",
                            "      <td></td>\n",
                            "    </tr>\n",
                            "    <tr>\n",
                            "      <th>2</th>\n",
                            "      <td>1</td>\n",
                            "      <td>1</td>\n",
                            "      <td>1</td>\n",
                            "      <td>학교생활</td>\n",
                            "      <td>자랑</td>\n",
                            "      <td>나 중간고사 반에서 1등했어</td>\n",
                            "      <td>그렇다면 통 크게 함 쏴야지! 근데 이제 대춘이 몫도 곁들인...</td>\n",
                            "      <td>중간고사</td>\n",
                            "      <td></td>\n",
                            "      <td></td>\n",
                            "    </tr>\n",
                            "    <tr>\n",
                            "      <th>3</th>\n",
                            "      <td>1</td>\n",
                            "      <td>1</td>\n",
                            "      <td>1</td>\n",
                            "      <td>학교생활</td>\n",
                            "      <td>자랑</td>\n",
                            "      <td>나 중간고사 반에서 1등했어</td>\n",
                            "      <td>그렇다면 통 크게 함 쏴야지! 근데 이제 배보다 배꼽이 더 큰 걸 곁들인...</td>\n",
                            "      <td>중간고사</td>\n",
                            "      <td></td>\n",
                            "      <td></td>\n",
                            "    </tr>\n",
                            "    <tr>\n",
                            "      <th>4</th>\n",
                            "      <td>1</td>\n",
                            "      <td>1</td>\n",
                            "      <td>1</td>\n",
                            "      <td>학교생활</td>\n",
                            "      <td>자랑</td>\n",
                            "      <td>나 중간고사 반에서 1등했어</td>\n",
                            "      <td>그렇다면 통 크게 함 쏴야지! 근데 이제 과소비를 곁들인...</td>\n",
                            "      <td>중간고사</td>\n",
                            "      <td></td>\n",
                            "      <td></td>\n",
                            "    </tr>\n",
                            "  </tbody>\n",
                            "</table>\n",
                            "</div>\n",
                            "      <button class=\"colab-df-convert\" onclick=\"convertToInteractive('df-205817cf-bd75-452a-aa64-30bcda6f50b9')\"\n",
                            "              title=\"Convert this dataframe to an interactive table.\"\n",
                            "              style=\"display:none;\">\n",
                            "        \n",
                            "  <svg xmlns=\"http://www.w3.org/2000/svg\" height=\"24px\"viewBox=\"0 0 24 24\"\n",
                            "       width=\"24px\">\n",
                            "    <path d=\"M0 0h24v24H0V0z\" fill=\"none\"/>\n",
                            "    <path d=\"M18.56 5.44l.94 2.06.94-2.06 2.06-.94-2.06-.94-.94-2.06-.94 2.06-2.06.94zm-11 1L8.5 8.5l.94-2.06 2.06-.94-2.06-.94L8.5 2.5l-.94 2.06-2.06.94zm10 10l.94 2.06.94-2.06 2.06-.94-2.06-.94-.94-2.06-.94 2.06-2.06.94z\"/><path d=\"M17.41 7.96l-1.37-1.37c-.4-.4-.92-.59-1.43-.59-.52 0-1.04.2-1.43.59L10.3 9.45l-7.72 7.72c-.78.78-.78 2.05 0 2.83L4 21.41c.39.39.9.59 1.41.59.51 0 1.02-.2 1.41-.59l7.78-7.78 2.81-2.81c.8-.78.8-2.07 0-2.86zM5.41 20L4 18.59l7.72-7.72 1.47 1.35L5.41 20z\"/>\n",
                            "  </svg>\n",
                            "      </button>\n",
                            "      \n",
                            "  <style>\n",
                            "    .colab-df-container {\n",
                            "      display:flex;\n",
                            "      flex-wrap:wrap;\n",
                            "      gap: 12px;\n",
                            "    }\n",
                            "\n",
                            "    .colab-df-convert {\n",
                            "      background-color: #E8F0FE;\n",
                            "      border: none;\n",
                            "      border-radius: 50%;\n",
                            "      cursor: pointer;\n",
                            "      display: none;\n",
                            "      fill: #1967D2;\n",
                            "      height: 32px;\n",
                            "      padding: 0 0 0 0;\n",
                            "      width: 32px;\n",
                            "    }\n",
                            "\n",
                            "    .colab-df-convert:hover {\n",
                            "      background-color: #E2EBFA;\n",
                            "      box-shadow: 0px 1px 2px rgba(60, 64, 67, 0.3), 0px 1px 3px 1px rgba(60, 64, 67, 0.15);\n",
                            "      fill: #174EA6;\n",
                            "    }\n",
                            "\n",
                            "    [theme=dark] .colab-df-convert {\n",
                            "      background-color: #3B4455;\n",
                            "      fill: #D2E3FC;\n",
                            "    }\n",
                            "\n",
                            "    [theme=dark] .colab-df-convert:hover {\n",
                            "      background-color: #434B5C;\n",
                            "      box-shadow: 0px 1px 3px 1px rgba(0, 0, 0, 0.15);\n",
                            "      filter: drop-shadow(0px 1px 2px rgba(0, 0, 0, 0.3));\n",
                            "      fill: #FFFFFF;\n",
                            "    }\n",
                            "  </style>\n",
                            "\n",
                            "      <script>\n",
                            "        const buttonEl =\n",
                            "          document.querySelector('#df-205817cf-bd75-452a-aa64-30bcda6f50b9 button.colab-df-convert');\n",
                            "        buttonEl.style.display =\n",
                            "          google.colab.kernel.accessAllowed ? 'block' : 'none';\n",
                            "\n",
                            "        async function convertToInteractive(key) {\n",
                            "          const element = document.querySelector('#df-205817cf-bd75-452a-aa64-30bcda6f50b9');\n",
                            "          const dataTable =\n",
                            "            await google.colab.kernel.invokeFunction('convertToInteractive',\n",
                            "                                                     [key], {});\n",
                            "          if (!dataTable) return;\n",
                            "\n",
                            "          const docLinkHtml = 'Like what you see? Visit the ' +\n",
                            "            '<a target=\"_blank\" href=https://colab.research.google.com/notebooks/data_table.ipynb>data table notebook</a>'\n",
                            "            + ' to learn more about interactive tables.';\n",
                            "          element.innerHTML = '';\n",
                            "          dataTable['output_type'] = 'display_data';\n",
                            "          await google.colab.output.renderOutput(dataTable, element);\n",
                            "          const docLink = document.createElement('div');\n",
                            "          docLink.innerHTML = docLinkHtml;\n",
                            "          element.appendChild(docLink);\n",
                            "        }\n",
                            "      </script>\n",
                            "    </div>\n",
                            "  </div>\n",
                            "  "
                        ]
                    },
                    "metadata": {},
                    "execution_count": 9
                }
            ]
        },
        {
            "cell_type": "markdown",
            "source": [
                "Reduce Class"
            ],
            "metadata": {
                "id": "S3a1qL047SGZ"
            }
        },
        {
            "cell_type": "markdown",
            "source": [
                "![image.png](data:image/png;base64,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)"
            ],
            "metadata": {
                "id": "78aYm23P7V4y"
            }
        },
        {
            "cell_type": "markdown",
            "source": [
                "##### 대화소재"
            ],
            "metadata": {
                "id": "JRbyMI_MQg7l"
            }
        },
        {
            "cell_type": "code",
            "source": [
                "material = [i[0] for i in df.material.values.tolist()]"
            ],
            "metadata": {
                "id": "IWFxIksB9Q7q"
            },
            "execution_count": null,
            "outputs": []
        },
        {
            "cell_type": "code",
            "source": [
                "material = list(set(material))"
            ],
            "metadata": {
                "id": "t1t6G_2y_QVn"
            },
            "execution_count": null,
            "outputs": []
        },
        {
            "cell_type": "code",
            "source": [
                "material.remove('밈봇')\n",
                "material.sort()\n",
                "\n",
                "material_bot = []\n",
                "material_bot.append('밈봇')"
            ],
            "metadata": {
                "id": "JgmG_XV0QFkd"
            },
            "execution_count": null,
            "outputs": []
        },
        {
            "cell_type": "markdown",
            "source": [
                "##### 화행"
            ],
            "metadata": {
                "id": "Q9Gy5jP7Qi9w"
            }
        },
        {
            "cell_type": "code",
            "source": [
                "speech = [i[0] for i in df.speech.values.tolist()]"
            ],
            "metadata": {
                "id": "yJJ8rsk--3Tf"
            },
            "execution_count": null,
            "outputs": []
        },
        {
            "cell_type": "code",
            "source": [
                "speech = list(set(speech))"
            ],
            "metadata": {
                "id": "F-AFm37kQQQZ"
            },
            "execution_count": null,
            "outputs": []
        },
        {
            "cell_type": "code",
            "source": [
                "speech.sort()"
            ],
            "metadata": {
                "id": "eZcfO3_tQXvK"
            },
            "execution_count": null,
            "outputs": []
        },
        {
            "cell_type": "code",
            "source": [
                "speech.remove('실망')\n",
                "speech.remove('혐오')\n",
                "speech.remove('만족')\n",
                "speech.remove('명령')\n",
                "\n",
                "speech_bot = []\n",
                "speech_bot.append('만족')\n",
                "speech_bot.append('명령')\n",
                "speech_bot.append('실망')\n",
                "speech_bot.append('혐오')"
            ],
            "metadata": {
                "id": "N5wwfBSbSA5V"
            },
            "execution_count": null,
            "outputs": []
        },
        {
            "cell_type": "markdown",
            "source": [
                "##### Combine"
            ],
            "metadata": {
                "id": "gfEATzdBUxeA"
            }
        },
        {
            "cell_type": "code",
            "source": [
                "combine = []\n",
                "\n",
                "for i in material:\n",
                "  for j in speech:\n",
                "    combine.append((i, j))\n",
                "\n",
                "for ii in material_bot:\n",
                "  for jj in speech_bot:\n",
                "    combine.append((ii, jj))"
            ],
            "metadata": {
                "id": "NVDokFVOS-7W"
            },
            "execution_count": null,
            "outputs": []
        },
        {
            "cell_type": "markdown",
            "source": [
                "##### Find key"
            ],
            "metadata": {
                "id": "rgOvnqd1VZKY"
            }
        },
        {
            "cell_type": "code",
            "source": [
                "# 해당 값 없음\n",
                "combine.remove(('인간관계', '계획'))"
            ],
            "metadata": {
                "id": "cEdMKtCxrn1s"
            },
            "execution_count": null,
            "outputs": []
        },
        {
            "cell_type": "code",
            "source": [
                "com_dict = {v: k for k, v in enumerate(combine)}"
            ],
            "metadata": {
                "id": "6WhIxzBHT4A4"
            },
            "execution_count": null,
            "outputs": []
        },
        {
            "cell_type": "code",
            "source": [
                "print(com_dict)"
            ],
            "metadata": {
                "colab": {
                    "base_uri": "https://localhost:8080/"
                },
                "id": "RIJjlG_FgAp-",
                "executionInfo": {
                    "status": "ok",
                    "timestamp": 1675840644457,
                    "user_tz": -540,
                    "elapsed": 5,
                    "user": {
                        "displayName": "박성환",
                        "userId": "16608640204304641951"
                    }
                },
                "outputId": "040a0c29-7502-4b57-f016-75c677fd61cf"
            },
            "execution_count": null,
            "outputs": [
                {
                    "output_type": "stream",
                    "name": "stdout",
                    "text": [
                        "{('가정생활', '계획'): 0, ('가정생활', '소망'): 1, ('가정생활', '의지'): 2, ('가정생활', '자랑'): 3, ('가정생활', '진술'): 4, ('가정생활', '칭찬'): 5, ('경사', '계획'): 6, ('경사', '소망'): 7, ('경사', '의지'): 8, ('경사', '자랑'): 9, ('경사', '진술'): 10, ('경사', '칭찬'): 11, ('교통', '계획'): 12, ('교통', '소망'): 13, ('교통', '의지'): 14, ('교통', '자랑'): 15, ('교통', '진술'): 16, ('교통', '칭찬'): 17, ('기념일', '계획'): 18, ('기념일', '소망'): 19, ('기념일', '의지'): 20, ('기념일', '자랑'): 21, ('기념일', '진술'): 22, ('기념일', '칭찬'): 23, ('기후', '계획'): 24, ('기후', '소망'): 25, ('기후', '의지'): 26, ('기후', '자랑'): 27, ('기후', '진술'): 28, ('기후', '칭찬'): 29, ('돈', '계획'): 30, ('돈', '소망'): 31, ('돈', '의지'): 32, ('돈', '자랑'): 33, ('돈', '진술'): 34, ('돈', '칭찬'): 35, ('문화예술', '계획'): 36, ('문화예술', '소망'): 37, ('문화예술', '의지'): 38, ('문화예술', '자랑'): 39, ('문화예술', '진술'): 40, ('문화예술', '칭찬'): 41, ('미디어콘텐츠', '계획'): 42, ('미디어콘텐츠', '소망'): 43, ('미디어콘텐츠', '의지'): 44, ('미디어콘텐츠', '자랑'): 45, ('미디어콘텐츠', '진술'): 46, ('미디어콘텐츠', '칭찬'): 47, ('미용', '계획'): 48, ('미용', '소망'): 49, ('미용', '의지'): 50, ('미용', '자랑'): 51, ('미용', '진술'): 52, ('미용', '칭찬'): 53, ('반려동물', '계획'): 54, ('반려동물', '소망'): 55, ('반려동물', '의지'): 56, ('반려동물', '자랑'): 57, ('반려동물', '진술'): 58, ('반려동물', '칭찬'): 59, ('쇼핑', '계획'): 60, ('쇼핑', '소망'): 61, ('쇼핑', '의지'): 62, ('쇼핑', '자랑'): 63, ('쇼핑', '진술'): 64, ('쇼핑', '칭찬'): 65, ('여행', '계획'): 66, ('여행', '소망'): 67, ('여행', '의지'): 68, ('여행', '자랑'): 69, ('여행', '진술'): 70, ('여행', '칭찬'): 71, ('연애', '계획'): 72, ('연애', '소망'): 73, ('연애', '의지'): 74, ('연애', '자랑'): 75, ('연애', '진술'): 76, ('연애', '칭찬'): 77, ('운동', '계획'): 78, ('운동', '소망'): 79, ('운동', '의지'): 80, ('운동', '자랑'): 81, ('운동', '진술'): 82, ('운동', '칭찬'): 83, ('유명인', '계획'): 84, ('유명인', '소망'): 85, ('유명인', '의지'): 86, ('유명인', '자랑'): 87, ('유명인', '진술'): 88, ('유명인', '칭찬'): 89, ('음료', '계획'): 90, ('음료', '소망'): 91, ('음료', '의지'): 92, ('음료', '자랑'): 93, ('음료', '진술'): 94, ('음료', '칭찬'): 95, ('음식', '계획'): 96, ('음식', '소망'): 97, ('음식', '의지'): 98, ('음식', '자랑'): 99, ('음식', '진술'): 100, ('음식', '칭찬'): 101, ('인간관계', '소망'): 102, ('인간관계', '의지'): 103, ('인간관계', '자랑'): 104, ('인간관계', '진술'): 105, ('인간관계', '칭찬'): 106, ('자기개발', '계획'): 107, ('자기개발', '소망'): 108, ('자기개발', '의지'): 109, ('자기개발', '자랑'): 110, ('자기개발', '진술'): 111, ('자기개발', '칭찬'): 112, ('전자기기', '계획'): 113, ('전자기기', '소망'): 114, ('전자기기', '의지'): 115, ('전자기기', '자랑'): 116, ('전자기기', '진술'): 117, ('전자기기', '칭찬'): 118, ('주거', '계획'): 119, ('주거', '소망'): 120, ('주거', '의지'): 121, ('주거', '자랑'): 122, ('주거', '진술'): 123, ('주거', '칭찬'): 124, ('직장생활', '계획'): 125, ('직장생활', '소망'): 126, ('직장생활', '의지'): 127, ('직장생활', '자랑'): 128, ('직장생활', '진술'): 129, ('직장생활', '칭찬'): 130, ('취미', '계획'): 131, ('취미', '소망'): 132, ('취미', '의지'): 133, ('취미', '자랑'): 134, ('취미', '진술'): 135, ('취미', '칭찬'): 136, ('패션', '계획'): 137, ('패션', '소망'): 138, ('패션', '의지'): 139, ('패션', '자랑'): 140, ('패션', '진술'): 141, ('패션', '칭찬'): 142, ('학교생활', '계획'): 143, ('학교생활', '소망'): 144, ('학교생활', '의지'): 145, ('학교생활', '자랑'): 146, ('학교생활', '진술'): 147, ('학교생활', '칭찬'): 148, ('밈봇', '만족'): 149, ('밈봇', '명령'): 150, ('밈봇', '실망'): 151, ('밈봇', '혐오'): 152}\n"
                    ]
                }
            ]
        },
        {
            "cell_type": "markdown",
            "source": [
                "##### Lable Table Save"
            ],
            "metadata": {
                "id": "GzK8OrOFxEjN"
            }
        },
        {
            "cell_type": "code",
            "source": [
                "df_table = pd.DataFrame.from_dict(data=com_dict, orient='index')"
            ],
            "metadata": {
                "id": "_3H4aV_KgdCS"
            },
            "execution_count": null,
            "outputs": []
        },
        {
            "cell_type": "code",
            "source": [
                "df_table.reset_index(inplace=True)"
            ],
            "metadata": {
                "id": "RWVYUXANixJy"
            },
            "execution_count": null,
            "outputs": []
        },
        {
            "cell_type": "code",
            "source": [
                "df_table.rename(columns={'index':'name', 0:'index'}, inplace=True)"
            ],
            "metadata": {
                "id": "5s45HxJHiAEa"
            },
            "execution_count": null,
            "outputs": []
        },
        {
            "cell_type": "code",
            "source": [
                "df_table.head()"
            ],
            "metadata": {
                "colab": {
                    "base_uri": "https://localhost:8080/",
                    "height": 206
                },
                "id": "yOfhoQcGi5p7",
                "executionInfo": {
                    "status": "ok",
                    "timestamp": 1675840690799,
                    "user_tz": -540,
                    "elapsed": 5,
                    "user": {
                        "displayName": "박성환",
                        "userId": "16608640204304641951"
                    }
                },
                "outputId": "18bd3872-9c93-47cf-b7df-f9da58458899"
            },
            "execution_count": null,
            "outputs": [
                {
                    "output_type": "execute_result",
                    "data": {
                        "text/plain": [
                            "         name  index\n",
                            "0  (가정생활, 계획)      0\n",
                            "1  (가정생활, 소망)      1\n",
                            "2  (가정생활, 의지)      2\n",
                            "3  (가정생활, 자랑)      3\n",
                            "4  (가정생활, 진술)      4"
                        ],
                        "text/html": [
                            "\n",
                            "  <div id=\"df-4762c8bf-15e6-4bb2-af6e-59e1b377e603\">\n",
                            "    <div class=\"colab-df-container\">\n",
                            "      <div>\n",
                            "<style scoped>\n",
                            "    .dataframe tbody tr th:only-of-type {\n",
                            "        vertical-align: middle;\n",
                            "    }\n",
                            "\n",
                            "    .dataframe tbody tr th {\n",
                            "        vertical-align: top;\n",
                            "    }\n",
                            "\n",
                            "    .dataframe thead th {\n",
                            "        text-align: right;\n",
                            "    }\n",
                            "</style>\n",
                            "<table border=\"1\" class=\"dataframe\">\n",
                            "  <thead>\n",
                            "    <tr style=\"text-align: right;\">\n",
                            "      <th></th>\n",
                            "      <th>name</th>\n",
                            "      <th>index</th>\n",
                            "    </tr>\n",
                            "  </thead>\n",
                            "  <tbody>\n",
                            "    <tr>\n",
                            "      <th>0</th>\n",
                            "      <td>(가정생활, 계획)</td>\n",
                            "      <td>0</td>\n",
                            "    </tr>\n",
                            "    <tr>\n",
                            "      <th>1</th>\n",
                            "      <td>(가정생활, 소망)</td>\n",
                            "      <td>1</td>\n",
                            "    </tr>\n",
                            "    <tr>\n",
                            "      <th>2</th>\n",
                            "      <td>(가정생활, 의지)</td>\n",
                            "      <td>2</td>\n",
                            "    </tr>\n",
                            "    <tr>\n",
                            "      <th>3</th>\n",
                            "      <td>(가정생활, 자랑)</td>\n",
                            "      <td>3</td>\n",
                            "    </tr>\n",
                            "    <tr>\n",
                            "      <th>4</th>\n",
                            "      <td>(가정생활, 진술)</td>\n",
                            "      <td>4</td>\n",
                            "    </tr>\n",
                            "  </tbody>\n",
                            "</table>\n",
                            "</div>\n",
                            "      <button class=\"colab-df-convert\" onclick=\"convertToInteractive('df-4762c8bf-15e6-4bb2-af6e-59e1b377e603')\"\n",
                            "              title=\"Convert this dataframe to an interactive table.\"\n",
                            "              style=\"display:none;\">\n",
                            "        \n",
                            "  <svg xmlns=\"http://www.w3.org/2000/svg\" height=\"24px\"viewBox=\"0 0 24 24\"\n",
                            "       width=\"24px\">\n",
                            "    <path d=\"M0 0h24v24H0V0z\" fill=\"none\"/>\n",
                            "    <path d=\"M18.56 5.44l.94 2.06.94-2.06 2.06-.94-2.06-.94-.94-2.06-.94 2.06-2.06.94zm-11 1L8.5 8.5l.94-2.06 2.06-.94-2.06-.94L8.5 2.5l-.94 2.06-2.06.94zm10 10l.94 2.06.94-2.06 2.06-.94-2.06-.94-.94-2.06-.94 2.06-2.06.94z\"/><path d=\"M17.41 7.96l-1.37-1.37c-.4-.4-.92-.59-1.43-.59-.52 0-1.04.2-1.43.59L10.3 9.45l-7.72 7.72c-.78.78-.78 2.05 0 2.83L4 21.41c.39.39.9.59 1.41.59.51 0 1.02-.2 1.41-.59l7.78-7.78 2.81-2.81c.8-.78.8-2.07 0-2.86zM5.41 20L4 18.59l7.72-7.72 1.47 1.35L5.41 20z\"/>\n",
                            "  </svg>\n",
                            "      </button>\n",
                            "      \n",
                            "  <style>\n",
                            "    .colab-df-container {\n",
                            "      display:flex;\n",
                            "      flex-wrap:wrap;\n",
                            "      gap: 12px;\n",
                            "    }\n",
                            "\n",
                            "    .colab-df-convert {\n",
                            "      background-color: #E8F0FE;\n",
                            "      border: none;\n",
                            "      border-radius: 50%;\n",
                            "      cursor: pointer;\n",
                            "      display: none;\n",
                            "      fill: #1967D2;\n",
                            "      height: 32px;\n",
                            "      padding: 0 0 0 0;\n",
                            "      width: 32px;\n",
                            "    }\n",
                            "\n",
                            "    .colab-df-convert:hover {\n",
                            "      background-color: #E2EBFA;\n",
                            "      box-shadow: 0px 1px 2px rgba(60, 64, 67, 0.3), 0px 1px 3px 1px rgba(60, 64, 67, 0.15);\n",
                            "      fill: #174EA6;\n",
                            "    }\n",
                            "\n",
                            "    [theme=dark] .colab-df-convert {\n",
                            "      background-color: #3B4455;\n",
                            "      fill: #D2E3FC;\n",
                            "    }\n",
                            "\n",
                            "    [theme=dark] .colab-df-convert:hover {\n",
                            "      background-color: #434B5C;\n",
                            "      box-shadow: 0px 1px 3px 1px rgba(0, 0, 0, 0.15);\n",
                            "      filter: drop-shadow(0px 1px 2px rgba(0, 0, 0, 0.3));\n",
                            "      fill: #FFFFFF;\n",
                            "    }\n",
                            "  </style>\n",
                            "\n",
                            "      <script>\n",
                            "        const buttonEl =\n",
                            "          document.querySelector('#df-4762c8bf-15e6-4bb2-af6e-59e1b377e603 button.colab-df-convert');\n",
                            "        buttonEl.style.display =\n",
                            "          google.colab.kernel.accessAllowed ? 'block' : 'none';\n",
                            "\n",
                            "        async function convertToInteractive(key) {\n",
                            "          const element = document.querySelector('#df-4762c8bf-15e6-4bb2-af6e-59e1b377e603');\n",
                            "          const dataTable =\n",
                            "            await google.colab.kernel.invokeFunction('convertToInteractive',\n",
                            "                                                     [key], {});\n",
                            "          if (!dataTable) return;\n",
                            "\n",
                            "          const docLinkHtml = 'Like what you see? Visit the ' +\n",
                            "            '<a target=\"_blank\" href=https://colab.research.google.com/notebooks/data_table.ipynb>data table notebook</a>'\n",
                            "            + ' to learn more about interactive tables.';\n",
                            "          element.innerHTML = '';\n",
                            "          dataTable['output_type'] = 'display_data';\n",
                            "          await google.colab.output.renderOutput(dataTable, element);\n",
                            "          const docLink = document.createElement('div');\n",
                            "          docLink.innerHTML = docLinkHtml;\n",
                            "          element.appendChild(docLink);\n",
                            "        }\n",
                            "      </script>\n",
                            "    </div>\n",
                            "  </div>\n",
                            "  "
                        ]
                    },
                    "metadata": {},
                    "execution_count": 19
                }
            ]
        },
        {
            "cell_type": "code",
            "source": [
                "fm.save(cfg.label, df_table)"
            ],
            "metadata": {
                "colab": {
                    "base_uri": "https://localhost:8080/"
                },
                "id": "7SSPuNAejXQG",
                "executionInfo": {
                    "status": "ok",
                    "timestamp": 1675840436770,
                    "user_tz": -540,
                    "elapsed": 7,
                    "user": {
                        "displayName": "박성환",
                        "userId": "16608640204304641951"
                    }
                },
                "outputId": "b2522b59-c2fb-4134-efcb-97208b1ef22c"
            },
            "execution_count": null,
            "outputs": [
                {
                    "output_type": "stream",
                    "name": "stdout",
                    "text": [
                        "file exists\n",
                        "exceptions must derive from BaseException\n"
                    ]
                }
            ]
        },
        {
            "cell_type": "markdown",
            "source": [
                "##### Make Label"
            ],
            "metadata": {
                "id": "hXo6FufjjQBU"
            }
        },
        {
            "cell_type": "code",
            "source": [
                "class_list = []\n",
                "\n",
                "for i in df.iterrows():\n",
                "  class_list.append(com_dict[(i[1]['material'], i[1]['speech'])])"
            ],
            "metadata": {
                "id": "F2G4LnlyU3ot"
            },
            "execution_count": null,
            "outputs": []
        },
        {
            "cell_type": "code",
            "source": [
                "df['label'] = class_list"
            ],
            "metadata": {
                "id": "H1HKw9zFXKAJ"
            },
            "execution_count": null,
            "outputs": []
        },
        {
            "cell_type": "code",
            "source": [
                "df.tail()"
            ],
            "metadata": {
                "id": "zL672eDdVrXx",
                "colab": {
                    "base_uri": "https://localhost:8080/",
                    "height": 423
                },
                "executionInfo": {
                    "status": "ok",
                    "timestamp": 1675840718542,
                    "user_tz": -540,
                    "elapsed": 12,
                    "user": {
                        "displayName": "박성환",
                        "userId": "16608640204304641951"
                    }
                },
                "outputId": "68452d48-745c-4379-bcb7-d34d417fab95"
            },
            "execution_count": null,
            "outputs": [
                {
                    "output_type": "execute_result",
                    "data": {
                        "text/plain": [
                            "          num g_num u_num material speech                  u  \\\n",
                            "181699  36582  1525     6       경사     자랑  전국노래자랑에서 이모가 1등했다   \n",
                            "181700  36582  1525     6       경사     자랑  전국노래자랑에서 이모가 1등했다   \n",
                            "181701  36582  1525     6       경사     자랑  전국노래자랑에서 이모가 1등했다   \n",
                            "181702  36582  1525     6       경사     자랑  전국노래자랑에서 이모가 1등했다   \n",
                            "181703  36582  1525     6       경사     자랑  전국노래자랑에서 이모가 1등했다   \n",
                            "\n",
                            "                                  meme arg1   arg_op1 arg_op2 label  \n",
                            "181699  대길이 이모님... 힘숨찐ㄷㄷ 상상도 못한 정체 ㄴㅇㄱ       전국노래자랑에서             9  \n",
                            "181700   대길이 이모님 힘숨찐이시네! 상상도 못한 정체 ㄴㅇㄱ       전국노래자랑에서             9  \n",
                            "181701   대길이 이모님 힘숨찐이시라능 상상도 못한 정체 ㄴㅇㄱ       전국노래자랑에서             9  \n",
                            "181702  대길좌 이모님이 우승자라구?! 상상도 못한 정체 ㄴㅇㄱ       전국노래자랑에서             9  \n",
                            "181703   대길쓰 이모님,, 힘숨찐ㄷㄷ 상상도 못한 정체 ㄴㅇㄱ       전국노래자랑에서             9  "
                        ],
                        "text/html": [
                            "\n",
                            "  <div id=\"df-1e7cdbe7-efd1-4be4-977f-562c40f36104\">\n",
                            "    <div class=\"colab-df-container\">\n",
                            "      <div>\n",
                            "<style scoped>\n",
                            "    .dataframe tbody tr th:only-of-type {\n",
                            "        vertical-align: middle;\n",
                            "    }\n",
                            "\n",
                            "    .dataframe tbody tr th {\n",
                            "        vertical-align: top;\n",
                            "    }\n",
                            "\n",
                            "    .dataframe thead tr th {\n",
                            "        text-align: left;\n",
                            "    }\n",
                            "</style>\n",
                            "<table border=\"1\" class=\"dataframe\">\n",
                            "  <thead>\n",
                            "    <tr>\n",
                            "      <th></th>\n",
                            "      <th>num</th>\n",
                            "      <th>g_num</th>\n",
                            "      <th>u_num</th>\n",
                            "      <th>material</th>\n",
                            "      <th>speech</th>\n",
                            "      <th>u</th>\n",
                            "      <th>meme</th>\n",
                            "      <th>arg1</th>\n",
                            "      <th>arg_op1</th>\n",
                            "      <th>arg_op2</th>\n",
                            "      <th>label</th>\n",
                            "    </tr>\n",
                            "  </thead>\n",
                            "  <tbody>\n",
                            "    <tr>\n",
                            "      <th>181699</th>\n",
                            "      <td>36582</td>\n",
                            "      <td>1525</td>\n",
                            "      <td>6</td>\n",
                            "      <td>경사</td>\n",
                            "      <td>자랑</td>\n",
                            "      <td>전국노래자랑에서 이모가 1등했다</td>\n",
                            "      <td>대길이 이모님... 힘숨찐ㄷㄷ 상상도 못한 정체 ㄴㅇㄱ</td>\n",
                            "      <td></td>\n",
                            "      <td>전국노래자랑에서</td>\n",
                            "      <td></td>\n",
                            "      <td>9</td>\n",
                            "    </tr>\n",
                            "    <tr>\n",
                            "      <th>181700</th>\n",
                            "      <td>36582</td>\n",
                            "      <td>1525</td>\n",
                            "      <td>6</td>\n",
                            "      <td>경사</td>\n",
                            "      <td>자랑</td>\n",
                            "      <td>전국노래자랑에서 이모가 1등했다</td>\n",
                            "      <td>대길이 이모님 힘숨찐이시네! 상상도 못한 정체 ㄴㅇㄱ</td>\n",
                            "      <td></td>\n",
                            "      <td>전국노래자랑에서</td>\n",
                            "      <td></td>\n",
                            "      <td>9</td>\n",
                            "    </tr>\n",
                            "    <tr>\n",
                            "      <th>181701</th>\n",
                            "      <td>36582</td>\n",
                            "      <td>1525</td>\n",
                            "      <td>6</td>\n",
                            "      <td>경사</td>\n",
                            "      <td>자랑</td>\n",
                            "      <td>전국노래자랑에서 이모가 1등했다</td>\n",
                            "      <td>대길이 이모님 힘숨찐이시라능 상상도 못한 정체 ㄴㅇㄱ</td>\n",
                            "      <td></td>\n",
                            "      <td>전국노래자랑에서</td>\n",
                            "      <td></td>\n",
                            "      <td>9</td>\n",
                            "    </tr>\n",
                            "    <tr>\n",
                            "      <th>181702</th>\n",
                            "      <td>36582</td>\n",
                            "      <td>1525</td>\n",
                            "      <td>6</td>\n",
                            "      <td>경사</td>\n",
                            "      <td>자랑</td>\n",
                            "      <td>전국노래자랑에서 이모가 1등했다</td>\n",
                            "      <td>대길좌 이모님이 우승자라구?! 상상도 못한 정체 ㄴㅇㄱ</td>\n",
                            "      <td></td>\n",
                            "      <td>전국노래자랑에서</td>\n",
                            "      <td></td>\n",
                            "      <td>9</td>\n",
                            "    </tr>\n",
                            "    <tr>\n",
                            "      <th>181703</th>\n",
                            "      <td>36582</td>\n",
                            "      <td>1525</td>\n",
                            "      <td>6</td>\n",
                            "      <td>경사</td>\n",
                            "      <td>자랑</td>\n",
                            "      <td>전국노래자랑에서 이모가 1등했다</td>\n",
                            "      <td>대길쓰 이모님,, 힘숨찐ㄷㄷ 상상도 못한 정체 ㄴㅇㄱ</td>\n",
                            "      <td></td>\n",
                            "      <td>전국노래자랑에서</td>\n",
                            "      <td></td>\n",
                            "      <td>9</td>\n",
                            "    </tr>\n",
                            "  </tbody>\n",
                            "</table>\n",
                            "</div>\n",
                            "      <button class=\"colab-df-convert\" onclick=\"convertToInteractive('df-1e7cdbe7-efd1-4be4-977f-562c40f36104')\"\n",
                            "              title=\"Convert this dataframe to an interactive table.\"\n",
                            "              style=\"display:none;\">\n",
                            "        \n",
                            "  <svg xmlns=\"http://www.w3.org/2000/svg\" height=\"24px\"viewBox=\"0 0 24 24\"\n",
                            "       width=\"24px\">\n",
                            "    <path d=\"M0 0h24v24H0V0z\" fill=\"none\"/>\n",
                            "    <path d=\"M18.56 5.44l.94 2.06.94-2.06 2.06-.94-2.06-.94-.94-2.06-.94 2.06-2.06.94zm-11 1L8.5 8.5l.94-2.06 2.06-.94-2.06-.94L8.5 2.5l-.94 2.06-2.06.94zm10 10l.94 2.06.94-2.06 2.06-.94-2.06-.94-.94-2.06-.94 2.06-2.06.94z\"/><path d=\"M17.41 7.96l-1.37-1.37c-.4-.4-.92-.59-1.43-.59-.52 0-1.04.2-1.43.59L10.3 9.45l-7.72 7.72c-.78.78-.78 2.05 0 2.83L4 21.41c.39.39.9.59 1.41.59.51 0 1.02-.2 1.41-.59l7.78-7.78 2.81-2.81c.8-.78.8-2.07 0-2.86zM5.41 20L4 18.59l7.72-7.72 1.47 1.35L5.41 20z\"/>\n",
                            "  </svg>\n",
                            "      </button>\n",
                            "      \n",
                            "  <style>\n",
                            "    .colab-df-container {\n",
                            "      display:flex;\n",
                            "      flex-wrap:wrap;\n",
                            "      gap: 12px;\n",
                            "    }\n",
                            "\n",
                            "    .colab-df-convert {\n",
                            "      background-color: #E8F0FE;\n",
                            "      border: none;\n",
                            "      border-radius: 50%;\n",
                            "      cursor: pointer;\n",
                            "      display: none;\n",
                            "      fill: #1967D2;\n",
                            "      height: 32px;\n",
                            "      padding: 0 0 0 0;\n",
                            "      width: 32px;\n",
                            "    }\n",
                            "\n",
                            "    .colab-df-convert:hover {\n",
                            "      background-color: #E2EBFA;\n",
                            "      box-shadow: 0px 1px 2px rgba(60, 64, 67, 0.3), 0px 1px 3px 1px rgba(60, 64, 67, 0.15);\n",
                            "      fill: #174EA6;\n",
                            "    }\n",
                            "\n",
                            "    [theme=dark] .colab-df-convert {\n",
                            "      background-color: #3B4455;\n",
                            "      fill: #D2E3FC;\n",
                            "    }\n",
                            "\n",
                            "    [theme=dark] .colab-df-convert:hover {\n",
                            "      background-color: #434B5C;\n",
                            "      box-shadow: 0px 1px 3px 1px rgba(0, 0, 0, 0.15);\n",
                            "      filter: drop-shadow(0px 1px 2px rgba(0, 0, 0, 0.3));\n",
                            "      fill: #FFFFFF;\n",
                            "    }\n",
                            "  </style>\n",
                            "\n",
                            "      <script>\n",
                            "        const buttonEl =\n",
                            "          document.querySelector('#df-1e7cdbe7-efd1-4be4-977f-562c40f36104 button.colab-df-convert');\n",
                            "        buttonEl.style.display =\n",
                            "          google.colab.kernel.accessAllowed ? 'block' : 'none';\n",
                            "\n",
                            "        async function convertToInteractive(key) {\n",
                            "          const element = document.querySelector('#df-1e7cdbe7-efd1-4be4-977f-562c40f36104');\n",
                            "          const dataTable =\n",
                            "            await google.colab.kernel.invokeFunction('convertToInteractive',\n",
                            "                                                     [key], {});\n",
                            "          if (!dataTable) return;\n",
                            "\n",
                            "          const docLinkHtml = 'Like what you see? Visit the ' +\n",
                            "            '<a target=\"_blank\" href=https://colab.research.google.com/notebooks/data_table.ipynb>data table notebook</a>'\n",
                            "            + ' to learn more about interactive tables.';\n",
                            "          element.innerHTML = '';\n",
                            "          dataTable['output_type'] = 'display_data';\n",
                            "          await google.colab.output.renderOutput(dataTable, element);\n",
                            "          const docLink = document.createElement('div');\n",
                            "          docLink.innerHTML = docLinkHtml;\n",
                            "          element.appendChild(docLink);\n",
                            "        }\n",
                            "      </script>\n",
                            "    </div>\n",
                            "  </div>\n",
                            "  "
                        ]
                    },
                    "metadata": {},
                    "execution_count": 22
                }
            ]
        },
        {
            "cell_type": "markdown",
            "source": [
                "##### Ref Save"
            ],
            "metadata": {
                "id": "J3yJYbZy6BSG"
            }
        },
        {
            "cell_type": "code",
            "source": [
                "df.head()"
            ],
            "metadata": {
                "id": "CjROhwxa58dx",
                "colab": {
                    "base_uri": "https://localhost:8080/",
                    "height": 206
                },
                "executionInfo": {
                    "status": "ok",
                    "timestamp": 1675840041263,
                    "user_tz": -540,
                    "elapsed": 18,
                    "user": {
                        "displayName": "박성환",
                        "userId": "16608640204304641951"
                    }
                },
                "outputId": "5f0299ce-5eaa-454d-d5b4-e00165dc4a9e"
            },
            "execution_count": null,
            "outputs": [
                {
                    "output_type": "execute_result",
                    "data": {
                        "text/plain": [
                            "  num g_num u_num material speech                u  \\\n",
                            "0   1     1     1     학교생활     자랑  나 중간고사 반에서 1등했어   \n",
                            "1   1     1     1     학교생활     자랑  나 중간고사 반에서 1등했어   \n",
                            "2   1     1     1     학교생활     자랑  나 중간고사 반에서 1등했어   \n",
                            "3   1     1     1     학교생활     자랑  나 중간고사 반에서 1등했어   \n",
                            "4   1     1     1     학교생활     자랑  나 중간고사 반에서 1등했어   \n",
                            "\n",
                            "                                          meme  arg1 arg_op1 arg_op2 label  \n",
                            "0           그렇다면 통 크게 함 쏴야지! 근데 이제 내 것도 곁들인...  중간고사                   146  \n",
                            "1     그렇다면 통 크게 함 쏴야지! 근데 이제 내 몫을 제일 많이 곁들인...  중간고사                   146  \n",
                            "2         그렇다면 통 크게 함 쏴야지! 근데 이제 대춘이 몫도 곁들인...  중간고사                   146  \n",
                            "3  그렇다면 통 크게 함 쏴야지! 근데 이제 배보다 배꼽이 더 큰 걸 곁들인...  중간고사                   146  \n",
                            "4           그렇다면 통 크게 함 쏴야지! 근데 이제 과소비를 곁들인...  중간고사                   146  "
                        ],
                        "text/html": [
                            "\n",
                            "  <div id=\"df-61b72bfb-7426-45bd-9240-00c1ab46b4ac\">\n",
                            "    <div class=\"colab-df-container\">\n",
                            "      <div>\n",
                            "<style scoped>\n",
                            "    .dataframe tbody tr th:only-of-type {\n",
                            "        vertical-align: middle;\n",
                            "    }\n",
                            "\n",
                            "    .dataframe tbody tr th {\n",
                            "        vertical-align: top;\n",
                            "    }\n",
                            "\n",
                            "    .dataframe thead tr th {\n",
                            "        text-align: left;\n",
                            "    }\n",
                            "</style>\n",
                            "<table border=\"1\" class=\"dataframe\">\n",
                            "  <thead>\n",
                            "    <tr>\n",
                            "      <th></th>\n",
                            "      <th>num</th>\n",
                            "      <th>g_num</th>\n",
                            "      <th>u_num</th>\n",
                            "      <th>material</th>\n",
                            "      <th>speech</th>\n",
                            "      <th>u</th>\n",
                            "      <th>meme</th>\n",
                            "      <th>arg1</th>\n",
                            "      <th>arg_op1</th>\n",
                            "      <th>arg_op2</th>\n",
                            "      <th>label</th>\n",
                            "    </tr>\n",
                            "  </thead>\n",
                            "  <tbody>\n",
                            "    <tr>\n",
                            "      <th>0</th>\n",
                            "      <td>1</td>\n",
                            "      <td>1</td>\n",
                            "      <td>1</td>\n",
                            "      <td>학교생활</td>\n",
                            "      <td>자랑</td>\n",
                            "      <td>나 중간고사 반에서 1등했어</td>\n",
                            "      <td>그렇다면 통 크게 함 쏴야지! 근데 이제 내 것도 곁들인...</td>\n",
                            "      <td>중간고사</td>\n",
                            "      <td></td>\n",
                            "      <td></td>\n",
                            "      <td>146</td>\n",
                            "    </tr>\n",
                            "    <tr>\n",
                            "      <th>1</th>\n",
                            "      <td>1</td>\n",
                            "      <td>1</td>\n",
                            "      <td>1</td>\n",
                            "      <td>학교생활</td>\n",
                            "      <td>자랑</td>\n",
                            "      <td>나 중간고사 반에서 1등했어</td>\n",
                            "      <td>그렇다면 통 크게 함 쏴야지! 근데 이제 내 몫을 제일 많이 곁들인...</td>\n",
                            "      <td>중간고사</td>\n",
                            "      <td></td>\n",
                            "      <td></td>\n",
                            "      <td>146</td>\n",
                            "    </tr>\n",
                            "    <tr>\n",
                            "      <th>2</th>\n",
                            "      <td>1</td>\n",
                            "      <td>1</td>\n",
                            "      <td>1</td>\n",
                            "      <td>학교생활</td>\n",
                            "      <td>자랑</td>\n",
                            "      <td>나 중간고사 반에서 1등했어</td>\n",
                            "      <td>그렇다면 통 크게 함 쏴야지! 근데 이제 대춘이 몫도 곁들인...</td>\n",
                            "      <td>중간고사</td>\n",
                            "      <td></td>\n",
                            "      <td></td>\n",
                            "      <td>146</td>\n",
                            "    </tr>\n",
                            "    <tr>\n",
                            "      <th>3</th>\n",
                            "      <td>1</td>\n",
                            "      <td>1</td>\n",
                            "      <td>1</td>\n",
                            "      <td>학교생활</td>\n",
                            "      <td>자랑</td>\n",
                            "      <td>나 중간고사 반에서 1등했어</td>\n",
                            "      <td>그렇다면 통 크게 함 쏴야지! 근데 이제 배보다 배꼽이 더 큰 걸 곁들인...</td>\n",
                            "      <td>중간고사</td>\n",
                            "      <td></td>\n",
                            "      <td></td>\n",
                            "      <td>146</td>\n",
                            "    </tr>\n",
                            "    <tr>\n",
                            "      <th>4</th>\n",
                            "      <td>1</td>\n",
                            "      <td>1</td>\n",
                            "      <td>1</td>\n",
                            "      <td>학교생활</td>\n",
                            "      <td>자랑</td>\n",
                            "      <td>나 중간고사 반에서 1등했어</td>\n",
                            "      <td>그렇다면 통 크게 함 쏴야지! 근데 이제 과소비를 곁들인...</td>\n",
                            "      <td>중간고사</td>\n",
                            "      <td></td>\n",
                            "      <td></td>\n",
                            "      <td>146</td>\n",
                            "    </tr>\n",
                            "  </tbody>\n",
                            "</table>\n",
                            "</div>\n",
                            "      <button class=\"colab-df-convert\" onclick=\"convertToInteractive('df-61b72bfb-7426-45bd-9240-00c1ab46b4ac')\"\n",
                            "              title=\"Convert this dataframe to an interactive table.\"\n",
                            "              style=\"display:none;\">\n",
                            "        \n",
                            "  <svg xmlns=\"http://www.w3.org/2000/svg\" height=\"24px\"viewBox=\"0 0 24 24\"\n",
                            "       width=\"24px\">\n",
                            "    <path d=\"M0 0h24v24H0V0z\" fill=\"none\"/>\n",
                            "    <path d=\"M18.56 5.44l.94 2.06.94-2.06 2.06-.94-2.06-.94-.94-2.06-.94 2.06-2.06.94zm-11 1L8.5 8.5l.94-2.06 2.06-.94-2.06-.94L8.5 2.5l-.94 2.06-2.06.94zm10 10l.94 2.06.94-2.06 2.06-.94-2.06-.94-.94-2.06-.94 2.06-2.06.94z\"/><path d=\"M17.41 7.96l-1.37-1.37c-.4-.4-.92-.59-1.43-.59-.52 0-1.04.2-1.43.59L10.3 9.45l-7.72 7.72c-.78.78-.78 2.05 0 2.83L4 21.41c.39.39.9.59 1.41.59.51 0 1.02-.2 1.41-.59l7.78-7.78 2.81-2.81c.8-.78.8-2.07 0-2.86zM5.41 20L4 18.59l7.72-7.72 1.47 1.35L5.41 20z\"/>\n",
                            "  </svg>\n",
                            "      </button>\n",
                            "      \n",
                            "  <style>\n",
                            "    .colab-df-container {\n",
                            "      display:flex;\n",
                            "      flex-wrap:wrap;\n",
                            "      gap: 12px;\n",
                            "    }\n",
                            "\n",
                            "    .colab-df-convert {\n",
                            "      background-color: #E8F0FE;\n",
                            "      border: none;\n",
                            "      border-radius: 50%;\n",
                            "      cursor: pointer;\n",
                            "      display: none;\n",
                            "      fill: #1967D2;\n",
                            "      height: 32px;\n",
                            "      padding: 0 0 0 0;\n",
                            "      width: 32px;\n",
                            "    }\n",
                            "\n",
                            "    .colab-df-convert:hover {\n",
                            "      background-color: #E2EBFA;\n",
                            "      box-shadow: 0px 1px 2px rgba(60, 64, 67, 0.3), 0px 1px 3px 1px rgba(60, 64, 67, 0.15);\n",
                            "      fill: #174EA6;\n",
                            "    }\n",
                            "\n",
                            "    [theme=dark] .colab-df-convert {\n",
                            "      background-color: #3B4455;\n",
                            "      fill: #D2E3FC;\n",
                            "    }\n",
                            "\n",
                            "    [theme=dark] .colab-df-convert:hover {\n",
                            "      background-color: #434B5C;\n",
                            "      box-shadow: 0px 1px 3px 1px rgba(0, 0, 0, 0.15);\n",
                            "      filter: drop-shadow(0px 1px 2px rgba(0, 0, 0, 0.3));\n",
                            "      fill: #FFFFFF;\n",
                            "    }\n",
                            "  </style>\n",
                            "\n",
                            "      <script>\n",
                            "        const buttonEl =\n",
                            "          document.querySelector('#df-61b72bfb-7426-45bd-9240-00c1ab46b4ac button.colab-df-convert');\n",
                            "        buttonEl.style.display =\n",
                            "          google.colab.kernel.accessAllowed ? 'block' : 'none';\n",
                            "\n",
                            "        async function convertToInteractive(key) {\n",
                            "          const element = document.querySelector('#df-61b72bfb-7426-45bd-9240-00c1ab46b4ac');\n",
                            "          const dataTable =\n",
                            "            await google.colab.kernel.invokeFunction('convertToInteractive',\n",
                            "                                                     [key], {});\n",
                            "          if (!dataTable) return;\n",
                            "\n",
                            "          const docLinkHtml = 'Like what you see? Visit the ' +\n",
                            "            '<a target=\"_blank\" href=https://colab.research.google.com/notebooks/data_table.ipynb>data table notebook</a>'\n",
                            "            + ' to learn more about interactive tables.';\n",
                            "          element.innerHTML = '';\n",
                            "          dataTable['output_type'] = 'display_data';\n",
                            "          await google.colab.output.renderOutput(dataTable, element);\n",
                            "          const docLink = document.createElement('div');\n",
                            "          docLink.innerHTML = docLinkHtml;\n",
                            "          element.appendChild(docLink);\n",
                            "        }\n",
                            "      </script>\n",
                            "    </div>\n",
                            "  </div>\n",
                            "  "
                        ]
                    },
                    "metadata": {},
                    "execution_count": 29
                }
            ]
        },
        {
            "cell_type": "code",
            "source": [
                "fm.save(cfg.origin_class153_ref, df)"
            ],
            "metadata": {
                "id": "VYJuJvZ06ejU",
                "colab": {
                    "base_uri": "https://localhost:8080/"
                },
                "executionInfo": {
                    "status": "ok",
                    "timestamp": 1675765800730,
                    "user_tz": -540,
                    "elapsed": 331,
                    "user": {
                        "displayName": "박성환",
                        "userId": "16608640204304641951"
                    }
                },
                "outputId": "45aaeec8-58ea-4794-d6ca-6bcbd4d79fbc"
            },
            "execution_count": null,
            "outputs": [
                {
                    "output_type": "stream",
                    "name": "stdout",
                    "text": [
                        "Saved 181704 records\n"
                    ]
                }
            ]
        },
        {
            "cell_type": "markdown",
            "source": [
                "##### Train Save"
            ],
            "metadata": {
                "id": "yqpsvm_r5_Jp"
            }
        },
        {
            "cell_type": "code",
            "source": [
                "df = df[['num', 'g_num', 'u_num', 'u', 'label', 'material', 'speech']]"
            ],
            "metadata": {
                "id": "58M8Xj09U-EX"
            },
            "execution_count": null,
            "outputs": []
        },
        {
            "cell_type": "code",
            "source": [
                "df.rename(columns={'u':'content'}, inplace=True)"
            ],
            "metadata": {
                "id": "ieCXOSugT0IC",
                "colab": {
                    "base_uri": "https://localhost:8080/"
                },
                "executionInfo": {
                    "status": "ok",
                    "timestamp": 1675840718543,
                    "user_tz": -540,
                    "elapsed": 11,
                    "user": {
                        "displayName": "박성환",
                        "userId": "16608640204304641951"
                    }
                },
                "outputId": "40a30fa3-fe44-4b75-88c1-23c6841822f1"
            },
            "execution_count": null,
            "outputs": [
                {
                    "output_type": "stream",
                    "name": "stderr",
                    "text": [
                        "<ipython-input-24-41d7377a9dbf>:1: SettingWithCopyWarning: \n",
                        "A value is trying to be set on a copy of a slice from a DataFrame\n",
                        "\n",
                        "See the caveats in the documentation: https://pandas.pydata.org/pandas-docs/stable/user_guide/indexing.html#returning-a-view-versus-a-copy\n",
                        "  df.rename(columns={'u':'content'}, inplace=True)\n"
                    ]
                }
            ]
        },
        {
            "cell_type": "code",
            "source": [
                "df.drop_duplicates(inplace=True)"
            ],
            "metadata": {
                "id": "y_fSKJdFVamC",
                "colab": {
                    "base_uri": "https://localhost:8080/"
                },
                "executionInfo": {
                    "status": "ok",
                    "timestamp": 1675840718543,
                    "user_tz": -540,
                    "elapsed": 9,
                    "user": {
                        "displayName": "박성환",
                        "userId": "16608640204304641951"
                    }
                },
                "outputId": "c9839a87-0d08-432c-805a-f37bf17cbad3"
            },
            "execution_count": null,
            "outputs": [
                {
                    "output_type": "stream",
                    "name": "stderr",
                    "text": [
                        "<ipython-input-25-16cdb8520be8>:1: SettingWithCopyWarning: \n",
                        "A value is trying to be set on a copy of a slice from a DataFrame\n",
                        "\n",
                        "See the caveats in the documentation: https://pandas.pydata.org/pandas-docs/stable/user_guide/indexing.html#returning-a-view-versus-a-copy\n",
                        "  df.drop_duplicates(inplace=True)\n"
                    ]
                }
            ]
        },
        {
            "cell_type": "code",
            "source": [
                "df = df[['content', 'label']]"
            ],
            "metadata": {
                "id": "2dzLx_WO7fVc"
            },
            "execution_count": null,
            "outputs": []
        },
        {
            "cell_type": "markdown",
            "source": [
                "##### table save"
            ],
            "metadata": {
                "id": "YhOk5O7W7Ed9"
            }
        },
        {
            "cell_type": "code",
            "source": [
                "com_check = {k: v  for k, v in enumerate(combine)}"
            ],
            "metadata": {
                "id": "ySb3zSTT7ewA"
            },
            "execution_count": null,
            "outputs": []
        },
        {
            "cell_type": "code",
            "source": [
                "check = {i[1]['label']: 0 for i in df.iterrows()}\n",
                "\n",
                "for i in df.iterrows():\n",
                "  check[i[1]['label']] += 1"
            ],
            "metadata": {
                "id": "ov_fjgTQ5rEP"
            },
            "execution_count": null,
            "outputs": []
        },
        {
            "cell_type": "code",
            "source": [
                "check_result = {', '.join(com_check[i[0]]): i[1] for i in check.items()}"
            ],
            "metadata": {
                "id": "pScLg2t47D9P"
            },
            "execution_count": null,
            "outputs": []
        },
        {
            "cell_type": "code",
            "source": [
                "df_check_result = pd.DataFrame.from_dict(data=check_result, orient='index')"
            ],
            "metadata": {
                "id": "AebhDerv8AnO"
            },
            "execution_count": null,
            "outputs": []
        },
        {
            "cell_type": "code",
            "source": [
                "df_check_result.reset_index(inplace=True)"
            ],
            "metadata": {
                "id": "vlyookmo8aaZ"
            },
            "execution_count": null,
            "outputs": []
        },
        {
            "cell_type": "code",
            "source": [
                "df_check_result.rename(columns={'index':'대화소재/화행', 0:'count'}, inplace=True)"
            ],
            "metadata": {
                "id": "wsBkusA98csH"
            },
            "execution_count": null,
            "outputs": []
        },
        {
            "cell_type": "code",
            "source": [
                "df_check_result.sort_values('count', ascending=False, inplace=True)"
            ],
            "metadata": {
                "id": "Q8s3b5sM9Dhk"
            },
            "execution_count": null,
            "outputs": []
        },
        {
            "cell_type": "code",
            "source": [
                "df_check_result.reset_index(drop=True, inplace=True)"
            ],
            "metadata": {
                "id": "EnHUchPZ9U8i"
            },
            "execution_count": null,
            "outputs": []
        },
        {
            "cell_type": "code",
            "source": [
                "df_check_result.head()"
            ],
            "metadata": {
                "colab": {
                    "base_uri": "https://localhost:8080/",
                    "height": 206
                },
                "id": "3RfWwj3K9MnP",
                "executionInfo": {
                    "status": "ok",
                    "timestamp": 1675841880980,
                    "user_tz": -540,
                    "elapsed": 333,
                    "user": {
                        "displayName": "박성환",
                        "userId": "16608640204304641951"
                    }
                },
                "outputId": "fec272ec-8949-4a07-ed0e-54b279a0fb67"
            },
            "execution_count": null,
            "outputs": [
                {
                    "output_type": "execute_result",
                    "data": {
                        "text/plain": [
                            "  대화소재/화행  label\n",
                            "0  밈봇, 명령    492\n",
                            "1  밈봇, 혐오    486\n",
                            "2  밈봇, 실망    480\n",
                            "3  밈봇, 만족    480\n",
                            "4  기후, 진술    144"
                        ],
                        "text/html": [
                            "\n",
                            "  <div id=\"df-28d720d7-3ea5-4e72-b1a1-718b517cca77\">\n",
                            "    <div class=\"colab-df-container\">\n",
                            "      <div>\n",
                            "<style scoped>\n",
                            "    .dataframe tbody tr th:only-of-type {\n",
                            "        vertical-align: middle;\n",
                            "    }\n",
                            "\n",
                            "    .dataframe tbody tr th {\n",
                            "        vertical-align: top;\n",
                            "    }\n",
                            "\n",
                            "    .dataframe thead th {\n",
                            "        text-align: right;\n",
                            "    }\n",
                            "</style>\n",
                            "<table border=\"1\" class=\"dataframe\">\n",
                            "  <thead>\n",
                            "    <tr style=\"text-align: right;\">\n",
                            "      <th></th>\n",
                            "      <th>대화소재/화행</th>\n",
                            "      <th>label</th>\n",
                            "    </tr>\n",
                            "  </thead>\n",
                            "  <tbody>\n",
                            "    <tr>\n",
                            "      <th>0</th>\n",
                            "      <td>밈봇, 명령</td>\n",
                            "      <td>492</td>\n",
                            "    </tr>\n",
                            "    <tr>\n",
                            "      <th>1</th>\n",
                            "      <td>밈봇, 혐오</td>\n",
                            "      <td>486</td>\n",
                            "    </tr>\n",
                            "    <tr>\n",
                            "      <th>2</th>\n",
                            "      <td>밈봇, 실망</td>\n",
                            "      <td>480</td>\n",
                            "    </tr>\n",
                            "    <tr>\n",
                            "      <th>3</th>\n",
                            "      <td>밈봇, 만족</td>\n",
                            "      <td>480</td>\n",
                            "    </tr>\n",
                            "    <tr>\n",
                            "      <th>4</th>\n",
                            "      <td>기후, 진술</td>\n",
                            "      <td>144</td>\n",
                            "    </tr>\n",
                            "  </tbody>\n",
                            "</table>\n",
                            "</div>\n",
                            "      <button class=\"colab-df-convert\" onclick=\"convertToInteractive('df-28d720d7-3ea5-4e72-b1a1-718b517cca77')\"\n",
                            "              title=\"Convert this dataframe to an interactive table.\"\n",
                            "              style=\"display:none;\">\n",
                            "        \n",
                            "  <svg xmlns=\"http://www.w3.org/2000/svg\" height=\"24px\"viewBox=\"0 0 24 24\"\n",
                            "       width=\"24px\">\n",
                            "    <path d=\"M0 0h24v24H0V0z\" fill=\"none\"/>\n",
                            "    <path d=\"M18.56 5.44l.94 2.06.94-2.06 2.06-.94-2.06-.94-.94-2.06-.94 2.06-2.06.94zm-11 1L8.5 8.5l.94-2.06 2.06-.94-2.06-.94L8.5 2.5l-.94 2.06-2.06.94zm10 10l.94 2.06.94-2.06 2.06-.94-2.06-.94-.94-2.06-.94 2.06-2.06.94z\"/><path d=\"M17.41 7.96l-1.37-1.37c-.4-.4-.92-.59-1.43-.59-.52 0-1.04.2-1.43.59L10.3 9.45l-7.72 7.72c-.78.78-.78 2.05 0 2.83L4 21.41c.39.39.9.59 1.41.59.51 0 1.02-.2 1.41-.59l7.78-7.78 2.81-2.81c.8-.78.8-2.07 0-2.86zM5.41 20L4 18.59l7.72-7.72 1.47 1.35L5.41 20z\"/>\n",
                            "  </svg>\n",
                            "      </button>\n",
                            "      \n",
                            "  <style>\n",
                            "    .colab-df-container {\n",
                            "      display:flex;\n",
                            "      flex-wrap:wrap;\n",
                            "      gap: 12px;\n",
                            "    }\n",
                            "\n",
                            "    .colab-df-convert {\n",
                            "      background-color: #E8F0FE;\n",
                            "      border: none;\n",
                            "      border-radius: 50%;\n",
                            "      cursor: pointer;\n",
                            "      display: none;\n",
                            "      fill: #1967D2;\n",
                            "      height: 32px;\n",
                            "      padding: 0 0 0 0;\n",
                            "      width: 32px;\n",
                            "    }\n",
                            "\n",
                            "    .colab-df-convert:hover {\n",
                            "      background-color: #E2EBFA;\n",
                            "      box-shadow: 0px 1px 2px rgba(60, 64, 67, 0.3), 0px 1px 3px 1px rgba(60, 64, 67, 0.15);\n",
                            "      fill: #174EA6;\n",
                            "    }\n",
                            "\n",
                            "    [theme=dark] .colab-df-convert {\n",
                            "      background-color: #3B4455;\n",
                            "      fill: #D2E3FC;\n",
                            "    }\n",
                            "\n",
                            "    [theme=dark] .colab-df-convert:hover {\n",
                            "      background-color: #434B5C;\n",
                            "      box-shadow: 0px 1px 3px 1px rgba(0, 0, 0, 0.15);\n",
                            "      filter: drop-shadow(0px 1px 2px rgba(0, 0, 0, 0.3));\n",
                            "      fill: #FFFFFF;\n",
                            "    }\n",
                            "  </style>\n",
                            "\n",
                            "      <script>\n",
                            "        const buttonEl =\n",
                            "          document.querySelector('#df-28d720d7-3ea5-4e72-b1a1-718b517cca77 button.colab-df-convert');\n",
                            "        buttonEl.style.display =\n",
                            "          google.colab.kernel.accessAllowed ? 'block' : 'none';\n",
                            "\n",
                            "        async function convertToInteractive(key) {\n",
                            "          const element = document.querySelector('#df-28d720d7-3ea5-4e72-b1a1-718b517cca77');\n",
                            "          const dataTable =\n",
                            "            await google.colab.kernel.invokeFunction('convertToInteractive',\n",
                            "                                                     [key], {});\n",
                            "          if (!dataTable) return;\n",
                            "\n",
                            "          const docLinkHtml = 'Like what you see? Visit the ' +\n",
                            "            '<a target=\"_blank\" href=https://colab.research.google.com/notebooks/data_table.ipynb>data table notebook</a>'\n",
                            "            + ' to learn more about interactive tables.';\n",
                            "          element.innerHTML = '';\n",
                            "          dataTable['output_type'] = 'display_data';\n",
                            "          await google.colab.output.renderOutput(dataTable, element);\n",
                            "          const docLink = document.createElement('div');\n",
                            "          docLink.innerHTML = docLinkHtml;\n",
                            "          element.appendChild(docLink);\n",
                            "        }\n",
                            "      </script>\n",
                            "    </div>\n",
                            "  </div>\n",
                            "  "
                        ]
                    },
                    "metadata": {},
                    "execution_count": 67
                }
            ]
        },
        {
            "cell_type": "code",
            "source": [
                "fm.save(cfg.report_label, df_check_result)"
            ],
            "metadata": {
                "colab": {
                    "base_uri": "https://localhost:8080/"
                },
                "id": "nzduMBup9cfY",
                "executionInfo": {
                    "status": "ok",
                    "timestamp": 1675841949674,
                    "user_tz": -540,
                    "elapsed": 316,
                    "user": {
                        "displayName": "박성환",
                        "userId": "16608640204304641951"
                    }
                },
                "outputId": "2b5789e7-28e0-4891-f7d2-c0c0dc7b4c9e"
            },
            "execution_count": null,
            "outputs": [
                {
                    "output_type": "stream",
                    "name": "stdout",
                    "text": [
                        "Saved 153 records\n"
                    ]
                }
            ]
        },
        {
            "cell_type": "markdown",
            "source": [
                "##### Save"
            ],
            "metadata": {
                "id": "dW6PJeE17GN8"
            }
        },
        {
            "cell_type": "code",
            "source": [
                "fm.save(cfg.train_data, df)"
            ],
            "metadata": {
                "id": "1OKrwczINyJE"
            },
            "execution_count": null,
            "outputs": []
        },
        {
            "cell_type": "code",
            "source": [
                "df = fm.load(cfg.train_data)"
            ],
            "metadata": {
                "id": "zmvwQJ_PN0eY"
            },
            "execution_count": null,
            "outputs": []
        },
        {
            "cell_type": "code",
            "source": [
                "df.head()"
            ],
            "metadata": {
                "id": "HBQfwR0JN2Am"
            },
            "execution_count": null,
            "outputs": []
        },
        {
            "cell_type": "markdown",
            "source": [
                "# Under Sampling"
            ],
            "metadata": {
                "id": "ggjaq63iw6qh"
            }
        },
        {
            "cell_type": "code",
            "source": [
                "df = df[['num', 'g_num', 'u_num', 'u', 'label', 'material', 'speech']]\n",
                "df.rename(columns={'u':'content'}, inplace=True)\n",
                "df.drop_duplicates(inplace=True)"
            ],
            "metadata": {
                "colab": {
                    "base_uri": "https://localhost:8080/"
                },
                "id": "9Ce1OsUQOtZy",
                "executionInfo": {
                    "status": "ok",
                    "timestamp": 1675822847113,
                    "user_tz": -540,
                    "elapsed": 461,
                    "user": {
                        "displayName": "박성환",
                        "userId": "16608640204304641951"
                    }
                },
                "outputId": "4d4de2ab-2fb6-4c54-8e53-1d159f482a7c"
            },
            "execution_count": null,
            "outputs": [
                {
                    "output_type": "stream",
                    "name": "stderr",
                    "text": [
                        "<ipython-input-29-88c14f482bff>:2: SettingWithCopyWarning: \n",
                        "A value is trying to be set on a copy of a slice from a DataFrame\n",
                        "\n",
                        "See the caveats in the documentation: https://pandas.pydata.org/pandas-docs/stable/user_guide/indexing.html#returning-a-view-versus-a-copy\n",
                        "  df.rename(columns={'u':'content'}, inplace=True)\n",
                        "<ipython-input-29-88c14f482bff>:3: SettingWithCopyWarning: \n",
                        "A value is trying to be set on a copy of a slice from a DataFrame\n",
                        "\n",
                        "See the caveats in the documentation: https://pandas.pydata.org/pandas-docs/stable/user_guide/indexing.html#returning-a-view-versus-a-copy\n",
                        "  df.drop_duplicates(inplace=True)\n"
                    ]
                }
            ]
        },
        {
            "cell_type": "code",
            "source": [
                "df_149 = df[df.label.values == 149]\n",
                "df_150 = df[df.label.values == 150]\n",
                "df_151 = df[df.label.values == 151]\n",
                "df_152 = df[df.label.values == 152]\n",
                "\n",
                "df_149 = df_149.sample(frac=1).reset_index(drop=True)\n",
                "df_150 = df_150.sample(frac=1).reset_index(drop=True)\n",
                "df_151 = df_151.sample(frac=1).reset_index(drop=True)\n",
                "df_152 = df_152.sample(frac=1).reset_index(drop=True)\n",
                "\n",
                "df_149 = df_149[:150]\n",
                "df_150 = df_150[:150]\n",
                "df_151 = df_151[:150]\n",
                "df_152 = df_152[:150]"
            ],
            "metadata": {
                "id": "L4A_Vw1a6wL9"
            },
            "execution_count": null,
            "outputs": []
        },
        {
            "cell_type": "code",
            "source": [
                "df_drop_1 = df[df.label.values != 149]\n",
                "df_drop_2 = df_drop_1[df_drop_1.label.values != 150]\n",
                "df_drop_3 = df_drop_2[df_drop_2.label.values != 151]\n",
                "df_drop = df_drop_3[df_drop_3.label.values != 152]"
            ],
            "metadata": {
                "id": "OU5y4ZwCO93O"
            },
            "execution_count": null,
            "outputs": []
        },
        {
            "cell_type": "code",
            "source": [
                "df = pd.concat([df_149, df_150, df_151, df_152, df_drop])"
            ],
            "metadata": {
                "id": "zQmn7zB-Pk_b"
            },
            "execution_count": null,
            "outputs": []
        },
        {
            "cell_type": "code",
            "source": [
                "df.shape"
            ],
            "metadata": {
                "colab": {
                    "base_uri": "https://localhost:8080/"
                },
                "id": "ryA2T9PoRqBS",
                "executionInfo": {
                    "status": "ok",
                    "timestamp": 1675822868747,
                    "user_tz": -540,
                    "elapsed": 1,
                    "user": {
                        "displayName": "박성환",
                        "userId": "16608640204304641951"
                    }
                },
                "outputId": "2c100e5e-231e-405d-eca6-c84b9898ba46"
            },
            "execution_count": null,
            "outputs": [
                {
                    "output_type": "execute_result",
                    "data": {
                        "text/plain": [
                            "(7812, 7)"
                        ]
                    },
                    "metadata": {},
                    "execution_count": 33
                }
            ]
        },
        {
            "cell_type": "code",
            "source": [
                "df.label.value_counts()"
            ],
            "metadata": {
                "colab": {
                    "base_uri": "https://localhost:8080/"
                },
                "id": "uhEitZwONFRf",
                "executionInfo": {
                    "status": "ok",
                    "timestamp": 1675822872795,
                    "user_tz": -540,
                    "elapsed": 531,
                    "user": {
                        "displayName": "박성환",
                        "userId": "16608640204304641951"
                    }
                },
                "outputId": "ebfcc64d-9052-4e5c-a035-032f45dc3f03"
            },
            "execution_count": null,
            "outputs": [
                {
                    "output_type": "execute_result",
                    "data": {
                        "text/plain": [
                            "(label,)\n",
                            "152         150\n",
                            "151         150\n",
                            "150         150\n",
                            "149         150\n",
                            "28          144\n",
                            "           ... \n",
                            "83            6\n",
                            "112           6\n",
                            "35            6\n",
                            "30            6\n",
                            "24            6\n",
                            "Length: 153, dtype: int64"
                        ]
                    },
                    "metadata": {},
                    "execution_count": 34
                }
            ]
        },
        {
            "cell_type": "markdown",
            "source": [
                "##### 건수 30 미만 제거"
            ],
            "metadata": {
                "id": "iWekOJDW7YnZ"
            }
        },
        {
            "cell_type": "code",
            "source": [
                "df_check = df[['material', 'speech', 'label']]"
            ],
            "metadata": {
                "id": "4Mf0lrFS_Y08"
            },
            "execution_count": null,
            "outputs": []
        },
        {
            "cell_type": "code",
            "source": [
                "check = {i[1]['label']: 0 for i in df_check.iterrows()}\n",
                "\n",
                "for i in df_check.iterrows():\n",
                "  check[i[1]['label']] += 1"
            ],
            "metadata": {
                "id": "AtCKa4QH_bIC"
            },
            "execution_count": null,
            "outputs": []
        },
        {
            "cell_type": "code",
            "source": [
                "temp = sorted(check.items(), key=lambda x: x[1], reverse=True)"
            ],
            "metadata": {
                "id": "AxYHyvMICnws"
            },
            "execution_count": null,
            "outputs": []
        },
        {
            "cell_type": "code",
            "source": [
                "check_result = [i[0] for i in temp if i[1] >= 30]"
            ],
            "metadata": {
                "id": "mtPbBAxsNJjh"
            },
            "execution_count": null,
            "outputs": []
        },
        {
            "cell_type": "code",
            "source": [
                "df_list = []\n",
                "\n",
                "for i in df.iterrows():\n",
                "  if i[1]['label'] in check_result:\n",
                "    df_list.append([i[1]['content'], i[1]['material'], i[1]['speech']])\n",
                "\n",
                "df_result = pd.DataFrame(df_list, columns=['content', 'material', 'speech'])"
            ],
            "metadata": {
                "id": "vYIe9CPbN6nN"
            },
            "execution_count": null,
            "outputs": []
        },
        {
            "cell_type": "code",
            "source": [
                "df_result.head()"
            ],
            "metadata": {
                "colab": {
                    "base_uri": "https://localhost:8080/",
                    "height": 206
                },
                "id": "nSGd6HPb7Uq-",
                "executionInfo": {
                    "status": "ok",
                    "timestamp": 1675822885935,
                    "user_tz": -540,
                    "elapsed": 4,
                    "user": {
                        "displayName": "박성환",
                        "userId": "16608640204304641951"
                    }
                },
                "outputId": "36054e43-55d2-4cee-e816-0b406b77bf11"
            },
            "execution_count": null,
            "outputs": [
                {
                    "output_type": "execute_result",
                    "data": {
                        "text/plain": [
                            "               content material speech\n",
                            "0  너 밈 조사 꽤 하는구나?! 최고!       밈봇     만족\n",
                            "1           난 너가 존나 좋다       밈봇     만족\n",
                            "2              너 쫌 귀엽쓰       밈봇     만족\n",
                            "3            대춘아 늘 고맙다       밈봇     만족\n",
                            "4       얘 웃음소리 완전 따스하네       밈봇     만족"
                        ],
                        "text/html": [
                            "\n",
                            "  <div id=\"df-1cc0877e-ee13-4bc0-914d-97e6e842292b\">\n",
                            "    <div class=\"colab-df-container\">\n",
                            "      <div>\n",
                            "<style scoped>\n",
                            "    .dataframe tbody tr th:only-of-type {\n",
                            "        vertical-align: middle;\n",
                            "    }\n",
                            "\n",
                            "    .dataframe tbody tr th {\n",
                            "        vertical-align: top;\n",
                            "    }\n",
                            "\n",
                            "    .dataframe thead th {\n",
                            "        text-align: right;\n",
                            "    }\n",
                            "</style>\n",
                            "<table border=\"1\" class=\"dataframe\">\n",
                            "  <thead>\n",
                            "    <tr style=\"text-align: right;\">\n",
                            "      <th></th>\n",
                            "      <th>content</th>\n",
                            "      <th>material</th>\n",
                            "      <th>speech</th>\n",
                            "    </tr>\n",
                            "  </thead>\n",
                            "  <tbody>\n",
                            "    <tr>\n",
                            "      <th>0</th>\n",
                            "      <td>너 밈 조사 꽤 하는구나?! 최고!</td>\n",
                            "      <td>밈봇</td>\n",
                            "      <td>만족</td>\n",
                            "    </tr>\n",
                            "    <tr>\n",
                            "      <th>1</th>\n",
                            "      <td>난 너가 존나 좋다</td>\n",
                            "      <td>밈봇</td>\n",
                            "      <td>만족</td>\n",
                            "    </tr>\n",
                            "    <tr>\n",
                            "      <th>2</th>\n",
                            "      <td>너 쫌 귀엽쓰</td>\n",
                            "      <td>밈봇</td>\n",
                            "      <td>만족</td>\n",
                            "    </tr>\n",
                            "    <tr>\n",
                            "      <th>3</th>\n",
                            "      <td>대춘아 늘 고맙다</td>\n",
                            "      <td>밈봇</td>\n",
                            "      <td>만족</td>\n",
                            "    </tr>\n",
                            "    <tr>\n",
                            "      <th>4</th>\n",
                            "      <td>얘 웃음소리 완전 따스하네</td>\n",
                            "      <td>밈봇</td>\n",
                            "      <td>만족</td>\n",
                            "    </tr>\n",
                            "  </tbody>\n",
                            "</table>\n",
                            "</div>\n",
                            "      <button class=\"colab-df-convert\" onclick=\"convertToInteractive('df-1cc0877e-ee13-4bc0-914d-97e6e842292b')\"\n",
                            "              title=\"Convert this dataframe to an interactive table.\"\n",
                            "              style=\"display:none;\">\n",
                            "        \n",
                            "  <svg xmlns=\"http://www.w3.org/2000/svg\" height=\"24px\"viewBox=\"0 0 24 24\"\n",
                            "       width=\"24px\">\n",
                            "    <path d=\"M0 0h24v24H0V0z\" fill=\"none\"/>\n",
                            "    <path d=\"M18.56 5.44l.94 2.06.94-2.06 2.06-.94-2.06-.94-.94-2.06-.94 2.06-2.06.94zm-11 1L8.5 8.5l.94-2.06 2.06-.94-2.06-.94L8.5 2.5l-.94 2.06-2.06.94zm10 10l.94 2.06.94-2.06 2.06-.94-2.06-.94-.94-2.06-.94 2.06-2.06.94z\"/><path d=\"M17.41 7.96l-1.37-1.37c-.4-.4-.92-.59-1.43-.59-.52 0-1.04.2-1.43.59L10.3 9.45l-7.72 7.72c-.78.78-.78 2.05 0 2.83L4 21.41c.39.39.9.59 1.41.59.51 0 1.02-.2 1.41-.59l7.78-7.78 2.81-2.81c.8-.78.8-2.07 0-2.86zM5.41 20L4 18.59l7.72-7.72 1.47 1.35L5.41 20z\"/>\n",
                            "  </svg>\n",
                            "      </button>\n",
                            "      \n",
                            "  <style>\n",
                            "    .colab-df-container {\n",
                            "      display:flex;\n",
                            "      flex-wrap:wrap;\n",
                            "      gap: 12px;\n",
                            "    }\n",
                            "\n",
                            "    .colab-df-convert {\n",
                            "      background-color: #E8F0FE;\n",
                            "      border: none;\n",
                            "      border-radius: 50%;\n",
                            "      cursor: pointer;\n",
                            "      display: none;\n",
                            "      fill: #1967D2;\n",
                            "      height: 32px;\n",
                            "      padding: 0 0 0 0;\n",
                            "      width: 32px;\n",
                            "    }\n",
                            "\n",
                            "    .colab-df-convert:hover {\n",
                            "      background-color: #E2EBFA;\n",
                            "      box-shadow: 0px 1px 2px rgba(60, 64, 67, 0.3), 0px 1px 3px 1px rgba(60, 64, 67, 0.15);\n",
                            "      fill: #174EA6;\n",
                            "    }\n",
                            "\n",
                            "    [theme=dark] .colab-df-convert {\n",
                            "      background-color: #3B4455;\n",
                            "      fill: #D2E3FC;\n",
                            "    }\n",
                            "\n",
                            "    [theme=dark] .colab-df-convert:hover {\n",
                            "      background-color: #434B5C;\n",
                            "      box-shadow: 0px 1px 3px 1px rgba(0, 0, 0, 0.15);\n",
                            "      filter: drop-shadow(0px 1px 2px rgba(0, 0, 0, 0.3));\n",
                            "      fill: #FFFFFF;\n",
                            "    }\n",
                            "  </style>\n",
                            "\n",
                            "      <script>\n",
                            "        const buttonEl =\n",
                            "          document.querySelector('#df-1cc0877e-ee13-4bc0-914d-97e6e842292b button.colab-df-convert');\n",
                            "        buttonEl.style.display =\n",
                            "          google.colab.kernel.accessAllowed ? 'block' : 'none';\n",
                            "\n",
                            "        async function convertToInteractive(key) {\n",
                            "          const element = document.querySelector('#df-1cc0877e-ee13-4bc0-914d-97e6e842292b');\n",
                            "          const dataTable =\n",
                            "            await google.colab.kernel.invokeFunction('convertToInteractive',\n",
                            "                                                     [key], {});\n",
                            "          if (!dataTable) return;\n",
                            "\n",
                            "          const docLinkHtml = 'Like what you see? Visit the ' +\n",
                            "            '<a target=\"_blank\" href=https://colab.research.google.com/notebooks/data_table.ipynb>data table notebook</a>'\n",
                            "            + ' to learn more about interactive tables.';\n",
                            "          element.innerHTML = '';\n",
                            "          dataTable['output_type'] = 'display_data';\n",
                            "          await google.colab.output.renderOutput(dataTable, element);\n",
                            "          const docLink = document.createElement('div');\n",
                            "          docLink.innerHTML = docLinkHtml;\n",
                            "          element.appendChild(docLink);\n",
                            "        }\n",
                            "      </script>\n",
                            "    </div>\n",
                            "  </div>\n",
                            "  "
                        ]
                    },
                    "metadata": {},
                    "execution_count": 40
                }
            ]
        },
        {
            "cell_type": "code",
            "source": [
                "temp = []\n",
                "for i in df_result.iterrows():\n",
                "  temp.append(f\"{i[1]['material']}, {i[1]['speech']}\")"
            ],
            "metadata": {
                "id": "NIu6EJGqg1Ht"
            },
            "execution_count": null,
            "outputs": []
        },
        {
            "cell_type": "code",
            "source": [
                "df_result['temp'] = temp"
            ],
            "metadata": {
                "id": "paWtzocng1oK"
            },
            "execution_count": null,
            "outputs": []
        },
        {
            "cell_type": "code",
            "source": [
                "df_result.temp.value_counts()"
            ],
            "metadata": {
                "colab": {
                    "base_uri": "https://localhost:8080/"
                },
                "id": "PEtPzvS5g4Gs",
                "executionInfo": {
                    "status": "ok",
                    "timestamp": 1675822888571,
                    "user_tz": -540,
                    "elapsed": 1,
                    "user": {
                        "displayName": "박성환",
                        "userId": "16608640204304641951"
                    }
                },
                "outputId": "39590454-21b7-4598-b65e-7ba0122b0133"
            },
            "execution_count": null,
            "outputs": [
                {
                    "output_type": "execute_result",
                    "data": {
                        "text/plain": [
                            "밈봇, 만족      150\n",
                            "밈봇, 실망      150\n",
                            "밈봇, 혐오      150\n",
                            "밈봇, 명령      150\n",
                            "유명인, 칭찬     144\n",
                            "           ... \n",
                            "패션, 의지       30\n",
                            "취미, 칭찬       30\n",
                            "가정생활, 소망     30\n",
                            "인간관계, 소망     30\n",
                            "여행, 칭찬       30\n",
                            "Name: temp, Length: 120, dtype: int64"
                        ]
                    },
                    "metadata": {},
                    "execution_count": 43
                }
            ]
        },
        {
            "cell_type": "markdown",
            "source": [
                "##### Class Redefinition"
            ],
            "metadata": {
                "id": "wV8t3a0G82YB"
            }
        },
        {
            "cell_type": "code",
            "source": [
                "temp_comdict = {i[0]: i[1] for i in com_dict.items() if i[1] in check_result}"
            ],
            "metadata": {
                "id": "d0sIaxD3-EuT"
            },
            "execution_count": null,
            "outputs": []
        },
        {
            "cell_type": "code",
            "source": [
                "result_com_dict = {}\n",
                "num = 0\n",
                "\n",
                "for i in temp_comdict.items():\n",
                "  result_com_dict[i[0]] = num\n",
                "  num += 1"
            ],
            "metadata": {
                "id": "z9-oymQn_USq"
            },
            "execution_count": null,
            "outputs": []
        },
        {
            "cell_type": "code",
            "source": [
                "result_com_dict"
            ],
            "metadata": {
                "colab": {
                    "base_uri": "https://localhost:8080/"
                },
                "id": "xB0KgtbZPllm",
                "executionInfo": {
                    "status": "ok",
                    "timestamp": 1675822902419,
                    "user_tz": -540,
                    "elapsed": 2,
                    "user": {
                        "displayName": "박성환",
                        "userId": "16608640204304641951"
                    }
                },
                "outputId": "d7e11a9e-7e23-4d89-9341-e48437dd615d"
            },
            "execution_count": null,
            "outputs": [
                {
                    "output_type": "execute_result",
                    "data": {
                        "text/plain": [
                            "{('가정생활', '계획'): 0,\n",
                            " ('가정생활', '소망'): 1,\n",
                            " ('가정생활', '의지'): 2,\n",
                            " ('가정생활', '자랑'): 3,\n",
                            " ('가정생활', '진술'): 4,\n",
                            " ('가정생활', '칭찬'): 5,\n",
                            " ('경사', '계획'): 6,\n",
                            " ('경사', '의지'): 7,\n",
                            " ('경사', '자랑'): 8,\n",
                            " ('경사', '진술'): 9,\n",
                            " ('교통', '계획'): 10,\n",
                            " ('교통', '소망'): 11,\n",
                            " ('교통', '의지'): 12,\n",
                            " ('교통', '자랑'): 13,\n",
                            " ('교통', '진술'): 14,\n",
                            " ('교통', '칭찬'): 15,\n",
                            " ('기념일', '계획'): 16,\n",
                            " ('기념일', '소망'): 17,\n",
                            " ('기념일', '의지'): 18,\n",
                            " ('기념일', '자랑'): 19,\n",
                            " ('기후', '소망'): 20,\n",
                            " ('기후', '의지'): 21,\n",
                            " ('기후', '진술'): 22,\n",
                            " ('기후', '칭찬'): 23,\n",
                            " ('돈', '소망'): 24,\n",
                            " ('돈', '의지'): 25,\n",
                            " ('돈', '자랑'): 26,\n",
                            " ('돈', '진술'): 27,\n",
                            " ('문화예술', '계획'): 28,\n",
                            " ('문화예술', '소망'): 29,\n",
                            " ('문화예술', '의지'): 30,\n",
                            " ('문화예술', '자랑'): 31,\n",
                            " ('문화예술', '진술'): 32,\n",
                            " ('문화예술', '칭찬'): 33,\n",
                            " ('미디어콘텐츠', '계획'): 34,\n",
                            " ('미디어콘텐츠', '소망'): 35,\n",
                            " ('미디어콘텐츠', '진술'): 36,\n",
                            " ('미디어콘텐츠', '칭찬'): 37,\n",
                            " ('미용', '계획'): 38,\n",
                            " ('미용', '소망'): 39,\n",
                            " ('미용', '의지'): 40,\n",
                            " ('미용', '자랑'): 41,\n",
                            " ('미용', '진술'): 42,\n",
                            " ('미용', '칭찬'): 43,\n",
                            " ('반려동물', '소망'): 44,\n",
                            " ('반려동물', '자랑'): 45,\n",
                            " ('반려동물', '진술'): 46,\n",
                            " ('반려동물', '칭찬'): 47,\n",
                            " ('쇼핑', '계획'): 48,\n",
                            " ('쇼핑', '소망'): 49,\n",
                            " ('쇼핑', '의지'): 50,\n",
                            " ('쇼핑', '자랑'): 51,\n",
                            " ('쇼핑', '진술'): 52,\n",
                            " ('여행', '계획'): 53,\n",
                            " ('여행', '소망'): 54,\n",
                            " ('여행', '의지'): 55,\n",
                            " ('여행', '진술'): 56,\n",
                            " ('여행', '칭찬'): 57,\n",
                            " ('연애', '계획'): 58,\n",
                            " ('연애', '소망'): 59,\n",
                            " ('연애', '의지'): 60,\n",
                            " ('연애', '자랑'): 61,\n",
                            " ('연애', '진술'): 62,\n",
                            " ('운동', '계획'): 63,\n",
                            " ('운동', '의지'): 64,\n",
                            " ('운동', '자랑'): 65,\n",
                            " ('운동', '진술'): 66,\n",
                            " ('유명인', '소망'): 67,\n",
                            " ('유명인', '자랑'): 68,\n",
                            " ('유명인', '칭찬'): 69,\n",
                            " ('음료', '계획'): 70,\n",
                            " ('음료', '소망'): 71,\n",
                            " ('음료', '의지'): 72,\n",
                            " ('음료', '진술'): 73,\n",
                            " ('음료', '칭찬'): 74,\n",
                            " ('음식', '계획'): 75,\n",
                            " ('음식', '소망'): 76,\n",
                            " ('음식', '의지'): 77,\n",
                            " ('음식', '진술'): 78,\n",
                            " ('음식', '칭찬'): 79,\n",
                            " ('인간관계', '소망'): 80,\n",
                            " ('인간관계', '의지'): 81,\n",
                            " ('인간관계', '자랑'): 82,\n",
                            " ('인간관계', '진술'): 83,\n",
                            " ('인간관계', '칭찬'): 84,\n",
                            " ('자기개발', '계획'): 85,\n",
                            " ('자기개발', '의지'): 86,\n",
                            " ('전자기기', '소망'): 87,\n",
                            " ('전자기기', '자랑'): 88,\n",
                            " ('전자기기', '진술'): 89,\n",
                            " ('전자기기', '칭찬'): 90,\n",
                            " ('주거', '계획'): 91,\n",
                            " ('주거', '소망'): 92,\n",
                            " ('주거', '자랑'): 93,\n",
                            " ('주거', '진술'): 94,\n",
                            " ('주거', '칭찬'): 95,\n",
                            " ('직장생활', '계획'): 96,\n",
                            " ('직장생활', '소망'): 97,\n",
                            " ('직장생활', '의지'): 98,\n",
                            " ('직장생활', '자랑'): 99,\n",
                            " ('직장생활', '진술'): 100,\n",
                            " ('취미', '계획'): 101,\n",
                            " ('취미', '의지'): 102,\n",
                            " ('취미', '자랑'): 103,\n",
                            " ('취미', '진술'): 104,\n",
                            " ('취미', '칭찬'): 105,\n",
                            " ('패션', '계획'): 106,\n",
                            " ('패션', '소망'): 107,\n",
                            " ('패션', '의지'): 108,\n",
                            " ('패션', '자랑'): 109,\n",
                            " ('패션', '칭찬'): 110,\n",
                            " ('학교생활', '계획'): 111,\n",
                            " ('학교생활', '소망'): 112,\n",
                            " ('학교생활', '의지'): 113,\n",
                            " ('학교생활', '자랑'): 114,\n",
                            " ('학교생활', '진술'): 115,\n",
                            " ('밈봇', '만족'): 116,\n",
                            " ('밈봇', '명령'): 117,\n",
                            " ('밈봇', '실망'): 118,\n",
                            " ('밈봇', '혐오'): 119}"
                        ]
                    },
                    "metadata": {},
                    "execution_count": 46
                }
            ]
        },
        {
            "cell_type": "code",
            "source": [
                "df_table = pd.DataFrame.from_dict(data=result_com_dict, orient='index')"
            ],
            "metadata": {
                "id": "gnPazc0VFbun"
            },
            "execution_count": null,
            "outputs": []
        },
        {
            "cell_type": "code",
            "source": [
                "df_table.reset_index(inplace=True)"
            ],
            "metadata": {
                "id": "h6YPOL3WFfX-"
            },
            "execution_count": null,
            "outputs": []
        },
        {
            "cell_type": "code",
            "source": [
                "df_table.rename(columns={'index':'name', 0:'index'}, inplace=True)"
            ],
            "metadata": {
                "id": "yIBvimNsFkQM"
            },
            "execution_count": null,
            "outputs": []
        },
        {
            "cell_type": "code",
            "source": [
                "df_table.tail()"
            ],
            "metadata": {
                "colab": {
                    "base_uri": "https://localhost:8080/",
                    "height": 206
                },
                "id": "2x0ZikWHMi-T",
                "executionInfo": {
                    "status": "ok",
                    "timestamp": 1675822904794,
                    "user_tz": -540,
                    "elapsed": 4,
                    "user": {
                        "displayName": "박성환",
                        "userId": "16608640204304641951"
                    }
                },
                "outputId": "2a1fc565-445b-4f45-ef4e-c3ca6668d514"
            },
            "execution_count": null,
            "outputs": [
                {
                    "output_type": "execute_result",
                    "data": {
                        "text/plain": [
                            "           name  index\n",
                            "115  (학교생활, 진술)    115\n",
                            "116    (밈봇, 만족)    116\n",
                            "117    (밈봇, 명령)    117\n",
                            "118    (밈봇, 실망)    118\n",
                            "119    (밈봇, 혐오)    119"
                        ],
                        "text/html": [
                            "\n",
                            "  <div id=\"df-0099f6f1-830a-4dd0-ac9f-182d5d92dc9f\">\n",
                            "    <div class=\"colab-df-container\">\n",
                            "      <div>\n",
                            "<style scoped>\n",
                            "    .dataframe tbody tr th:only-of-type {\n",
                            "        vertical-align: middle;\n",
                            "    }\n",
                            "\n",
                            "    .dataframe tbody tr th {\n",
                            "        vertical-align: top;\n",
                            "    }\n",
                            "\n",
                            "    .dataframe thead th {\n",
                            "        text-align: right;\n",
                            "    }\n",
                            "</style>\n",
                            "<table border=\"1\" class=\"dataframe\">\n",
                            "  <thead>\n",
                            "    <tr style=\"text-align: right;\">\n",
                            "      <th></th>\n",
                            "      <th>name</th>\n",
                            "      <th>index</th>\n",
                            "    </tr>\n",
                            "  </thead>\n",
                            "  <tbody>\n",
                            "    <tr>\n",
                            "      <th>115</th>\n",
                            "      <td>(학교생활, 진술)</td>\n",
                            "      <td>115</td>\n",
                            "    </tr>\n",
                            "    <tr>\n",
                            "      <th>116</th>\n",
                            "      <td>(밈봇, 만족)</td>\n",
                            "      <td>116</td>\n",
                            "    </tr>\n",
                            "    <tr>\n",
                            "      <th>117</th>\n",
                            "      <td>(밈봇, 명령)</td>\n",
                            "      <td>117</td>\n",
                            "    </tr>\n",
                            "    <tr>\n",
                            "      <th>118</th>\n",
                            "      <td>(밈봇, 실망)</td>\n",
                            "      <td>118</td>\n",
                            "    </tr>\n",
                            "    <tr>\n",
                            "      <th>119</th>\n",
                            "      <td>(밈봇, 혐오)</td>\n",
                            "      <td>119</td>\n",
                            "    </tr>\n",
                            "  </tbody>\n",
                            "</table>\n",
                            "</div>\n",
                            "      <button class=\"colab-df-convert\" onclick=\"convertToInteractive('df-0099f6f1-830a-4dd0-ac9f-182d5d92dc9f')\"\n",
                            "              title=\"Convert this dataframe to an interactive table.\"\n",
                            "              style=\"display:none;\">\n",
                            "        \n",
                            "  <svg xmlns=\"http://www.w3.org/2000/svg\" height=\"24px\"viewBox=\"0 0 24 24\"\n",
                            "       width=\"24px\">\n",
                            "    <path d=\"M0 0h24v24H0V0z\" fill=\"none\"/>\n",
                            "    <path d=\"M18.56 5.44l.94 2.06.94-2.06 2.06-.94-2.06-.94-.94-2.06-.94 2.06-2.06.94zm-11 1L8.5 8.5l.94-2.06 2.06-.94-2.06-.94L8.5 2.5l-.94 2.06-2.06.94zm10 10l.94 2.06.94-2.06 2.06-.94-2.06-.94-.94-2.06-.94 2.06-2.06.94z\"/><path d=\"M17.41 7.96l-1.37-1.37c-.4-.4-.92-.59-1.43-.59-.52 0-1.04.2-1.43.59L10.3 9.45l-7.72 7.72c-.78.78-.78 2.05 0 2.83L4 21.41c.39.39.9.59 1.41.59.51 0 1.02-.2 1.41-.59l7.78-7.78 2.81-2.81c.8-.78.8-2.07 0-2.86zM5.41 20L4 18.59l7.72-7.72 1.47 1.35L5.41 20z\"/>\n",
                            "  </svg>\n",
                            "      </button>\n",
                            "      \n",
                            "  <style>\n",
                            "    .colab-df-container {\n",
                            "      display:flex;\n",
                            "      flex-wrap:wrap;\n",
                            "      gap: 12px;\n",
                            "    }\n",
                            "\n",
                            "    .colab-df-convert {\n",
                            "      background-color: #E8F0FE;\n",
                            "      border: none;\n",
                            "      border-radius: 50%;\n",
                            "      cursor: pointer;\n",
                            "      display: none;\n",
                            "      fill: #1967D2;\n",
                            "      height: 32px;\n",
                            "      padding: 0 0 0 0;\n",
                            "      width: 32px;\n",
                            "    }\n",
                            "\n",
                            "    .colab-df-convert:hover {\n",
                            "      background-color: #E2EBFA;\n",
                            "      box-shadow: 0px 1px 2px rgba(60, 64, 67, 0.3), 0px 1px 3px 1px rgba(60, 64, 67, 0.15);\n",
                            "      fill: #174EA6;\n",
                            "    }\n",
                            "\n",
                            "    [theme=dark] .colab-df-convert {\n",
                            "      background-color: #3B4455;\n",
                            "      fill: #D2E3FC;\n",
                            "    }\n",
                            "\n",
                            "    [theme=dark] .colab-df-convert:hover {\n",
                            "      background-color: #434B5C;\n",
                            "      box-shadow: 0px 1px 3px 1px rgba(0, 0, 0, 0.15);\n",
                            "      filter: drop-shadow(0px 1px 2px rgba(0, 0, 0, 0.3));\n",
                            "      fill: #FFFFFF;\n",
                            "    }\n",
                            "  </style>\n",
                            "\n",
                            "      <script>\n",
                            "        const buttonEl =\n",
                            "          document.querySelector('#df-0099f6f1-830a-4dd0-ac9f-182d5d92dc9f button.colab-df-convert');\n",
                            "        buttonEl.style.display =\n",
                            "          google.colab.kernel.accessAllowed ? 'block' : 'none';\n",
                            "\n",
                            "        async function convertToInteractive(key) {\n",
                            "          const element = document.querySelector('#df-0099f6f1-830a-4dd0-ac9f-182d5d92dc9f');\n",
                            "          const dataTable =\n",
                            "            await google.colab.kernel.invokeFunction('convertToInteractive',\n",
                            "                                                     [key], {});\n",
                            "          if (!dataTable) return;\n",
                            "\n",
                            "          const docLinkHtml = 'Like what you see? Visit the ' +\n",
                            "            '<a target=\"_blank\" href=https://colab.research.google.com/notebooks/data_table.ipynb>data table notebook</a>'\n",
                            "            + ' to learn more about interactive tables.';\n",
                            "          element.innerHTML = '';\n",
                            "          dataTable['output_type'] = 'display_data';\n",
                            "          await google.colab.output.renderOutput(dataTable, element);\n",
                            "          const docLink = document.createElement('div');\n",
                            "          docLink.innerHTML = docLinkHtml;\n",
                            "          element.appendChild(docLink);\n",
                            "        }\n",
                            "      </script>\n",
                            "    </div>\n",
                            "  </div>\n",
                            "  "
                        ]
                    },
                    "metadata": {},
                    "execution_count": 50
                }
            ]
        },
        {
            "cell_type": "code",
            "source": [
                "df_table.shape"
            ],
            "metadata": {
                "colab": {
                    "base_uri": "https://localhost:8080/"
                },
                "id": "JRwqklu2FmLa",
                "executionInfo": {
                    "status": "ok",
                    "timestamp": 1675822905265,
                    "user_tz": -540,
                    "elapsed": 4,
                    "user": {
                        "displayName": "박성환",
                        "userId": "16608640204304641951"
                    }
                },
                "outputId": "c973afe2-43b4-489e-88c2-5e194f69a203"
            },
            "execution_count": null,
            "outputs": [
                {
                    "output_type": "execute_result",
                    "data": {
                        "text/plain": [
                            "(120, 2)"
                        ]
                    },
                    "metadata": {},
                    "execution_count": 51
                }
            ]
        },
        {
            "cell_type": "code",
            "source": [
                "fm.save(cfg.under_label, df_table)"
            ],
            "metadata": {
                "colab": {
                    "base_uri": "https://localhost:8080/"
                },
                "id": "pK4TOooJFn4u",
                "executionInfo": {
                    "status": "ok",
                    "timestamp": 1675822905785,
                    "user_tz": -540,
                    "elapsed": 3,
                    "user": {
                        "displayName": "박성환",
                        "userId": "16608640204304641951"
                    }
                },
                "outputId": "a5a87985-5f4b-4741-ba1a-59374d9829f7"
            },
            "execution_count": null,
            "outputs": [
                {
                    "output_type": "stream",
                    "name": "stdout",
                    "text": [
                        "file exists\n",
                        "exceptions must derive from BaseException\n"
                    ]
                }
            ]
        },
        {
            "cell_type": "markdown",
            "source": [
                "##### Train Save"
            ],
            "metadata": {
                "id": "t2kjgKRvEhl7"
            }
        },
        {
            "cell_type": "code",
            "source": [
                "label = []\n",
                "\n",
                "for i in df_result.iterrows():\n",
                "  label.append(result_com_dict[(i[1]['material'], i[1]['speech'])])"
            ],
            "metadata": {
                "id": "a_0q-YYSDSEW"
            },
            "execution_count": null,
            "outputs": []
        },
        {
            "cell_type": "code",
            "source": [
                "df_result['label'] = label"
            ],
            "metadata": {
                "id": "o3vQ3cSOEXTR"
            },
            "execution_count": null,
            "outputs": []
        },
        {
            "cell_type": "code",
            "source": [
                "df_result.head()"
            ],
            "metadata": {
                "colab": {
                    "base_uri": "https://localhost:8080/",
                    "height": 206
                },
                "id": "UqQbNSYdExju",
                "executionInfo": {
                    "status": "ok",
                    "timestamp": 1675822909698,
                    "user_tz": -540,
                    "elapsed": 4,
                    "user": {
                        "displayName": "박성환",
                        "userId": "16608640204304641951"
                    }
                },
                "outputId": "2c46de8d-9a21-44e5-b825-ffd42446733f"
            },
            "execution_count": null,
            "outputs": [
                {
                    "output_type": "execute_result",
                    "data": {
                        "text/plain": [
                            "               content material speech    temp  label\n",
                            "0  너 밈 조사 꽤 하는구나?! 최고!       밈봇     만족  밈봇, 만족    116\n",
                            "1           난 너가 존나 좋다       밈봇     만족  밈봇, 만족    116\n",
                            "2              너 쫌 귀엽쓰       밈봇     만족  밈봇, 만족    116\n",
                            "3            대춘아 늘 고맙다       밈봇     만족  밈봇, 만족    116\n",
                            "4       얘 웃음소리 완전 따스하네       밈봇     만족  밈봇, 만족    116"
                        ],
                        "text/html": [
                            "\n",
                            "  <div id=\"df-cfc03c0e-ca33-4bf0-94b9-cb1b26fd35f2\">\n",
                            "    <div class=\"colab-df-container\">\n",
                            "      <div>\n",
                            "<style scoped>\n",
                            "    .dataframe tbody tr th:only-of-type {\n",
                            "        vertical-align: middle;\n",
                            "    }\n",
                            "\n",
                            "    .dataframe tbody tr th {\n",
                            "        vertical-align: top;\n",
                            "    }\n",
                            "\n",
                            "    .dataframe thead th {\n",
                            "        text-align: right;\n",
                            "    }\n",
                            "</style>\n",
                            "<table border=\"1\" class=\"dataframe\">\n",
                            "  <thead>\n",
                            "    <tr style=\"text-align: right;\">\n",
                            "      <th></th>\n",
                            "      <th>content</th>\n",
                            "      <th>material</th>\n",
                            "      <th>speech</th>\n",
                            "      <th>temp</th>\n",
                            "      <th>label</th>\n",
                            "    </tr>\n",
                            "  </thead>\n",
                            "  <tbody>\n",
                            "    <tr>\n",
                            "      <th>0</th>\n",
                            "      <td>너 밈 조사 꽤 하는구나?! 최고!</td>\n",
                            "      <td>밈봇</td>\n",
                            "      <td>만족</td>\n",
                            "      <td>밈봇, 만족</td>\n",
                            "      <td>116</td>\n",
                            "    </tr>\n",
                            "    <tr>\n",
                            "      <th>1</th>\n",
                            "      <td>난 너가 존나 좋다</td>\n",
                            "      <td>밈봇</td>\n",
                            "      <td>만족</td>\n",
                            "      <td>밈봇, 만족</td>\n",
                            "      <td>116</td>\n",
                            "    </tr>\n",
                            "    <tr>\n",
                            "      <th>2</th>\n",
                            "      <td>너 쫌 귀엽쓰</td>\n",
                            "      <td>밈봇</td>\n",
                            "      <td>만족</td>\n",
                            "      <td>밈봇, 만족</td>\n",
                            "      <td>116</td>\n",
                            "    </tr>\n",
                            "    <tr>\n",
                            "      <th>3</th>\n",
                            "      <td>대춘아 늘 고맙다</td>\n",
                            "      <td>밈봇</td>\n",
                            "      <td>만족</td>\n",
                            "      <td>밈봇, 만족</td>\n",
                            "      <td>116</td>\n",
                            "    </tr>\n",
                            "    <tr>\n",
                            "      <th>4</th>\n",
                            "      <td>얘 웃음소리 완전 따스하네</td>\n",
                            "      <td>밈봇</td>\n",
                            "      <td>만족</td>\n",
                            "      <td>밈봇, 만족</td>\n",
                            "      <td>116</td>\n",
                            "    </tr>\n",
                            "  </tbody>\n",
                            "</table>\n",
                            "</div>\n",
                            "      <button class=\"colab-df-convert\" onclick=\"convertToInteractive('df-cfc03c0e-ca33-4bf0-94b9-cb1b26fd35f2')\"\n",
                            "              title=\"Convert this dataframe to an interactive table.\"\n",
                            "              style=\"display:none;\">\n",
                            "        \n",
                            "  <svg xmlns=\"http://www.w3.org/2000/svg\" height=\"24px\"viewBox=\"0 0 24 24\"\n",
                            "       width=\"24px\">\n",
                            "    <path d=\"M0 0h24v24H0V0z\" fill=\"none\"/>\n",
                            "    <path d=\"M18.56 5.44l.94 2.06.94-2.06 2.06-.94-2.06-.94-.94-2.06-.94 2.06-2.06.94zm-11 1L8.5 8.5l.94-2.06 2.06-.94-2.06-.94L8.5 2.5l-.94 2.06-2.06.94zm10 10l.94 2.06.94-2.06 2.06-.94-2.06-.94-.94-2.06-.94 2.06-2.06.94z\"/><path d=\"M17.41 7.96l-1.37-1.37c-.4-.4-.92-.59-1.43-.59-.52 0-1.04.2-1.43.59L10.3 9.45l-7.72 7.72c-.78.78-.78 2.05 0 2.83L4 21.41c.39.39.9.59 1.41.59.51 0 1.02-.2 1.41-.59l7.78-7.78 2.81-2.81c.8-.78.8-2.07 0-2.86zM5.41 20L4 18.59l7.72-7.72 1.47 1.35L5.41 20z\"/>\n",
                            "  </svg>\n",
                            "      </button>\n",
                            "      \n",
                            "  <style>\n",
                            "    .colab-df-container {\n",
                            "      display:flex;\n",
                            "      flex-wrap:wrap;\n",
                            "      gap: 12px;\n",
                            "    }\n",
                            "\n",
                            "    .colab-df-convert {\n",
                            "      background-color: #E8F0FE;\n",
                            "      border: none;\n",
                            "      border-radius: 50%;\n",
                            "      cursor: pointer;\n",
                            "      display: none;\n",
                            "      fill: #1967D2;\n",
                            "      height: 32px;\n",
                            "      padding: 0 0 0 0;\n",
                            "      width: 32px;\n",
                            "    }\n",
                            "\n",
                            "    .colab-df-convert:hover {\n",
                            "      background-color: #E2EBFA;\n",
                            "      box-shadow: 0px 1px 2px rgba(60, 64, 67, 0.3), 0px 1px 3px 1px rgba(60, 64, 67, 0.15);\n",
                            "      fill: #174EA6;\n",
                            "    }\n",
                            "\n",
                            "    [theme=dark] .colab-df-convert {\n",
                            "      background-color: #3B4455;\n",
                            "      fill: #D2E3FC;\n",
                            "    }\n",
                            "\n",
                            "    [theme=dark] .colab-df-convert:hover {\n",
                            "      background-color: #434B5C;\n",
                            "      box-shadow: 0px 1px 3px 1px rgba(0, 0, 0, 0.15);\n",
                            "      filter: drop-shadow(0px 1px 2px rgba(0, 0, 0, 0.3));\n",
                            "      fill: #FFFFFF;\n",
                            "    }\n",
                            "  </style>\n",
                            "\n",
                            "      <script>\n",
                            "        const buttonEl =\n",
                            "          document.querySelector('#df-cfc03c0e-ca33-4bf0-94b9-cb1b26fd35f2 button.colab-df-convert');\n",
                            "        buttonEl.style.display =\n",
                            "          google.colab.kernel.accessAllowed ? 'block' : 'none';\n",
                            "\n",
                            "        async function convertToInteractive(key) {\n",
                            "          const element = document.querySelector('#df-cfc03c0e-ca33-4bf0-94b9-cb1b26fd35f2');\n",
                            "          const dataTable =\n",
                            "            await google.colab.kernel.invokeFunction('convertToInteractive',\n",
                            "                                                     [key], {});\n",
                            "          if (!dataTable) return;\n",
                            "\n",
                            "          const docLinkHtml = 'Like what you see? Visit the ' +\n",
                            "            '<a target=\"_blank\" href=https://colab.research.google.com/notebooks/data_table.ipynb>data table notebook</a>'\n",
                            "            + ' to learn more about interactive tables.';\n",
                            "          element.innerHTML = '';\n",
                            "          dataTable['output_type'] = 'display_data';\n",
                            "          await google.colab.output.renderOutput(dataTable, element);\n",
                            "          const docLink = document.createElement('div');\n",
                            "          docLink.innerHTML = docLinkHtml;\n",
                            "          element.appendChild(docLink);\n",
                            "        }\n",
                            "      </script>\n",
                            "    </div>\n",
                            "  </div>\n",
                            "  "
                        ]
                    },
                    "metadata": {},
                    "execution_count": 55
                }
            ]
        },
        {
            "cell_type": "code",
            "source": [
                "df_result.label.value_counts()"
            ],
            "metadata": {
                "colab": {
                    "base_uri": "https://localhost:8080/"
                },
                "id": "c49uz7VUQQ7O",
                "executionInfo": {
                    "status": "ok",
                    "timestamp": 1675822910270,
                    "user_tz": -540,
                    "elapsed": 1,
                    "user": {
                        "displayName": "박성환",
                        "userId": "16608640204304641951"
                    }
                },
                "outputId": "13f7427a-3001-4b6c-db66-3504e8f1a275"
            },
            "execution_count": null,
            "outputs": [
                {
                    "output_type": "execute_result",
                    "data": {
                        "text/plain": [
                            "116    150\n",
                            "118    150\n",
                            "119    150\n",
                            "117    150\n",
                            "69     144\n",
                            "      ... \n",
                            "108     30\n",
                            "105     30\n",
                            "1       30\n",
                            "80      30\n",
                            "57      30\n",
                            "Name: label, Length: 120, dtype: int64"
                        ]
                    },
                    "metadata": {},
                    "execution_count": 56
                }
            ]
        },
        {
            "cell_type": "code",
            "source": [
                "fm.save(cfg.train_under_data, df_result)"
            ],
            "metadata": {
                "id": "Yzmc9n2QacO0",
                "colab": {
                    "base_uri": "https://localhost:8080/"
                },
                "executionInfo": {
                    "status": "ok",
                    "timestamp": 1675822911334,
                    "user_tz": -540,
                    "elapsed": 3,
                    "user": {
                        "displayName": "박성환",
                        "userId": "16608640204304641951"
                    }
                },
                "outputId": "56abbd3b-c54a-4f63-c12d-46ea4122d037"
            },
            "execution_count": null,
            "outputs": [
                {
                    "output_type": "stream",
                    "name": "stdout",
                    "text": [
                        "file exists\n",
                        "exceptions must derive from BaseException\n"
                    ]
                }
            ]
        },
        {
            "cell_type": "markdown",
            "source": [
                "##### Ref"
            ],
            "metadata": {
                "id": "31A7sCiSEld3"
            }
        },
        {
            "cell_type": "code",
            "source": [
                "df = fm.load(cfg.origin_ref)"
            ],
            "metadata": {
                "colab": {
                    "base_uri": "https://localhost:8080/"
                },
                "id": "7JNd2NaZKCX_",
                "executionInfo": {
                    "status": "ok",
                    "timestamp": 1675822916545,
                    "user_tz": -540,
                    "elapsed": 1,
                    "user": {
                        "displayName": "박성환",
                        "userId": "16608640204304641951"
                    }
                },
                "outputId": "9dbd9af5-c57e-4923-8b87-33017ff08275"
            },
            "execution_count": null,
            "outputs": [
                {
                    "output_type": "stream",
                    "name": "stdout",
                    "text": [
                        "extension : .pickle\n",
                        "Loaded 181704 records from drive/MyDrive/MemeProject/data/augmentation/origin_ref.pickle\n"
                    ]
                }
            ]
        },
        {
            "cell_type": "code",
            "source": [
                "label = []\n",
                "\n",
                "for i in df.iterrows():\n",
                "  if (i[1]['material'], i[1]['speech']) in result_com_dict:\n",
                "    label.append(result_com_dict[(i[1]['material'], i[1]['speech'])])\n",
                "  else:\n",
                "    label.append(999)"
            ],
            "metadata": {
                "id": "bhF9VtVJGmjK"
            },
            "execution_count": null,
            "outputs": []
        },
        {
            "cell_type": "code",
            "source": [
                "df['label'] = label"
            ],
            "metadata": {
                "id": "mRbFL6rXGuih"
            },
            "execution_count": null,
            "outputs": []
        },
        {
            "cell_type": "code",
            "source": [
                "df.head()"
            ],
            "metadata": {
                "colab": {
                    "base_uri": "https://localhost:8080/",
                    "height": 206
                },
                "id": "IELwUegRLcZg",
                "executionInfo": {
                    "status": "ok",
                    "timestamp": 1675822937497,
                    "user_tz": -540,
                    "elapsed": 7,
                    "user": {
                        "displayName": "박성환",
                        "userId": "16608640204304641951"
                    }
                },
                "outputId": "fc68d440-1ef0-4e0c-a3f3-9214ecd792f8"
            },
            "execution_count": null,
            "outputs": [
                {
                    "output_type": "execute_result",
                    "data": {
                        "text/plain": [
                            "  num g_num u_num material speech                u  \\\n",
                            "0   1     1     1     학교생활     자랑  나 중간고사 반에서 1등했어   \n",
                            "1   1     1     1     학교생활     자랑  나 중간고사 반에서 1등했어   \n",
                            "2   1     1     1     학교생활     자랑  나 중간고사 반에서 1등했어   \n",
                            "3   1     1     1     학교생활     자랑  나 중간고사 반에서 1등했어   \n",
                            "4   1     1     1     학교생활     자랑  나 중간고사 반에서 1등했어   \n",
                            "\n",
                            "                                          meme  arg1 arg_op1 arg_op2 label  \n",
                            "0           그렇다면 통 크게 함 쏴야지! 근데 이제 내 것도 곁들인...  중간고사                   114  \n",
                            "1     그렇다면 통 크게 함 쏴야지! 근데 이제 내 몫을 제일 많이 곁들인...  중간고사                   114  \n",
                            "2         그렇다면 통 크게 함 쏴야지! 근데 이제 대춘이 몫도 곁들인...  중간고사                   114  \n",
                            "3  그렇다면 통 크게 함 쏴야지! 근데 이제 배보다 배꼽이 더 큰 걸 곁들인...  중간고사                   114  \n",
                            "4           그렇다면 통 크게 함 쏴야지! 근데 이제 과소비를 곁들인...  중간고사                   114  "
                        ],
                        "text/html": [
                            "\n",
                            "  <div id=\"df-630b7122-54ad-4968-9c15-091b764da347\">\n",
                            "    <div class=\"colab-df-container\">\n",
                            "      <div>\n",
                            "<style scoped>\n",
                            "    .dataframe tbody tr th:only-of-type {\n",
                            "        vertical-align: middle;\n",
                            "    }\n",
                            "\n",
                            "    .dataframe tbody tr th {\n",
                            "        vertical-align: top;\n",
                            "    }\n",
                            "\n",
                            "    .dataframe thead tr th {\n",
                            "        text-align: left;\n",
                            "    }\n",
                            "</style>\n",
                            "<table border=\"1\" class=\"dataframe\">\n",
                            "  <thead>\n",
                            "    <tr>\n",
                            "      <th></th>\n",
                            "      <th>num</th>\n",
                            "      <th>g_num</th>\n",
                            "      <th>u_num</th>\n",
                            "      <th>material</th>\n",
                            "      <th>speech</th>\n",
                            "      <th>u</th>\n",
                            "      <th>meme</th>\n",
                            "      <th>arg1</th>\n",
                            "      <th>arg_op1</th>\n",
                            "      <th>arg_op2</th>\n",
                            "      <th>label</th>\n",
                            "    </tr>\n",
                            "  </thead>\n",
                            "  <tbody>\n",
                            "    <tr>\n",
                            "      <th>0</th>\n",
                            "      <td>1</td>\n",
                            "      <td>1</td>\n",
                            "      <td>1</td>\n",
                            "      <td>학교생활</td>\n",
                            "      <td>자랑</td>\n",
                            "      <td>나 중간고사 반에서 1등했어</td>\n",
                            "      <td>그렇다면 통 크게 함 쏴야지! 근데 이제 내 것도 곁들인...</td>\n",
                            "      <td>중간고사</td>\n",
                            "      <td></td>\n",
                            "      <td></td>\n",
                            "      <td>114</td>\n",
                            "    </tr>\n",
                            "    <tr>\n",
                            "      <th>1</th>\n",
                            "      <td>1</td>\n",
                            "      <td>1</td>\n",
                            "      <td>1</td>\n",
                            "      <td>학교생활</td>\n",
                            "      <td>자랑</td>\n",
                            "      <td>나 중간고사 반에서 1등했어</td>\n",
                            "      <td>그렇다면 통 크게 함 쏴야지! 근데 이제 내 몫을 제일 많이 곁들인...</td>\n",
                            "      <td>중간고사</td>\n",
                            "      <td></td>\n",
                            "      <td></td>\n",
                            "      <td>114</td>\n",
                            "    </tr>\n",
                            "    <tr>\n",
                            "      <th>2</th>\n",
                            "      <td>1</td>\n",
                            "      <td>1</td>\n",
                            "      <td>1</td>\n",
                            "      <td>학교생활</td>\n",
                            "      <td>자랑</td>\n",
                            "      <td>나 중간고사 반에서 1등했어</td>\n",
                            "      <td>그렇다면 통 크게 함 쏴야지! 근데 이제 대춘이 몫도 곁들인...</td>\n",
                            "      <td>중간고사</td>\n",
                            "      <td></td>\n",
                            "      <td></td>\n",
                            "      <td>114</td>\n",
                            "    </tr>\n",
                            "    <tr>\n",
                            "      <th>3</th>\n",
                            "      <td>1</td>\n",
                            "      <td>1</td>\n",
                            "      <td>1</td>\n",
                            "      <td>학교생활</td>\n",
                            "      <td>자랑</td>\n",
                            "      <td>나 중간고사 반에서 1등했어</td>\n",
                            "      <td>그렇다면 통 크게 함 쏴야지! 근데 이제 배보다 배꼽이 더 큰 걸 곁들인...</td>\n",
                            "      <td>중간고사</td>\n",
                            "      <td></td>\n",
                            "      <td></td>\n",
                            "      <td>114</td>\n",
                            "    </tr>\n",
                            "    <tr>\n",
                            "      <th>4</th>\n",
                            "      <td>1</td>\n",
                            "      <td>1</td>\n",
                            "      <td>1</td>\n",
                            "      <td>학교생활</td>\n",
                            "      <td>자랑</td>\n",
                            "      <td>나 중간고사 반에서 1등했어</td>\n",
                            "      <td>그렇다면 통 크게 함 쏴야지! 근데 이제 과소비를 곁들인...</td>\n",
                            "      <td>중간고사</td>\n",
                            "      <td></td>\n",
                            "      <td></td>\n",
                            "      <td>114</td>\n",
                            "    </tr>\n",
                            "  </tbody>\n",
                            "</table>\n",
                            "</div>\n",
                            "      <button class=\"colab-df-convert\" onclick=\"convertToInteractive('df-630b7122-54ad-4968-9c15-091b764da347')\"\n",
                            "              title=\"Convert this dataframe to an interactive table.\"\n",
                            "              style=\"display:none;\">\n",
                            "        \n",
                            "  <svg xmlns=\"http://www.w3.org/2000/svg\" height=\"24px\"viewBox=\"0 0 24 24\"\n",
                            "       width=\"24px\">\n",
                            "    <path d=\"M0 0h24v24H0V0z\" fill=\"none\"/>\n",
                            "    <path d=\"M18.56 5.44l.94 2.06.94-2.06 2.06-.94-2.06-.94-.94-2.06-.94 2.06-2.06.94zm-11 1L8.5 8.5l.94-2.06 2.06-.94-2.06-.94L8.5 2.5l-.94 2.06-2.06.94zm10 10l.94 2.06.94-2.06 2.06-.94-2.06-.94-.94-2.06-.94 2.06-2.06.94z\"/><path d=\"M17.41 7.96l-1.37-1.37c-.4-.4-.92-.59-1.43-.59-.52 0-1.04.2-1.43.59L10.3 9.45l-7.72 7.72c-.78.78-.78 2.05 0 2.83L4 21.41c.39.39.9.59 1.41.59.51 0 1.02-.2 1.41-.59l7.78-7.78 2.81-2.81c.8-.78.8-2.07 0-2.86zM5.41 20L4 18.59l7.72-7.72 1.47 1.35L5.41 20z\"/>\n",
                            "  </svg>\n",
                            "      </button>\n",
                            "      \n",
                            "  <style>\n",
                            "    .colab-df-container {\n",
                            "      display:flex;\n",
                            "      flex-wrap:wrap;\n",
                            "      gap: 12px;\n",
                            "    }\n",
                            "\n",
                            "    .colab-df-convert {\n",
                            "      background-color: #E8F0FE;\n",
                            "      border: none;\n",
                            "      border-radius: 50%;\n",
                            "      cursor: pointer;\n",
                            "      display: none;\n",
                            "      fill: #1967D2;\n",
                            "      height: 32px;\n",
                            "      padding: 0 0 0 0;\n",
                            "      width: 32px;\n",
                            "    }\n",
                            "\n",
                            "    .colab-df-convert:hover {\n",
                            "      background-color: #E2EBFA;\n",
                            "      box-shadow: 0px 1px 2px rgba(60, 64, 67, 0.3), 0px 1px 3px 1px rgba(60, 64, 67, 0.15);\n",
                            "      fill: #174EA6;\n",
                            "    }\n",
                            "\n",
                            "    [theme=dark] .colab-df-convert {\n",
                            "      background-color: #3B4455;\n",
                            "      fill: #D2E3FC;\n",
                            "    }\n",
                            "\n",
                            "    [theme=dark] .colab-df-convert:hover {\n",
                            "      background-color: #434B5C;\n",
                            "      box-shadow: 0px 1px 3px 1px rgba(0, 0, 0, 0.15);\n",
                            "      filter: drop-shadow(0px 1px 2px rgba(0, 0, 0, 0.3));\n",
                            "      fill: #FFFFFF;\n",
                            "    }\n",
                            "  </style>\n",
                            "\n",
                            "      <script>\n",
                            "        const buttonEl =\n",
                            "          document.querySelector('#df-630b7122-54ad-4968-9c15-091b764da347 button.colab-df-convert');\n",
                            "        buttonEl.style.display =\n",
                            "          google.colab.kernel.accessAllowed ? 'block' : 'none';\n",
                            "\n",
                            "        async function convertToInteractive(key) {\n",
                            "          const element = document.querySelector('#df-630b7122-54ad-4968-9c15-091b764da347');\n",
                            "          const dataTable =\n",
                            "            await google.colab.kernel.invokeFunction('convertToInteractive',\n",
                            "                                                     [key], {});\n",
                            "          if (!dataTable) return;\n",
                            "\n",
                            "          const docLinkHtml = 'Like what you see? Visit the ' +\n",
                            "            '<a target=\"_blank\" href=https://colab.research.google.com/notebooks/data_table.ipynb>data table notebook</a>'\n",
                            "            + ' to learn more about interactive tables.';\n",
                            "          element.innerHTML = '';\n",
                            "          dataTable['output_type'] = 'display_data';\n",
                            "          await google.colab.output.renderOutput(dataTable, element);\n",
                            "          const docLink = document.createElement('div');\n",
                            "          docLink.innerHTML = docLinkHtml;\n",
                            "          element.appendChild(docLink);\n",
                            "        }\n",
                            "      </script>\n",
                            "    </div>\n",
                            "  </div>\n",
                            "  "
                        ]
                    },
                    "metadata": {},
                    "execution_count": 61
                }
            ]
        },
        {
            "cell_type": "code",
            "source": [
                "fm.save(cfg.origin_class120_ref, df)"
            ],
            "metadata": {
                "colab": {
                    "base_uri": "https://localhost:8080/"
                },
                "id": "ZoJ6A2CrEkxU",
                "executionInfo": {
                    "status": "ok",
                    "timestamp": 1675822937497,
                    "user_tz": -540,
                    "elapsed": 5,
                    "user": {
                        "displayName": "박성환",
                        "userId": "16608640204304641951"
                    }
                },
                "outputId": "a6f9142a-45da-44d9-f09b-467f91aa0877"
            },
            "execution_count": null,
            "outputs": [
                {
                    "output_type": "stream",
                    "name": "stdout",
                    "text": [
                        "Saved 181704 records\n"
                    ]
                }
            ]
        },
        {
            "cell_type": "code",
            "source": [],
            "metadata": {
                "id": "ZakfXPJ-JqUK"
            },
            "execution_count": null,
            "outputs": []
        }
    ]
}