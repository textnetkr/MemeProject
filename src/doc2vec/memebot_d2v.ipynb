{
 "cells": [
  {
   "cell_type": "markdown",
   "id": "3050b83c",
   "metadata": {},
   "source": [
    "# Data Load"
   ]
  },
  {
   "cell_type": "code",
   "execution_count": 1,
   "id": "9b3b4d77",
   "metadata": {},
   "outputs": [],
   "source": [
    "import config\n",
    "from pshmodule.utils import filemanager as fm"
   ]
  },
  {
   "cell_type": "code",
   "execution_count": 2,
   "id": "62831d08",
   "metadata": {},
   "outputs": [
    {
     "name": "stdout",
     "output_type": "stream",
     "text": [
      "extension : .pickle\n",
      "Loaded 9150 records from /Volumes/GoogleDrive/내 드라이브/MemeProject/data/temp_for_doc2vec.pickle\n"
     ]
    }
   ],
   "source": [
    "df = fm.load(config.temp_data)"
   ]
  },
  {
   "cell_type": "code",
   "execution_count": 3,
   "id": "c8293f8b",
   "metadata": {},
   "outputs": [
    {
     "data": {
      "text/html": [
       "<div>\n",
       "<style scoped>\n",
       "    .dataframe tbody tr th:only-of-type {\n",
       "        vertical-align: middle;\n",
       "    }\n",
       "\n",
       "    .dataframe tbody tr th {\n",
       "        vertical-align: top;\n",
       "    }\n",
       "\n",
       "    .dataframe thead th {\n",
       "        text-align: right;\n",
       "    }\n",
       "</style>\n",
       "<table border=\"1\" class=\"dataframe\">\n",
       "  <thead>\n",
       "    <tr style=\"text-align: right;\">\n",
       "      <th>1</th>\n",
       "      <th>content</th>\n",
       "      <th>pos</th>\n",
       "    </tr>\n",
       "  </thead>\n",
       "  <tbody>\n",
       "    <tr>\n",
       "      <th>0</th>\n",
       "      <td>나 중간고사 반에서 1등했어</td>\n",
       "      <td>[나, 중간고사, 반]</td>\n",
       "    </tr>\n",
       "    <tr>\n",
       "      <th>1</th>\n",
       "      <td>중간고사 점수 내가 반에서 제일 잘 받음</td>\n",
       "      <td>[중간고사, 점수, 내, 반, 제일, 받음]</td>\n",
       "    </tr>\n",
       "    <tr>\n",
       "      <th>2</th>\n",
       "      <td>나 반에서 중간 성적 제일 좋아</td>\n",
       "      <td>[나, 반, 중간, 성적, 제일, 좋아]</td>\n",
       "    </tr>\n",
       "    <tr>\n",
       "      <th>3</th>\n",
       "      <td>우리 반에서 내가 시험 제일 잘 봤다</td>\n",
       "      <td>[우리, 반, 내, 시험, 제일, 봤다]</td>\n",
       "    </tr>\n",
       "    <tr>\n",
       "      <th>4</th>\n",
       "      <td>중간고사 반 1등 먹음</td>\n",
       "      <td>[중간고사, 반, 먹음]</td>\n",
       "    </tr>\n",
       "  </tbody>\n",
       "</table>\n",
       "</div>"
      ],
      "text/plain": [
       "1                 content                       pos\n",
       "0         나 중간고사 반에서 1등했어              [나, 중간고사, 반]\n",
       "1  중간고사 점수 내가 반에서 제일 잘 받음  [중간고사, 점수, 내, 반, 제일, 받음]\n",
       "2       나 반에서 중간 성적 제일 좋아    [나, 반, 중간, 성적, 제일, 좋아]\n",
       "3    우리 반에서 내가 시험 제일 잘 봤다    [우리, 반, 내, 시험, 제일, 봤다]\n",
       "4            중간고사 반 1등 먹음             [중간고사, 반, 먹음]"
      ]
     },
     "execution_count": 3,
     "metadata": {},
     "output_type": "execute_result"
    }
   ],
   "source": [
    "df.head()"
   ]
  },
  {
   "cell_type": "code",
   "execution_count": 4,
   "id": "27b2b9ab",
   "metadata": {},
   "outputs": [
    {
     "name": "stdout",
     "output_type": "stream",
     "text": [
      "extension : .pickle\n",
      "Loaded 180940 records from /Volumes/GoogleDrive/내 드라이브/MemeProject/data/temp_for_ref.pickle\n"
     ]
    }
   ],
   "source": [
    "df_ref = fm.load(config.temp_ref_data)"
   ]
  },
  {
   "cell_type": "code",
   "execution_count": 5,
   "id": "567f80d5",
   "metadata": {},
   "outputs": [],
   "source": [
    "df_ref.cpr.fillna('', inplace=True)\n",
    "df_ref.cpo.fillna('', inplace=True)"
   ]
  },
  {
   "cell_type": "code",
   "execution_count": 17,
   "id": "773ac3a3",
   "metadata": {},
   "outputs": [],
   "source": [
    "import pandas as pd"
   ]
  },
  {
   "cell_type": "code",
   "execution_count": 21,
   "id": "9929bb04",
   "metadata": {},
   "outputs": [],
   "source": [
    "df_temp = pd.concat([df_ref[:10], df_ref[600:610]])"
   ]
  },
  {
   "cell_type": "code",
   "execution_count": 22,
   "id": "4d9f4abe",
   "metadata": {},
   "outputs": [
    {
     "data": {
      "text/html": [
       "<div>\n",
       "<style scoped>\n",
       "    .dataframe tbody tr th:only-of-type {\n",
       "        vertical-align: middle;\n",
       "    }\n",
       "\n",
       "    .dataframe tbody tr th {\n",
       "        vertical-align: top;\n",
       "    }\n",
       "\n",
       "    .dataframe thead th {\n",
       "        text-align: right;\n",
       "    }\n",
       "</style>\n",
       "<table border=\"1\" class=\"dataframe\">\n",
       "  <thead>\n",
       "    <tr style=\"text-align: right;\">\n",
       "      <th></th>\n",
       "      <th>u</th>\n",
       "      <th>cpr</th>\n",
       "      <th>mm</th>\n",
       "      <th>cpo</th>\n",
       "    </tr>\n",
       "  </thead>\n",
       "  <tbody>\n",
       "    <tr>\n",
       "      <th>0</th>\n",
       "      <td>나 중간고사 반에서 1등했어</td>\n",
       "      <td>그렇다면 통 크게 함 쏴야지!</td>\n",
       "      <td>근데 이제 내 것도 곁들인...</td>\n",
       "      <td></td>\n",
       "    </tr>\n",
       "    <tr>\n",
       "      <th>1</th>\n",
       "      <td>나 중간고사 반에서 1등했어</td>\n",
       "      <td>그렇다면 통 크게 함 쏴야지!</td>\n",
       "      <td>근데 이제 내 몫을 제일 많이 곁들인...</td>\n",
       "      <td></td>\n",
       "    </tr>\n",
       "    <tr>\n",
       "      <th>2</th>\n",
       "      <td>나 중간고사 반에서 1등했어</td>\n",
       "      <td>그렇다면 통 크게 함 쏴야지!</td>\n",
       "      <td>근데 이제 대춘이 몫도 곁들인...</td>\n",
       "      <td></td>\n",
       "    </tr>\n",
       "    <tr>\n",
       "      <th>3</th>\n",
       "      <td>나 중간고사 반에서 1등했어</td>\n",
       "      <td>그렇다면 통 크게 함 쏴야지!</td>\n",
       "      <td>근데 이제 배보다 배꼽이 더 큰 걸 곁들인...</td>\n",
       "      <td></td>\n",
       "    </tr>\n",
       "    <tr>\n",
       "      <th>4</th>\n",
       "      <td>나 중간고사 반에서 1등했어</td>\n",
       "      <td>그렇다면 통 크게 함 쏴야지!</td>\n",
       "      <td>근데 이제 과소비를 곁들인...</td>\n",
       "      <td></td>\n",
       "    </tr>\n",
       "    <tr>\n",
       "      <th>5</th>\n",
       "      <td>나 중간고사 반에서 1등했어</td>\n",
       "      <td>그렇다면 통 크게 함 쏴야지!</td>\n",
       "      <td>근데 이제 탕진을 곁들인...</td>\n",
       "      <td></td>\n",
       "    </tr>\n",
       "    <tr>\n",
       "      <th>6</th>\n",
       "      <td>나 중간고사 반에서 1등했어</td>\n",
       "      <td>ㄹㅇ? 대길이 한턱 쏴야겠네</td>\n",
       "      <td>근데 이제 내 것도 곁들인...</td>\n",
       "      <td></td>\n",
       "    </tr>\n",
       "    <tr>\n",
       "      <th>7</th>\n",
       "      <td>나 중간고사 반에서 1등했어</td>\n",
       "      <td>ㄹㅇ? 대길이 한턱 쏴야겠네</td>\n",
       "      <td>근데 이제 내 몫을 제일 많이 곁들인...</td>\n",
       "      <td></td>\n",
       "    </tr>\n",
       "    <tr>\n",
       "      <th>8</th>\n",
       "      <td>나 중간고사 반에서 1등했어</td>\n",
       "      <td>ㄹㅇ? 대길이 한턱 쏴야겠네</td>\n",
       "      <td>근데 이제 대춘이 몫도 곁들인...</td>\n",
       "      <td></td>\n",
       "    </tr>\n",
       "    <tr>\n",
       "      <th>9</th>\n",
       "      <td>나 중간고사 반에서 1등했어</td>\n",
       "      <td>ㄹㅇ? 대길이 한턱 쏴야겠네</td>\n",
       "      <td>근데 이제 배보다 배꼽이 더 큰 걸 곁들인...</td>\n",
       "      <td></td>\n",
       "    </tr>\n",
       "    <tr>\n",
       "      <th>600</th>\n",
       "      <td>나 티켓 잡았다~</td>\n",
       "      <td></td>\n",
       "      <td>누물보? 전 아닙니다만</td>\n",
       "      <td>왜 혼자 행복해...?</td>\n",
       "    </tr>\n",
       "    <tr>\n",
       "      <th>601</th>\n",
       "      <td>나 티켓 잡았다~</td>\n",
       "      <td></td>\n",
       "      <td>누물보? 전 아닙니다만</td>\n",
       "      <td>부러워서 이러는 것 같다면 기분 탓임! 진짜임!</td>\n",
       "    </tr>\n",
       "    <tr>\n",
       "      <th>602</th>\n",
       "      <td>나 티켓 잡았다~</td>\n",
       "      <td></td>\n",
       "      <td>누물보? 전 아닙니다만</td>\n",
       "      <td>나도 데려가라고 백 번 말했다...</td>\n",
       "    </tr>\n",
       "    <tr>\n",
       "      <th>603</th>\n",
       "      <td>나 티켓 잡았다~</td>\n",
       "      <td></td>\n",
       "      <td>누물보? 전 아닙니다만</td>\n",
       "      <td>그 포도알 내 거야 돌려줘</td>\n",
       "    </tr>\n",
       "    <tr>\n",
       "      <th>604</th>\n",
       "      <td>나 티켓 잡았다~</td>\n",
       "      <td></td>\n",
       "      <td>누물보? 전 아닙니다만</td>\n",
       "      <td>신남이 여기까지 느껴지는구만?</td>\n",
       "    </tr>\n",
       "    <tr>\n",
       "      <th>605</th>\n",
       "      <td>나 티켓 잡았다~</td>\n",
       "      <td></td>\n",
       "      <td>누물보? 전 아닙니다만</td>\n",
       "      <td>죄송하지만 들튀할게요</td>\n",
       "    </tr>\n",
       "    <tr>\n",
       "      <th>606</th>\n",
       "      <td>나 티켓 잡았다~</td>\n",
       "      <td></td>\n",
       "      <td>누물보???</td>\n",
       "      <td>왜 혼자 행복해...?</td>\n",
       "    </tr>\n",
       "    <tr>\n",
       "      <th>607</th>\n",
       "      <td>나 티켓 잡았다~</td>\n",
       "      <td></td>\n",
       "      <td>누물보???</td>\n",
       "      <td>부러워서 이러는 것 같다면 기분 탓임! 진짜임!</td>\n",
       "    </tr>\n",
       "    <tr>\n",
       "      <th>608</th>\n",
       "      <td>나 티켓 잡았다~</td>\n",
       "      <td></td>\n",
       "      <td>누물보???</td>\n",
       "      <td>나도 데려가라고 백 번 말했다...</td>\n",
       "    </tr>\n",
       "    <tr>\n",
       "      <th>609</th>\n",
       "      <td>나 티켓 잡았다~</td>\n",
       "      <td></td>\n",
       "      <td>누물보???</td>\n",
       "      <td>그 포도알 내 거야 돌려줘</td>\n",
       "    </tr>\n",
       "  </tbody>\n",
       "</table>\n",
       "</div>"
      ],
      "text/plain": [
       "                   u               cpr                          mm  \\\n",
       "0    나 중간고사 반에서 1등했어  그렇다면 통 크게 함 쏴야지!           근데 이제 내 것도 곁들인...   \n",
       "1    나 중간고사 반에서 1등했어  그렇다면 통 크게 함 쏴야지!     근데 이제 내 몫을 제일 많이 곁들인...   \n",
       "2    나 중간고사 반에서 1등했어  그렇다면 통 크게 함 쏴야지!         근데 이제 대춘이 몫도 곁들인...   \n",
       "3    나 중간고사 반에서 1등했어  그렇다면 통 크게 함 쏴야지!  근데 이제 배보다 배꼽이 더 큰 걸 곁들인...   \n",
       "4    나 중간고사 반에서 1등했어  그렇다면 통 크게 함 쏴야지!           근데 이제 과소비를 곁들인...   \n",
       "5    나 중간고사 반에서 1등했어  그렇다면 통 크게 함 쏴야지!            근데 이제 탕진을 곁들인...   \n",
       "6    나 중간고사 반에서 1등했어   ㄹㅇ? 대길이 한턱 쏴야겠네           근데 이제 내 것도 곁들인...   \n",
       "7    나 중간고사 반에서 1등했어   ㄹㅇ? 대길이 한턱 쏴야겠네     근데 이제 내 몫을 제일 많이 곁들인...   \n",
       "8    나 중간고사 반에서 1등했어   ㄹㅇ? 대길이 한턱 쏴야겠네         근데 이제 대춘이 몫도 곁들인...   \n",
       "9    나 중간고사 반에서 1등했어   ㄹㅇ? 대길이 한턱 쏴야겠네  근데 이제 배보다 배꼽이 더 큰 걸 곁들인...   \n",
       "600        나 티켓 잡았다~                                  누물보? 전 아닙니다만   \n",
       "601        나 티켓 잡았다~                                  누물보? 전 아닙니다만   \n",
       "602        나 티켓 잡았다~                                  누물보? 전 아닙니다만   \n",
       "603        나 티켓 잡았다~                                  누물보? 전 아닙니다만   \n",
       "604        나 티켓 잡았다~                                  누물보? 전 아닙니다만   \n",
       "605        나 티켓 잡았다~                                  누물보? 전 아닙니다만   \n",
       "606        나 티켓 잡았다~                                        누물보???   \n",
       "607        나 티켓 잡았다~                                        누물보???   \n",
       "608        나 티켓 잡았다~                                        누물보???   \n",
       "609        나 티켓 잡았다~                                        누물보???   \n",
       "\n",
       "                            cpo  \n",
       "0                                \n",
       "1                                \n",
       "2                                \n",
       "3                                \n",
       "4                                \n",
       "5                                \n",
       "6                                \n",
       "7                                \n",
       "8                                \n",
       "9                                \n",
       "600                왜 혼자 행복해...?  \n",
       "601  부러워서 이러는 것 같다면 기분 탓임! 진짜임!  \n",
       "602         나도 데려가라고 백 번 말했다...  \n",
       "603              그 포도알 내 거야 돌려줘  \n",
       "604            신남이 여기까지 느껴지는구만?  \n",
       "605                 죄송하지만 들튀할게요  \n",
       "606                왜 혼자 행복해...?  \n",
       "607  부러워서 이러는 것 같다면 기분 탓임! 진짜임!  \n",
       "608         나도 데려가라고 백 번 말했다...  \n",
       "609              그 포도알 내 거야 돌려줘  "
      ]
     },
     "execution_count": 22,
     "metadata": {},
     "output_type": "execute_result"
    }
   ],
   "source": [
    "df_temp.head(50)"
   ]
  },
  {
   "cell_type": "markdown",
   "id": "bc4c927f",
   "metadata": {},
   "source": [
    "# "
   ]
  },
  {
   "cell_type": "markdown",
   "id": "3e29d026",
   "metadata": {},
   "source": [
    "# Model Load"
   ]
  },
  {
   "cell_type": "code",
   "execution_count": 7,
   "id": "2c6a5843",
   "metadata": {},
   "outputs": [],
   "source": [
    "from konlpy.tag import Okt\n",
    "from gensim.models.doc2vec import Doc2Vec\n"
   ]
  },
  {
   "cell_type": "code",
   "execution_count": 8,
   "id": "bc50ff62",
   "metadata": {},
   "outputs": [],
   "source": [
    "jvm_path = \"/Library/Java/JavaVirtualMachines/zulu-15.jdk/Contents/Home/bin/java\"\n",
    "okt = Okt(jvmpath=jvm_path)"
   ]
  },
  {
   "cell_type": "code",
   "execution_count": 9,
   "id": "dd4a9f7d",
   "metadata": {},
   "outputs": [],
   "source": [
    "model = Doc2Vec.load(config.doc2vec)"
   ]
  },
  {
   "cell_type": "markdown",
   "id": "076272ba",
   "metadata": {},
   "source": [
    "# "
   ]
  },
  {
   "cell_type": "markdown",
   "id": "bcfd1a60",
   "metadata": {},
   "source": [
    "# Memebot with doc2vec Similarity"
   ]
  },
  {
   "cell_type": "markdown",
   "id": "f9f852fc",
   "metadata": {},
   "source": [
    "### 학습된 문장 유사도"
   ]
  },
  {
   "cell_type": "code",
   "execution_count": 13,
   "id": "e19aaf50",
   "metadata": {},
   "outputs": [
    {
     "name": "stdout",
     "output_type": "stream",
     "text": [
      "중간고사 반 1등 먹음\n",
      "----------------------------------------------------------------------------------------------------\n",
      "k : 0\n",
      "v : ('0', 0.9171189069747925)\n",
      "나 중간고사 반에서 1등했어\n"
     ]
    },
    {
     "name": "stderr",
     "output_type": "stream",
     "text": [
      "/tmp/ipykernel_11922/2948075417.py:4: DeprecationWarning: Call to deprecated `docvecs` (The `docvecs` property has been renamed `dv`.).\n",
      "  result = model.docvecs.most_similar(index)\n"
     ]
    }
   ],
   "source": [
    "index = 4\n",
    "print(df.content.iloc[index])\n",
    "print(\"-\"*100)\n",
    "result = model.docvecs.most_similar(index)\n",
    "for k, v in enumerate(result):\n",
    "    if k == 0:\n",
    "        print(f\"k : {k}\")\n",
    "        print(f\"v : {v}\")\n",
    "        print(df.content.iloc[int(v[0])])"
   ]
  },
  {
   "cell_type": "markdown",
   "id": "1a47dd5e",
   "metadata": {},
   "source": [
    "### "
   ]
  },
  {
   "cell_type": "markdown",
   "id": "2589029e",
   "metadata": {},
   "source": [
    "### 입력 문장 유사도"
   ]
  },
  {
   "cell_type": "code",
   "execution_count": 16,
   "id": "73b99151",
   "metadata": {},
   "outputs": [
    {
     "name": "stdout",
     "output_type": "stream",
     "text": [
      "화나게 하지마\n"
     ]
    }
   ],
   "source": [
    "input_sent = input()"
   ]
  },
  {
   "cell_type": "code",
   "execution_count": 17,
   "id": "f68bccd6",
   "metadata": {},
   "outputs": [
    {
     "name": "stdout",
     "output_type": "stream",
     "text": [
      "입력 문장 : 화나게 하지마\n",
      "----------------------------------------------------------------------------------------------------\n",
      "1.\n",
      "유사 문장 : 지겹다 너\n",
      "유사 문장 : 0.965835690498352\n",
      "밈 답변 : 흘려 듣기는 내가 할게 역공은 누가 할래?\n",
      "----------------------------------------------------------------------------------------------------\n",
      "2.\n",
      "유사 문장 : 드럽게 생겼네\n",
      "유사 문장 : 0.9650498628616333\n",
      "밈 답변 : ...;;; 말을 잇지 못 하는...\n",
      "----------------------------------------------------------------------------------------------------\n",
      "3.\n",
      "유사 문장 : 너 반응이 빠르진 않네\n",
      "유사 문장 : 0.9615210890769958\n",
      "밈 답변 : 뭐, 그렇게 됐다... 좀 기다려 봐\n",
      "----------------------------------------------------------------------------------------------------\n",
      "4.\n",
      "유사 문장 : 불쾌해\n",
      "유사 문장 : 0.9613990783691406\n",
      "밈 답변 : 얘쨰럐걔~ 에휴~ 웃안웃!\n",
      "----------------------------------------------------------------------------------------------------\n",
      "5.\n",
      "유사 문장 : 실망스러울 따름...\n",
      "유사 문장 : 0.9613281488418579\n",
      "밈 답변 : 이유를 말해주든지 난... 슬플 땐 눈물을 흘려...\n",
      "----------------------------------------------------------------------------------------------------\n"
     ]
    },
    {
     "name": "stderr",
     "output_type": "stream",
     "text": [
      "/tmp/ipykernel_11922/2826036001.py:5: DeprecationWarning: Call to deprecated `docvecs` (The `docvecs` property has been renamed `dv`.).\n",
      "  return_docs = model.docvecs.most_similar(positive=[input_vec], topn=5)\n"
     ]
    }
   ],
   "source": [
    "# vectorize new sentences based on doc2vec\n",
    "input_vec = model.infer_vector(okt.morphs(input_sent))\n",
    "\n",
    "# most similarity top 5\n",
    "return_docs = model.docvecs.most_similar(positive=[input_vec], topn=5)\n",
    "\n",
    "# find Similar Sentences in the Trained Dataframe\n",
    "result = [df.content.iloc[int(i[0])] for i in return_docs]\n",
    "\n",
    "# result\n",
    "if df_ref.empty:\n",
    "    print(\"유사 문장이 없습니다.\")\n",
    "else:\n",
    "    print(f\"입력 문장 : {input_sent}\")\n",
    "    print(\"-\"*100)\n",
    "    for k, i in enumerate(zip(return_docs, result)):\n",
    "        print(f\"{k+1}.\")\n",
    "        print(f\"유사 문장 : {i[1]}\")\n",
    "        print(f\"유사 문장 : {i[0][1]}\")\n",
    "        # find Similar Sentences in Dialogueset\n",
    "        temp_ref = df_ref[df_ref.u == i[1]]\n",
    "        temp_ref = temp_ref.sample(frac=1).reset_index(drop=True)\n",
    "        result = str(temp_ref.cpr.iloc[0]) + \" \" + str(temp_ref.mm.iloc[0]) + \" \" + str(temp_ref.cpo.iloc[0])\n",
    "        print(f\"밈 답변 : {result.strip()}\")\n",
    "        print(\"-\"*100)"
   ]
  },
  {
   "cell_type": "code",
   "execution_count": null,
   "id": "7e8cb440",
   "metadata": {},
   "outputs": [],
   "source": []
  }
 ],
 "metadata": {
  "kernelspec": {
   "display_name": "Python 3 (ipykernel)",
   "language": "python",
   "name": "python3"
  },
  "language_info": {
   "codemirror_mode": {
    "name": "ipython",
    "version": 3
   },
   "file_extension": ".py",
   "mimetype": "text/x-python",
   "name": "python",
   "nbconvert_exporter": "python",
   "pygments_lexer": "ipython3",
   "version": "3.8.15"
  }
 },
 "nbformat": 4,
 "nbformat_minor": 5
}
