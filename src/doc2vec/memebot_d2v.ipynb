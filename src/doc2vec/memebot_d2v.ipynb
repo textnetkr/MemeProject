{
 "cells": [
  {
   "cell_type": "markdown",
   "id": "3050b83c",
   "metadata": {},
   "source": [
    "# Data Load"
   ]
  },
  {
   "cell_type": "code",
   "execution_count": 1,
   "id": "9b3b4d77",
   "metadata": {},
   "outputs": [],
   "source": [
    "import config\n",
    "from pshmodule.utils import filemanager as fm"
   ]
  },
  {
   "cell_type": "code",
   "execution_count": 2,
   "id": "62831d08",
   "metadata": {},
   "outputs": [
    {
     "name": "stdout",
     "output_type": "stream",
     "text": [
      "extension : .pickle\n",
      "Loaded 9150 records from /Volumes/GoogleDrive/내 드라이브/MemeProject/data/temp_for_doc2vec.pickle\n"
     ]
    }
   ],
   "source": [
    "df = fm.load(config.temp_data)"
   ]
  },
  {
   "cell_type": "code",
   "execution_count": 3,
   "id": "c8293f8b",
   "metadata": {},
   "outputs": [
    {
     "data": {
      "text/html": [
       "<div>\n",
       "<style scoped>\n",
       "    .dataframe tbody tr th:only-of-type {\n",
       "        vertical-align: middle;\n",
       "    }\n",
       "\n",
       "    .dataframe tbody tr th {\n",
       "        vertical-align: top;\n",
       "    }\n",
       "\n",
       "    .dataframe thead th {\n",
       "        text-align: right;\n",
       "    }\n",
       "</style>\n",
       "<table border=\"1\" class=\"dataframe\">\n",
       "  <thead>\n",
       "    <tr style=\"text-align: right;\">\n",
       "      <th>1</th>\n",
       "      <th>content</th>\n",
       "      <th>morphs</th>\n",
       "    </tr>\n",
       "  </thead>\n",
       "  <tbody>\n",
       "    <tr>\n",
       "      <th>0</th>\n",
       "      <td>나 중간고사 반에서 1등했어</td>\n",
       "      <td>[나, 중간고사, 반, 에서, 1등, 했어]</td>\n",
       "    </tr>\n",
       "    <tr>\n",
       "      <th>1</th>\n",
       "      <td>중간고사 점수 내가 반에서 제일 잘 받음</td>\n",
       "      <td>[중간고사, 점수, 내, 가, 반, 에서, 제일, 잘, 받음]</td>\n",
       "    </tr>\n",
       "    <tr>\n",
       "      <th>2</th>\n",
       "      <td>나 반에서 중간 성적 제일 좋아</td>\n",
       "      <td>[나, 반, 에서, 중간, 성적, 제일, 좋아]</td>\n",
       "    </tr>\n",
       "    <tr>\n",
       "      <th>3</th>\n",
       "      <td>우리 반에서 내가 시험 제일 잘 봤다</td>\n",
       "      <td>[우리, 반, 에서, 내, 가, 시험, 제일, 잘, 봤다]</td>\n",
       "    </tr>\n",
       "    <tr>\n",
       "      <th>4</th>\n",
       "      <td>중간고사 반 1등 먹음</td>\n",
       "      <td>[중간고사, 반, 1등, 먹음]</td>\n",
       "    </tr>\n",
       "  </tbody>\n",
       "</table>\n",
       "</div>"
      ],
      "text/plain": [
       "1                 content                              morphs\n",
       "0         나 중간고사 반에서 1등했어            [나, 중간고사, 반, 에서, 1등, 했어]\n",
       "1  중간고사 점수 내가 반에서 제일 잘 받음  [중간고사, 점수, 내, 가, 반, 에서, 제일, 잘, 받음]\n",
       "2       나 반에서 중간 성적 제일 좋아          [나, 반, 에서, 중간, 성적, 제일, 좋아]\n",
       "3    우리 반에서 내가 시험 제일 잘 봤다    [우리, 반, 에서, 내, 가, 시험, 제일, 잘, 봤다]\n",
       "4            중간고사 반 1등 먹음                   [중간고사, 반, 1등, 먹음]"
      ]
     },
     "execution_count": 3,
     "metadata": {},
     "output_type": "execute_result"
    }
   ],
   "source": [
    "df.head()"
   ]
  },
  {
   "cell_type": "code",
   "execution_count": 4,
   "id": "27b2b9ab",
   "metadata": {},
   "outputs": [
    {
     "name": "stdout",
     "output_type": "stream",
     "text": [
      "extension : .pickle\n",
      "Loaded 180940 records from /Volumes/GoogleDrive/내 드라이브/MemeProject/data/temp_for_ref.pickle\n"
     ]
    }
   ],
   "source": [
    "df_ref = fm.load(config.temp_ref_data)"
   ]
  },
  {
   "cell_type": "code",
   "execution_count": 5,
   "id": "567f80d5",
   "metadata": {},
   "outputs": [],
   "source": [
    "df_ref.cpr.fillna('', inplace=True)\n",
    "df_ref.cpo.fillna('', inplace=True)"
   ]
  },
  {
   "cell_type": "code",
   "execution_count": 6,
   "id": "9929bb04",
   "metadata": {},
   "outputs": [
    {
     "data": {
      "text/html": [
       "<div>\n",
       "<style scoped>\n",
       "    .dataframe tbody tr th:only-of-type {\n",
       "        vertical-align: middle;\n",
       "    }\n",
       "\n",
       "    .dataframe tbody tr th {\n",
       "        vertical-align: top;\n",
       "    }\n",
       "\n",
       "    .dataframe thead th {\n",
       "        text-align: right;\n",
       "    }\n",
       "</style>\n",
       "<table border=\"1\" class=\"dataframe\">\n",
       "  <thead>\n",
       "    <tr style=\"text-align: right;\">\n",
       "      <th></th>\n",
       "      <th>u</th>\n",
       "      <th>cpr</th>\n",
       "      <th>mm</th>\n",
       "      <th>cpo</th>\n",
       "    </tr>\n",
       "  </thead>\n",
       "  <tbody>\n",
       "    <tr>\n",
       "      <th>0</th>\n",
       "      <td>나 중간고사 반에서 1등했어</td>\n",
       "      <td>그렇다면 통 크게 함 쏴야지!</td>\n",
       "      <td>근데 이제 내 것도 곁들인...</td>\n",
       "      <td></td>\n",
       "    </tr>\n",
       "    <tr>\n",
       "      <th>1</th>\n",
       "      <td>나 중간고사 반에서 1등했어</td>\n",
       "      <td>그렇다면 통 크게 함 쏴야지!</td>\n",
       "      <td>근데 이제 내 몫을 제일 많이 곁들인...</td>\n",
       "      <td></td>\n",
       "    </tr>\n",
       "    <tr>\n",
       "      <th>2</th>\n",
       "      <td>나 중간고사 반에서 1등했어</td>\n",
       "      <td>그렇다면 통 크게 함 쏴야지!</td>\n",
       "      <td>근데 이제 대춘이 몫도 곁들인...</td>\n",
       "      <td></td>\n",
       "    </tr>\n",
       "    <tr>\n",
       "      <th>3</th>\n",
       "      <td>나 중간고사 반에서 1등했어</td>\n",
       "      <td>그렇다면 통 크게 함 쏴야지!</td>\n",
       "      <td>근데 이제 배보다 배꼽이 더 큰 걸 곁들인...</td>\n",
       "      <td></td>\n",
       "    </tr>\n",
       "    <tr>\n",
       "      <th>4</th>\n",
       "      <td>나 중간고사 반에서 1등했어</td>\n",
       "      <td>그렇다면 통 크게 함 쏴야지!</td>\n",
       "      <td>근데 이제 과소비를 곁들인...</td>\n",
       "      <td></td>\n",
       "    </tr>\n",
       "  </tbody>\n",
       "</table>\n",
       "</div>"
      ],
      "text/plain": [
       "                 u               cpr                          mm cpo\n",
       "0  나 중간고사 반에서 1등했어  그렇다면 통 크게 함 쏴야지!           근데 이제 내 것도 곁들인...    \n",
       "1  나 중간고사 반에서 1등했어  그렇다면 통 크게 함 쏴야지!     근데 이제 내 몫을 제일 많이 곁들인...    \n",
       "2  나 중간고사 반에서 1등했어  그렇다면 통 크게 함 쏴야지!         근데 이제 대춘이 몫도 곁들인...    \n",
       "3  나 중간고사 반에서 1등했어  그렇다면 통 크게 함 쏴야지!  근데 이제 배보다 배꼽이 더 큰 걸 곁들인...    \n",
       "4  나 중간고사 반에서 1등했어  그렇다면 통 크게 함 쏴야지!           근데 이제 과소비를 곁들인...    "
      ]
     },
     "execution_count": 6,
     "metadata": {},
     "output_type": "execute_result"
    }
   ],
   "source": [
    "df_ref.head()"
   ]
  },
  {
   "cell_type": "markdown",
   "id": "bc4c927f",
   "metadata": {},
   "source": [
    "# "
   ]
  },
  {
   "cell_type": "markdown",
   "id": "3e29d026",
   "metadata": {},
   "source": [
    "# Model Load"
   ]
  },
  {
   "cell_type": "code",
   "execution_count": 7,
   "id": "2c6a5843",
   "metadata": {},
   "outputs": [],
   "source": [
    "from konlpy.tag import Okt\n",
    "from gensim.models.doc2vec import Doc2Vec\n"
   ]
  },
  {
   "cell_type": "code",
   "execution_count": 8,
   "id": "bc50ff62",
   "metadata": {},
   "outputs": [],
   "source": [
    "okt = Okt()"
   ]
  },
  {
   "cell_type": "code",
   "execution_count": 9,
   "id": "dd4a9f7d",
   "metadata": {},
   "outputs": [],
   "source": [
    "model = Doc2Vec.load(config.doc2vec)"
   ]
  },
  {
   "cell_type": "markdown",
   "id": "076272ba",
   "metadata": {},
   "source": [
    "# "
   ]
  },
  {
   "cell_type": "markdown",
   "id": "bcfd1a60",
   "metadata": {},
   "source": [
    "# Memebot with doc2vec Similarity"
   ]
  },
  {
   "cell_type": "markdown",
   "id": "f9f852fc",
   "metadata": {},
   "source": [
    "### 학습된 문장 유사도"
   ]
  },
  {
   "cell_type": "code",
   "execution_count": 10,
   "id": "e19aaf50",
   "metadata": {},
   "outputs": [
    {
     "name": "stdout",
     "output_type": "stream",
     "text": [
      "['나', '중간고사', '반', '에서', '1등', '했어']\n",
      "----------------------------------------------------------------------------------------------------\n",
      "k : 0\n",
      "v : ('3552', 0.8180486559867859)\n",
      "나 반에서 인기 투표 1위했어\n"
     ]
    },
    {
     "name": "stderr",
     "output_type": "stream",
     "text": [
      "/var/folders/yv/ss_gxzgs3jx6dn00dwvzvn100000gn/T/ipykernel_10984/749687253.py:4: DeprecationWarning: Call to deprecated `docvecs` (The `docvecs` property has been renamed `dv`.).\n",
      "  result = model.docvecs.most_similar(index)\n"
     ]
    }
   ],
   "source": [
    "index = 0\n",
    "print(df.morphs.iloc[index])\n",
    "print(\"-\"*100)\n",
    "result = model.docvecs.most_similar(index)\n",
    "for k, v in enumerate(result):\n",
    "    if k == 0:\n",
    "        print(f\"k : {k}\")\n",
    "        print(f\"v : {v}\")\n",
    "        print(df.content.iloc[int(v[0])])"
   ]
  },
  {
   "cell_type": "markdown",
   "id": "1a47dd5e",
   "metadata": {},
   "source": [
    "### "
   ]
  },
  {
   "cell_type": "markdown",
   "id": "2589029e",
   "metadata": {},
   "source": [
    "### 입력 문장 유사도"
   ]
  },
  {
   "cell_type": "code",
   "execution_count": 33,
   "id": "73b99151",
   "metadata": {},
   "outputs": [
    {
     "name": "stdout",
     "output_type": "stream",
     "text": [
      "기분 좋다\n"
     ]
    }
   ],
   "source": [
    "input_sent = input()"
   ]
  },
  {
   "cell_type": "code",
   "execution_count": 34,
   "id": "f68bccd6",
   "metadata": {},
   "outputs": [
    {
     "name": "stdout",
     "output_type": "stream",
     "text": [
      "입력 문장 : 기분 좋다\n",
      "유사 문장 : 버스는 환기시킬 수 있어서 좋다~\n",
      "유사도 : 0.5182848572731018\n",
      "----------------------------------------------------------------------------------------------------\n",
      "밈 답변 : 인정? 어 인정! 맑은 공기 댕꿀\n"
     ]
    },
    {
     "name": "stderr",
     "output_type": "stream",
     "text": [
      "/var/folders/yv/ss_gxzgs3jx6dn00dwvzvn100000gn/T/ipykernel_10984/1023421750.py:5: DeprecationWarning: Call to deprecated `docvecs` (The `docvecs` property has been renamed `dv`.).\n",
      "  return_docs = model.docvecs.most_similar(positive=[input_vec], topn=5)\n"
     ]
    }
   ],
   "source": [
    "# vectorize new sentences based on doc2vec\n",
    "input_vec = model.infer_vector(okt.morphs(input_sent))\n",
    "\n",
    "# most similarity top 5\n",
    "return_docs = model.docvecs.most_similar(positive=[input_vec], topn=5)\n",
    "\n",
    "# find Similar Sentences in the Trained Dataframe\n",
    "result = [df.content.iloc[int(i[0])] for i in return_docs]\n",
    "\n",
    "# find Similar Sentences in Dialogueset\n",
    "temp_ref = df_ref[df_ref.u == result[0]]\n",
    "\n",
    "# result\n",
    "if temp_ref.empty:\n",
    "    print(\"유사 문장이 없습니다.\")\n",
    "else:\n",
    "    temp_ref = temp_ref.sample(frac=1).reset_index(drop=True)\n",
    "    print(f\"입력 문장 : {input_sent}\")\n",
    "    print(f\"유사 문장 : {result[0]}\")\n",
    "    print(f\"유사도 : {return_docs[0][1]}\")\n",
    "    print(\"-\"*100)\n",
    "    result = str(temp_ref.cpr.iloc[0]) + \" \" + str(temp_ref.mm.iloc[0]) + \" \" + str(temp_ref.cpo.iloc[0])\n",
    "    print(f\"밈 답변 : {result.strip()}\")"
   ]
  },
  {
   "cell_type": "code",
   "execution_count": null,
   "id": "7e8cb440",
   "metadata": {},
   "outputs": [],
   "source": []
  }
 ],
 "metadata": {
  "kernelspec": {
   "display_name": "Python 3 (ipykernel)",
   "language": "python",
   "name": "python3"
  },
  "language_info": {
   "codemirror_mode": {
    "name": "ipython",
    "version": 3
   },
   "file_extension": ".py",
   "mimetype": "text/x-python",
   "name": "python",
   "nbconvert_exporter": "python",
   "pygments_lexer": "ipython3",
   "version": "3.8.15"
  }
 },
 "nbformat": 4,
 "nbformat_minor": 5
}
