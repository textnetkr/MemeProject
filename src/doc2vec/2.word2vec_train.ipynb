{
 "cells": [
  {
   "cell_type": "markdown",
   "id": "5c510699",
   "metadata": {},
   "source": [
    "# Data Load"
   ]
  },
  {
   "cell_type": "code",
   "execution_count": 1,
   "id": "05adf649",
   "metadata": {},
   "outputs": [],
   "source": [
    "import config\n",
    "from pshmodule.utils import filemanager as fm"
   ]
  },
  {
   "cell_type": "code",
   "execution_count": 2,
   "id": "564a6c6c",
   "metadata": {},
   "outputs": [
    {
     "name": "stdout",
     "output_type": "stream",
     "text": [
      "extension : .pickle\n",
      "Loaded 9150 records from /Volumes/GoogleDrive/내 드라이브/MemeProject/data/temp_for_doc2vec.pickle\n"
     ]
    }
   ],
   "source": [
    "df = fm.load(config.temp_data)"
   ]
  },
  {
   "cell_type": "code",
   "execution_count": 3,
   "id": "7365288d",
   "metadata": {},
   "outputs": [
    {
     "data": {
      "text/html": [
       "<div>\n",
       "<style scoped>\n",
       "    .dataframe tbody tr th:only-of-type {\n",
       "        vertical-align: middle;\n",
       "    }\n",
       "\n",
       "    .dataframe tbody tr th {\n",
       "        vertical-align: top;\n",
       "    }\n",
       "\n",
       "    .dataframe thead th {\n",
       "        text-align: right;\n",
       "    }\n",
       "</style>\n",
       "<table border=\"1\" class=\"dataframe\">\n",
       "  <thead>\n",
       "    <tr style=\"text-align: right;\">\n",
       "      <th>1</th>\n",
       "      <th>content</th>\n",
       "      <th>pos</th>\n",
       "    </tr>\n",
       "  </thead>\n",
       "  <tbody>\n",
       "    <tr>\n",
       "      <th>0</th>\n",
       "      <td>나 중간고사 반에서 1등했어</td>\n",
       "      <td>[나, 중간고사, 반]</td>\n",
       "    </tr>\n",
       "    <tr>\n",
       "      <th>1</th>\n",
       "      <td>중간고사 점수 내가 반에서 제일 잘 받음</td>\n",
       "      <td>[중간고사, 점수, 내, 반, 제일, 받음]</td>\n",
       "    </tr>\n",
       "    <tr>\n",
       "      <th>2</th>\n",
       "      <td>나 반에서 중간 성적 제일 좋아</td>\n",
       "      <td>[나, 반, 중간, 성적, 제일, 좋아]</td>\n",
       "    </tr>\n",
       "    <tr>\n",
       "      <th>3</th>\n",
       "      <td>우리 반에서 내가 시험 제일 잘 봤다</td>\n",
       "      <td>[우리, 반, 내, 시험, 제일, 봤다]</td>\n",
       "    </tr>\n",
       "    <tr>\n",
       "      <th>4</th>\n",
       "      <td>중간고사 반 1등 먹음</td>\n",
       "      <td>[중간고사, 반, 먹음]</td>\n",
       "    </tr>\n",
       "    <tr>\n",
       "      <th>5</th>\n",
       "      <td>중간시험 내가 반 1등이야</td>\n",
       "      <td>[중간, 시험, 내, 반]</td>\n",
       "    </tr>\n",
       "    <tr>\n",
       "      <th>6</th>\n",
       "      <td>너 왜 이렇게 멍청하냐?</td>\n",
       "      <td>[너, 왜, 이렇게, 멍청하냐]</td>\n",
       "    </tr>\n",
       "    <tr>\n",
       "      <th>7</th>\n",
       "      <td>이 새끼 빡대가리잖아?</td>\n",
       "      <td>[새끼, 빡, 대가리, 잖아]</td>\n",
       "    </tr>\n",
       "    <tr>\n",
       "      <th>8</th>\n",
       "      <td>너 말귀 못 알아듣냐고</td>\n",
       "      <td>[너, 말귀, 못, 알아듣냐고]</td>\n",
       "    </tr>\n",
       "    <tr>\n",
       "      <th>9</th>\n",
       "      <td>병신 이해력 딸리네</td>\n",
       "      <td>[병신, 이해력, 딸리네]</td>\n",
       "    </tr>\n",
       "    <tr>\n",
       "      <th>10</th>\n",
       "      <td>대가리는 장식임?</td>\n",
       "      <td>[대가리, 장식, 임]</td>\n",
       "    </tr>\n",
       "    <tr>\n",
       "      <th>11</th>\n",
       "      <td>얘 밥통이네</td>\n",
       "      <td>[얘, 밥통]</td>\n",
       "    </tr>\n",
       "    <tr>\n",
       "      <th>12</th>\n",
       "      <td>너 너무 싫어</td>\n",
       "      <td>[너, 너무, 싫어]</td>\n",
       "    </tr>\n",
       "    <tr>\n",
       "      <th>13</th>\n",
       "      <td>대춘이 극혐</td>\n",
       "      <td>[대, 춘이, 극혐]</td>\n",
       "    </tr>\n",
       "    <tr>\n",
       "      <th>14</th>\n",
       "      <td>너 좆같음</td>\n",
       "      <td>[너, 좆, 같음]</td>\n",
       "    </tr>\n",
       "    <tr>\n",
       "      <th>15</th>\n",
       "      <td>대춘이 존나 띠꺼움</td>\n",
       "      <td>[대, 춘이, 존나, 띠, 꺼, 움]</td>\n",
       "    </tr>\n",
       "    <tr>\n",
       "      <th>16</th>\n",
       "      <td>너 개싫다고</td>\n",
       "      <td>[너, 개, 싫다고]</td>\n",
       "    </tr>\n",
       "    <tr>\n",
       "      <th>17</th>\n",
       "      <td>아 이 새끼 존나 역겨워</td>\n",
       "      <td>[아, 새끼, 존나, 역겨워]</td>\n",
       "    </tr>\n",
       "    <tr>\n",
       "      <th>18</th>\n",
       "      <td>오예 티켓팅 성공했어</td>\n",
       "      <td>[오예, 티켓팅, 성공했어]</td>\n",
       "    </tr>\n",
       "    <tr>\n",
       "      <th>19</th>\n",
       "      <td>나 티켓 잡았다~</td>\n",
       "      <td>[나, 티켓, 잡았다]</td>\n",
       "    </tr>\n",
       "  </tbody>\n",
       "</table>\n",
       "</div>"
      ],
      "text/plain": [
       "1                  content                       pos\n",
       "0          나 중간고사 반에서 1등했어              [나, 중간고사, 반]\n",
       "1   중간고사 점수 내가 반에서 제일 잘 받음  [중간고사, 점수, 내, 반, 제일, 받음]\n",
       "2        나 반에서 중간 성적 제일 좋아    [나, 반, 중간, 성적, 제일, 좋아]\n",
       "3     우리 반에서 내가 시험 제일 잘 봤다    [우리, 반, 내, 시험, 제일, 봤다]\n",
       "4             중간고사 반 1등 먹음             [중간고사, 반, 먹음]\n",
       "5           중간시험 내가 반 1등이야            [중간, 시험, 내, 반]\n",
       "6            너 왜 이렇게 멍청하냐?         [너, 왜, 이렇게, 멍청하냐]\n",
       "7             이 새끼 빡대가리잖아?          [새끼, 빡, 대가리, 잖아]\n",
       "8             너 말귀 못 알아듣냐고         [너, 말귀, 못, 알아듣냐고]\n",
       "9               병신 이해력 딸리네            [병신, 이해력, 딸리네]\n",
       "10               대가리는 장식임?              [대가리, 장식, 임]\n",
       "11                  얘 밥통이네                   [얘, 밥통]\n",
       "12                 너 너무 싫어               [너, 너무, 싫어]\n",
       "13                  대춘이 극혐               [대, 춘이, 극혐]\n",
       "14                   너 좆같음                [너, 좆, 같음]\n",
       "15              대춘이 존나 띠꺼움      [대, 춘이, 존나, 띠, 꺼, 움]\n",
       "16                  너 개싫다고               [너, 개, 싫다고]\n",
       "17           아 이 새끼 존나 역겨워          [아, 새끼, 존나, 역겨워]\n",
       "18             오예 티켓팅 성공했어           [오예, 티켓팅, 성공했어]\n",
       "19               나 티켓 잡았다~              [나, 티켓, 잡았다]"
      ]
     },
     "execution_count": 3,
     "metadata": {},
     "output_type": "execute_result"
    }
   ],
   "source": [
    "df.head(20)"
   ]
  },
  {
   "cell_type": "markdown",
   "id": "a0dbca47",
   "metadata": {},
   "source": [
    "# "
   ]
  },
  {
   "cell_type": "markdown",
   "id": "f0295c5a",
   "metadata": {},
   "source": [
    "# word2vec"
   ]
  },
  {
   "cell_type": "code",
   "execution_count": 4,
   "id": "112e7c32",
   "metadata": {},
   "outputs": [],
   "source": [
    "from gensim.models import Word2Vec\n",
    "from gensim.models.callbacks import CallbackAny2Vec"
   ]
  },
  {
   "cell_type": "markdown",
   "id": "a3c71952",
   "metadata": {},
   "source": [
    "### loss logger"
   ]
  },
  {
   "cell_type": "code",
   "execution_count": 5,
   "id": "dacb8020",
   "metadata": {},
   "outputs": [],
   "source": [
    "class LossLogger(CallbackAny2Vec):\n",
    "    '''Output loss at each epoch'''\n",
    "    def __init__(self):\n",
    "        self.epoch = 1\n",
    "        self.losses = []\n",
    "\n",
    "    def on_epoch_begin(self, model):\n",
    "        print(f'Epoch: {self.epoch}', end='\\t')\n",
    "\n",
    "    def on_epoch_end(self, model):\n",
    "        loss = model.get_latest_training_loss()\n",
    "        # self.losses.append(loss)\n",
    "        print(f'  Loss: {loss}')\n",
    "        self.epoch += 1"
   ]
  },
  {
   "cell_type": "markdown",
   "id": "5cb00f70",
   "metadata": {},
   "source": [
    "### train"
   ]
  },
  {
   "cell_type": "code",
   "execution_count": 6,
   "id": "d4b0654f",
   "metadata": {},
   "outputs": [
    {
     "name": "stdout",
     "output_type": "stream",
     "text": [
      "\tPreparing model with the following parameters: epochs = 100, vector_size = 512, alpha = 0.01 .. \n"
     ]
    }
   ],
   "source": [
    "print('\\tPreparing model with the following parameters: epochs = {}, vector_size = {}, alpha = {} .. '.\n",
    "      format(config.max_epochs, config.vec_size, config.alpha))\n",
    "\n",
    "model = Word2Vec(sentences=df.pos,\n",
    "                 vector_size=config.vec_size,\n",
    "                 window=config.window,\n",
    "                 min_count=config.min_count,\n",
    "                 workers=config.workers,\n",
    "                 epochs=config.max_epochs,\n",
    "                 sg = 1) # 0: CBOW, 1: skip-gram\n",
    "\n",
    "model.build_vocab(df.pos)"
   ]
  },
  {
   "cell_type": "code",
   "execution_count": 7,
   "id": "91fed982",
   "metadata": {
    "scrolled": true
   },
   "outputs": [
    {
     "name": "stdout",
     "output_type": "stream",
     "text": [
      "Epoch: 1\t  Loss: 130311.2890625\n",
      "Epoch: 2\t  Loss: 240692.328125\n",
      "Epoch: 3\t  Loss: 342925.9375\n",
      "Epoch: 4\t  Loss: 437016.0\n",
      "Epoch: 5\t  Loss: 524745.9375\n",
      "Epoch: 6\t  Loss: 605579.75\n",
      "Epoch: 7\t  Loss: 680939.25\n",
      "Epoch: 8\t  Loss: 750571.875\n",
      "Epoch: 9\t  Loss: 815255.625\n",
      "Epoch: 10\t  Loss: 876532.0\n",
      "Epoch: 11\t  Loss: 932936.625\n",
      "Epoch: 12\t  Loss: 986104.0625\n",
      "Epoch: 13\t  Loss: 1036425.0625\n",
      "Epoch: 14\t  Loss: 1082790.625\n",
      "Epoch: 15\t  Loss: 1127503.75\n",
      "Epoch: 16\t  Loss: 1169505.75\n",
      "Epoch: 17\t  Loss: 1210038.25\n",
      "Epoch: 18\t  Loss: 1249308.875\n",
      "Epoch: 19\t  Loss: 1286791.125\n",
      "Epoch: 20\t  Loss: 1323080.0\n",
      "Epoch: 21\t  Loss: 1357423.625\n",
      "Epoch: 22\t  Loss: 1391893.25\n",
      "Epoch: 23\t  Loss: 1425412.625\n",
      "Epoch: 24\t  Loss: 1458295.75\n",
      "Epoch: 25\t  Loss: 1490273.625\n",
      "Epoch: 26\t  Loss: 1521293.875\n",
      "Epoch: 27\t  Loss: 1551996.0\n",
      "Epoch: 28\t  Loss: 1582449.375\n",
      "Epoch: 29\t  Loss: 1612056.5\n",
      "Epoch: 30\t  Loss: 1641388.125\n",
      "Epoch: 31\t  Loss: 1670292.0\n",
      "Epoch: 32\t  Loss: 1698342.875\n",
      "Epoch: 33\t  Loss: 1726422.125\n",
      "Epoch: 34\t  Loss: 1753724.25\n",
      "Epoch: 35\t  Loss: 1780957.25\n",
      "Epoch: 36\t  Loss: 1808317.875\n",
      "Epoch: 37\t  Loss: 1835153.0\n",
      "Epoch: 38\t  Loss: 1861902.5\n",
      "Epoch: 39\t  Loss: 1888083.625\n",
      "Epoch: 40\t  Loss: 1914363.25\n",
      "Epoch: 41\t  Loss: 1940299.125\n",
      "Epoch: 42\t  Loss: 1966073.625\n",
      "Epoch: 43\t  Loss: 1991653.75\n",
      "Epoch: 44\t  Loss: 2016980.875\n",
      "Epoch: 45\t  Loss: 2042106.0\n",
      "Epoch: 46\t  Loss: 2066920.125\n",
      "Epoch: 47\t  Loss: 2092147.375\n",
      "Epoch: 48\t  Loss: 2115857.25\n",
      "Epoch: 49\t  Loss: 2139433.75\n",
      "Epoch: 50\t  Loss: 2162847.75\n",
      "Epoch: 51\t  Loss: 2186413.5\n",
      "Epoch: 52\t  Loss: 2209379.75\n",
      "Epoch: 53\t  Loss: 2232306.5\n",
      "Epoch: 54\t  Loss: 2254916.5\n",
      "Epoch: 55\t  Loss: 2278028.5\n",
      "Epoch: 56\t  Loss: 2300640.25\n",
      "Epoch: 57\t  Loss: 2323030.0\n",
      "Epoch: 58\t  Loss: 2345227.5\n",
      "Epoch: 59\t  Loss: 2367766.5\n",
      "Epoch: 60\t  Loss: 2389594.0\n",
      "Epoch: 61\t  Loss: 2411511.0\n",
      "Epoch: 62\t  Loss: 2433453.25\n",
      "Epoch: 63\t  Loss: 2455461.0\n",
      "Epoch: 64\t  Loss: 2477538.75\n",
      "Epoch: 65\t  Loss: 2499166.75\n",
      "Epoch: 66\t  Loss: 2520908.0\n",
      "Epoch: 67\t  Loss: 2542277.0\n",
      "Epoch: 68\t  Loss: 2564075.5\n",
      "Epoch: 69\t  Loss: 2585548.75\n",
      "Epoch: 70\t  Loss: 2606682.75\n",
      "Epoch: 71\t  Loss: 2627896.25\n",
      "Epoch: 72\t  Loss: 2648860.75\n",
      "Epoch: 73\t  Loss: 2669926.25\n",
      "Epoch: 74\t  Loss: 2690765.5\n",
      "Epoch: 75\t  Loss: 2711641.75\n",
      "Epoch: 76\t  Loss: 2732911.0\n",
      "Epoch: 77\t  Loss: 2753733.5\n",
      "Epoch: 78\t  Loss: 2774420.25\n",
      "Epoch: 79\t  Loss: 2795095.25\n",
      "Epoch: 80\t  Loss: 2815707.5\n",
      "Epoch: 81\t  Loss: 2836861.5\n",
      "Epoch: 82\t  Loss: 2857208.0\n",
      "Epoch: 83\t  Loss: 2877744.75\n",
      "Epoch: 84\t  Loss: 2898148.0\n",
      "Epoch: 85\t  Loss: 2918841.25\n",
      "Epoch: 86\t  Loss: 2939455.5\n",
      "Epoch: 87\t  Loss: 2960113.25\n",
      "Epoch: 88\t  Loss: 2980484.25\n",
      "Epoch: 89\t  Loss: 3001266.25\n",
      "Epoch: 90\t  Loss: 3021495.25\n",
      "Epoch: 91\t  Loss: 3041620.0\n",
      "Epoch: 92\t  Loss: 3061994.0\n",
      "Epoch: 93\t  Loss: 3082386.0\n",
      "Epoch: 94\t  Loss: 3102485.0\n",
      "Epoch: 95\t  Loss: 3122727.25\n",
      "Epoch: 96\t  Loss: 3142666.25\n",
      "Epoch: 97\t  Loss: 3162757.5\n",
      "Epoch: 98\t  Loss: 3183165.5\n",
      "Epoch: 99\t  Loss: 3202807.5\n",
      "Epoch: 100\t  Loss: 3223027.75\n"
     ]
    },
    {
     "data": {
      "text/plain": [
       "(4195698, 4601800)"
      ]
     },
     "execution_count": 7,
     "metadata": {},
     "output_type": "execute_result"
    }
   ],
   "source": [
    "model.train(df.pos,\n",
    "            epochs=model.epochs,\n",
    "            total_examples=len(df.pos),\n",
    "            compute_loss=True,\n",
    "            callbacks=[LossLogger()]\n",
    "           )"
   ]
  },
  {
   "cell_type": "markdown",
   "id": "793e2c58",
   "metadata": {},
   "source": [
    "# "
   ]
  },
  {
   "cell_type": "markdown",
   "id": "68fd598b",
   "metadata": {},
   "source": [
    "# model save"
   ]
  },
  {
   "cell_type": "code",
   "execution_count": 18,
   "id": "0f1ccc53",
   "metadata": {},
   "outputs": [
    {
     "name": "stdout",
     "output_type": "stream",
     "text": [
      "Model Saved\n"
     ]
    }
   ],
   "source": [
    "model.save(config.word2vec)\n",
    "print(\"Model Saved\")"
   ]
  },
  {
   "cell_type": "markdown",
   "id": "15389547",
   "metadata": {},
   "source": [
    "# "
   ]
  },
  {
   "cell_type": "code",
   "execution_count": null,
   "id": "dfdc5a62",
   "metadata": {},
   "outputs": [],
   "source": []
  }
 ],
 "metadata": {
  "kernelspec": {
   "display_name": "Python 3 (ipykernel)",
   "language": "python",
   "name": "python3"
  },
  "language_info": {
   "codemirror_mode": {
    "name": "ipython",
    "version": 3
   },
   "file_extension": ".py",
   "mimetype": "text/x-python",
   "name": "python",
   "nbconvert_exporter": "python",
   "pygments_lexer": "ipython3",
   "version": "3.8.15"
  }
 },
 "nbformat": 4,
 "nbformat_minor": 5
}
