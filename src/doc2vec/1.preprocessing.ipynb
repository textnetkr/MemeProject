{
 "cells": [
  {
   "cell_type": "markdown",
   "id": "35db1db7",
   "metadata": {},
   "source": [
    "# Data Load"
   ]
  },
  {
   "cell_type": "code",
   "execution_count": 1,
   "id": "c1acee01",
   "metadata": {},
   "outputs": [],
   "source": [
    "import config\n",
    "from pshmodule.utils import filemanager as fm"
   ]
  },
  {
   "cell_type": "code",
   "execution_count": 2,
   "id": "2ec094f7",
   "metadata": {},
   "outputs": [
    {
     "name": "stdout",
     "output_type": "stream",
     "text": [
      "extension : .xlsx\n",
      "Loaded 36602 records from /Volumes/GoogleDrive/내 드라이브/MemeProject/data/row_data/meme_v1.xlsx\n"
     ]
    }
   ],
   "source": [
    "df = fm.load(config.data_path_v1)"
   ]
  },
  {
   "cell_type": "code",
   "execution_count": 3,
   "id": "3ce2bc2d",
   "metadata": {},
   "outputs": [
    {
     "data": {
      "text/html": [
       "<div>\n",
       "<style scoped>\n",
       "    .dataframe tbody tr th:only-of-type {\n",
       "        vertical-align: middle;\n",
       "    }\n",
       "\n",
       "    .dataframe tbody tr th {\n",
       "        vertical-align: top;\n",
       "    }\n",
       "\n",
       "    .dataframe thead th {\n",
       "        text-align: right;\n",
       "    }\n",
       "</style>\n",
       "<table border=\"1\" class=\"dataframe\">\n",
       "  <thead>\n",
       "    <tr style=\"text-align: right;\">\n",
       "      <th></th>\n",
       "      <th>Unnamed: 0</th>\n",
       "      <th>Unnamed: 1</th>\n",
       "      <th>Unnamed: 2</th>\n",
       "      <th>Unnamed: 3</th>\n",
       "      <th>Unnamed: 4</th>\n",
       "      <th>Unnamed: 5</th>\n",
       "      <th>Unnamed: 6</th>\n",
       "      <th>Unnamed: 7</th>\n",
       "      <th>총 세트 수</th>\n",
       "      <th>총 발화문 수</th>\n",
       "      <th>밈 제외 발화</th>\n",
       "      <th>밈 발화 수</th>\n",
       "      <th>Unnamed: 12</th>\n",
       "      <th>Unnamed: 13</th>\n",
       "      <th>Unnamed: 14</th>\n",
       "    </tr>\n",
       "  </thead>\n",
       "  <tbody>\n",
       "    <tr>\n",
       "      <th>0</th>\n",
       "      <td>NaN</td>\n",
       "      <td>NaN</td>\n",
       "      <td>NaN</td>\n",
       "      <td>NaN</td>\n",
       "      <td>NaN</td>\n",
       "      <td>NaN</td>\n",
       "      <td>NaN</td>\n",
       "      <td>NaN</td>\n",
       "      <td>1525</td>\n",
       "      <td>24897</td>\n",
       "      <td>15747</td>\n",
       "      <td>9150</td>\n",
       "      <td>NaN</td>\n",
       "      <td>NaN</td>\n",
       "      <td>NaN</td>\n",
       "    </tr>\n",
       "    <tr>\n",
       "      <th>1</th>\n",
       "      <td>NaN</td>\n",
       "      <td>문장일련번호</td>\n",
       "      <td>관리번호</td>\n",
       "      <td>밈 id</td>\n",
       "      <td>set</td>\n",
       "      <td>utt</td>\n",
       "      <td>발화구분</td>\n",
       "      <td>대화소재</td>\n",
       "      <td>ARG0</td>\n",
       "      <td>발화문</td>\n",
       "      <td>ARG1</td>\n",
       "      <td>ARG_op</td>\n",
       "      <td>서술어</td>\n",
       "      <td>화행(U)</td>\n",
       "      <td>meme_ID</td>\n",
       "    </tr>\n",
       "    <tr>\n",
       "      <th>2</th>\n",
       "      <td>NaN</td>\n",
       "      <td>1</td>\n",
       "      <td>Aa0001</td>\n",
       "      <td>DT0044</td>\n",
       "      <td>1</td>\n",
       "      <td>1</td>\n",
       "      <td>U</td>\n",
       "      <td>학교생활</td>\n",
       "      <td>나</td>\n",
       "      <td>나 중간고사 반에서 1등했어</td>\n",
       "      <td>중간고사</td>\n",
       "      <td>반에서</td>\n",
       "      <td>1등하다</td>\n",
       "      <td>자랑</td>\n",
       "      <td>NaN</td>\n",
       "    </tr>\n",
       "    <tr>\n",
       "      <th>3</th>\n",
       "      <td>NaN</td>\n",
       "      <td>2</td>\n",
       "      <td>NaN</td>\n",
       "      <td>NaN</td>\n",
       "      <td>NaN</td>\n",
       "      <td>2</td>\n",
       "      <td>U</td>\n",
       "      <td>학교생활</td>\n",
       "      <td>나</td>\n",
       "      <td>중간고사 점수 내가 반에서 제일 잘 받음</td>\n",
       "      <td>중간고사</td>\n",
       "      <td>반에서</td>\n",
       "      <td>점수 제일 잘 받다</td>\n",
       "      <td>자랑</td>\n",
       "      <td>NaN</td>\n",
       "    </tr>\n",
       "    <tr>\n",
       "      <th>4</th>\n",
       "      <td>NaN</td>\n",
       "      <td>3</td>\n",
       "      <td>NaN</td>\n",
       "      <td>NaN</td>\n",
       "      <td>NaN</td>\n",
       "      <td>3</td>\n",
       "      <td>U</td>\n",
       "      <td>학교생활</td>\n",
       "      <td>나</td>\n",
       "      <td>나 반에서 중간 성적 제일 좋아</td>\n",
       "      <td>중간</td>\n",
       "      <td>반에서</td>\n",
       "      <td>성적 제일 좋다</td>\n",
       "      <td>자랑</td>\n",
       "      <td>NaN</td>\n",
       "    </tr>\n",
       "  </tbody>\n",
       "</table>\n",
       "</div>"
      ],
      "text/plain": [
       "   Unnamed: 0 Unnamed: 1 Unnamed: 2 Unnamed: 3 Unnamed: 4 Unnamed: 5  \\\n",
       "0         NaN        NaN        NaN        NaN        NaN        NaN   \n",
       "1         NaN     문장일련번호       관리번호       밈 id        set        utt   \n",
       "2         NaN          1     Aa0001     DT0044          1          1   \n",
       "3         NaN          2        NaN        NaN        NaN          2   \n",
       "4         NaN          3        NaN        NaN        NaN          3   \n",
       "\n",
       "  Unnamed: 6 Unnamed: 7 총 세트 수                 총 발화문 수 밈 제외 발화  밈 발화 수  \\\n",
       "0        NaN        NaN   1525                   24897   15747    9150   \n",
       "1       발화구분       대화소재   ARG0                     발화문    ARG1  ARG_op   \n",
       "2          U       학교생활      나         나 중간고사 반에서 1등했어    중간고사     반에서   \n",
       "3          U       학교생활      나  중간고사 점수 내가 반에서 제일 잘 받음    중간고사     반에서   \n",
       "4          U       학교생활      나       나 반에서 중간 성적 제일 좋아      중간     반에서   \n",
       "\n",
       "  Unnamed: 12 Unnamed: 13 Unnamed: 14  \n",
       "0         NaN         NaN         NaN  \n",
       "1         서술어       화행(U)     meme_ID  \n",
       "2        1등하다          자랑         NaN  \n",
       "3  점수 제일 잘 받다          자랑         NaN  \n",
       "4    성적 제일 좋다          자랑         NaN  "
      ]
     },
     "execution_count": 3,
     "metadata": {},
     "output_type": "execute_result"
    }
   ],
   "source": [
    "df.head()"
   ]
  },
  {
   "cell_type": "markdown",
   "id": "a760477e",
   "metadata": {},
   "source": [
    "#### header 생성"
   ]
  },
  {
   "cell_type": "code",
   "execution_count": 4,
   "id": "df92230d",
   "metadata": {},
   "outputs": [],
   "source": [
    "new_header = df.iloc[1]\n",
    "df = df[2:]\n",
    "df.columns = new_header"
   ]
  },
  {
   "cell_type": "code",
   "execution_count": 5,
   "id": "fa7c3848",
   "metadata": {},
   "outputs": [
    {
     "data": {
      "text/html": [
       "<div>\n",
       "<style scoped>\n",
       "    .dataframe tbody tr th:only-of-type {\n",
       "        vertical-align: middle;\n",
       "    }\n",
       "\n",
       "    .dataframe tbody tr th {\n",
       "        vertical-align: top;\n",
       "    }\n",
       "\n",
       "    .dataframe thead th {\n",
       "        text-align: right;\n",
       "    }\n",
       "</style>\n",
       "<table border=\"1\" class=\"dataframe\">\n",
       "  <thead>\n",
       "    <tr style=\"text-align: right;\">\n",
       "      <th>1</th>\n",
       "      <th>NaN</th>\n",
       "      <th>문장일련번호</th>\n",
       "      <th>관리번호</th>\n",
       "      <th>밈 id</th>\n",
       "      <th>set</th>\n",
       "      <th>utt</th>\n",
       "      <th>발화구분</th>\n",
       "      <th>대화소재</th>\n",
       "      <th>ARG0</th>\n",
       "      <th>발화문</th>\n",
       "      <th>ARG1</th>\n",
       "      <th>ARG_op</th>\n",
       "      <th>서술어</th>\n",
       "      <th>화행(U)</th>\n",
       "      <th>meme_ID</th>\n",
       "    </tr>\n",
       "  </thead>\n",
       "  <tbody>\n",
       "    <tr>\n",
       "      <th>2</th>\n",
       "      <td>NaN</td>\n",
       "      <td>1</td>\n",
       "      <td>Aa0001</td>\n",
       "      <td>DT0044</td>\n",
       "      <td>1</td>\n",
       "      <td>1</td>\n",
       "      <td>U</td>\n",
       "      <td>학교생활</td>\n",
       "      <td>나</td>\n",
       "      <td>나 중간고사 반에서 1등했어</td>\n",
       "      <td>중간고사</td>\n",
       "      <td>반에서</td>\n",
       "      <td>1등하다</td>\n",
       "      <td>자랑</td>\n",
       "      <td>NaN</td>\n",
       "    </tr>\n",
       "    <tr>\n",
       "      <th>3</th>\n",
       "      <td>NaN</td>\n",
       "      <td>2</td>\n",
       "      <td>NaN</td>\n",
       "      <td>NaN</td>\n",
       "      <td>NaN</td>\n",
       "      <td>2</td>\n",
       "      <td>U</td>\n",
       "      <td>학교생활</td>\n",
       "      <td>나</td>\n",
       "      <td>중간고사 점수 내가 반에서 제일 잘 받음</td>\n",
       "      <td>중간고사</td>\n",
       "      <td>반에서</td>\n",
       "      <td>점수 제일 잘 받다</td>\n",
       "      <td>자랑</td>\n",
       "      <td>NaN</td>\n",
       "    </tr>\n",
       "    <tr>\n",
       "      <th>4</th>\n",
       "      <td>NaN</td>\n",
       "      <td>3</td>\n",
       "      <td>NaN</td>\n",
       "      <td>NaN</td>\n",
       "      <td>NaN</td>\n",
       "      <td>3</td>\n",
       "      <td>U</td>\n",
       "      <td>학교생활</td>\n",
       "      <td>나</td>\n",
       "      <td>나 반에서 중간 성적 제일 좋아</td>\n",
       "      <td>중간</td>\n",
       "      <td>반에서</td>\n",
       "      <td>성적 제일 좋다</td>\n",
       "      <td>자랑</td>\n",
       "      <td>NaN</td>\n",
       "    </tr>\n",
       "    <tr>\n",
       "      <th>5</th>\n",
       "      <td>NaN</td>\n",
       "      <td>4</td>\n",
       "      <td>NaN</td>\n",
       "      <td>NaN</td>\n",
       "      <td>NaN</td>\n",
       "      <td>4</td>\n",
       "      <td>U</td>\n",
       "      <td>학교생활</td>\n",
       "      <td>나</td>\n",
       "      <td>우리 반에서 내가 시험 제일 잘 봤다</td>\n",
       "      <td>시험</td>\n",
       "      <td>우리 반에서</td>\n",
       "      <td>제일 잘 보다</td>\n",
       "      <td>자랑</td>\n",
       "      <td>NaN</td>\n",
       "    </tr>\n",
       "    <tr>\n",
       "      <th>6</th>\n",
       "      <td>NaN</td>\n",
       "      <td>5</td>\n",
       "      <td>NaN</td>\n",
       "      <td>NaN</td>\n",
       "      <td>NaN</td>\n",
       "      <td>5</td>\n",
       "      <td>U</td>\n",
       "      <td>학교생활</td>\n",
       "      <td>NaN</td>\n",
       "      <td>중간고사 반 1등 먹음</td>\n",
       "      <td>중간고사</td>\n",
       "      <td>반</td>\n",
       "      <td>1등 먹다</td>\n",
       "      <td>자랑</td>\n",
       "      <td>NaN</td>\n",
       "    </tr>\n",
       "    <tr>\n",
       "      <th>7</th>\n",
       "      <td>NaN</td>\n",
       "      <td>6</td>\n",
       "      <td>NaN</td>\n",
       "      <td>NaN</td>\n",
       "      <td>NaN</td>\n",
       "      <td>6</td>\n",
       "      <td>U</td>\n",
       "      <td>학교생활</td>\n",
       "      <td>나</td>\n",
       "      <td>중간시험 내가 반 1등이야</td>\n",
       "      <td>중간시험</td>\n",
       "      <td>반</td>\n",
       "      <td>1등이다</td>\n",
       "      <td>자랑</td>\n",
       "      <td>NaN</td>\n",
       "    </tr>\n",
       "    <tr>\n",
       "      <th>8</th>\n",
       "      <td>NaN</td>\n",
       "      <td>7</td>\n",
       "      <td>NaN</td>\n",
       "      <td>NaN</td>\n",
       "      <td>NaN</td>\n",
       "      <td>7</td>\n",
       "      <td>CPR</td>\n",
       "      <td>NaN</td>\n",
       "      <td>NaN</td>\n",
       "      <td>그렇다면 통 크게 함 쏴야지!</td>\n",
       "      <td>NaN</td>\n",
       "      <td>NaN</td>\n",
       "      <td>NaN</td>\n",
       "      <td>NaN</td>\n",
       "      <td>NaN</td>\n",
       "    </tr>\n",
       "    <tr>\n",
       "      <th>9</th>\n",
       "      <td>NaN</td>\n",
       "      <td>8</td>\n",
       "      <td>NaN</td>\n",
       "      <td>NaN</td>\n",
       "      <td>NaN</td>\n",
       "      <td>8</td>\n",
       "      <td>CPR</td>\n",
       "      <td>NaN</td>\n",
       "      <td>NaN</td>\n",
       "      <td>ㄹㅇ? 대길이 한턱 쏴야겠네</td>\n",
       "      <td>NaN</td>\n",
       "      <td>NaN</td>\n",
       "      <td>NaN</td>\n",
       "      <td>NaN</td>\n",
       "      <td>NaN</td>\n",
       "    </tr>\n",
       "    <tr>\n",
       "      <th>10</th>\n",
       "      <td>NaN</td>\n",
       "      <td>9</td>\n",
       "      <td>NaN</td>\n",
       "      <td>NaN</td>\n",
       "      <td>NaN</td>\n",
       "      <td>9</td>\n",
       "      <td>CPR</td>\n",
       "      <td>NaN</td>\n",
       "      <td>NaN</td>\n",
       "      <td>1등 기념으로 플렉스 함 가즈아~!</td>\n",
       "      <td>NaN</td>\n",
       "      <td>NaN</td>\n",
       "      <td>NaN</td>\n",
       "      <td>NaN</td>\n",
       "      <td>NaN</td>\n",
       "    </tr>\n",
       "    <tr>\n",
       "      <th>11</th>\n",
       "      <td>NaN</td>\n",
       "      <td>10</td>\n",
       "      <td>NaN</td>\n",
       "      <td>NaN</td>\n",
       "      <td>NaN</td>\n",
       "      <td>10</td>\n",
       "      <td>CPR</td>\n",
       "      <td>NaN</td>\n",
       "      <td>NaN</td>\n",
       "      <td>진심? 그럼 자축하러 가야지</td>\n",
       "      <td>NaN</td>\n",
       "      <td>NaN</td>\n",
       "      <td>NaN</td>\n",
       "      <td>NaN</td>\n",
       "      <td>NaN</td>\n",
       "    </tr>\n",
       "  </tbody>\n",
       "</table>\n",
       "</div>"
      ],
      "text/plain": [
       "1   NaN 문장일련번호    관리번호    밈 id  set utt 발화구분  대화소재 ARG0  \\\n",
       "2   NaN      1  Aa0001  DT0044    1   1    U  학교생활    나   \n",
       "3   NaN      2     NaN     NaN  NaN   2    U  학교생활    나   \n",
       "4   NaN      3     NaN     NaN  NaN   3    U  학교생활    나   \n",
       "5   NaN      4     NaN     NaN  NaN   4    U  학교생활    나   \n",
       "6   NaN      5     NaN     NaN  NaN   5    U  학교생활  NaN   \n",
       "7   NaN      6     NaN     NaN  NaN   6    U  학교생활    나   \n",
       "8   NaN      7     NaN     NaN  NaN   7  CPR   NaN  NaN   \n",
       "9   NaN      8     NaN     NaN  NaN   8  CPR   NaN  NaN   \n",
       "10  NaN      9     NaN     NaN  NaN   9  CPR   NaN  NaN   \n",
       "11  NaN     10     NaN     NaN  NaN  10  CPR   NaN  NaN   \n",
       "\n",
       "1                      발화문  ARG1  ARG_op         서술어 화행(U) meme_ID  \n",
       "2          나 중간고사 반에서 1등했어  중간고사     반에서        1등하다    자랑     NaN  \n",
       "3   중간고사 점수 내가 반에서 제일 잘 받음  중간고사     반에서  점수 제일 잘 받다    자랑     NaN  \n",
       "4        나 반에서 중간 성적 제일 좋아    중간     반에서    성적 제일 좋다    자랑     NaN  \n",
       "5     우리 반에서 내가 시험 제일 잘 봤다    시험  우리 반에서     제일 잘 보다    자랑     NaN  \n",
       "6             중간고사 반 1등 먹음  중간고사       반       1등 먹다    자랑     NaN  \n",
       "7           중간시험 내가 반 1등이야  중간시험       반        1등이다    자랑     NaN  \n",
       "8         그렇다면 통 크게 함 쏴야지!   NaN     NaN         NaN   NaN     NaN  \n",
       "9          ㄹㅇ? 대길이 한턱 쏴야겠네   NaN     NaN         NaN   NaN     NaN  \n",
       "10     1등 기념으로 플렉스 함 가즈아~!   NaN     NaN         NaN   NaN     NaN  \n",
       "11         진심? 그럼 자축하러 가야지   NaN     NaN         NaN   NaN     NaN  "
      ]
     },
     "execution_count": 5,
     "metadata": {},
     "output_type": "execute_result"
    }
   ],
   "source": [
    "df.head(10)"
   ]
  },
  {
   "cell_type": "markdown",
   "id": "a2b0c7e5",
   "metadata": {},
   "source": [
    "# "
   ]
  },
  {
   "cell_type": "markdown",
   "id": "c5944646",
   "metadata": {},
   "source": [
    "# Merge V2"
   ]
  },
  {
   "cell_type": "code",
   "execution_count": 6,
   "id": "508b34ff",
   "metadata": {},
   "outputs": [],
   "source": [
    "import pandas as pd"
   ]
  },
  {
   "cell_type": "code",
   "execution_count": 7,
   "id": "ca706784",
   "metadata": {},
   "outputs": [
    {
     "name": "stdout",
     "output_type": "stream",
     "text": [
      "extension : .xlsx\n",
      "Loaded 14640 records from /Volumes/GoogleDrive/내 드라이브/MemeProject/data/row_data/meme_v2.xlsx\n"
     ]
    }
   ],
   "source": [
    "df2 = fm.load(config.data_path_v2)"
   ]
  },
  {
   "cell_type": "code",
   "execution_count": 8,
   "id": "6d23c71a",
   "metadata": {},
   "outputs": [
    {
     "data": {
      "text/html": [
       "<div>\n",
       "<style scoped>\n",
       "    .dataframe tbody tr th:only-of-type {\n",
       "        vertical-align: middle;\n",
       "    }\n",
       "\n",
       "    .dataframe tbody tr th {\n",
       "        vertical-align: top;\n",
       "    }\n",
       "\n",
       "    .dataframe thead th {\n",
       "        text-align: right;\n",
       "    }\n",
       "</style>\n",
       "<table border=\"1\" class=\"dataframe\">\n",
       "  <thead>\n",
       "    <tr style=\"text-align: right;\">\n",
       "      <th></th>\n",
       "      <th>문장일련번호</th>\n",
       "      <th>관리번호</th>\n",
       "      <th>밈 id</th>\n",
       "      <th>set</th>\n",
       "      <th>utt</th>\n",
       "      <th>발화구분</th>\n",
       "      <th>대화소재</th>\n",
       "      <th>ARG0</th>\n",
       "      <th>발화문</th>\n",
       "      <th>ARG1</th>\n",
       "      <th>ARG_op</th>\n",
       "      <th>서술어</th>\n",
       "      <th>화행(U)</th>\n",
       "      <th>meme_ID</th>\n",
       "    </tr>\n",
       "  </thead>\n",
       "  <tbody>\n",
       "    <tr>\n",
       "      <th>0</th>\n",
       "      <td>1</td>\n",
       "      <td>Aa0001</td>\n",
       "      <td>DT0044</td>\n",
       "      <td>1.0</td>\n",
       "      <td>1</td>\n",
       "      <td>U</td>\n",
       "      <td>학교생활</td>\n",
       "      <td>나</td>\n",
       "      <td>나 중간고사 반에서 1등했어</td>\n",
       "      <td>중간고사</td>\n",
       "      <td>NaN</td>\n",
       "      <td>반에서 1등하다</td>\n",
       "      <td>자랑</td>\n",
       "      <td>NaN</td>\n",
       "    </tr>\n",
       "    <tr>\n",
       "      <th>1</th>\n",
       "      <td>2</td>\n",
       "      <td>Aa0001</td>\n",
       "      <td>NaN</td>\n",
       "      <td>NaN</td>\n",
       "      <td>2</td>\n",
       "      <td>U</td>\n",
       "      <td>학교생활</td>\n",
       "      <td>나</td>\n",
       "      <td>중간고사 점수 내가 반에서 제일 잘 받음</td>\n",
       "      <td>중간고사</td>\n",
       "      <td>NaN</td>\n",
       "      <td>점수 반에서 제일 잘 받다</td>\n",
       "      <td>자랑</td>\n",
       "      <td>NaN</td>\n",
       "    </tr>\n",
       "    <tr>\n",
       "      <th>2</th>\n",
       "      <td>3</td>\n",
       "      <td>Aa0001</td>\n",
       "      <td>NaN</td>\n",
       "      <td>NaN</td>\n",
       "      <td>3</td>\n",
       "      <td>U</td>\n",
       "      <td>학교생활</td>\n",
       "      <td>나</td>\n",
       "      <td>나 반에서 중간 성적 제일 좋아</td>\n",
       "      <td>중간</td>\n",
       "      <td>NaN</td>\n",
       "      <td>반에서 성적 제일 좋다</td>\n",
       "      <td>자랑</td>\n",
       "      <td>NaN</td>\n",
       "    </tr>\n",
       "    <tr>\n",
       "      <th>3</th>\n",
       "      <td>4</td>\n",
       "      <td>Aa0001</td>\n",
       "      <td>NaN</td>\n",
       "      <td>NaN</td>\n",
       "      <td>4</td>\n",
       "      <td>U</td>\n",
       "      <td>학교생활</td>\n",
       "      <td>나</td>\n",
       "      <td>우리 반에서 내가 시험 제일 잘 봤다</td>\n",
       "      <td>시험</td>\n",
       "      <td>NaN</td>\n",
       "      <td>우리 반에서 제일 잘 보다</td>\n",
       "      <td>자랑</td>\n",
       "      <td>NaN</td>\n",
       "    </tr>\n",
       "    <tr>\n",
       "      <th>4</th>\n",
       "      <td>5</td>\n",
       "      <td>Aa0001</td>\n",
       "      <td>NaN</td>\n",
       "      <td>NaN</td>\n",
       "      <td>5</td>\n",
       "      <td>U</td>\n",
       "      <td>학교생활</td>\n",
       "      <td>NaN</td>\n",
       "      <td>중간고사 반 1등 먹음</td>\n",
       "      <td>중간고사</td>\n",
       "      <td>NaN</td>\n",
       "      <td>반 1등 먹다</td>\n",
       "      <td>자랑</td>\n",
       "      <td>NaN</td>\n",
       "    </tr>\n",
       "  </tbody>\n",
       "</table>\n",
       "</div>"
      ],
      "text/plain": [
       "   문장일련번호    관리번호    밈 id  set  utt 발화구분  대화소재 ARG0                     발화문  \\\n",
       "0       1  Aa0001  DT0044  1.0    1    U  학교생활    나         나 중간고사 반에서 1등했어   \n",
       "1       2  Aa0001     NaN  NaN    2    U  학교생활    나  중간고사 점수 내가 반에서 제일 잘 받음   \n",
       "2       3  Aa0001     NaN  NaN    3    U  학교생활    나       나 반에서 중간 성적 제일 좋아   \n",
       "3       4  Aa0001     NaN  NaN    4    U  학교생활    나    우리 반에서 내가 시험 제일 잘 봤다   \n",
       "4       5  Aa0001     NaN  NaN    5    U  학교생활  NaN            중간고사 반 1등 먹음   \n",
       "\n",
       "   ARG1 ARG_op             서술어 화행(U) meme_ID  \n",
       "0  중간고사    NaN        반에서 1등하다    자랑     NaN  \n",
       "1  중간고사    NaN  점수 반에서 제일 잘 받다    자랑     NaN  \n",
       "2    중간    NaN    반에서 성적 제일 좋다    자랑     NaN  \n",
       "3    시험    NaN  우리 반에서 제일 잘 보다    자랑     NaN  \n",
       "4  중간고사    NaN         반 1등 먹다    자랑     NaN  "
      ]
     },
     "execution_count": 8,
     "metadata": {},
     "output_type": "execute_result"
    }
   ],
   "source": [
    "df2.head()"
   ]
  },
  {
   "cell_type": "code",
   "execution_count": 9,
   "id": "69046dbc",
   "metadata": {},
   "outputs": [],
   "source": [
    "df = pd.concat([df, df2])"
   ]
  },
  {
   "cell_type": "code",
   "execution_count": 10,
   "id": "8bf21411",
   "metadata": {},
   "outputs": [
    {
     "data": {
      "text/plain": [
       "(51240, 15)"
      ]
     },
     "execution_count": 10,
     "metadata": {},
     "output_type": "execute_result"
    }
   ],
   "source": [
    "df.shape"
   ]
  },
  {
   "cell_type": "markdown",
   "id": "1b51b449",
   "metadata": {},
   "source": [
    "# "
   ]
  },
  {
   "cell_type": "markdown",
   "id": "273a2321",
   "metadata": {},
   "source": [
    "# Column Organize"
   ]
  },
  {
   "cell_type": "code",
   "execution_count": 11,
   "id": "04f2928e",
   "metadata": {},
   "outputs": [],
   "source": [
    "df = df[['발화구분', '발화문', 'meme_ID']]"
   ]
  },
  {
   "cell_type": "code",
   "execution_count": 12,
   "id": "feeeb6d2",
   "metadata": {},
   "outputs": [],
   "source": [
    "df.reset_index(inplace=True, drop=True)"
   ]
  },
  {
   "cell_type": "code",
   "execution_count": 13,
   "id": "a339a708",
   "metadata": {},
   "outputs": [
    {
     "data": {
      "text/html": [
       "<div>\n",
       "<style scoped>\n",
       "    .dataframe tbody tr th:only-of-type {\n",
       "        vertical-align: middle;\n",
       "    }\n",
       "\n",
       "    .dataframe tbody tr th {\n",
       "        vertical-align: top;\n",
       "    }\n",
       "\n",
       "    .dataframe thead th {\n",
       "        text-align: right;\n",
       "    }\n",
       "</style>\n",
       "<table border=\"1\" class=\"dataframe\">\n",
       "  <thead>\n",
       "    <tr style=\"text-align: right;\">\n",
       "      <th></th>\n",
       "      <th>발화구분</th>\n",
       "      <th>발화문</th>\n",
       "      <th>meme_ID</th>\n",
       "    </tr>\n",
       "  </thead>\n",
       "  <tbody>\n",
       "    <tr>\n",
       "      <th>0</th>\n",
       "      <td>U</td>\n",
       "      <td>나 중간고사 반에서 1등했어</td>\n",
       "      <td>NaN</td>\n",
       "    </tr>\n",
       "    <tr>\n",
       "      <th>1</th>\n",
       "      <td>U</td>\n",
       "      <td>중간고사 점수 내가 반에서 제일 잘 받음</td>\n",
       "      <td>NaN</td>\n",
       "    </tr>\n",
       "    <tr>\n",
       "      <th>2</th>\n",
       "      <td>U</td>\n",
       "      <td>나 반에서 중간 성적 제일 좋아</td>\n",
       "      <td>NaN</td>\n",
       "    </tr>\n",
       "    <tr>\n",
       "      <th>3</th>\n",
       "      <td>U</td>\n",
       "      <td>우리 반에서 내가 시험 제일 잘 봤다</td>\n",
       "      <td>NaN</td>\n",
       "    </tr>\n",
       "    <tr>\n",
       "      <th>4</th>\n",
       "      <td>U</td>\n",
       "      <td>중간고사 반 1등 먹음</td>\n",
       "      <td>NaN</td>\n",
       "    </tr>\n",
       "  </tbody>\n",
       "</table>\n",
       "</div>"
      ],
      "text/plain": [
       "  발화구분                     발화문 meme_ID\n",
       "0    U         나 중간고사 반에서 1등했어     NaN\n",
       "1    U  중간고사 점수 내가 반에서 제일 잘 받음     NaN\n",
       "2    U       나 반에서 중간 성적 제일 좋아     NaN\n",
       "3    U    우리 반에서 내가 시험 제일 잘 봤다     NaN\n",
       "4    U            중간고사 반 1등 먹음     NaN"
      ]
     },
     "execution_count": 13,
     "metadata": {},
     "output_type": "execute_result"
    }
   ],
   "source": [
    "df.head()"
   ]
  },
  {
   "cell_type": "code",
   "execution_count": 14,
   "id": "850ef2d4",
   "metadata": {},
   "outputs": [],
   "source": [
    "df_user = df[df['발화구분']=='U']"
   ]
  },
  {
   "cell_type": "code",
   "execution_count": 15,
   "id": "8141bc15",
   "metadata": {},
   "outputs": [],
   "source": [
    "df_user.reset_index(inplace=True, drop=True)"
   ]
  },
  {
   "cell_type": "code",
   "execution_count": 16,
   "id": "e4c3f5eb",
   "metadata": {},
   "outputs": [
    {
     "data": {
      "text/html": [
       "<div>\n",
       "<style scoped>\n",
       "    .dataframe tbody tr th:only-of-type {\n",
       "        vertical-align: middle;\n",
       "    }\n",
       "\n",
       "    .dataframe tbody tr th {\n",
       "        vertical-align: top;\n",
       "    }\n",
       "\n",
       "    .dataframe thead th {\n",
       "        text-align: right;\n",
       "    }\n",
       "</style>\n",
       "<table border=\"1\" class=\"dataframe\">\n",
       "  <thead>\n",
       "    <tr style=\"text-align: right;\">\n",
       "      <th></th>\n",
       "      <th>발화구분</th>\n",
       "      <th>발화문</th>\n",
       "      <th>meme_ID</th>\n",
       "    </tr>\n",
       "  </thead>\n",
       "  <tbody>\n",
       "    <tr>\n",
       "      <th>0</th>\n",
       "      <td>U</td>\n",
       "      <td>나 중간고사 반에서 1등했어</td>\n",
       "      <td>NaN</td>\n",
       "    </tr>\n",
       "    <tr>\n",
       "      <th>1</th>\n",
       "      <td>U</td>\n",
       "      <td>중간고사 점수 내가 반에서 제일 잘 받음</td>\n",
       "      <td>NaN</td>\n",
       "    </tr>\n",
       "    <tr>\n",
       "      <th>2</th>\n",
       "      <td>U</td>\n",
       "      <td>나 반에서 중간 성적 제일 좋아</td>\n",
       "      <td>NaN</td>\n",
       "    </tr>\n",
       "    <tr>\n",
       "      <th>3</th>\n",
       "      <td>U</td>\n",
       "      <td>우리 반에서 내가 시험 제일 잘 봤다</td>\n",
       "      <td>NaN</td>\n",
       "    </tr>\n",
       "    <tr>\n",
       "      <th>4</th>\n",
       "      <td>U</td>\n",
       "      <td>중간고사 반 1등 먹음</td>\n",
       "      <td>NaN</td>\n",
       "    </tr>\n",
       "    <tr>\n",
       "      <th>5</th>\n",
       "      <td>U</td>\n",
       "      <td>중간시험 내가 반 1등이야</td>\n",
       "      <td>NaN</td>\n",
       "    </tr>\n",
       "    <tr>\n",
       "      <th>6</th>\n",
       "      <td>U</td>\n",
       "      <td>너 왜 이렇게 멍청하냐?</td>\n",
       "      <td>NaN</td>\n",
       "    </tr>\n",
       "    <tr>\n",
       "      <th>7</th>\n",
       "      <td>U</td>\n",
       "      <td>이 새끼 빡대가리잖아?</td>\n",
       "      <td>NaN</td>\n",
       "    </tr>\n",
       "    <tr>\n",
       "      <th>8</th>\n",
       "      <td>U</td>\n",
       "      <td>너 말귀 못 알아듣냐고</td>\n",
       "      <td>NaN</td>\n",
       "    </tr>\n",
       "    <tr>\n",
       "      <th>9</th>\n",
       "      <td>U</td>\n",
       "      <td>병신 이해력 딸리네</td>\n",
       "      <td>NaN</td>\n",
       "    </tr>\n",
       "  </tbody>\n",
       "</table>\n",
       "</div>"
      ],
      "text/plain": [
       "  발화구분                     발화문 meme_ID\n",
       "0    U         나 중간고사 반에서 1등했어     NaN\n",
       "1    U  중간고사 점수 내가 반에서 제일 잘 받음     NaN\n",
       "2    U       나 반에서 중간 성적 제일 좋아     NaN\n",
       "3    U    우리 반에서 내가 시험 제일 잘 봤다     NaN\n",
       "4    U            중간고사 반 1등 먹음     NaN\n",
       "5    U          중간시험 내가 반 1등이야     NaN\n",
       "6    U           너 왜 이렇게 멍청하냐?     NaN\n",
       "7    U            이 새끼 빡대가리잖아?     NaN\n",
       "8    U            너 말귀 못 알아듣냐고     NaN\n",
       "9    U              병신 이해력 딸리네     NaN"
      ]
     },
     "execution_count": 16,
     "metadata": {},
     "output_type": "execute_result"
    }
   ],
   "source": [
    "df_user.head(10)"
   ]
  },
  {
   "cell_type": "code",
   "execution_count": 17,
   "id": "d25d144f",
   "metadata": {},
   "outputs": [
    {
     "name": "stderr",
     "output_type": "stream",
     "text": [
      "/tmp/ipykernel_15639/3502798215.py:1: SettingWithCopyWarning: \n",
      "A value is trying to be set on a copy of a slice from a DataFrame\n",
      "\n",
      "See the caveats in the documentation: https://pandas.pydata.org/pandas-docs/stable/user_guide/indexing.html#returning-a-view-versus-a-copy\n",
      "  df_user.drop_duplicates(inplace=True)\n"
     ]
    }
   ],
   "source": [
    "df_user.drop_duplicates(inplace=True)"
   ]
  },
  {
   "cell_type": "code",
   "execution_count": 18,
   "id": "87fcda33",
   "metadata": {},
   "outputs": [
    {
     "data": {
      "text/plain": [
       "(10317, 3)"
      ]
     },
     "execution_count": 18,
     "metadata": {},
     "output_type": "execute_result"
    }
   ],
   "source": [
    "df_user.shape"
   ]
  },
  {
   "cell_type": "code",
   "execution_count": 19,
   "id": "e8c7356c",
   "metadata": {},
   "outputs": [
    {
     "name": "stderr",
     "output_type": "stream",
     "text": [
      "/tmp/ipykernel_15639/3915493298.py:1: SettingWithCopyWarning: \n",
      "A value is trying to be set on a copy of a slice from a DataFrame\n",
      "\n",
      "See the caveats in the documentation: https://pandas.pydata.org/pandas-docs/stable/user_guide/indexing.html#returning-a-view-versus-a-copy\n",
      "  df_user.rename(columns={'발화구분':'type', '발화문':'content', 'meme_ID':'meme_id'}, inplace=True)\n"
     ]
    }
   ],
   "source": [
    "df_user.rename(columns={'발화구분':'type', '발화문':'content', 'meme_ID':'meme_id'}, inplace=True)"
   ]
  },
  {
   "cell_type": "code",
   "execution_count": 20,
   "id": "7a0bbf50",
   "metadata": {},
   "outputs": [
    {
     "data": {
      "text/plain": [
       "(10317, 3)"
      ]
     },
     "execution_count": 20,
     "metadata": {},
     "output_type": "execute_result"
    }
   ],
   "source": [
    "df_user.shape"
   ]
  },
  {
   "cell_type": "markdown",
   "id": "4ea3d3ac",
   "metadata": {},
   "source": [
    "# "
   ]
  },
  {
   "cell_type": "markdown",
   "id": "04bf8f76",
   "metadata": {},
   "source": [
    "# "
   ]
  },
  {
   "cell_type": "markdown",
   "id": "fdf99fba",
   "metadata": {},
   "source": [
    "# add user dict"
   ]
  },
  {
   "cell_type": "markdown",
   "id": "f2f615e6",
   "metadata": {},
   "source": [
    "## * 추가 시에만"
   ]
  },
  {
   "cell_type": "markdown",
   "id": "b97076e5",
   "metadata": {},
   "source": [
    "### find konlpy path"
   ]
  },
  {
   "cell_type": "code",
   "execution_count": 16,
   "id": "eecfc351",
   "metadata": {},
   "outputs": [
    {
     "data": {
      "text/plain": [
       "['/Users/seonghwanpark/konlpy_data',\n",
       " '/usr/share/konlpy_data',\n",
       " '/usr/local/share/konlpy_data',\n",
       " '/usr/lib/konlpy_data',\n",
       " '/usr/local/lib/konlpy_data',\n",
       " '/Users/seonghwanpark/.pyenv/versions/3.8.15/envs/shpark/lib/python3.8/site-packages/konlpy/data']"
      ]
     },
     "execution_count": 16,
     "metadata": {},
     "output_type": "execute_result"
    }
   ],
   "source": [
    "import konlpy\n",
    "konlpy.data.path"
   ]
  },
  {
   "cell_type": "markdown",
   "id": "cc5b3c8b",
   "metadata": {},
   "source": [
    "### test"
   ]
  },
  {
   "cell_type": "code",
   "execution_count": null,
   "id": "84f744b7",
   "metadata": {},
   "outputs": [],
   "source": [
    "from konlpy.tag import Okt"
   ]
  },
  {
   "cell_type": "code",
   "execution_count": null,
   "id": "5ce413d2",
   "metadata": {},
   "outputs": [],
   "source": [
    "jvm_path = \"/Library/Java/JavaVirtualMachines/zulu-15.jdk/Contents/Home/bin/java\"\n",
    "okt = Okt(jvmpath=jvm_path)"
   ]
  },
  {
   "cell_type": "code",
   "execution_count": 17,
   "id": "2ca71603",
   "metadata": {},
   "outputs": [
    {
     "name": "stdout",
     "output_type": "stream",
     "text": [
      "[('순대국', 'Noun'), ('먹고', 'Verb'), ('싶다', 'Verb'), ('.', 'Punctuation')]\n",
      "[('순댓국', 'Noun'), ('먹고', 'Verb'), ('싶다', 'Verb'), ('.', 'Punctuation')]\n",
      "[('패스트파이브', 'Noun'), ('에서', 'Josa'), ('일', 'Noun'), ('을', 'Josa'), ('합니다', 'Verb'), ('.', 'Punctuation')]\n",
      "[('아이오아이', 'Noun'), ('는', 'Josa'), ('정말', 'Noun'), ('이뻐요', 'Adjective'), ('.', 'Punctuation')]\n"
     ]
    }
   ],
   "source": [
    "# 태깅이 안되는 예. 이런 단어는 사용자 사전에 추가하면 하단부 처럼 정상적으로 추출한다.\n",
    "print(okt.pos(\"순대국 먹고 싶다.\"))\n",
    "print(okt.pos(\"순댓국 먹고 싶다.\"))\n",
    "print(okt.pos(\"패스트파이브에서 일을 합니다.\"))\n",
    "print(okt.pos(\"아이오아이는 정말 이뻐요.\"))"
   ]
  },
  {
   "cell_type": "markdown",
   "id": "3874e69b",
   "metadata": {},
   "source": [
    "### user dictionary"
   ]
  },
  {
   "cell_type": "code",
   "execution_count": 18,
   "id": "6c242209",
   "metadata": {},
   "outputs": [
    {
     "data": {
      "text/plain": [
       "'/Users/seonghwanpark/.pyenv/versions/3.8.15/envs/shpark/lib/python3.8/site-packages/konlpy/java'"
      ]
     },
     "execution_count": 18,
     "metadata": {},
     "output_type": "execute_result"
    }
   ],
   "source": [
    "import os\n",
    "\n",
    "os.chdir('/Users/seonghwanpark/.pyenv/versions/3.8.15/envs/shpark/lib/python3.8/site-packages/konlpy/java')\n",
    "os.getcwd() "
   ]
  },
  {
   "cell_type": "code",
   "execution_count": 19,
   "id": "e5b06aea",
   "metadata": {
    "collapsed": true
   },
   "outputs": [
    {
     "name": "stdout",
     "output_type": "stream",
     "text": [
      "  생성됨: META-INF/\n",
      " 증가됨: META-INF/MANIFEST.MF\n",
      "  생성됨: org/\n",
      "  생성됨: org/openkoreantext/\n",
      "  생성됨: org/openkoreantext/processor/\n",
      "  생성됨: org/openkoreantext/processor/tools/\n",
      " 증가됨: org/openkoreantext/processor/tools/UpdateAllTheExamples.class\n",
      " 증가됨: org/openkoreantext/processor/tools/CreateConjugationExamples.class\n",
      " 증가됨: org/openkoreantext/processor/tools/CreateConjugationExamples$ConjugationExample.class\n",
      " 증가됨: org/openkoreantext/processor/tools/CreatePhraseExtractionExamples$PhraseExample.class\n",
      " 증가됨: org/openkoreantext/processor/tools/CreateParsingExamples.class\n",
      " 증가됨: org/openkoreantext/processor/tools/CreatePhraseExtractionExamples$.class\n",
      " 증가됨: org/openkoreantext/processor/tools/CreateConjugationExamples$.class\n",
      " 증가됨: org/openkoreantext/processor/tools/DeduplicateAndSortDictionaries$.class\n",
      " 증가됨: org/openkoreantext/processor/tools/CreateChunkParsingCandidates$.class\n",
      " 증가됨: org/openkoreantext/processor/tools/CreateChunkParsingCandidates.class\n",
      " 증가됨: org/openkoreantext/processor/tools/DeduplicateAndSortDictionaries.class\n",
      " 증가됨: org/openkoreantext/processor/tools/CreatePhraseExtractionExamples.class\n",
      " 증가됨: org/openkoreantext/processor/tools/CreatePhraseExtractionExamples$PhraseExample$.class\n",
      " 증가됨: org/openkoreantext/processor/tools/CreateParsingExamples$.class\n",
      " 증가됨: org/openkoreantext/processor/tools/UpdateAllTheExamples$.class\n",
      " 증가됨: org/openkoreantext/processor/tools/CreateParsingExamples$ParsingExample.class\n",
      " 증가됨: org/openkoreantext/processor/tools/CreateParsingExamples$ParsingExample$.class\n",
      " 증가됨: org/openkoreantext/processor/tools/Runnable.class\n",
      " 증가됨: org/openkoreantext/processor/tools/CreateConjugationExamples$ConjugationExample$.class\n",
      " 증가됨: org/openkoreantext/processor/OpenKoreanTextProcessorJava.class\n",
      "  생성됨: org/openkoreantext/processor/util/\n",
      " 증가됨: org/openkoreantext/processor/util/Hangul$HangulChar$.class\n",
      " 증가됨: org/openkoreantext/processor/util/CharArrayMap$MapEntry.class\n",
      " 증가됨: org/openkoreantext/processor/util/KoreanPos$KoreanPosTrie$.class\n",
      " 증가됨: org/openkoreantext/processor/util/CharArrayMap$UnmodifiableCharArrayMap.class\n",
      "  생성됨: org/openkoreantext/processor/util/typos/\n",
      " 증가됨: org/openkoreantext/processor/util/typos/typos.txt\n",
      " 증가됨: org/openkoreantext/processor/util/KoreanConjugation.class\n",
      " 증가됨: org/openkoreantext/processor/util/KoreanDictionaryProvider$.class\n",
      " 증가됨: org/openkoreantext/processor/util/CharacterUtils$Java4CharacterUtils.class\n",
      " 증가됨: org/openkoreantext/processor/util/Hangul$DoubleCoda.class\n",
      " 증가됨: org/openkoreantext/processor/util/CharacterUtils$Java5CharacterUtils.class\n",
      " 증가됨: org/openkoreantext/processor/util/KoreanPos$KoreanPosTrie.class\n",
      "  생성됨: org/openkoreantext/processor/util/freq/\n",
      " 증가됨: org/openkoreantext/processor/util/freq/entity-freq.txt.gz\n",
      "  생성됨: org/openkoreantext/processor/util/noun/\n",
      " 증가됨: org/openkoreantext/processor/util/noun/pokemon.txt\n",
      " 증가됨: org/openkoreantext/processor/util/noun/wikipedia_title_nouns.txt\n",
      " 증가됨: org/openkoreantext/processor/util/noun/entities.txt\n",
      " 증가됨: org/openkoreantext/processor/util/noun/names.txt\n",
      " 증가됨: org/openkoreantext/processor/util/noun/nouns.txt\n",
      " 증가됨: org/openkoreantext/processor/util/noun/slangs.txt\n",
      " 증가됨: org/openkoreantext/processor/util/noun/lol.txt\n",
      " 증가됨: org/openkoreantext/processor/util/noun/company_names.txt\n",
      " 증가됨: org/openkoreantext/processor/util/noun/spam.txt\n",
      " 증가됨: org/openkoreantext/processor/util/noun/kpop.txt\n",
      " 증가됨: org/openkoreantext/processor/util/noun/geolocations.txt\n",
      " 증가됨: org/openkoreantext/processor/util/noun/bible.txt\n",
      " 증가됨: org/openkoreantext/processor/util/noun/foreign.txt\n",
      " 증가됨: org/openkoreantext/processor/util/noun/congress.txt\n",
      " 증가됨: org/openkoreantext/processor/util/noun/twitter.txt\n",
      " 증가됨: org/openkoreantext/processor/util/noun/profane.txt\n",
      " 증가됨: org/openkoreantext/processor/util/KoreanDictionaryProvider.class\n",
      " 증가됨: org/openkoreantext/processor/util/KoreanPos$.class\n",
      " 증가됨: org/openkoreantext/processor/util/CharArrayMap$EmptyCharArrayMap.class\n",
      " 증가됨: org/openkoreantext/processor/util/KoreanSubstantive.class\n",
      " 증가됨: org/openkoreantext/processor/util/KoreanConjugation$.class\n",
      " 증가됨: org/openkoreantext/processor/util/CharacterUtils.class\n",
      " 증가됨: org/openkoreantext/processor/util/CharacterUtils$CharacterBuffer.class\n",
      " 증가됨: org/openkoreantext/processor/util/CharArraySet.class\n",
      " 증가됨: org/openkoreantext/processor/util/Hangul$DoubleCoda$.class\n",
      " 증가됨: org/openkoreantext/processor/util/example_tweets.txt\n",
      "  생성됨: org/openkoreantext/processor/util/verb/\n",
      " 증가됨: org/openkoreantext/processor/util/verb/verb_prefix.txt\n",
      " 증가됨: org/openkoreantext/processor/util/verb/eomi.txt\n",
      " 증가됨: org/openkoreantext/processor/util/verb/pre_eomi.txt\n",
      " 증가됨: org/openkoreantext/processor/util/verb/verb.txt\n",
      " 증가됨: org/openkoreantext/processor/util/Hangul$.class\n",
      " 증가됨: org/openkoreantext/processor/util/CharArrayMap.class\n",
      " 증가됨: org/openkoreantext/processor/util/KoreanSubstantive$.class\n",
      " 증가됨: org/openkoreantext/processor/util/Hangul.class\n",
      "  생성됨: org/openkoreantext/processor/util/adjective/\n",
      " 증가됨: org/openkoreantext/processor/util/adjective/adjective.txt\n",
      " 증가됨: org/openkoreantext/processor/util/CharArrayMap$EntrySet.class\n",
      "  생성됨: org/openkoreantext/processor/util/adverb/\n",
      " 증가됨: org/openkoreantext/processor/util/adverb/adverb.txt\n",
      " 증가됨: org/openkoreantext/processor/util/CharArrayMap$1.class\n",
      " 증가됨: org/openkoreantext/processor/util/Hangul$HangulChar.class\n",
      " 증가됨: org/openkoreantext/processor/util/KoreanPos.class\n",
      " 증가됨: org/openkoreantext/processor/util/example_chunks.txt\n",
      " 증가됨: org/openkoreantext/processor/util/CharArrayMap$EntryIterator.class\n",
      "  생성됨: org/openkoreantext/processor/util/josa/\n",
      " 증가됨: org/openkoreantext/processor/util/josa/josa.txt\n",
      "  생성됨: org/openkoreantext/processor/util/substantives/\n",
      " 증가됨: org/openkoreantext/processor/util/substantives/family_names.txt\n",
      " 증가됨: org/openkoreantext/processor/util/substantives/given_names.txt\n",
      " 증가됨: org/openkoreantext/processor/util/substantives/modifier.txt\n",
      " 증가됨: org/openkoreantext/processor/util/substantives/suffix.txt\n",
      "  생성됨: org/openkoreantext/processor/util/auxiliary/\n",
      " 증가됨: org/openkoreantext/processor/util/auxiliary/conjunctions.txt\n",
      " 증가됨: org/openkoreantext/processor/util/auxiliary/determiner.txt\n",
      " 증가됨: org/openkoreantext/processor/util/auxiliary/exclamation.txt\n",
      "  생성됨: org/openkoreantext/processor/phrase_extractor/\n",
      " 증가됨: org/openkoreantext/processor/phrase_extractor/KoreanPhraseExtractor$PhraseBuffer.class\n",
      " 증가됨: org/openkoreantext/processor/phrase_extractor/KoreanPhraseExtractor$KoreanPhrase$.class\n",
      " 증가됨: org/openkoreantext/processor/phrase_extractor/KoreanPhraseExtractor.class\n",
      " 증가됨: org/openkoreantext/processor/phrase_extractor/KoreanPhraseExtractor$PhraseBuffer$.class\n",
      " 증가됨: org/openkoreantext/processor/phrase_extractor/KoreanPhraseExtractor$KoreanPhrase.class\n",
      " 증가됨: org/openkoreantext/processor/phrase_extractor/KoreanPhraseExtractor$.class\n",
      "  생성됨: org/openkoreantext/processor/tokenizer/\n",
      " 증가됨: org/openkoreantext/processor/tokenizer/KoreanTokenizer$KoreanToken.class\n",
      " 증가됨: org/openkoreantext/processor/tokenizer/KoreanTokenizer$.class\n",
      " 증가됨: org/openkoreantext/processor/tokenizer/KoreanChunk$.class\n",
      " 증가됨: org/openkoreantext/processor/tokenizer/KoreanSentenceSplitter$.class\n",
      " 증가됨: org/openkoreantext/processor/tokenizer/KoreanSentenceSplitter.class\n",
      " 증가됨: org/openkoreantext/processor/tokenizer/KoreanTokenizer$PossibleTrie.class\n",
      " 증가됨: org/openkoreantext/processor/tokenizer/KoreanChunker.class\n",
      " 증가됨: org/openkoreantext/processor/tokenizer/KoreanTokenizer.class\n",
      " 증가됨: org/openkoreantext/processor/tokenizer/Sentence$.class\n",
      " 증가됨: org/openkoreantext/processor/tokenizer/KoreanDetokenizer.class\n",
      " 증가됨: org/openkoreantext/processor/tokenizer/TokenizerProfile$.class\n",
      " 증가됨: org/openkoreantext/processor/tokenizer/KoreanChunker$ChunkMatch.class\n",
      " 증가됨: org/openkoreantext/processor/tokenizer/KoreanDetokenizer$.class\n",
      " 증가됨: org/openkoreantext/processor/tokenizer/KoreanTokenizer$CandidateParse$.class\n",
      " 증가됨: org/openkoreantext/processor/tokenizer/TokenizerProfile.class\n",
      " 증가됨: org/openkoreantext/processor/tokenizer/KoreanTokenizer$PossibleTrie$.class\n",
      " 증가됨: org/openkoreantext/processor/tokenizer/Sentence.class\n",
      " 증가됨: org/openkoreantext/processor/tokenizer/KoreanTokenizer$KoreanToken$.class\n",
      " 증가됨: org/openkoreantext/processor/tokenizer/KoreanChunker$ChunkMatch$.class\n",
      " 증가됨: org/openkoreantext/processor/tokenizer/ParsedChunk.class\n",
      " 증가됨: org/openkoreantext/processor/tokenizer/KoreanTokenizer$CandidateParse.class\n",
      " 증가됨: org/openkoreantext/processor/tokenizer/KoreanChunk.class\n",
      " 증가됨: org/openkoreantext/processor/tokenizer/ParsedChunk$.class\n",
      " 증가됨: org/openkoreantext/processor/tokenizer/KoreanChunker$.class\n",
      "  생성됨: org/openkoreantext/processor/qa/\n",
      " 증가됨: org/openkoreantext/processor/qa/BatchGetUnknownNouns$ChunkWithTweet$.class\n",
      " 증가됨: org/openkoreantext/processor/qa/BatchTokenizeTweets$ParseTime$.class\n",
      " 증가됨: org/openkoreantext/processor/qa/KoreanProcessorSandbox.class\n",
      " 증가됨: org/openkoreantext/processor/qa/BatchTokenizeTweets.class\n",
      " 증가됨: org/openkoreantext/processor/qa/BatchTokenizeTweets$ParseTime.class\n",
      " 증가됨: org/openkoreantext/processor/qa/BatchGetUnknownNouns.class\n",
      " 증가됨: org/openkoreantext/processor/qa/BatchGetUnknownNouns$ChunkWithTweet.class\n",
      " 증가됨: org/openkoreantext/processor/qa/BatchGetUnknownNouns$.class\n",
      " 증가됨: org/openkoreantext/processor/qa/KoreanProcessorSandbox$.class\n",
      " 증가됨: org/openkoreantext/processor/qa/BatchTokenizeTweets$.class\n",
      " 증가됨: org/openkoreantext/processor/OpenKoreanTextProcessor$.class\n",
      " 증가됨: org/openkoreantext/processor/KoreanTokenJava.class\n",
      " 증가됨: org/openkoreantext/processor/KoreanPosJava.class\n",
      "  생성됨: org/openkoreantext/processor/stemmer/\n",
      " 증가됨: org/openkoreantext/processor/stemmer/KoreanStemmer$.class\n",
      " 증가됨: org/openkoreantext/processor/stemmer/KoreanStemmer.class\n",
      " 증가됨: org/openkoreantext/processor/OpenKoreanTextProcessor.class\n",
      "  생성됨: org/openkoreantext/processor/normalizer/\n",
      " 증가됨: org/openkoreantext/processor/normalizer/KoreanNormalizer$Segment.class\n",
      " 증가됨: org/openkoreantext/processor/normalizer/KoreanNormalizer$.class\n",
      " 증가됨: org/openkoreantext/processor/normalizer/KoreanNormalizer.class\n",
      " 증가됨: org/openkoreantext/processor/normalizer/KoreanNormalizer$Segment$.class\n"
     ]
    }
   ],
   "source": [
    "!jar xvf open-korean-text-2.1.0.jar"
   ]
  },
  {
   "cell_type": "markdown",
   "id": "602f6d95",
   "metadata": {},
   "source": [
    "##### open user dict"
   ]
  },
  {
   "cell_type": "code",
   "execution_count": 8,
   "id": "5bcfafef",
   "metadata": {},
   "outputs": [],
   "source": [
    "with open(f\"/Users/seonghwanpark/.pyenv/versions/3.8.15/envs/shpark/lib/python3.8/site-packages/konlpy/java/org/openkoreantext/processor/util/noun/names.txt\") as f:\n",
    "    data = f.read()"
   ]
  },
  {
   "cell_type": "code",
   "execution_count": 9,
   "id": "0391c3e7",
   "metadata": {
    "scrolled": true
   },
   "outputs": [
    {
     "data": {
      "text/plain": [
       "'가몽\\n가온\\n갓세븐\\n강새이\\n게임닉가\\n관우\\n귀여미\\n규\\n김유이\\n김준면\\n까까런\\n노컷\\n누너예\\n니노\\n다마고치\\n다이무스\\n대학생\\n데이브\\n도요토미\\n동운\\n동이\\n두주니\\n디시인사이드\\n디오\\n라몹\\n라스\\n라옵\\n멍구\\n메이든\\n명덕\\n명량\\n문민정부\\n미네\\n방엘리\\n병헌\\n붓다\\n비정상회담\\n빼빼로\\n삼풍\\n샤인온미\\n성식\\n성열\\n세라문\\n세라복\\n세종대왕\\n손권\\n손책\\n쇼미더머니\\n쇼챔\\n순규\\n스라소니\\n신동아\\n신쓰패밀리\\n신아라\\n아베\\n안상홍\\n안홍준\\n여누\\n여랑\\n여포\\n연합\\n오꾸닭\\n요섭\\n웃찾사\\n원식\\n유병언\\n유비\\n유이\\n윤기형\\n이나단\\n이명박\\n이완용\\n임창용\\n자괴\\n자니윤\\n자대련\\n자유\\n재중이\\n전교조\\n정윤회\\n제갈량\\n조자룡\\n조조\\n준면\\n지오디\\n지존파\\n진영오\\n차작가\\n차트\\n창섭\\n챠트\\n첸\\n코르사주\\n하무열\\n하용파쿠\\n혁재\\n현이\\n현태\\n혜미\\n'"
      ]
     },
     "execution_count": 9,
     "metadata": {},
     "output_type": "execute_result"
    }
   ],
   "source": [
    "data"
   ]
  },
  {
   "cell_type": "markdown",
   "id": "70b5509c",
   "metadata": {},
   "source": [
    "##### add new word"
   ]
  },
  {
   "cell_type": "code",
   "execution_count": 10,
   "id": "ad80c990",
   "metadata": {},
   "outputs": [],
   "source": [
    "data += '순댓국\\n순대국\\n아이오아이\\n패스트파이브\\n'"
   ]
  },
  {
   "cell_type": "markdown",
   "id": "ce303889",
   "metadata": {},
   "source": [
    "##### file save"
   ]
  },
  {
   "cell_type": "code",
   "execution_count": 11,
   "id": "782d80f0",
   "metadata": {},
   "outputs": [],
   "source": [
    "with open(\"/Users/seonghwanpark/.pyenv/versions/3.8.15/envs/shpark/lib/python3.8/site-packages/konlpy/java/org/openkoreantext/processor/util/noun/names.txt\", 'w') as f:\n",
    "    f.write(data)"
   ]
  },
  {
   "cell_type": "code",
   "execution_count": 12,
   "id": "1adff51d",
   "metadata": {},
   "outputs": [
    {
     "data": {
      "text/plain": [
       "'가몽\\n가온\\n갓세븐\\n강새이\\n게임닉가\\n관우\\n귀여미\\n규\\n김유이\\n김준면\\n까까런\\n노컷\\n누너예\\n니노\\n다마고치\\n다이무스\\n대학생\\n데이브\\n도요토미\\n동운\\n동이\\n두주니\\n디시인사이드\\n디오\\n라몹\\n라스\\n라옵\\n멍구\\n메이든\\n명덕\\n명량\\n문민정부\\n미네\\n방엘리\\n병헌\\n붓다\\n비정상회담\\n빼빼로\\n삼풍\\n샤인온미\\n성식\\n성열\\n세라문\\n세라복\\n세종대왕\\n손권\\n손책\\n쇼미더머니\\n쇼챔\\n순규\\n스라소니\\n신동아\\n신쓰패밀리\\n신아라\\n아베\\n안상홍\\n안홍준\\n여누\\n여랑\\n여포\\n연합\\n오꾸닭\\n요섭\\n웃찾사\\n원식\\n유병언\\n유비\\n유이\\n윤기형\\n이나단\\n이명박\\n이완용\\n임창용\\n자괴\\n자니윤\\n자대련\\n자유\\n재중이\\n전교조\\n정윤회\\n제갈량\\n조자룡\\n조조\\n준면\\n지오디\\n지존파\\n진영오\\n차작가\\n차트\\n창섭\\n챠트\\n첸\\n코르사주\\n하무열\\n하용파쿠\\n혁재\\n현이\\n현태\\n혜미\\n순댓국\\n순대국\\n아이오아이\\n패스트파이브\\n'"
      ]
     },
     "execution_count": 12,
     "metadata": {},
     "output_type": "execute_result"
    }
   ],
   "source": [
    "data"
   ]
  },
  {
   "cell_type": "code",
   "execution_count": 13,
   "id": "6808fab7",
   "metadata": {
    "collapsed": true
   },
   "outputs": [
    {
     "name": "stdout",
     "output_type": "stream",
     "text": [
      "Manifest를 추가함\n",
      "추가하는 중: org/(입력 = 0) (출력 = 0)(0%를 저장함)\n",
      "추가하는 중: org/openkoreantext/(입력 = 0) (출력 = 0)(0%를 저장함)\n",
      "추가하는 중: org/openkoreantext/processor/(입력 = 0) (출력 = 0)(0%를 저장함)\n",
      "추가하는 중: org/openkoreantext/processor/tools/(입력 = 0) (출력 = 0)(0%를 저장함)\n",
      "추가하는 중: org/openkoreantext/processor/tools/UpdateAllTheExamples.class(입력 = 1089) (출력 = 756)(30%를 감소함)\n",
      "추가하는 중: org/openkoreantext/processor/tools/CreateConjugationExamples.class(입력 = 2367) (출력 = 1659)(29%를 감소함)\n",
      "추가하는 중: org/openkoreantext/processor/tools/CreateConjugationExamples$ConjugationExample.class(입력 = 3569) (출력 = 1415)(60%를 감소함)\n",
      "추가하는 중: org/openkoreantext/processor/tools/CreatePhraseExtractionExamples$PhraseExample.class(입력 = 3825) (출력 = 1443)(62%를 감소함)\n",
      "추가하는 중: org/openkoreantext/processor/tools/CreateParsingExamples.class(입력 = 2427) (출력 = 1732)(28%를 감소함)\n",
      "추가하는 중: org/openkoreantext/processor/tools/CreatePhraseExtractionExamples$.class(입력 = 5989) (출력 = 2472)(58%를 감소함)\n",
      "추가하는 중: org/openkoreantext/processor/tools/CreateConjugationExamples$.class(입력 = 5881) (출력 = 2385)(59%를 감소함)\n",
      "추가하는 중: org/openkoreantext/processor/tools/DeduplicateAndSortDictionaries$.class(입력 = 7154) (출력 = 3133)(56%를 감소함)\n",
      "추가하는 중: org/openkoreantext/processor/tools/CreateChunkParsingCandidates$.class(입력 = 5487) (출력 = 2305)(57%를 감소함)\n",
      "추가하는 중: org/openkoreantext/processor/tools/CreateChunkParsingCandidates.class(입력 = 833) (출력 = 566)(32%를 감소함)\n",
      "추가하는 중: org/openkoreantext/processor/tools/DeduplicateAndSortDictionaries.class(입력 = 1117) (출력 = 823)(26%를 감소함)\n",
      "추가하는 중: org/openkoreantext/processor/tools/CreatePhraseExtractionExamples.class(입력 = 2516) (출력 = 1784)(29%를 감소함)\n",
      "추가하는 중: org/openkoreantext/processor/tools/CreatePhraseExtractionExamples$PhraseExample$.class(입력 = 2974) (출력 = 1020)(65%를 감소함)\n",
      "추가하는 중: org/openkoreantext/processor/tools/CreateParsingExamples$.class(입력 = 5517) (출력 = 2327)(57%를 감소함)\n",
      "추가하는 중: org/openkoreantext/processor/tools/UpdateAllTheExamples$.class(입력 = 4383) (출력 = 1794)(59%를 감소함)\n",
      "추가하는 중: org/openkoreantext/processor/tools/CreateParsingExamples$ParsingExample.class(입력 = 3718) (출력 = 1429)(61%를 감소함)\n",
      "추가하는 중: org/openkoreantext/processor/tools/CreateParsingExamples$ParsingExample$.class(입력 = 2842) (출력 = 1010)(64%를 감소함)\n",
      "추가하는 중: org/openkoreantext/processor/tools/Runnable.class(입력 = 964) (출력 = 694)(28%를 감소함)\n",
      "추가하는 중: org/openkoreantext/processor/tools/CreateConjugationExamples$ConjugationExample$.class(입력 = 2787) (출력 = 997)(64%를 감소함)\n",
      "추가하는 중: org/openkoreantext/processor/OpenKoreanTextProcessorJava.class(입력 = 5901) (출력 = 1995)(66%를 감소함)\n",
      "추가하는 중: org/openkoreantext/processor/util/(입력 = 0) (출력 = 0)(0%를 저장함)\n",
      "추가하는 중: org/openkoreantext/processor/util/Hangul$HangulChar$.class(입력 = 2389) (출력 = 1022)(57%를 감소함)\n",
      "추가하는 중: org/openkoreantext/processor/util/CharArrayMap$MapEntry.class(입력 = 2433) (출력 = 1078)(55%를 감소함)\n",
      "추가하는 중: org/openkoreantext/processor/util/KoreanPos$KoreanPosTrie$.class(입력 = 3157) (출력 = 1089)(65%를 감소함)\n",
      "추가하는 중: org/openkoreantext/processor/util/CharArrayMap$UnmodifiableCharArrayMap.class(입력 = 3062) (출력 = 859)(71%를 감소함)\n",
      "추가하는 중: org/openkoreantext/processor/util/typos/(입력 = 0) (출력 = 0)(0%를 저장함)\n",
      "추가하는 중: org/openkoreantext/processor/util/typos/typos.txt(입력 = 5146) (출력 = 2300)(55%를 감소함)\n",
      "추가하는 중: org/openkoreantext/processor/util/KoreanConjugation.class(입력 = 1550) (출력 = 1237)(20%를 감소함)\n",
      "추가하는 중: org/openkoreantext/processor/util/KoreanDictionaryProvider$.class(입력 = 20197) (출력 = 7488)(62%를 감소함)\n",
      "추가하는 중: org/openkoreantext/processor/util/CharacterUtils$Java4CharacterUtils.class(입력 = 2577) (출력 = 1282)(50%를 감소함)\n",
      "추가하는 중: org/openkoreantext/processor/util/Hangul$DoubleCoda.class(입력 = 2930) (출력 = 1348)(53%를 감소함)\n",
      "추가하는 중: org/openkoreantext/processor/util/CharacterUtils$Java5CharacterUtils.class(입력 = 2824) (출력 = 1393)(50%를 감소함)\n",
      "추가하는 중: org/openkoreantext/processor/util/KoreanPos$KoreanPosTrie.class(입력 = 4390) (출력 = 1610)(63%를 감소함)\n",
      "추가하는 중: org/openkoreantext/processor/util/freq/(입력 = 0) (출력 = 0)(0%를 저장함)\n",
      "추가하는 중: org/openkoreantext/processor/util/freq/entity-freq.txt.gz(입력 = 385753) (출력 = 385873)(0%를 감소함)\n",
      "추가하는 중: org/openkoreantext/processor/util/noun/(입력 = 0) (출력 = 0)(0%를 저장함)\n",
      "추가하는 중: org/openkoreantext/processor/util/noun/pokemon.txt(입력 = 1781) (출력 = 965)(45%를 감소함)\n",
      "추가하는 중: org/openkoreantext/processor/util/noun/wikipedia_title_nouns.txt(입력 = 1971964) (출력 = 686708)(65%를 감소함)\n",
      "추가하는 중: org/openkoreantext/processor/util/noun/entities.txt(입력 = 108142) (출력 = 44095)(59%를 감소함)\n",
      "추가하는 중: org/openkoreantext/processor/util/noun/names.txt(입력 = 958) (출력 = 574)(40%를 감소함)\n",
      "추가하는 중: org/openkoreantext/processor/util/noun/nouns.txt(입력 = 219319) (출력 = 84134)(61%를 감소함)\n",
      "추가하는 중: org/openkoreantext/processor/util/noun/slangs.txt(입력 = 1565) (출력 = 921)(41%를 감소함)\n",
      "추가하는 중: org/openkoreantext/processor/util/noun/lol.txt(입력 = 1337) (출력 = 744)(44%를 감소함)\n",
      "추가하는 중: org/openkoreantext/processor/util/noun/company_names.txt(입력 = 1631) (출력 = 905)(44%를 감소함)\n",
      "추가하는 중: org/openkoreantext/processor/util/noun/spam.txt(입력 = 202) (출력 = 157)(22%를 감소함)\n",
      "추가하는 중: org/openkoreantext/processor/util/noun/kpop.txt(입력 = 5371) (출력 = 2495)(53%를 감소함)\n",
      "추가하는 중: org/openkoreantext/processor/util/noun/geolocations.txt(입력 = 5423) (출력 = 2267)(58%를 감소함)\n",
      "추가하는 중: org/openkoreantext/processor/util/noun/bible.txt(입력 = 2032) (출력 = 1005)(50%를 감소함)\n",
      "추가하는 중: org/openkoreantext/processor/util/noun/foreign.txt(입력 = 10485) (출력 = 4686)(55%를 감소함)\n",
      "추가하는 중: org/openkoreantext/processor/util/noun/congress.txt(입력 = 26494) (출력 = 9351)(64%를 감소함)\n",
      "추가하는 중: org/openkoreantext/processor/util/noun/twitter.txt(입력 = 254) (출력 = 162)(36%를 감소함)\n",
      "추가하는 중: org/openkoreantext/processor/util/noun/profane.txt(입력 = 569) (출력 = 337)(40%를 감소함)\n",
      "추가하는 중: org/openkoreantext/processor/util/KoreanDictionaryProvider.class(입력 = 3430) (출력 = 2003)(41%를 감소함)\n",
      "추가하는 중: org/openkoreantext/processor/util/KoreanPos$.class(입력 = 12173) (출력 = 4669)(61%를 감소함)\n",
      "추가하는 중: org/openkoreantext/processor/util/CharArrayMap$EmptyCharArrayMap.class(입력 = 2053) (출력 = 725)(64%를 감소함)\n",
      "추가하는 중: org/openkoreantext/processor/util/KoreanSubstantive.class(입력 = 1336) (출력 = 1087)(18%를 감소함)\n",
      "추가하는 중: org/openkoreantext/processor/util/KoreanConjugation$.class(입력 = 22440) (출력 = 7972)(64%를 감소함)\n",
      "추가하는 중: org/openkoreantext/processor/util/CharacterUtils.class(입력 = 3703) (출력 = 1716)(53%를 감소함)\n",
      "추가하는 중: org/openkoreantext/processor/util/CharacterUtils$CharacterBuffer.class(입력 = 1634) (출력 = 659)(59%를 감소함)\n",
      "추가하는 중: org/openkoreantext/processor/util/CharArraySet.class(입력 = 4886) (출력 = 1944)(60%를 감소함)\n",
      "추가하는 중: org/openkoreantext/processor/util/Hangul$DoubleCoda$.class(입력 = 2155) (출력 = 963)(55%를 감소함)\n",
      "추가하는 중: org/openkoreantext/processor/util/example_tweets.txt(입력 = 86271) (출력 = 38336)(55%를 감소함)\n",
      "추가하는 중: org/openkoreantext/processor/util/verb/(입력 = 0) (출력 = 0)(0%를 저장함)\n",
      "추가하는 중: org/openkoreantext/processor/util/verb/verb_prefix.txt(입력 = 47) (출력 = 52)(-10%를 감소함)\n",
      "추가하는 중: org/openkoreantext/processor/util/verb/eomi.txt(입력 = 12618) (출력 = 3556)(71%를 감소함)\n",
      "추가하는 중: org/openkoreantext/processor/util/verb/pre_eomi.txt(입력 = 285) (출력 = 185)(35%를 감소함)\n",
      "추가하는 중: org/openkoreantext/processor/util/verb/verb.txt(입력 = 32758) (출력 = 10723)(67%를 감소함)\n",
      "추가하는 중: org/openkoreantext/processor/util/Hangul$.class(입력 = 7625) (출력 = 3114)(59%를 감소함)\n",
      "추가하는 중: org/openkoreantext/processor/util/CharArrayMap.class(입력 = 11923) (출력 = 4878)(59%를 감소함)\n",
      "추가하는 중: org/openkoreantext/processor/util/KoreanSubstantive$.class(입력 = 14990) (출력 = 6195)(58%를 감소함)\n",
      "추가하는 중: org/openkoreantext/processor/util/Hangul.class(입력 = 3981) (출력 = 2731)(31%를 감소함)\n",
      "추가하는 중: org/openkoreantext/processor/util/adjective/(입력 = 0) (출력 = 0)(0%를 저장함)\n",
      "추가하는 중: org/openkoreantext/processor/util/adjective/adjective.txt(입력 = 27250) (출력 = 9357)(65%를 감소함)\n",
      "추가하는 중: org/openkoreantext/processor/util/CharArrayMap$EntrySet.class(입력 = 2788) (출력 = 1181)(57%를 감소함)\n",
      "추가하는 중: org/openkoreantext/processor/util/adverb/(입력 = 0) (출력 = 0)(0%를 저장함)\n",
      "추가하는 중: org/openkoreantext/processor/util/adverb/adverb.txt(입력 = 65572) (출력 = 18741)(71%를 감소함)\n",
      "추가하는 중: org/openkoreantext/processor/util/CharArrayMap$1.class(입력 = 1531) (출력 = 571)(62%를 감소함)\n",
      "추가하는 중: org/openkoreantext/processor/util/Hangul$HangulChar.class(입력 = 3185) (출력 = 1421)(55%를 감소함)\n",
      "추가하는 중: org/openkoreantext/processor/util/KoreanPos.class(입력 = 6890) (출력 = 3877)(43%를 감소함)\n",
      "추가하는 중: org/openkoreantext/processor/util/example_chunks.txt(입력 = 522978) (출력 = 163253)(68%를 감소함)\n",
      "추가하는 중: org/openkoreantext/processor/util/CharArrayMap$EntryIterator.class(입력 = 3118) (출력 = 1270)(59%를 감소함)\n",
      "추가하는 중: org/openkoreantext/processor/util/josa/(입력 = 0) (출력 = 0)(0%를 저장함)\n",
      "추가하는 중: org/openkoreantext/processor/util/josa/josa.txt(입력 = 5219) (출력 = 1476)(71%를 감소함)\n",
      "추가하는 중: org/openkoreantext/processor/util/substantives/(입력 = 0) (출력 = 0)(0%를 저장함)\n",
      "추가하는 중: org/openkoreantext/processor/util/substantives/family_names.txt(입력 = 299) (출력 = 197)(34%를 감소함)\n",
      "추가하는 중: org/openkoreantext/processor/util/substantives/given_names.txt(입력 = 1407) (출력 = 609)(56%를 감소함)\n",
      "추가하는 중: org/openkoreantext/processor/util/substantives/modifier.txt(입력 = 3395) (출력 = 1346)(60%를 감소함)\n",
      "추가하는 중: org/openkoreantext/processor/util/substantives/suffix.txt(입력 = 325) (출력 = 224)(31%를 감소함)\n",
      "추가하는 중: org/openkoreantext/processor/util/auxiliary/(입력 = 0) (출력 = 0)(0%를 저장함)\n",
      "추가하는 중: org/openkoreantext/processor/util/auxiliary/conjunctions.txt(입력 = 398) (출력 = 189)(52%를 감소함)\n",
      "추가하는 중: org/openkoreantext/processor/util/auxiliary/determiner.txt(입력 = 63) (출력 = 63)(0%를 감소함)\n",
      "추가하는 중: org/openkoreantext/processor/util/auxiliary/exclamation.txt(입력 = 1759) (출력 = 757)(56%를 감소함)\n",
      "추가하는 중: org/openkoreantext/processor/phrase_extractor/(입력 = 0) (출력 = 0)(0%를 저장함)\n",
      "추가하는 중: org/openkoreantext/processor/phrase_extractor/KoreanPhraseExtractor$PhraseBuffer.class(입력 = 4857) (출력 = 1609)(66%를 감소함)\n",
      "추가하는 중: org/openkoreantext/processor/phrase_extractor/KoreanPhraseExtractor$KoreanPhrase$.class(입력 = 3358) (출력 = 1148)(65%를 감소함)\n",
      "추가하는 중: org/openkoreantext/processor/phrase_extractor/KoreanPhraseExtractor.class(입력 = 6005) (출력 = 3967)(33%를 감소함)\n",
      "추가하는 중: org/openkoreantext/processor/phrase_extractor/KoreanPhraseExtractor$PhraseBuffer$.class(입력 = 3564) (출력 = 1087)(69%를 감소함)\n",
      "추가하는 중: org/openkoreantext/processor/phrase_extractor/KoreanPhraseExtractor$KoreanPhrase.class(입력 = 6942) (출력 = 2591)(62%를 감소함)\n",
      "추가하는 중: org/openkoreantext/processor/phrase_extractor/KoreanPhraseExtractor$.class(입력 = 37855) (출력 = 12404)(67%를 감소함)\n",
      "추가하는 중: org/openkoreantext/processor/tokenizer/(입력 = 0) (출력 = 0)(0%를 저장함)\n",
      "추가하는 중: org/openkoreantext/processor/tokenizer/KoreanTokenizer$KoreanToken.class(입력 = 6336) (출력 = 2633)(58%를 감소함)\n",
      "추가하는 중: org/openkoreantext/processor/tokenizer/KoreanTokenizer$.class(입력 = 25564) (출력 = 8451)(66%를 감소함)\n",
      "추가하는 중: org/openkoreantext/processor/tokenizer/KoreanChunk$.class(입력 = 2361) (출력 = 1010)(57%를 감소함)\n",
      "추가하는 중: org/openkoreantext/processor/tokenizer/KoreanSentenceSplitter$.class(입력 = 3359) (출력 = 1497)(55%를 감소함)\n",
      "추가하는 중: org/openkoreantext/processor/tokenizer/KoreanSentenceSplitter.class(입력 = 1092) (출력 = 712)(34%를 감소함)\n",
      "추가하는 중: org/openkoreantext/processor/tokenizer/KoreanTokenizer$PossibleTrie.class(입력 = 3399) (출력 = 1429)(57%를 감소함)\n",
      "추가하는 중: org/openkoreantext/processor/tokenizer/KoreanChunker.class(입력 = 4232) (출력 = 2887)(31%를 감소함)\n",
      "추가하는 중: org/openkoreantext/processor/tokenizer/KoreanTokenizer.class(입력 = 6968) (출력 = 4384)(37%를 감소함)\n",
      "추가하는 중: org/openkoreantext/processor/tokenizer/Sentence$.class(입력 = 2339) (출력 = 1012)(56%를 감소함)\n",
      "추가하는 중: org/openkoreantext/processor/tokenizer/KoreanDetokenizer.class(입력 = 1660) (출력 = 1133)(31%를 감소함)\n",
      "추가하는 중: org/openkoreantext/processor/tokenizer/TokenizerProfile$.class(입력 = 8169) (출력 = 2408)(70%를 감소함)\n",
      "추가하는 중: org/openkoreantext/processor/tokenizer/KoreanChunker$ChunkMatch.class(입력 = 4043) (출력 = 1704)(57%를 감소함)\n",
      "추가하는 중: org/openkoreantext/processor/tokenizer/KoreanDetokenizer$.class(입력 = 9889) (출력 = 4174)(57%를 감소함)\n",
      "추가하는 중: org/openkoreantext/processor/tokenizer/KoreanTokenizer$CandidateParse$.class(입력 = 3459) (출력 = 1111)(67%를 감소함)\n",
      "추가하는 중: org/openkoreantext/processor/tokenizer/TokenizerProfile.class(입력 = 16403) (출력 = 6666)(59%를 감소함)\n",
      "추가하는 중: org/openkoreantext/processor/tokenizer/KoreanTokenizer$PossibleTrie$.class(입력 = 2862) (출력 = 1067)(62%를 감소함)\n",
      "추가하는 중: org/openkoreantext/processor/tokenizer/Sentence.class(입력 = 5985) (출력 = 3125)(47%를 감소함)\n",
      "추가하는 중: org/openkoreantext/processor/tokenizer/KoreanTokenizer$KoreanToken$.class(입력 = 3976) (출력 = 1402)(64%를 감소함)\n",
      "추가하는 중: org/openkoreantext/processor/tokenizer/KoreanChunker$ChunkMatch$.class(입력 = 2893) (출력 = 1136)(60%를 감소함)\n",
      "추가하는 중: org/openkoreantext/processor/tokenizer/ParsedChunk.class(입력 = 20517) (출력 = 8914)(56%를 감소함)\n",
      "추가하는 중: org/openkoreantext/processor/tokenizer/KoreanTokenizer$CandidateParse.class(입력 = 4616) (출력 = 1645)(64%를 감소함)\n",
      "추가하는 중: org/openkoreantext/processor/tokenizer/KoreanChunk.class(입력 = 5611) (출력 = 2907)(48%를 감소함)\n",
      "추가하는 중: org/openkoreantext/processor/tokenizer/ParsedChunk$.class(입력 = 3973) (출력 = 1500)(62%를 감소함)\n",
      "추가하는 중: org/openkoreantext/processor/tokenizer/KoreanChunker$.class(입력 = 17975) (출력 = 6790)(62%를 감소함)\n",
      "추가하는 중: org/openkoreantext/processor/qa/(입력 = 0) (출력 = 0)(0%를 저장함)\n",
      "추가하는 중: org/openkoreantext/processor/qa/BatchGetUnknownNouns$ChunkWithTweet$.class(입력 = 2376) (출력 = 952)(59%를 감소함)\n",
      "추가하는 중: org/openkoreantext/processor/qa/BatchTokenizeTweets$ParseTime$.class(입력 = 2418) (출력 = 1015)(58%를 감소함)\n",
      "추가하는 중: org/openkoreantext/processor/qa/KoreanProcessorSandbox.class(입력 = 824) (출력 = 575)(30%를 감소함)\n",
      "추가하는 중: org/openkoreantext/processor/qa/BatchTokenizeTweets.class(입력 = 2720) (출력 = 2031)(25%를 감소함)\n",
      "추가하는 중: org/openkoreantext/processor/qa/BatchTokenizeTweets$ParseTime.class(입력 = 3153) (출력 = 1446)(54%를 감소함)\n",
      "추가하는 중: org/openkoreantext/processor/qa/BatchGetUnknownNouns.class(입력 = 2307) (출력 = 1702)(26%를 감소함)\n",
      "추가하는 중: org/openkoreantext/processor/qa/BatchGetUnknownNouns$ChunkWithTweet.class(입력 = 3080) (출력 = 1338)(56%를 감소함)\n",
      "추가하는 중: org/openkoreantext/processor/qa/BatchGetUnknownNouns$.class(입력 = 8751) (출력 = 3532)(59%를 감소함)\n",
      "추가하는 중: org/openkoreantext/processor/qa/KoreanProcessorSandbox$.class(입력 = 1464) (출력 = 823)(43%를 감소함)\n",
      "추가하는 중: org/openkoreantext/processor/qa/BatchTokenizeTweets$.class(입력 = 10867) (출력 = 4401)(59%를 감소함)\n",
      "추가하는 중: org/openkoreantext/processor/OpenKoreanTextProcessor$.class(입력 = 7716) (출력 = 2400)(68%를 감소함)\n",
      "추가하는 중: org/openkoreantext/processor/KoreanTokenJava.class(입력 = 1976) (출력 = 931)(52%를 감소함)\n",
      "추가하는 중: org/openkoreantext/processor/KoreanPosJava.class(입력 = 2457) (출력 = 1241)(49%를 감소함)\n",
      "추가하는 중: org/openkoreantext/processor/stemmer/(입력 = 0) (출력 = 0)(0%를 저장함)\n",
      "추가하는 중: org/openkoreantext/processor/stemmer/KoreanStemmer$.class(입력 = 7044) (출력 = 2892)(58%를 감소함)\n",
      "추가하는 중: org/openkoreantext/processor/stemmer/KoreanStemmer.class(입력 = 1439) (출력 = 972)(32%를 감소함)\n",
      "추가하는 중: org/openkoreantext/processor/OpenKoreanTextProcessor.class(입력 = 4428) (출력 = 1997)(54%를 감소함)\n",
      "추가하는 중: org/openkoreantext/processor/normalizer/(입력 = 0) (출력 = 0)(0%를 저장함)\n",
      "추가하는 중: org/openkoreantext/processor/normalizer/KoreanNormalizer$Segment.class(입력 = 3470) (출력 = 1422)(59%를 감소함)\n",
      "추가하는 중: org/openkoreantext/processor/normalizer/KoreanNormalizer$.class(입력 = 11553) (출력 = 5102)(55%를 감소함)\n",
      "추가하는 중: org/openkoreantext/processor/normalizer/KoreanNormalizer.class(입력 = 2980) (출력 = 2181)(26%를 감소함)\n",
      "추가하는 중: org/openkoreantext/processor/normalizer/KoreanNormalizer$Segment$.class(입력 = 2577) (출력 = 989)(61%를 감소함)\n"
     ]
    }
   ],
   "source": [
    "!jar cvf open-korean-text-2.1.0.jar org\n",
    "!rm org"
   ]
  },
  {
   "cell_type": "markdown",
   "id": "7a2e1bc5",
   "metadata": {},
   "source": [
    "### test"
   ]
  },
  {
   "cell_type": "code",
   "execution_count": 15,
   "id": "28f38e2f",
   "metadata": {},
   "outputs": [
    {
     "name": "stdout",
     "output_type": "stream",
     "text": [
      "[0.003s][warning][os,thread] Attempt to protect stack guard pages failed (0x000000016dae0000-0x000000016daec000).\n",
      "[0.003s][warning][os,thread] Attempt to deallocate stack guard pages failed.\n"
     ]
    }
   ],
   "source": [
    "from konlpy.tag import Okt\n",
    "\n",
    "jvm_path = \"/Library/Java/JavaVirtualMachines/zulu-15.jdk/Contents/Home/bin/java\"\n",
    "okt = Okt(jvmpath=jvm_path)"
   ]
  },
  {
   "cell_type": "code",
   "execution_count": 16,
   "id": "bff6fa3a",
   "metadata": {},
   "outputs": [
    {
     "name": "stdout",
     "output_type": "stream",
     "text": [
      "[('순대국', 'Noun'), ('먹고', 'Verb'), ('싶다', 'Verb'), ('.', 'Punctuation')]\n",
      "[('순댓국', 'Noun'), ('먹고', 'Verb'), ('싶다', 'Verb'), ('.', 'Punctuation')]\n",
      "[('패스트파이브', 'Noun'), ('에서', 'Josa'), ('일', 'Noun'), ('을', 'Josa'), ('합니다', 'Verb'), ('.', 'Punctuation')]\n",
      "[('아이오아이', 'Noun'), ('는', 'Josa'), ('정말', 'Noun'), ('이뻐요', 'Adjective'), ('.', 'Punctuation')]\n"
     ]
    }
   ],
   "source": [
    "# 태깅이 안되는 예. 이런 단어는 사용자 사전에 추가하면 \n",
    "print(okt.pos(\"순대국 먹고 싶다.\"))\n",
    "print(okt.pos(\"순댓국 먹고 싶다.\"))\n",
    "print(okt.pos(\"패스트파이브에서 일을 합니다.\"))\n",
    "print(okt.pos(\"아이오아이는 정말 이뻐요.\"))"
   ]
  },
  {
   "cell_type": "markdown",
   "id": "aeee397d",
   "metadata": {},
   "source": [
    "# "
   ]
  },
  {
   "cell_type": "markdown",
   "id": "9a60eedf",
   "metadata": {},
   "source": [
    "# Okt"
   ]
  },
  {
   "cell_type": "code",
   "execution_count": 21,
   "id": "9483a731",
   "metadata": {},
   "outputs": [],
   "source": [
    "import re\n",
    "import swifter\n",
    "from konlpy.tag import Okt"
   ]
  },
  {
   "cell_type": "code",
   "execution_count": 22,
   "id": "66329564",
   "metadata": {},
   "outputs": [],
   "source": [
    "jvm_path = \"/Library/Java/JavaVirtualMachines/zulu-15.jdk/Contents/Home/bin/java\"\n",
    "okt = Okt(jvmpath=jvm_path)"
   ]
  },
  {
   "cell_type": "markdown",
   "id": "ed0443ec",
   "metadata": {},
   "source": [
    "### preprocessing"
   ]
  },
  {
   "cell_type": "code",
   "execution_count": 23,
   "id": "8194491b",
   "metadata": {},
   "outputs": [],
   "source": [
    "def remove_regex(content):\n",
    "    result = re.sub('[^0-9a-zA-Zㄱ-힣\\s]', '', str(content))\n",
    "    return result"
   ]
  },
  {
   "cell_type": "code",
   "execution_count": 24,
   "id": "1458022a",
   "metadata": {},
   "outputs": [
    {
     "name": "stdout",
     "output_type": "stream",
     "text": [
      "Empty DataFrame\n",
      "Columns: [type, content, meme_id]\n",
      "Index: []\n"
     ]
    }
   ],
   "source": [
    "df_user_content = df_user[df_user.content.isnull()]\n",
    "print(df_user_content.head())"
   ]
  },
  {
   "cell_type": "code",
   "execution_count": 25,
   "id": "3bcd516a",
   "metadata": {},
   "outputs": [
    {
     "data": {
      "application/vnd.jupyter.widget-view+json": {
       "model_id": "712f18fd630e44938804848e496fbfa8",
       "version_major": 2,
       "version_minor": 0
      },
      "text/plain": [
       "Pandas Apply:   0%|          | 0/10317 [00:00<?, ?it/s]"
      ]
     },
     "metadata": {},
     "output_type": "display_data"
    },
    {
     "name": "stderr",
     "output_type": "stream",
     "text": [
      "/tmp/ipykernel_15639/2011501844.py:1: SettingWithCopyWarning: \n",
      "A value is trying to be set on a copy of a slice from a DataFrame.\n",
      "Try using .loc[row_indexer,col_indexer] = value instead\n",
      "\n",
      "See the caveats in the documentation: https://pandas.pydata.org/pandas-docs/stable/user_guide/indexing.html#returning-a-view-versus-a-copy\n",
      "  df_user['remove_regex'] = df_user.content.swifter.apply(remove_regex)\n"
     ]
    }
   ],
   "source": [
    "df_user['remove_regex'] = df_user.content.swifter.apply(remove_regex)"
   ]
  },
  {
   "cell_type": "markdown",
   "id": "0a212152",
   "metadata": {},
   "source": [
    "### okt morphs"
   ]
  },
  {
   "cell_type": "code",
   "execution_count": 26,
   "id": "476b8c7b",
   "metadata": {},
   "outputs": [],
   "source": [
    "stopwords = ['의','가','이','은','들','는','좀','잘','걍','과','도','를','으로','자','에','와','한','하다']"
   ]
  },
  {
   "cell_type": "code",
   "execution_count": 27,
   "id": "e347e0b6",
   "metadata": {},
   "outputs": [],
   "source": [
    "def make_pos(content):\n",
    "    result = okt.pos(str(content))\n",
    "\n",
    "    # 불용어 제거\n",
    "    result = [word for word in result if not word[0] in stopwords]\n",
    "    \n",
    "    # Noun 명사, Verb 동사, Adjective 형용사, Adverb 부사, Exclamation 감탄사, Suffix 접미사, KoreanParticle 신조어\n",
    "    # 조사, 관형사, 접속사 등 제거\n",
    "    result = [i[0] for i in result if i[1] == 'Noun' or i[1] == 'Verb' or i[1] == 'Adjective' or i[1] == 'Adverb' or i[1] == 'Exclamation' or i[1] == 'Suffix' or i[1] == 'KoreanParticle']\n",
    "\n",
    "    return result"
   ]
  },
  {
   "cell_type": "code",
   "execution_count": 28,
   "id": "d5928cf0",
   "metadata": {},
   "outputs": [
    {
     "data": {
      "application/vnd.jupyter.widget-view+json": {
       "model_id": "209e556746484a0a817bcb3337364bc8",
       "version_major": 2,
       "version_minor": 0
      },
      "text/plain": [
       "Pandas Apply:   0%|          | 0/10317 [00:00<?, ?it/s]"
      ]
     },
     "metadata": {},
     "output_type": "display_data"
    },
    {
     "name": "stderr",
     "output_type": "stream",
     "text": [
      "/tmp/ipykernel_15639/1467950993.py:1: SettingWithCopyWarning: \n",
      "A value is trying to be set on a copy of a slice from a DataFrame.\n",
      "Try using .loc[row_indexer,col_indexer] = value instead\n",
      "\n",
      "See the caveats in the documentation: https://pandas.pydata.org/pandas-docs/stable/user_guide/indexing.html#returning-a-view-versus-a-copy\n",
      "  df_user['pos'] = df_user.remove_regex.swifter.apply(make_pos)\n"
     ]
    }
   ],
   "source": [
    "df_user['pos'] = df_user.remove_regex.swifter.apply(make_pos)"
   ]
  },
  {
   "cell_type": "code",
   "execution_count": 29,
   "id": "d693f34d",
   "metadata": {},
   "outputs": [
    {
     "data": {
      "text/html": [
       "<div>\n",
       "<style scoped>\n",
       "    .dataframe tbody tr th:only-of-type {\n",
       "        vertical-align: middle;\n",
       "    }\n",
       "\n",
       "    .dataframe tbody tr th {\n",
       "        vertical-align: top;\n",
       "    }\n",
       "\n",
       "    .dataframe thead th {\n",
       "        text-align: right;\n",
       "    }\n",
       "</style>\n",
       "<table border=\"1\" class=\"dataframe\">\n",
       "  <thead>\n",
       "    <tr style=\"text-align: right;\">\n",
       "      <th></th>\n",
       "      <th>type</th>\n",
       "      <th>content</th>\n",
       "      <th>meme_id</th>\n",
       "      <th>remove_regex</th>\n",
       "      <th>pos</th>\n",
       "    </tr>\n",
       "  </thead>\n",
       "  <tbody>\n",
       "    <tr>\n",
       "      <th>0</th>\n",
       "      <td>U</td>\n",
       "      <td>나 중간고사 반에서 1등했어</td>\n",
       "      <td>NaN</td>\n",
       "      <td>나 중간고사 반에서 1등했어</td>\n",
       "      <td>[나, 중간고사, 반]</td>\n",
       "    </tr>\n",
       "    <tr>\n",
       "      <th>1</th>\n",
       "      <td>U</td>\n",
       "      <td>중간고사 점수 내가 반에서 제일 잘 받음</td>\n",
       "      <td>NaN</td>\n",
       "      <td>중간고사 점수 내가 반에서 제일 잘 받음</td>\n",
       "      <td>[중간고사, 점수, 내, 반, 제일, 받음]</td>\n",
       "    </tr>\n",
       "    <tr>\n",
       "      <th>2</th>\n",
       "      <td>U</td>\n",
       "      <td>나 반에서 중간 성적 제일 좋아</td>\n",
       "      <td>NaN</td>\n",
       "      <td>나 반에서 중간 성적 제일 좋아</td>\n",
       "      <td>[나, 반, 중간, 성적, 제일, 좋아]</td>\n",
       "    </tr>\n",
       "    <tr>\n",
       "      <th>3</th>\n",
       "      <td>U</td>\n",
       "      <td>우리 반에서 내가 시험 제일 잘 봤다</td>\n",
       "      <td>NaN</td>\n",
       "      <td>우리 반에서 내가 시험 제일 잘 봤다</td>\n",
       "      <td>[우리, 반, 내, 시험, 제일, 봤다]</td>\n",
       "    </tr>\n",
       "    <tr>\n",
       "      <th>4</th>\n",
       "      <td>U</td>\n",
       "      <td>중간고사 반 1등 먹음</td>\n",
       "      <td>NaN</td>\n",
       "      <td>중간고사 반 1등 먹음</td>\n",
       "      <td>[중간고사, 반, 먹음]</td>\n",
       "    </tr>\n",
       "    <tr>\n",
       "      <th>5</th>\n",
       "      <td>U</td>\n",
       "      <td>중간시험 내가 반 1등이야</td>\n",
       "      <td>NaN</td>\n",
       "      <td>중간시험 내가 반 1등이야</td>\n",
       "      <td>[중간, 시험, 내, 반]</td>\n",
       "    </tr>\n",
       "    <tr>\n",
       "      <th>6</th>\n",
       "      <td>U</td>\n",
       "      <td>너 왜 이렇게 멍청하냐?</td>\n",
       "      <td>NaN</td>\n",
       "      <td>너 왜 이렇게 멍청하냐</td>\n",
       "      <td>[너, 왜, 이렇게, 멍청하냐]</td>\n",
       "    </tr>\n",
       "    <tr>\n",
       "      <th>7</th>\n",
       "      <td>U</td>\n",
       "      <td>이 새끼 빡대가리잖아?</td>\n",
       "      <td>NaN</td>\n",
       "      <td>이 새끼 빡대가리잖아</td>\n",
       "      <td>[새끼, 빡, 대가리, 잖아]</td>\n",
       "    </tr>\n",
       "    <tr>\n",
       "      <th>8</th>\n",
       "      <td>U</td>\n",
       "      <td>너 말귀 못 알아듣냐고</td>\n",
       "      <td>NaN</td>\n",
       "      <td>너 말귀 못 알아듣냐고</td>\n",
       "      <td>[너, 말귀, 못, 알아듣냐고]</td>\n",
       "    </tr>\n",
       "    <tr>\n",
       "      <th>9</th>\n",
       "      <td>U</td>\n",
       "      <td>병신 이해력 딸리네</td>\n",
       "      <td>NaN</td>\n",
       "      <td>병신 이해력 딸리네</td>\n",
       "      <td>[병신, 이해력, 딸리네]</td>\n",
       "    </tr>\n",
       "    <tr>\n",
       "      <th>10</th>\n",
       "      <td>U</td>\n",
       "      <td>대가리는 장식임?</td>\n",
       "      <td>NaN</td>\n",
       "      <td>대가리는 장식임</td>\n",
       "      <td>[대가리, 장식, 임]</td>\n",
       "    </tr>\n",
       "    <tr>\n",
       "      <th>11</th>\n",
       "      <td>U</td>\n",
       "      <td>얘 밥통이네</td>\n",
       "      <td>NaN</td>\n",
       "      <td>얘 밥통이네</td>\n",
       "      <td>[얘, 밥통]</td>\n",
       "    </tr>\n",
       "    <tr>\n",
       "      <th>12</th>\n",
       "      <td>U</td>\n",
       "      <td>너 너무 싫어</td>\n",
       "      <td>NaN</td>\n",
       "      <td>너 너무 싫어</td>\n",
       "      <td>[너, 너무, 싫어]</td>\n",
       "    </tr>\n",
       "    <tr>\n",
       "      <th>13</th>\n",
       "      <td>U</td>\n",
       "      <td>대춘이 극혐</td>\n",
       "      <td>NaN</td>\n",
       "      <td>대춘이 극혐</td>\n",
       "      <td>[대, 춘이, 극혐]</td>\n",
       "    </tr>\n",
       "    <tr>\n",
       "      <th>14</th>\n",
       "      <td>U</td>\n",
       "      <td>너 좆같음</td>\n",
       "      <td>NaN</td>\n",
       "      <td>너 좆같음</td>\n",
       "      <td>[너, 좆, 같음]</td>\n",
       "    </tr>\n",
       "    <tr>\n",
       "      <th>15</th>\n",
       "      <td>U</td>\n",
       "      <td>대춘이 존나 띠꺼움</td>\n",
       "      <td>NaN</td>\n",
       "      <td>대춘이 존나 띠꺼움</td>\n",
       "      <td>[대, 춘이, 존나, 띠, 꺼, 움]</td>\n",
       "    </tr>\n",
       "    <tr>\n",
       "      <th>16</th>\n",
       "      <td>U</td>\n",
       "      <td>너 개싫다고</td>\n",
       "      <td>NaN</td>\n",
       "      <td>너 개싫다고</td>\n",
       "      <td>[너, 개, 싫다고]</td>\n",
       "    </tr>\n",
       "    <tr>\n",
       "      <th>17</th>\n",
       "      <td>U</td>\n",
       "      <td>아 이 새끼 존나 역겨워</td>\n",
       "      <td>NaN</td>\n",
       "      <td>아 이 새끼 존나 역겨워</td>\n",
       "      <td>[아, 새끼, 존나, 역겨워]</td>\n",
       "    </tr>\n",
       "    <tr>\n",
       "      <th>18</th>\n",
       "      <td>U</td>\n",
       "      <td>오예 티켓팅 성공했어</td>\n",
       "      <td>NaN</td>\n",
       "      <td>오예 티켓팅 성공했어</td>\n",
       "      <td>[오예, 티켓팅, 성공했어]</td>\n",
       "    </tr>\n",
       "    <tr>\n",
       "      <th>19</th>\n",
       "      <td>U</td>\n",
       "      <td>나 티켓 잡았다~</td>\n",
       "      <td>NaN</td>\n",
       "      <td>나 티켓 잡았다</td>\n",
       "      <td>[나, 티켓, 잡았다]</td>\n",
       "    </tr>\n",
       "  </tbody>\n",
       "</table>\n",
       "</div>"
      ],
      "text/plain": [
       "   type                 content meme_id            remove_regex  \\\n",
       "0     U         나 중간고사 반에서 1등했어     NaN         나 중간고사 반에서 1등했어   \n",
       "1     U  중간고사 점수 내가 반에서 제일 잘 받음     NaN  중간고사 점수 내가 반에서 제일 잘 받음   \n",
       "2     U       나 반에서 중간 성적 제일 좋아     NaN       나 반에서 중간 성적 제일 좋아   \n",
       "3     U    우리 반에서 내가 시험 제일 잘 봤다     NaN    우리 반에서 내가 시험 제일 잘 봤다   \n",
       "4     U            중간고사 반 1등 먹음     NaN            중간고사 반 1등 먹음   \n",
       "5     U          중간시험 내가 반 1등이야     NaN          중간시험 내가 반 1등이야   \n",
       "6     U           너 왜 이렇게 멍청하냐?     NaN            너 왜 이렇게 멍청하냐   \n",
       "7     U            이 새끼 빡대가리잖아?     NaN             이 새끼 빡대가리잖아   \n",
       "8     U            너 말귀 못 알아듣냐고     NaN            너 말귀 못 알아듣냐고   \n",
       "9     U              병신 이해력 딸리네     NaN              병신 이해력 딸리네   \n",
       "10    U               대가리는 장식임?     NaN                대가리는 장식임   \n",
       "11    U                  얘 밥통이네     NaN                  얘 밥통이네   \n",
       "12    U                 너 너무 싫어     NaN                 너 너무 싫어   \n",
       "13    U                  대춘이 극혐     NaN                  대춘이 극혐   \n",
       "14    U                   너 좆같음     NaN                   너 좆같음   \n",
       "15    U              대춘이 존나 띠꺼움     NaN              대춘이 존나 띠꺼움   \n",
       "16    U                  너 개싫다고     NaN                  너 개싫다고   \n",
       "17    U           아 이 새끼 존나 역겨워     NaN           아 이 새끼 존나 역겨워   \n",
       "18    U             오예 티켓팅 성공했어     NaN             오예 티켓팅 성공했어   \n",
       "19    U               나 티켓 잡았다~     NaN                나 티켓 잡았다   \n",
       "\n",
       "                         pos  \n",
       "0               [나, 중간고사, 반]  \n",
       "1   [중간고사, 점수, 내, 반, 제일, 받음]  \n",
       "2     [나, 반, 중간, 성적, 제일, 좋아]  \n",
       "3     [우리, 반, 내, 시험, 제일, 봤다]  \n",
       "4              [중간고사, 반, 먹음]  \n",
       "5             [중간, 시험, 내, 반]  \n",
       "6          [너, 왜, 이렇게, 멍청하냐]  \n",
       "7           [새끼, 빡, 대가리, 잖아]  \n",
       "8          [너, 말귀, 못, 알아듣냐고]  \n",
       "9             [병신, 이해력, 딸리네]  \n",
       "10              [대가리, 장식, 임]  \n",
       "11                   [얘, 밥통]  \n",
       "12               [너, 너무, 싫어]  \n",
       "13               [대, 춘이, 극혐]  \n",
       "14                [너, 좆, 같음]  \n",
       "15      [대, 춘이, 존나, 띠, 꺼, 움]  \n",
       "16               [너, 개, 싫다고]  \n",
       "17          [아, 새끼, 존나, 역겨워]  \n",
       "18           [오예, 티켓팅, 성공했어]  \n",
       "19              [나, 티켓, 잡았다]  "
      ]
     },
     "execution_count": 29,
     "metadata": {},
     "output_type": "execute_result"
    }
   ],
   "source": [
    "df_user.head(20)"
   ]
  },
  {
   "cell_type": "code",
   "execution_count": 30,
   "id": "93a3cb29",
   "metadata": {},
   "outputs": [
    {
     "data": {
      "text/plain": [
       "(10317, 5)"
      ]
     },
     "execution_count": 30,
     "metadata": {},
     "output_type": "execute_result"
    }
   ],
   "source": [
    "df_user.shape"
   ]
  },
  {
   "cell_type": "markdown",
   "id": "f47709c8",
   "metadata": {},
   "source": [
    "### length"
   ]
  },
  {
   "cell_type": "code",
   "execution_count": 31,
   "id": "43f98ab6",
   "metadata": {},
   "outputs": [],
   "source": [
    "import matplotlib.pyplot as plt"
   ]
  },
  {
   "cell_type": "code",
   "execution_count": 32,
   "id": "e7fe858a",
   "metadata": {},
   "outputs": [
    {
     "name": "stdout",
     "output_type": "stream",
     "text": [
      "최대 길이 : 13\n",
      "평균 길이 : 5.045555878646893\n"
     ]
    },
    {
     "data": {
      "image/png": "[encoded data removed]",
      "text/plain": [
       "<Figure size 640x480 with 1 Axes>"
      ]
     },
     "metadata": {},
     "output_type": "display_data"
    }
   ],
   "source": [
    "print('최대 길이 :',max(len(sent) for sent in df_user.pos))\n",
    "print('평균 길이 :',sum(map(len, df_user.pos))/len(df_user.pos))\n",
    "\n",
    "plt.hist([len(sent) for sent in df_user.pos], bins=50)\n",
    "plt.xlabel('length of samples')\n",
    "plt.ylabel('number of samples')\n",
    "plt.show()"
   ]
  },
  {
   "cell_type": "markdown",
   "id": "2fd0c726",
   "metadata": {},
   "source": [
    "# "
   ]
  },
  {
   "cell_type": "markdown",
   "id": "de3d90b6",
   "metadata": {},
   "source": [
    "# Save"
   ]
  },
  {
   "cell_type": "code",
   "execution_count": 33,
   "id": "a7d682ae",
   "metadata": {},
   "outputs": [],
   "source": [
    "df_user = df_user[['content', 'pos']]"
   ]
  },
  {
   "cell_type": "code",
   "execution_count": 34,
   "id": "cd4eb2d3",
   "metadata": {},
   "outputs": [
    {
     "data": {
      "text/html": [
       "<div>\n",
       "<style scoped>\n",
       "    .dataframe tbody tr th:only-of-type {\n",
       "        vertical-align: middle;\n",
       "    }\n",
       "\n",
       "    .dataframe tbody tr th {\n",
       "        vertical-align: top;\n",
       "    }\n",
       "\n",
       "    .dataframe thead th {\n",
       "        text-align: right;\n",
       "    }\n",
       "</style>\n",
       "<table border=\"1\" class=\"dataframe\">\n",
       "  <thead>\n",
       "    <tr style=\"text-align: right;\">\n",
       "      <th></th>\n",
       "      <th>content</th>\n",
       "      <th>pos</th>\n",
       "    </tr>\n",
       "  </thead>\n",
       "  <tbody>\n",
       "    <tr>\n",
       "      <th>0</th>\n",
       "      <td>나 중간고사 반에서 1등했어</td>\n",
       "      <td>[나, 중간고사, 반]</td>\n",
       "    </tr>\n",
       "    <tr>\n",
       "      <th>1</th>\n",
       "      <td>중간고사 점수 내가 반에서 제일 잘 받음</td>\n",
       "      <td>[중간고사, 점수, 내, 반, 제일, 받음]</td>\n",
       "    </tr>\n",
       "    <tr>\n",
       "      <th>2</th>\n",
       "      <td>나 반에서 중간 성적 제일 좋아</td>\n",
       "      <td>[나, 반, 중간, 성적, 제일, 좋아]</td>\n",
       "    </tr>\n",
       "    <tr>\n",
       "      <th>3</th>\n",
       "      <td>우리 반에서 내가 시험 제일 잘 봤다</td>\n",
       "      <td>[우리, 반, 내, 시험, 제일, 봤다]</td>\n",
       "    </tr>\n",
       "    <tr>\n",
       "      <th>4</th>\n",
       "      <td>중간고사 반 1등 먹음</td>\n",
       "      <td>[중간고사, 반, 먹음]</td>\n",
       "    </tr>\n",
       "  </tbody>\n",
       "</table>\n",
       "</div>"
      ],
      "text/plain": [
       "                  content                       pos\n",
       "0         나 중간고사 반에서 1등했어              [나, 중간고사, 반]\n",
       "1  중간고사 점수 내가 반에서 제일 잘 받음  [중간고사, 점수, 내, 반, 제일, 받음]\n",
       "2       나 반에서 중간 성적 제일 좋아    [나, 반, 중간, 성적, 제일, 좋아]\n",
       "3    우리 반에서 내가 시험 제일 잘 봤다    [우리, 반, 내, 시험, 제일, 봤다]\n",
       "4            중간고사 반 1등 먹음             [중간고사, 반, 먹음]"
      ]
     },
     "execution_count": 34,
     "metadata": {},
     "output_type": "execute_result"
    }
   ],
   "source": [
    "df_user.head()"
   ]
  },
  {
   "cell_type": "code",
   "execution_count": 35,
   "id": "d4613cd5",
   "metadata": {},
   "outputs": [
    {
     "name": "stdout",
     "output_type": "stream",
     "text": [
      "Saved 10317 records\n"
     ]
    }
   ],
   "source": [
    "fm.save(config.temp_data, df_user)"
   ]
  },
  {
   "cell_type": "code",
   "execution_count": null,
   "id": "0de6fe39",
   "metadata": {},
   "outputs": [],
   "source": []
  }
 ],
 "metadata": {
  "kernelspec": {
   "display_name": "Python 3 (ipykernel)",
   "language": "python",
   "name": "python3"
  },
  "language_info": {
   "codemirror_mode": {
    "name": "ipython",
    "version": 3
   },
   "file_extension": ".py",
   "mimetype": "text/x-python",
   "name": "python",
   "nbconvert_exporter": "python",
   "pygments_lexer": "ipython3",
   "version": "3.8.15"
  },
  "vscode": {
   "interpreter": {
    "hash": "5509974c52922419b2cd1678e25bc427846547301757df94ef8a5aea585d8591"
   }
  }
 },
 "nbformat": 4,
 "nbformat_minor": 5
}
