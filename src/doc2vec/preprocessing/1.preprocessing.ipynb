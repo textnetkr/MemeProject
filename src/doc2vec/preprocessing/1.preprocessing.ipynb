{
 "cells": [
  {
   "cell_type": "markdown",
   "id": "35db1db7",
   "metadata": {},
   "source": [
    "# Data Load"
   ]
  },
  {
   "cell_type": "code",
   "execution_count": 1,
   "id": "c1acee01",
   "metadata": {},
   "outputs": [],
   "source": [
    "import config\n",
    "from pshmodule.utils import filemanager as fm"
   ]
  },
  {
   "cell_type": "code",
   "execution_count": 2,
   "id": "2ec094f7",
   "metadata": {},
   "outputs": [
    {
     "name": "stdout",
     "output_type": "stream",
     "text": [
      "extension : .xlsx\n",
      "Loaded 36602 records from /Volumes/GoogleDrive/내 드라이브/MemeProject/data/row_data/meme_v1.xlsx\n"
     ]
    }
   ],
   "source": [
    "df = fm.load(config.data_path)"
   ]
  },
  {
   "cell_type": "code",
   "execution_count": 3,
   "id": "3ce2bc2d",
   "metadata": {},
   "outputs": [
    {
     "data": {
      "text/html": [
       "<div>\n",
       "<style scoped>\n",
       "    .dataframe tbody tr th:only-of-type {\n",
       "        vertical-align: middle;\n",
       "    }\n",
       "\n",
       "    .dataframe tbody tr th {\n",
       "        vertical-align: top;\n",
       "    }\n",
       "\n",
       "    .dataframe thead th {\n",
       "        text-align: right;\n",
       "    }\n",
       "</style>\n",
       "<table border=\"1\" class=\"dataframe\">\n",
       "  <thead>\n",
       "    <tr style=\"text-align: right;\">\n",
       "      <th></th>\n",
       "      <th>Unnamed: 0</th>\n",
       "      <th>Unnamed: 1</th>\n",
       "      <th>Unnamed: 2</th>\n",
       "      <th>Unnamed: 3</th>\n",
       "      <th>Unnamed: 4</th>\n",
       "      <th>Unnamed: 5</th>\n",
       "      <th>Unnamed: 6</th>\n",
       "      <th>Unnamed: 7</th>\n",
       "      <th>총 세트 수</th>\n",
       "      <th>총 발화문 수</th>\n",
       "      <th>밈 제외 발화</th>\n",
       "      <th>밈 발화 수</th>\n",
       "      <th>Unnamed: 12</th>\n",
       "      <th>Unnamed: 13</th>\n",
       "      <th>Unnamed: 14</th>\n",
       "    </tr>\n",
       "  </thead>\n",
       "  <tbody>\n",
       "    <tr>\n",
       "      <th>0</th>\n",
       "      <td>NaN</td>\n",
       "      <td>NaN</td>\n",
       "      <td>NaN</td>\n",
       "      <td>NaN</td>\n",
       "      <td>NaN</td>\n",
       "      <td>NaN</td>\n",
       "      <td>NaN</td>\n",
       "      <td>NaN</td>\n",
       "      <td>1525</td>\n",
       "      <td>24897</td>\n",
       "      <td>15747</td>\n",
       "      <td>9150</td>\n",
       "      <td>NaN</td>\n",
       "      <td>NaN</td>\n",
       "      <td>NaN</td>\n",
       "    </tr>\n",
       "    <tr>\n",
       "      <th>1</th>\n",
       "      <td>NaN</td>\n",
       "      <td>문장일련번호</td>\n",
       "      <td>관리번호</td>\n",
       "      <td>밈 id</td>\n",
       "      <td>set</td>\n",
       "      <td>utt</td>\n",
       "      <td>발화구분</td>\n",
       "      <td>대화소재</td>\n",
       "      <td>ARG0</td>\n",
       "      <td>발화문</td>\n",
       "      <td>ARG1</td>\n",
       "      <td>ARG_op</td>\n",
       "      <td>서술어</td>\n",
       "      <td>화행(U)</td>\n",
       "      <td>meme_ID</td>\n",
       "    </tr>\n",
       "    <tr>\n",
       "      <th>2</th>\n",
       "      <td>NaN</td>\n",
       "      <td>1</td>\n",
       "      <td>Aa0001</td>\n",
       "      <td>DT0044</td>\n",
       "      <td>1</td>\n",
       "      <td>1</td>\n",
       "      <td>U</td>\n",
       "      <td>학교생활</td>\n",
       "      <td>나</td>\n",
       "      <td>나 중간고사 반에서 1등했어</td>\n",
       "      <td>중간고사</td>\n",
       "      <td>반에서</td>\n",
       "      <td>1등하다</td>\n",
       "      <td>자랑</td>\n",
       "      <td>NaN</td>\n",
       "    </tr>\n",
       "    <tr>\n",
       "      <th>3</th>\n",
       "      <td>NaN</td>\n",
       "      <td>2</td>\n",
       "      <td>NaN</td>\n",
       "      <td>NaN</td>\n",
       "      <td>NaN</td>\n",
       "      <td>2</td>\n",
       "      <td>U</td>\n",
       "      <td>학교생활</td>\n",
       "      <td>나</td>\n",
       "      <td>중간고사 점수 내가 반에서 제일 잘 받음</td>\n",
       "      <td>중간고사</td>\n",
       "      <td>반에서</td>\n",
       "      <td>점수 제일 잘 받다</td>\n",
       "      <td>자랑</td>\n",
       "      <td>NaN</td>\n",
       "    </tr>\n",
       "    <tr>\n",
       "      <th>4</th>\n",
       "      <td>NaN</td>\n",
       "      <td>3</td>\n",
       "      <td>NaN</td>\n",
       "      <td>NaN</td>\n",
       "      <td>NaN</td>\n",
       "      <td>3</td>\n",
       "      <td>U</td>\n",
       "      <td>학교생활</td>\n",
       "      <td>나</td>\n",
       "      <td>나 반에서 중간 성적 제일 좋아</td>\n",
       "      <td>중간</td>\n",
       "      <td>반에서</td>\n",
       "      <td>성적 제일 좋다</td>\n",
       "      <td>자랑</td>\n",
       "      <td>NaN</td>\n",
       "    </tr>\n",
       "  </tbody>\n",
       "</table>\n",
       "</div>"
      ],
      "text/plain": [
       "   Unnamed: 0 Unnamed: 1 Unnamed: 2 Unnamed: 3 Unnamed: 4 Unnamed: 5  \\\n",
       "0         NaN        NaN        NaN        NaN        NaN        NaN   \n",
       "1         NaN     문장일련번호       관리번호       밈 id        set        utt   \n",
       "2         NaN          1     Aa0001     DT0044          1          1   \n",
       "3         NaN          2        NaN        NaN        NaN          2   \n",
       "4         NaN          3        NaN        NaN        NaN          3   \n",
       "\n",
       "  Unnamed: 6 Unnamed: 7 총 세트 수                 총 발화문 수 밈 제외 발화  밈 발화 수  \\\n",
       "0        NaN        NaN   1525                   24897   15747    9150   \n",
       "1       발화구분       대화소재   ARG0                     발화문    ARG1  ARG_op   \n",
       "2          U       학교생활      나         나 중간고사 반에서 1등했어    중간고사     반에서   \n",
       "3          U       학교생활      나  중간고사 점수 내가 반에서 제일 잘 받음    중간고사     반에서   \n",
       "4          U       학교생활      나       나 반에서 중간 성적 제일 좋아      중간     반에서   \n",
       "\n",
       "  Unnamed: 12 Unnamed: 13 Unnamed: 14  \n",
       "0         NaN         NaN         NaN  \n",
       "1         서술어       화행(U)     meme_ID  \n",
       "2        1등하다          자랑         NaN  \n",
       "3  점수 제일 잘 받다          자랑         NaN  \n",
       "4    성적 제일 좋다          자랑         NaN  "
      ]
     },
     "execution_count": 3,
     "metadata": {},
     "output_type": "execute_result"
    }
   ],
   "source": [
    "df.head()"
   ]
  },
  {
   "cell_type": "markdown",
   "id": "a760477e",
   "metadata": {},
   "source": [
    "#### header 생성"
   ]
  },
  {
   "cell_type": "code",
   "execution_count": 4,
   "id": "df92230d",
   "metadata": {},
   "outputs": [],
   "source": [
    "new_header = df.iloc[1]\n",
    "df = df[2:]\n",
    "df.columns = new_header"
   ]
  },
  {
   "cell_type": "code",
   "execution_count": 5,
   "id": "fa7c3848",
   "metadata": {},
   "outputs": [
    {
     "data": {
      "text/html": [
       "<div>\n",
       "<style scoped>\n",
       "    .dataframe tbody tr th:only-of-type {\n",
       "        vertical-align: middle;\n",
       "    }\n",
       "\n",
       "    .dataframe tbody tr th {\n",
       "        vertical-align: top;\n",
       "    }\n",
       "\n",
       "    .dataframe thead th {\n",
       "        text-align: right;\n",
       "    }\n",
       "</style>\n",
       "<table border=\"1\" class=\"dataframe\">\n",
       "  <thead>\n",
       "    <tr style=\"text-align: right;\">\n",
       "      <th>1</th>\n",
       "      <th>NaN</th>\n",
       "      <th>문장일련번호</th>\n",
       "      <th>관리번호</th>\n",
       "      <th>밈 id</th>\n",
       "      <th>set</th>\n",
       "      <th>utt</th>\n",
       "      <th>발화구분</th>\n",
       "      <th>대화소재</th>\n",
       "      <th>ARG0</th>\n",
       "      <th>발화문</th>\n",
       "      <th>ARG1</th>\n",
       "      <th>ARG_op</th>\n",
       "      <th>서술어</th>\n",
       "      <th>화행(U)</th>\n",
       "      <th>meme_ID</th>\n",
       "    </tr>\n",
       "  </thead>\n",
       "  <tbody>\n",
       "    <tr>\n",
       "      <th>2</th>\n",
       "      <td>NaN</td>\n",
       "      <td>1</td>\n",
       "      <td>Aa0001</td>\n",
       "      <td>DT0044</td>\n",
       "      <td>1</td>\n",
       "      <td>1</td>\n",
       "      <td>U</td>\n",
       "      <td>학교생활</td>\n",
       "      <td>나</td>\n",
       "      <td>나 중간고사 반에서 1등했어</td>\n",
       "      <td>중간고사</td>\n",
       "      <td>반에서</td>\n",
       "      <td>1등하다</td>\n",
       "      <td>자랑</td>\n",
       "      <td>NaN</td>\n",
       "    </tr>\n",
       "    <tr>\n",
       "      <th>3</th>\n",
       "      <td>NaN</td>\n",
       "      <td>2</td>\n",
       "      <td>NaN</td>\n",
       "      <td>NaN</td>\n",
       "      <td>NaN</td>\n",
       "      <td>2</td>\n",
       "      <td>U</td>\n",
       "      <td>학교생활</td>\n",
       "      <td>나</td>\n",
       "      <td>중간고사 점수 내가 반에서 제일 잘 받음</td>\n",
       "      <td>중간고사</td>\n",
       "      <td>반에서</td>\n",
       "      <td>점수 제일 잘 받다</td>\n",
       "      <td>자랑</td>\n",
       "      <td>NaN</td>\n",
       "    </tr>\n",
       "    <tr>\n",
       "      <th>4</th>\n",
       "      <td>NaN</td>\n",
       "      <td>3</td>\n",
       "      <td>NaN</td>\n",
       "      <td>NaN</td>\n",
       "      <td>NaN</td>\n",
       "      <td>3</td>\n",
       "      <td>U</td>\n",
       "      <td>학교생활</td>\n",
       "      <td>나</td>\n",
       "      <td>나 반에서 중간 성적 제일 좋아</td>\n",
       "      <td>중간</td>\n",
       "      <td>반에서</td>\n",
       "      <td>성적 제일 좋다</td>\n",
       "      <td>자랑</td>\n",
       "      <td>NaN</td>\n",
       "    </tr>\n",
       "    <tr>\n",
       "      <th>5</th>\n",
       "      <td>NaN</td>\n",
       "      <td>4</td>\n",
       "      <td>NaN</td>\n",
       "      <td>NaN</td>\n",
       "      <td>NaN</td>\n",
       "      <td>4</td>\n",
       "      <td>U</td>\n",
       "      <td>학교생활</td>\n",
       "      <td>나</td>\n",
       "      <td>우리 반에서 내가 시험 제일 잘 봤다</td>\n",
       "      <td>시험</td>\n",
       "      <td>우리 반에서</td>\n",
       "      <td>제일 잘 보다</td>\n",
       "      <td>자랑</td>\n",
       "      <td>NaN</td>\n",
       "    </tr>\n",
       "    <tr>\n",
       "      <th>6</th>\n",
       "      <td>NaN</td>\n",
       "      <td>5</td>\n",
       "      <td>NaN</td>\n",
       "      <td>NaN</td>\n",
       "      <td>NaN</td>\n",
       "      <td>5</td>\n",
       "      <td>U</td>\n",
       "      <td>학교생활</td>\n",
       "      <td>NaN</td>\n",
       "      <td>중간고사 반 1등 먹음</td>\n",
       "      <td>중간고사</td>\n",
       "      <td>반</td>\n",
       "      <td>1등 먹다</td>\n",
       "      <td>자랑</td>\n",
       "      <td>NaN</td>\n",
       "    </tr>\n",
       "    <tr>\n",
       "      <th>7</th>\n",
       "      <td>NaN</td>\n",
       "      <td>6</td>\n",
       "      <td>NaN</td>\n",
       "      <td>NaN</td>\n",
       "      <td>NaN</td>\n",
       "      <td>6</td>\n",
       "      <td>U</td>\n",
       "      <td>학교생활</td>\n",
       "      <td>나</td>\n",
       "      <td>중간시험 내가 반 1등이야</td>\n",
       "      <td>중간시험</td>\n",
       "      <td>반</td>\n",
       "      <td>1등이다</td>\n",
       "      <td>자랑</td>\n",
       "      <td>NaN</td>\n",
       "    </tr>\n",
       "    <tr>\n",
       "      <th>8</th>\n",
       "      <td>NaN</td>\n",
       "      <td>7</td>\n",
       "      <td>NaN</td>\n",
       "      <td>NaN</td>\n",
       "      <td>NaN</td>\n",
       "      <td>7</td>\n",
       "      <td>CPR</td>\n",
       "      <td>NaN</td>\n",
       "      <td>NaN</td>\n",
       "      <td>그렇다면 통 크게 함 쏴야지!</td>\n",
       "      <td>NaN</td>\n",
       "      <td>NaN</td>\n",
       "      <td>NaN</td>\n",
       "      <td>NaN</td>\n",
       "      <td>NaN</td>\n",
       "    </tr>\n",
       "    <tr>\n",
       "      <th>9</th>\n",
       "      <td>NaN</td>\n",
       "      <td>8</td>\n",
       "      <td>NaN</td>\n",
       "      <td>NaN</td>\n",
       "      <td>NaN</td>\n",
       "      <td>8</td>\n",
       "      <td>CPR</td>\n",
       "      <td>NaN</td>\n",
       "      <td>NaN</td>\n",
       "      <td>ㄹㅇ? 대길이 한턱 쏴야겠네</td>\n",
       "      <td>NaN</td>\n",
       "      <td>NaN</td>\n",
       "      <td>NaN</td>\n",
       "      <td>NaN</td>\n",
       "      <td>NaN</td>\n",
       "    </tr>\n",
       "    <tr>\n",
       "      <th>10</th>\n",
       "      <td>NaN</td>\n",
       "      <td>9</td>\n",
       "      <td>NaN</td>\n",
       "      <td>NaN</td>\n",
       "      <td>NaN</td>\n",
       "      <td>9</td>\n",
       "      <td>CPR</td>\n",
       "      <td>NaN</td>\n",
       "      <td>NaN</td>\n",
       "      <td>1등 기념으로 플렉스 함 가즈아~!</td>\n",
       "      <td>NaN</td>\n",
       "      <td>NaN</td>\n",
       "      <td>NaN</td>\n",
       "      <td>NaN</td>\n",
       "      <td>NaN</td>\n",
       "    </tr>\n",
       "    <tr>\n",
       "      <th>11</th>\n",
       "      <td>NaN</td>\n",
       "      <td>10</td>\n",
       "      <td>NaN</td>\n",
       "      <td>NaN</td>\n",
       "      <td>NaN</td>\n",
       "      <td>10</td>\n",
       "      <td>CPR</td>\n",
       "      <td>NaN</td>\n",
       "      <td>NaN</td>\n",
       "      <td>진심? 그럼 자축하러 가야지</td>\n",
       "      <td>NaN</td>\n",
       "      <td>NaN</td>\n",
       "      <td>NaN</td>\n",
       "      <td>NaN</td>\n",
       "      <td>NaN</td>\n",
       "    </tr>\n",
       "  </tbody>\n",
       "</table>\n",
       "</div>"
      ],
      "text/plain": [
       "1   NaN 문장일련번호    관리번호    밈 id  set utt 발화구분  대화소재 ARG0  \\\n",
       "2   NaN      1  Aa0001  DT0044    1   1    U  학교생활    나   \n",
       "3   NaN      2     NaN     NaN  NaN   2    U  학교생활    나   \n",
       "4   NaN      3     NaN     NaN  NaN   3    U  학교생활    나   \n",
       "5   NaN      4     NaN     NaN  NaN   4    U  학교생활    나   \n",
       "6   NaN      5     NaN     NaN  NaN   5    U  학교생활  NaN   \n",
       "7   NaN      6     NaN     NaN  NaN   6    U  학교생활    나   \n",
       "8   NaN      7     NaN     NaN  NaN   7  CPR   NaN  NaN   \n",
       "9   NaN      8     NaN     NaN  NaN   8  CPR   NaN  NaN   \n",
       "10  NaN      9     NaN     NaN  NaN   9  CPR   NaN  NaN   \n",
       "11  NaN     10     NaN     NaN  NaN  10  CPR   NaN  NaN   \n",
       "\n",
       "1                      발화문  ARG1  ARG_op         서술어 화행(U) meme_ID  \n",
       "2          나 중간고사 반에서 1등했어  중간고사     반에서        1등하다    자랑     NaN  \n",
       "3   중간고사 점수 내가 반에서 제일 잘 받음  중간고사     반에서  점수 제일 잘 받다    자랑     NaN  \n",
       "4        나 반에서 중간 성적 제일 좋아    중간     반에서    성적 제일 좋다    자랑     NaN  \n",
       "5     우리 반에서 내가 시험 제일 잘 봤다    시험  우리 반에서     제일 잘 보다    자랑     NaN  \n",
       "6             중간고사 반 1등 먹음  중간고사       반       1등 먹다    자랑     NaN  \n",
       "7           중간시험 내가 반 1등이야  중간시험       반        1등이다    자랑     NaN  \n",
       "8         그렇다면 통 크게 함 쏴야지!   NaN     NaN         NaN   NaN     NaN  \n",
       "9          ㄹㅇ? 대길이 한턱 쏴야겠네   NaN     NaN         NaN   NaN     NaN  \n",
       "10     1등 기념으로 플렉스 함 가즈아~!   NaN     NaN         NaN   NaN     NaN  \n",
       "11         진심? 그럼 자축하러 가야지   NaN     NaN         NaN   NaN     NaN  "
      ]
     },
     "execution_count": 5,
     "metadata": {},
     "output_type": "execute_result"
    }
   ],
   "source": [
    "df.head(10)"
   ]
  },
  {
   "cell_type": "markdown",
   "id": "273a2321",
   "metadata": {},
   "source": [
    "### Column Organize"
   ]
  },
  {
   "cell_type": "code",
   "execution_count": 6,
   "id": "04f2928e",
   "metadata": {},
   "outputs": [],
   "source": [
    "df = df[['발화구분', '발화문', 'meme_ID']]"
   ]
  },
  {
   "cell_type": "code",
   "execution_count": 7,
   "id": "feeeb6d2",
   "metadata": {},
   "outputs": [],
   "source": [
    "df.reset_index(inplace=True, drop=True)"
   ]
  },
  {
   "cell_type": "code",
   "execution_count": 8,
   "id": "a339a708",
   "metadata": {},
   "outputs": [
    {
     "data": {
      "text/html": [
       "<div>\n",
       "<style scoped>\n",
       "    .dataframe tbody tr th:only-of-type {\n",
       "        vertical-align: middle;\n",
       "    }\n",
       "\n",
       "    .dataframe tbody tr th {\n",
       "        vertical-align: top;\n",
       "    }\n",
       "\n",
       "    .dataframe thead th {\n",
       "        text-align: right;\n",
       "    }\n",
       "</style>\n",
       "<table border=\"1\" class=\"dataframe\">\n",
       "  <thead>\n",
       "    <tr style=\"text-align: right;\">\n",
       "      <th>1</th>\n",
       "      <th>발화구분</th>\n",
       "      <th>발화문</th>\n",
       "      <th>meme_ID</th>\n",
       "    </tr>\n",
       "  </thead>\n",
       "  <tbody>\n",
       "    <tr>\n",
       "      <th>0</th>\n",
       "      <td>U</td>\n",
       "      <td>나 중간고사 반에서 1등했어</td>\n",
       "      <td>NaN</td>\n",
       "    </tr>\n",
       "    <tr>\n",
       "      <th>1</th>\n",
       "      <td>U</td>\n",
       "      <td>중간고사 점수 내가 반에서 제일 잘 받음</td>\n",
       "      <td>NaN</td>\n",
       "    </tr>\n",
       "    <tr>\n",
       "      <th>2</th>\n",
       "      <td>U</td>\n",
       "      <td>나 반에서 중간 성적 제일 좋아</td>\n",
       "      <td>NaN</td>\n",
       "    </tr>\n",
       "    <tr>\n",
       "      <th>3</th>\n",
       "      <td>U</td>\n",
       "      <td>우리 반에서 내가 시험 제일 잘 봤다</td>\n",
       "      <td>NaN</td>\n",
       "    </tr>\n",
       "    <tr>\n",
       "      <th>4</th>\n",
       "      <td>U</td>\n",
       "      <td>중간고사 반 1등 먹음</td>\n",
       "      <td>NaN</td>\n",
       "    </tr>\n",
       "  </tbody>\n",
       "</table>\n",
       "</div>"
      ],
      "text/plain": [
       "1 발화구분                     발화문 meme_ID\n",
       "0    U         나 중간고사 반에서 1등했어     NaN\n",
       "1    U  중간고사 점수 내가 반에서 제일 잘 받음     NaN\n",
       "2    U       나 반에서 중간 성적 제일 좋아     NaN\n",
       "3    U    우리 반에서 내가 시험 제일 잘 봤다     NaN\n",
       "4    U            중간고사 반 1등 먹음     NaN"
      ]
     },
     "execution_count": 8,
     "metadata": {},
     "output_type": "execute_result"
    }
   ],
   "source": [
    "df.head()"
   ]
  },
  {
   "cell_type": "code",
   "execution_count": 9,
   "id": "850ef2d4",
   "metadata": {},
   "outputs": [],
   "source": [
    "df_user = df[df['발화구분']=='U']"
   ]
  },
  {
   "cell_type": "code",
   "execution_count": 10,
   "id": "8141bc15",
   "metadata": {},
   "outputs": [],
   "source": [
    "df_user.reset_index(inplace=True, drop=True)"
   ]
  },
  {
   "cell_type": "code",
   "execution_count": 11,
   "id": "e4c3f5eb",
   "metadata": {},
   "outputs": [
    {
     "data": {
      "text/html": [
       "<div>\n",
       "<style scoped>\n",
       "    .dataframe tbody tr th:only-of-type {\n",
       "        vertical-align: middle;\n",
       "    }\n",
       "\n",
       "    .dataframe tbody tr th {\n",
       "        vertical-align: top;\n",
       "    }\n",
       "\n",
       "    .dataframe thead th {\n",
       "        text-align: right;\n",
       "    }\n",
       "</style>\n",
       "<table border=\"1\" class=\"dataframe\">\n",
       "  <thead>\n",
       "    <tr style=\"text-align: right;\">\n",
       "      <th>1</th>\n",
       "      <th>발화구분</th>\n",
       "      <th>발화문</th>\n",
       "      <th>meme_ID</th>\n",
       "    </tr>\n",
       "  </thead>\n",
       "  <tbody>\n",
       "    <tr>\n",
       "      <th>0</th>\n",
       "      <td>U</td>\n",
       "      <td>나 중간고사 반에서 1등했어</td>\n",
       "      <td>NaN</td>\n",
       "    </tr>\n",
       "    <tr>\n",
       "      <th>1</th>\n",
       "      <td>U</td>\n",
       "      <td>중간고사 점수 내가 반에서 제일 잘 받음</td>\n",
       "      <td>NaN</td>\n",
       "    </tr>\n",
       "    <tr>\n",
       "      <th>2</th>\n",
       "      <td>U</td>\n",
       "      <td>나 반에서 중간 성적 제일 좋아</td>\n",
       "      <td>NaN</td>\n",
       "    </tr>\n",
       "    <tr>\n",
       "      <th>3</th>\n",
       "      <td>U</td>\n",
       "      <td>우리 반에서 내가 시험 제일 잘 봤다</td>\n",
       "      <td>NaN</td>\n",
       "    </tr>\n",
       "    <tr>\n",
       "      <th>4</th>\n",
       "      <td>U</td>\n",
       "      <td>중간고사 반 1등 먹음</td>\n",
       "      <td>NaN</td>\n",
       "    </tr>\n",
       "    <tr>\n",
       "      <th>5</th>\n",
       "      <td>U</td>\n",
       "      <td>중간시험 내가 반 1등이야</td>\n",
       "      <td>NaN</td>\n",
       "    </tr>\n",
       "    <tr>\n",
       "      <th>6</th>\n",
       "      <td>U</td>\n",
       "      <td>너 왜 이렇게 멍청하냐?</td>\n",
       "      <td>NaN</td>\n",
       "    </tr>\n",
       "    <tr>\n",
       "      <th>7</th>\n",
       "      <td>U</td>\n",
       "      <td>이 새끼 빡대가리잖아?</td>\n",
       "      <td>NaN</td>\n",
       "    </tr>\n",
       "    <tr>\n",
       "      <th>8</th>\n",
       "      <td>U</td>\n",
       "      <td>너 말귀 못 알아듣냐고</td>\n",
       "      <td>NaN</td>\n",
       "    </tr>\n",
       "    <tr>\n",
       "      <th>9</th>\n",
       "      <td>U</td>\n",
       "      <td>병신 이해력 딸리네</td>\n",
       "      <td>NaN</td>\n",
       "    </tr>\n",
       "  </tbody>\n",
       "</table>\n",
       "</div>"
      ],
      "text/plain": [
       "1 발화구분                     발화문 meme_ID\n",
       "0    U         나 중간고사 반에서 1등했어     NaN\n",
       "1    U  중간고사 점수 내가 반에서 제일 잘 받음     NaN\n",
       "2    U       나 반에서 중간 성적 제일 좋아     NaN\n",
       "3    U    우리 반에서 내가 시험 제일 잘 봤다     NaN\n",
       "4    U            중간고사 반 1등 먹음     NaN\n",
       "5    U          중간시험 내가 반 1등이야     NaN\n",
       "6    U           너 왜 이렇게 멍청하냐?     NaN\n",
       "7    U            이 새끼 빡대가리잖아?     NaN\n",
       "8    U            너 말귀 못 알아듣냐고     NaN\n",
       "9    U              병신 이해력 딸리네     NaN"
      ]
     },
     "execution_count": 11,
     "metadata": {},
     "output_type": "execute_result"
    }
   ],
   "source": [
    "df_user.head(10)"
   ]
  },
  {
   "cell_type": "code",
   "execution_count": 12,
   "id": "e8c7356c",
   "metadata": {},
   "outputs": [
    {
     "name": "stderr",
     "output_type": "stream",
     "text": [
      "/var/folders/yv/ss_gxzgs3jx6dn00dwvzvn100000gn/T/ipykernel_23086/3915493298.py:1: SettingWithCopyWarning: \n",
      "A value is trying to be set on a copy of a slice from a DataFrame\n",
      "\n",
      "See the caveats in the documentation: https://pandas.pydata.org/pandas-docs/stable/user_guide/indexing.html#returning-a-view-versus-a-copy\n",
      "  df_user.rename(columns={'발화구분':'type', '발화문':'content', 'meme_ID':'meme_id'}, inplace=True)\n"
     ]
    }
   ],
   "source": [
    "df_user.rename(columns={'발화구분':'type', '발화문':'content', 'meme_ID':'meme_id'}, inplace=True)"
   ]
  },
  {
   "cell_type": "code",
   "execution_count": 13,
   "id": "7a0bbf50",
   "metadata": {},
   "outputs": [
    {
     "data": {
      "text/plain": [
       "(9150, 3)"
      ]
     },
     "execution_count": 13,
     "metadata": {},
     "output_type": "execute_result"
    }
   ],
   "source": [
    "df_user.shape"
   ]
  },
  {
   "cell_type": "markdown",
   "id": "4ea3d3ac",
   "metadata": {},
   "source": [
    "# "
   ]
  },
  {
   "cell_type": "markdown",
   "id": "2223bb11",
   "metadata": {},
   "source": [
    "# Okt"
   ]
  },
  {
   "cell_type": "code",
   "execution_count": 14,
   "id": "52e78bde",
   "metadata": {},
   "outputs": [],
   "source": [
    "import re\n",
    "import swifter\n",
    "from konlpy.tag import Okt"
   ]
  },
  {
   "cell_type": "code",
   "execution_count": 15,
   "id": "aee67cd7",
   "metadata": {},
   "outputs": [],
   "source": [
    "okt = Okt()"
   ]
  },
  {
   "cell_type": "code",
   "execution_count": 16,
   "id": "76280c64",
   "metadata": {},
   "outputs": [],
   "source": [
    "def make_morphs(content):\n",
    "    result = okt.morphs(str(content))\n",
    "    return result"
   ]
  },
  {
   "cell_type": "code",
   "execution_count": 17,
   "id": "e3ed0d9b",
   "metadata": {},
   "outputs": [
    {
     "data": {
      "text/html": [
       "<div>\n",
       "<style scoped>\n",
       "    .dataframe tbody tr th:only-of-type {\n",
       "        vertical-align: middle;\n",
       "    }\n",
       "\n",
       "    .dataframe tbody tr th {\n",
       "        vertical-align: top;\n",
       "    }\n",
       "\n",
       "    .dataframe thead th {\n",
       "        text-align: right;\n",
       "    }\n",
       "</style>\n",
       "<table border=\"1\" class=\"dataframe\">\n",
       "  <thead>\n",
       "    <tr style=\"text-align: right;\">\n",
       "      <th>1</th>\n",
       "      <th>type</th>\n",
       "      <th>content</th>\n",
       "      <th>meme_id</th>\n",
       "    </tr>\n",
       "  </thead>\n",
       "  <tbody>\n",
       "    <tr>\n",
       "      <th>0</th>\n",
       "      <td>U</td>\n",
       "      <td>나 중간고사 반에서 1등했어</td>\n",
       "      <td>NaN</td>\n",
       "    </tr>\n",
       "    <tr>\n",
       "      <th>1</th>\n",
       "      <td>U</td>\n",
       "      <td>중간고사 점수 내가 반에서 제일 잘 받음</td>\n",
       "      <td>NaN</td>\n",
       "    </tr>\n",
       "    <tr>\n",
       "      <th>2</th>\n",
       "      <td>U</td>\n",
       "      <td>나 반에서 중간 성적 제일 좋아</td>\n",
       "      <td>NaN</td>\n",
       "    </tr>\n",
       "    <tr>\n",
       "      <th>3</th>\n",
       "      <td>U</td>\n",
       "      <td>우리 반에서 내가 시험 제일 잘 봤다</td>\n",
       "      <td>NaN</td>\n",
       "    </tr>\n",
       "    <tr>\n",
       "      <th>4</th>\n",
       "      <td>U</td>\n",
       "      <td>중간고사 반 1등 먹음</td>\n",
       "      <td>NaN</td>\n",
       "    </tr>\n",
       "    <tr>\n",
       "      <th>5</th>\n",
       "      <td>U</td>\n",
       "      <td>중간시험 내가 반 1등이야</td>\n",
       "      <td>NaN</td>\n",
       "    </tr>\n",
       "    <tr>\n",
       "      <th>6</th>\n",
       "      <td>U</td>\n",
       "      <td>너 왜 이렇게 멍청하냐?</td>\n",
       "      <td>NaN</td>\n",
       "    </tr>\n",
       "    <tr>\n",
       "      <th>7</th>\n",
       "      <td>U</td>\n",
       "      <td>이 새끼 빡대가리잖아?</td>\n",
       "      <td>NaN</td>\n",
       "    </tr>\n",
       "    <tr>\n",
       "      <th>8</th>\n",
       "      <td>U</td>\n",
       "      <td>너 말귀 못 알아듣냐고</td>\n",
       "      <td>NaN</td>\n",
       "    </tr>\n",
       "    <tr>\n",
       "      <th>9</th>\n",
       "      <td>U</td>\n",
       "      <td>병신 이해력 딸리네</td>\n",
       "      <td>NaN</td>\n",
       "    </tr>\n",
       "  </tbody>\n",
       "</table>\n",
       "</div>"
      ],
      "text/plain": [
       "1 type                 content meme_id\n",
       "0    U         나 중간고사 반에서 1등했어     NaN\n",
       "1    U  중간고사 점수 내가 반에서 제일 잘 받음     NaN\n",
       "2    U       나 반에서 중간 성적 제일 좋아     NaN\n",
       "3    U    우리 반에서 내가 시험 제일 잘 봤다     NaN\n",
       "4    U            중간고사 반 1등 먹음     NaN\n",
       "5    U          중간시험 내가 반 1등이야     NaN\n",
       "6    U           너 왜 이렇게 멍청하냐?     NaN\n",
       "7    U            이 새끼 빡대가리잖아?     NaN\n",
       "8    U            너 말귀 못 알아듣냐고     NaN\n",
       "9    U              병신 이해력 딸리네     NaN"
      ]
     },
     "execution_count": 17,
     "metadata": {},
     "output_type": "execute_result"
    }
   ],
   "source": [
    "df_user.head(10)"
   ]
  },
  {
   "cell_type": "markdown",
   "id": "9a60eedf",
   "metadata": {},
   "source": [
    "### preprocessing"
   ]
  },
  {
   "cell_type": "code",
   "execution_count": 18,
   "id": "8194491b",
   "metadata": {},
   "outputs": [],
   "source": [
    "def substr(content):\n",
    "    result = re.sub('[^0-9a-zA-Zㄱ-힣\\s]', '', str(content))\n",
    "    return result"
   ]
  },
  {
   "cell_type": "code",
   "execution_count": 19,
   "id": "1458022a",
   "metadata": {},
   "outputs": [
    {
     "name": "stdout",
     "output_type": "stream",
     "text": [
      "Empty DataFrame\n",
      "Columns: [type, content, meme_id]\n",
      "Index: []\n"
     ]
    }
   ],
   "source": [
    "df_user_content = df_user[df_user.content.isnull()]\n",
    "print(df_user_content.head())"
   ]
  },
  {
   "cell_type": "code",
   "execution_count": 20,
   "id": "3bcd516a",
   "metadata": {},
   "outputs": [
    {
     "data": {
      "application/vnd.jupyter.widget-view+json": {
       "model_id": "08b71603d9ac45c88aee385406f5aa89",
       "version_major": 2,
       "version_minor": 0
      },
      "text/plain": [
       "Pandas Apply:   0%|          | 0/9150 [00:00<?, ?it/s]"
      ]
     },
     "metadata": {},
     "output_type": "display_data"
    },
    {
     "name": "stderr",
     "output_type": "stream",
     "text": [
      "/var/folders/yv/ss_gxzgs3jx6dn00dwvzvn100000gn/T/ipykernel_5012/3861877369.py:1: SettingWithCopyWarning: \n",
      "A value is trying to be set on a copy of a slice from a DataFrame.\n",
      "Try using .loc[row_indexer,col_indexer] = value instead\n",
      "\n",
      "See the caveats in the documentation: https://pandas.pydata.org/pandas-docs/stable/user_guide/indexing.html#returning-a-view-versus-a-copy\n",
      "  df_user['sub_content'] = df_user.content.swifter.apply(substr)\n"
     ]
    }
   ],
   "source": [
    "df_user['sub_content'] = df_user.content.swifter.apply(substr)"
   ]
  },
  {
   "cell_type": "markdown",
   "id": "0a212152",
   "metadata": {},
   "source": [
    "### okt morphs"
   ]
  },
  {
   "cell_type": "code",
   "execution_count": 21,
   "id": "d5928cf0",
   "metadata": {},
   "outputs": [
    {
     "data": {
      "application/vnd.jupyter.widget-view+json": {
       "model_id": "4ea2f80a294c42f9899f9ef576a9a724",
       "version_major": 2,
       "version_minor": 0
      },
      "text/plain": [
       "Pandas Apply:   0%|          | 0/9150 [00:00<?, ?it/s]"
      ]
     },
     "metadata": {},
     "output_type": "display_data"
    },
    {
     "name": "stderr",
     "output_type": "stream",
     "text": [
      "/var/folders/yv/ss_gxzgs3jx6dn00dwvzvn100000gn/T/ipykernel_5012/785286436.py:1: SettingWithCopyWarning: \n",
      "A value is trying to be set on a copy of a slice from a DataFrame.\n",
      "Try using .loc[row_indexer,col_indexer] = value instead\n",
      "\n",
      "See the caveats in the documentation: https://pandas.pydata.org/pandas-docs/stable/user_guide/indexing.html#returning-a-view-versus-a-copy\n",
      "  df_user['morphs'] = df_user.sub_content.swifter.apply(make_morphs)\n"
     ]
    }
   ],
   "source": [
    "df_user['morphs'] = df_user.sub_content.swifter.apply(make_morphs)"
   ]
  },
  {
   "cell_type": "code",
   "execution_count": 22,
   "id": "d693f34d",
   "metadata": {},
   "outputs": [
    {
     "data": {
      "text/html": [
       "<div>\n",
       "<style scoped>\n",
       "    .dataframe tbody tr th:only-of-type {\n",
       "        vertical-align: middle;\n",
       "    }\n",
       "\n",
       "    .dataframe tbody tr th {\n",
       "        vertical-align: top;\n",
       "    }\n",
       "\n",
       "    .dataframe thead th {\n",
       "        text-align: right;\n",
       "    }\n",
       "</style>\n",
       "<table border=\"1\" class=\"dataframe\">\n",
       "  <thead>\n",
       "    <tr style=\"text-align: right;\">\n",
       "      <th>1</th>\n",
       "      <th>type</th>\n",
       "      <th>content</th>\n",
       "      <th>meme_id</th>\n",
       "      <th>sub_content</th>\n",
       "      <th>morphs</th>\n",
       "    </tr>\n",
       "  </thead>\n",
       "  <tbody>\n",
       "    <tr>\n",
       "      <th>0</th>\n",
       "      <td>U</td>\n",
       "      <td>나 중간고사 반에서 1등했어</td>\n",
       "      <td>NaN</td>\n",
       "      <td>나 중간고사 반에서 1등했어</td>\n",
       "      <td>[나, 중간고사, 반, 에서, 1등, 했어]</td>\n",
       "    </tr>\n",
       "    <tr>\n",
       "      <th>1</th>\n",
       "      <td>U</td>\n",
       "      <td>중간고사 점수 내가 반에서 제일 잘 받음</td>\n",
       "      <td>NaN</td>\n",
       "      <td>중간고사 점수 내가 반에서 제일 잘 받음</td>\n",
       "      <td>[중간고사, 점수, 내, 가, 반, 에서, 제일, 잘, 받음]</td>\n",
       "    </tr>\n",
       "    <tr>\n",
       "      <th>2</th>\n",
       "      <td>U</td>\n",
       "      <td>나 반에서 중간 성적 제일 좋아</td>\n",
       "      <td>NaN</td>\n",
       "      <td>나 반에서 중간 성적 제일 좋아</td>\n",
       "      <td>[나, 반, 에서, 중간, 성적, 제일, 좋아]</td>\n",
       "    </tr>\n",
       "    <tr>\n",
       "      <th>3</th>\n",
       "      <td>U</td>\n",
       "      <td>우리 반에서 내가 시험 제일 잘 봤다</td>\n",
       "      <td>NaN</td>\n",
       "      <td>우리 반에서 내가 시험 제일 잘 봤다</td>\n",
       "      <td>[우리, 반, 에서, 내, 가, 시험, 제일, 잘, 봤다]</td>\n",
       "    </tr>\n",
       "    <tr>\n",
       "      <th>4</th>\n",
       "      <td>U</td>\n",
       "      <td>중간고사 반 1등 먹음</td>\n",
       "      <td>NaN</td>\n",
       "      <td>중간고사 반 1등 먹음</td>\n",
       "      <td>[중간고사, 반, 1등, 먹음]</td>\n",
       "    </tr>\n",
       "  </tbody>\n",
       "</table>\n",
       "</div>"
      ],
      "text/plain": [
       "1 type                 content meme_id             sub_content  \\\n",
       "0    U         나 중간고사 반에서 1등했어     NaN         나 중간고사 반에서 1등했어   \n",
       "1    U  중간고사 점수 내가 반에서 제일 잘 받음     NaN  중간고사 점수 내가 반에서 제일 잘 받음   \n",
       "2    U       나 반에서 중간 성적 제일 좋아     NaN       나 반에서 중간 성적 제일 좋아   \n",
       "3    U    우리 반에서 내가 시험 제일 잘 봤다     NaN    우리 반에서 내가 시험 제일 잘 봤다   \n",
       "4    U            중간고사 반 1등 먹음     NaN            중간고사 반 1등 먹음   \n",
       "\n",
       "1                              morphs  \n",
       "0            [나, 중간고사, 반, 에서, 1등, 했어]  \n",
       "1  [중간고사, 점수, 내, 가, 반, 에서, 제일, 잘, 받음]  \n",
       "2          [나, 반, 에서, 중간, 성적, 제일, 좋아]  \n",
       "3    [우리, 반, 에서, 내, 가, 시험, 제일, 잘, 봤다]  \n",
       "4                   [중간고사, 반, 1등, 먹음]  "
      ]
     },
     "execution_count": 22,
     "metadata": {},
     "output_type": "execute_result"
    }
   ],
   "source": [
    "df_user.head()"
   ]
  },
  {
   "cell_type": "code",
   "execution_count": 23,
   "id": "93a3cb29",
   "metadata": {},
   "outputs": [
    {
     "data": {
      "text/plain": [
       "(9150, 5)"
      ]
     },
     "execution_count": 23,
     "metadata": {},
     "output_type": "execute_result"
    }
   ],
   "source": [
    "df_user.shape"
   ]
  },
  {
   "cell_type": "markdown",
   "id": "2fd0c726",
   "metadata": {},
   "source": [
    "# "
   ]
  },
  {
   "cell_type": "markdown",
   "id": "de3d90b6",
   "metadata": {},
   "source": [
    "# Save"
   ]
  },
  {
   "cell_type": "code",
   "execution_count": 23,
   "id": "a7d682ae",
   "metadata": {},
   "outputs": [],
   "source": [
    "df_user = df_user[['content', 'morphs']]"
   ]
  },
  {
   "cell_type": "code",
   "execution_count": 24,
   "id": "cd4eb2d3",
   "metadata": {},
   "outputs": [
    {
     "data": {
      "text/html": [
       "<div>\n",
       "<style scoped>\n",
       "    .dataframe tbody tr th:only-of-type {\n",
       "        vertical-align: middle;\n",
       "    }\n",
       "\n",
       "    .dataframe tbody tr th {\n",
       "        vertical-align: top;\n",
       "    }\n",
       "\n",
       "    .dataframe thead th {\n",
       "        text-align: right;\n",
       "    }\n",
       "</style>\n",
       "<table border=\"1\" class=\"dataframe\">\n",
       "  <thead>\n",
       "    <tr style=\"text-align: right;\">\n",
       "      <th>1</th>\n",
       "      <th>content</th>\n",
       "      <th>morphs</th>\n",
       "    </tr>\n",
       "  </thead>\n",
       "  <tbody>\n",
       "    <tr>\n",
       "      <th>0</th>\n",
       "      <td>나 중간고사 반에서 1등했어</td>\n",
       "      <td>[나, 중간고사, 반, 에서, 1등, 했어]</td>\n",
       "    </tr>\n",
       "    <tr>\n",
       "      <th>1</th>\n",
       "      <td>중간고사 점수 내가 반에서 제일 잘 받음</td>\n",
       "      <td>[중간고사, 점수, 내, 가, 반, 에서, 제일, 잘, 받음]</td>\n",
       "    </tr>\n",
       "    <tr>\n",
       "      <th>2</th>\n",
       "      <td>나 반에서 중간 성적 제일 좋아</td>\n",
       "      <td>[나, 반, 에서, 중간, 성적, 제일, 좋아]</td>\n",
       "    </tr>\n",
       "    <tr>\n",
       "      <th>3</th>\n",
       "      <td>우리 반에서 내가 시험 제일 잘 봤다</td>\n",
       "      <td>[우리, 반, 에서, 내, 가, 시험, 제일, 잘, 봤다]</td>\n",
       "    </tr>\n",
       "    <tr>\n",
       "      <th>4</th>\n",
       "      <td>중간고사 반 1등 먹음</td>\n",
       "      <td>[중간고사, 반, 1등, 먹음]</td>\n",
       "    </tr>\n",
       "  </tbody>\n",
       "</table>\n",
       "</div>"
      ],
      "text/plain": [
       "1                 content                              morphs\n",
       "0         나 중간고사 반에서 1등했어            [나, 중간고사, 반, 에서, 1등, 했어]\n",
       "1  중간고사 점수 내가 반에서 제일 잘 받음  [중간고사, 점수, 내, 가, 반, 에서, 제일, 잘, 받음]\n",
       "2       나 반에서 중간 성적 제일 좋아          [나, 반, 에서, 중간, 성적, 제일, 좋아]\n",
       "3    우리 반에서 내가 시험 제일 잘 봤다    [우리, 반, 에서, 내, 가, 시험, 제일, 잘, 봤다]\n",
       "4            중간고사 반 1등 먹음                   [중간고사, 반, 1등, 먹음]"
      ]
     },
     "execution_count": 24,
     "metadata": {},
     "output_type": "execute_result"
    }
   ],
   "source": [
    "df_user.head()"
   ]
  },
  {
   "cell_type": "code",
   "execution_count": 25,
   "id": "d4613cd5",
   "metadata": {},
   "outputs": [
    {
     "name": "stdout",
     "output_type": "stream",
     "text": [
      "Saved 9150 records\n"
     ]
    }
   ],
   "source": [
    "fm.save(config.temp_data, df_user)"
   ]
  },
  {
   "cell_type": "code",
   "execution_count": null,
   "id": "0de6fe39",
   "metadata": {},
   "outputs": [],
   "source": []
  }
 ],
 "metadata": {
  "kernelspec": {
   "display_name": "Python 3.8.15 64-bit ('.venv': pyenv)",
   "language": "python",
   "name": "python3"
  },
  "language_info": {
   "codemirror_mode": {
    "name": "ipython",
    "version": 3
   },
   "file_extension": ".py",
   "mimetype": "text/x-python",
   "name": "python",
   "nbconvert_exporter": "python",
   "pygments_lexer": "ipython3",
   "version": "3.8.15"
  },
  "vscode": {
   "interpreter": {
    "hash": "5509974c52922419b2cd1678e25bc427846547301757df94ef8a5aea585d8591"
   }
  }
 },
 "nbformat": 4,
 "nbformat_minor": 5
}
