{
 "cells": [
  {
   "cell_type": "markdown",
   "id": "5c510699",
   "metadata": {},
   "source": [
    "# Data Load"
   ]
  },
  {
   "cell_type": "code",
   "execution_count": 1,
   "id": "05adf649",
   "metadata": {},
   "outputs": [],
   "source": [
    "import config\n",
    "from pshmodule.utils import filemanager as fm"
   ]
  },
  {
   "cell_type": "code",
   "execution_count": 2,
   "id": "564a6c6c",
   "metadata": {},
   "outputs": [
    {
     "name": "stdout",
     "output_type": "stream",
     "text": [
      "extension : .pickle\n",
      "Loaded 9150 records from /Volumes/GoogleDrive/내 드라이브/MemeProject/data/temp_for_doc2vec.pickle\n"
     ]
    }
   ],
   "source": [
    "df = fm.load(config.temp_data)"
   ]
  },
  {
   "cell_type": "code",
   "execution_count": 3,
   "id": "7365288d",
   "metadata": {},
   "outputs": [
    {
     "data": {
      "text/html": [
       "<div>\n",
       "<style scoped>\n",
       "    .dataframe tbody tr th:only-of-type {\n",
       "        vertical-align: middle;\n",
       "    }\n",
       "\n",
       "    .dataframe tbody tr th {\n",
       "        vertical-align: top;\n",
       "    }\n",
       "\n",
       "    .dataframe thead th {\n",
       "        text-align: right;\n",
       "    }\n",
       "</style>\n",
       "<table border=\"1\" class=\"dataframe\">\n",
       "  <thead>\n",
       "    <tr style=\"text-align: right;\">\n",
       "      <th>1</th>\n",
       "      <th>content</th>\n",
       "      <th>morphs</th>\n",
       "    </tr>\n",
       "  </thead>\n",
       "  <tbody>\n",
       "    <tr>\n",
       "      <th>0</th>\n",
       "      <td>나 중간고사 반에서 1등했어</td>\n",
       "      <td>[나, 중간고사, 반, 에서, 1등, 했어]</td>\n",
       "    </tr>\n",
       "    <tr>\n",
       "      <th>1</th>\n",
       "      <td>중간고사 점수 내가 반에서 제일 잘 받음</td>\n",
       "      <td>[중간고사, 점수, 내, 가, 반, 에서, 제일, 잘, 받음]</td>\n",
       "    </tr>\n",
       "    <tr>\n",
       "      <th>2</th>\n",
       "      <td>나 반에서 중간 성적 제일 좋아</td>\n",
       "      <td>[나, 반, 에서, 중간, 성적, 제일, 좋아]</td>\n",
       "    </tr>\n",
       "    <tr>\n",
       "      <th>3</th>\n",
       "      <td>우리 반에서 내가 시험 제일 잘 봤다</td>\n",
       "      <td>[우리, 반, 에서, 내, 가, 시험, 제일, 잘, 봤다]</td>\n",
       "    </tr>\n",
       "    <tr>\n",
       "      <th>4</th>\n",
       "      <td>중간고사 반 1등 먹음</td>\n",
       "      <td>[중간고사, 반, 1등, 먹음]</td>\n",
       "    </tr>\n",
       "  </tbody>\n",
       "</table>\n",
       "</div>"
      ],
      "text/plain": [
       "1                 content                              morphs\n",
       "0         나 중간고사 반에서 1등했어            [나, 중간고사, 반, 에서, 1등, 했어]\n",
       "1  중간고사 점수 내가 반에서 제일 잘 받음  [중간고사, 점수, 내, 가, 반, 에서, 제일, 잘, 받음]\n",
       "2       나 반에서 중간 성적 제일 좋아          [나, 반, 에서, 중간, 성적, 제일, 좋아]\n",
       "3    우리 반에서 내가 시험 제일 잘 봤다    [우리, 반, 에서, 내, 가, 시험, 제일, 잘, 봤다]\n",
       "4            중간고사 반 1등 먹음                   [중간고사, 반, 1등, 먹음]"
      ]
     },
     "execution_count": 3,
     "metadata": {},
     "output_type": "execute_result"
    }
   ],
   "source": [
    "df.head()"
   ]
  },
  {
   "cell_type": "markdown",
   "id": "a0dbca47",
   "metadata": {},
   "source": [
    "# "
   ]
  },
  {
   "cell_type": "markdown",
   "id": "f0295c5a",
   "metadata": {},
   "source": [
    "# doc2vec"
   ]
  },
  {
   "cell_type": "code",
   "execution_count": 4,
   "id": "112e7c32",
   "metadata": {},
   "outputs": [],
   "source": [
    "from gensim.models.doc2vec import Doc2Vec, TaggedDocument"
   ]
  },
  {
   "cell_type": "code",
   "execution_count": 5,
   "id": "7c4119c9",
   "metadata": {},
   "outputs": [],
   "source": [
    "tagged_data = [TaggedDocument(words=_d, tags=[str(i)]) for i, _d in enumerate(df.morphs)]"
   ]
  },
  {
   "cell_type": "code",
   "execution_count": 6,
   "id": "68c5e618",
   "metadata": {},
   "outputs": [
    {
     "name": "stdout",
     "output_type": "stream",
     "text": [
      "[TaggedDocument(words=['나', '중간고사', '반', '에서', '1등', '했어'], tags=['0']), TaggedDocument(words=['중간고사', '점수', '내', '가', '반', '에서', '제일', '잘', '받음'], tags=['1']), TaggedDocument(words=['나', '반', '에서', '중간', '성적', '제일', '좋아'], tags=['2']), TaggedDocument(words=['우리', '반', '에서', '내', '가', '시험', '제일', '잘', '봤다'], tags=['3']), TaggedDocument(words=['중간고사', '반', '1등', '먹음'], tags=['4'])]\n"
     ]
    }
   ],
   "source": [
    "print(tagged_data[:5])"
   ]
  },
  {
   "cell_type": "code",
   "execution_count": 7,
   "id": "41d0bb64",
   "metadata": {},
   "outputs": [],
   "source": [
    "model = Doc2Vec(tagged_data, vector_size=1024, window=3, epochs=100, min_count=0, workers=4)"
   ]
  },
  {
   "cell_type": "markdown",
   "id": "68fd598b",
   "metadata": {},
   "source": [
    "### model save"
   ]
  },
  {
   "cell_type": "code",
   "execution_count": 8,
   "id": "0f1ccc53",
   "metadata": {},
   "outputs": [
    {
     "name": "stdout",
     "output_type": "stream",
     "text": [
      "Model Saved\n"
     ]
    }
   ],
   "source": [
    "model.save(config.doc2vec)\n",
    "print(\"Model Saved\")"
   ]
  },
  {
   "cell_type": "markdown",
   "id": "15389547",
   "metadata": {},
   "source": [
    "# "
   ]
  }
 ],
 "metadata": {
  "kernelspec": {
   "display_name": "Python 3 (ipykernel)",
   "language": "python",
   "name": "python3"
  },
  "language_info": {
   "codemirror_mode": {
    "name": "ipython",
    "version": 3
   },
   "file_extension": ".py",
   "mimetype": "text/x-python",
   "name": "python",
   "nbconvert_exporter": "python",
   "pygments_lexer": "ipython3",
   "version": "3.8.15"
  }
 },
 "nbformat": 4,
 "nbformat_minor": 5
}
