{
 "cells": [
  {
   "cell_type": "markdown",
   "id": "51e00589",
   "metadata": {},
   "source": [
    "# Data Load"
   ]
  },
  {
   "cell_type": "code",
   "execution_count": 1,
   "id": "5a5749da",
   "metadata": {},
   "outputs": [],
   "source": [
    "import config\n",
    "from pshmodule.utils import filemanager as fm"
   ]
  },
  {
   "cell_type": "code",
   "execution_count": 2,
   "id": "64018708",
   "metadata": {},
   "outputs": [
    {
     "name": "stdout",
     "output_type": "stream",
     "text": [
      "extension : .xlsx\n",
      "Loaded 36602 records from /Volumes/GoogleDrive/내 드라이브/MemeProject/data/row_data/meme_v1.xlsx\n"
     ]
    }
   ],
   "source": [
    "df = fm.load(config.data_path)"
   ]
  },
  {
   "cell_type": "code",
   "execution_count": 3,
   "id": "53a8ae7a",
   "metadata": {},
   "outputs": [
    {
     "data": {
      "text/html": [
       "<div>\n",
       "<style scoped>\n",
       "    .dataframe tbody tr th:only-of-type {\n",
       "        vertical-align: middle;\n",
       "    }\n",
       "\n",
       "    .dataframe tbody tr th {\n",
       "        vertical-align: top;\n",
       "    }\n",
       "\n",
       "    .dataframe thead th {\n",
       "        text-align: right;\n",
       "    }\n",
       "</style>\n",
       "<table border=\"1\" class=\"dataframe\">\n",
       "  <thead>\n",
       "    <tr style=\"text-align: right;\">\n",
       "      <th></th>\n",
       "      <th>Unnamed: 0</th>\n",
       "      <th>Unnamed: 1</th>\n",
       "      <th>Unnamed: 2</th>\n",
       "      <th>Unnamed: 3</th>\n",
       "      <th>Unnamed: 4</th>\n",
       "      <th>Unnamed: 5</th>\n",
       "      <th>Unnamed: 6</th>\n",
       "      <th>Unnamed: 7</th>\n",
       "      <th>총 세트 수</th>\n",
       "      <th>총 발화문 수</th>\n",
       "      <th>밈 제외 발화</th>\n",
       "      <th>밈 발화 수</th>\n",
       "      <th>Unnamed: 12</th>\n",
       "      <th>Unnamed: 13</th>\n",
       "      <th>Unnamed: 14</th>\n",
       "    </tr>\n",
       "  </thead>\n",
       "  <tbody>\n",
       "    <tr>\n",
       "      <th>0</th>\n",
       "      <td>NaN</td>\n",
       "      <td>NaN</td>\n",
       "      <td>NaN</td>\n",
       "      <td>NaN</td>\n",
       "      <td>NaN</td>\n",
       "      <td>NaN</td>\n",
       "      <td>NaN</td>\n",
       "      <td>NaN</td>\n",
       "      <td>1525</td>\n",
       "      <td>24897</td>\n",
       "      <td>15747</td>\n",
       "      <td>9150</td>\n",
       "      <td>NaN</td>\n",
       "      <td>NaN</td>\n",
       "      <td>NaN</td>\n",
       "    </tr>\n",
       "    <tr>\n",
       "      <th>1</th>\n",
       "      <td>NaN</td>\n",
       "      <td>문장일련번호</td>\n",
       "      <td>관리번호</td>\n",
       "      <td>밈 id</td>\n",
       "      <td>set</td>\n",
       "      <td>utt</td>\n",
       "      <td>발화구분</td>\n",
       "      <td>대화소재</td>\n",
       "      <td>ARG0</td>\n",
       "      <td>발화문</td>\n",
       "      <td>ARG1</td>\n",
       "      <td>ARG_op</td>\n",
       "      <td>서술어</td>\n",
       "      <td>화행(U)</td>\n",
       "      <td>meme_ID</td>\n",
       "    </tr>\n",
       "    <tr>\n",
       "      <th>2</th>\n",
       "      <td>NaN</td>\n",
       "      <td>1</td>\n",
       "      <td>Aa0001</td>\n",
       "      <td>DT0044</td>\n",
       "      <td>1</td>\n",
       "      <td>1</td>\n",
       "      <td>U</td>\n",
       "      <td>학교생활</td>\n",
       "      <td>나</td>\n",
       "      <td>나 중간고사 반에서 1등했어</td>\n",
       "      <td>중간고사</td>\n",
       "      <td>반에서</td>\n",
       "      <td>1등하다</td>\n",
       "      <td>자랑</td>\n",
       "      <td>NaN</td>\n",
       "    </tr>\n",
       "    <tr>\n",
       "      <th>3</th>\n",
       "      <td>NaN</td>\n",
       "      <td>2</td>\n",
       "      <td>NaN</td>\n",
       "      <td>NaN</td>\n",
       "      <td>NaN</td>\n",
       "      <td>2</td>\n",
       "      <td>U</td>\n",
       "      <td>학교생활</td>\n",
       "      <td>나</td>\n",
       "      <td>중간고사 점수 내가 반에서 제일 잘 받음</td>\n",
       "      <td>중간고사</td>\n",
       "      <td>반에서</td>\n",
       "      <td>점수 제일 잘 받다</td>\n",
       "      <td>자랑</td>\n",
       "      <td>NaN</td>\n",
       "    </tr>\n",
       "    <tr>\n",
       "      <th>4</th>\n",
       "      <td>NaN</td>\n",
       "      <td>3</td>\n",
       "      <td>NaN</td>\n",
       "      <td>NaN</td>\n",
       "      <td>NaN</td>\n",
       "      <td>3</td>\n",
       "      <td>U</td>\n",
       "      <td>학교생활</td>\n",
       "      <td>나</td>\n",
       "      <td>나 반에서 중간 성적 제일 좋아</td>\n",
       "      <td>중간</td>\n",
       "      <td>반에서</td>\n",
       "      <td>성적 제일 좋다</td>\n",
       "      <td>자랑</td>\n",
       "      <td>NaN</td>\n",
       "    </tr>\n",
       "  </tbody>\n",
       "</table>\n",
       "</div>"
      ],
      "text/plain": [
       "   Unnamed: 0 Unnamed: 1 Unnamed: 2 Unnamed: 3 Unnamed: 4 Unnamed: 5  \\\n",
       "0         NaN        NaN        NaN        NaN        NaN        NaN   \n",
       "1         NaN     문장일련번호       관리번호       밈 id        set        utt   \n",
       "2         NaN          1     Aa0001     DT0044          1          1   \n",
       "3         NaN          2        NaN        NaN        NaN          2   \n",
       "4         NaN          3        NaN        NaN        NaN          3   \n",
       "\n",
       "  Unnamed: 6 Unnamed: 7 총 세트 수                 총 발화문 수 밈 제외 발화  밈 발화 수  \\\n",
       "0        NaN        NaN   1525                   24897   15747    9150   \n",
       "1       발화구분       대화소재   ARG0                     발화문    ARG1  ARG_op   \n",
       "2          U       학교생활      나         나 중간고사 반에서 1등했어    중간고사     반에서   \n",
       "3          U       학교생활      나  중간고사 점수 내가 반에서 제일 잘 받음    중간고사     반에서   \n",
       "4          U       학교생활      나       나 반에서 중간 성적 제일 좋아      중간     반에서   \n",
       "\n",
       "  Unnamed: 12 Unnamed: 13 Unnamed: 14  \n",
       "0         NaN         NaN         NaN  \n",
       "1         서술어       화행(U)     meme_ID  \n",
       "2        1등하다          자랑         NaN  \n",
       "3  점수 제일 잘 받다          자랑         NaN  \n",
       "4    성적 제일 좋다          자랑         NaN  "
      ]
     },
     "execution_count": 3,
     "metadata": {},
     "output_type": "execute_result"
    }
   ],
   "source": [
    "df.head()"
   ]
  },
  {
   "cell_type": "markdown",
   "id": "3ed2801b",
   "metadata": {},
   "source": [
    "# "
   ]
  },
  {
   "cell_type": "markdown",
   "id": "33a90f5b",
   "metadata": {},
   "source": [
    "# create header"
   ]
  },
  {
   "cell_type": "code",
   "execution_count": 4,
   "id": "e76646e7",
   "metadata": {},
   "outputs": [],
   "source": [
    "new_header = df.iloc[1]\n",
    "df = df[2:]\n",
    "df.columns = new_header"
   ]
  },
  {
   "cell_type": "markdown",
   "id": "f77e5127",
   "metadata": {},
   "source": [
    "# "
   ]
  },
  {
   "cell_type": "markdown",
   "id": "268d366b",
   "metadata": {},
   "source": [
    "# column organize"
   ]
  },
  {
   "cell_type": "code",
   "execution_count": 5,
   "id": "ae4a56f0",
   "metadata": {},
   "outputs": [],
   "source": [
    "df = df[['발화구분', '발화문', 'meme_ID']]"
   ]
  },
  {
   "cell_type": "code",
   "execution_count": 6,
   "id": "12f2b83a",
   "metadata": {},
   "outputs": [],
   "source": [
    "df.reset_index(inplace=True, drop=True)"
   ]
  },
  {
   "cell_type": "code",
   "execution_count": 7,
   "id": "9319f8b1",
   "metadata": {},
   "outputs": [
    {
     "data": {
      "text/html": [
       "<div>\n",
       "<style scoped>\n",
       "    .dataframe tbody tr th:only-of-type {\n",
       "        vertical-align: middle;\n",
       "    }\n",
       "\n",
       "    .dataframe tbody tr th {\n",
       "        vertical-align: top;\n",
       "    }\n",
       "\n",
       "    .dataframe thead th {\n",
       "        text-align: right;\n",
       "    }\n",
       "</style>\n",
       "<table border=\"1\" class=\"dataframe\">\n",
       "  <thead>\n",
       "    <tr style=\"text-align: right;\">\n",
       "      <th>1</th>\n",
       "      <th>발화구분</th>\n",
       "      <th>발화문</th>\n",
       "      <th>meme_ID</th>\n",
       "    </tr>\n",
       "  </thead>\n",
       "  <tbody>\n",
       "    <tr>\n",
       "      <th>0</th>\n",
       "      <td>U</td>\n",
       "      <td>나 중간고사 반에서 1등했어</td>\n",
       "      <td>NaN</td>\n",
       "    </tr>\n",
       "    <tr>\n",
       "      <th>1</th>\n",
       "      <td>U</td>\n",
       "      <td>중간고사 점수 내가 반에서 제일 잘 받음</td>\n",
       "      <td>NaN</td>\n",
       "    </tr>\n",
       "    <tr>\n",
       "      <th>2</th>\n",
       "      <td>U</td>\n",
       "      <td>나 반에서 중간 성적 제일 좋아</td>\n",
       "      <td>NaN</td>\n",
       "    </tr>\n",
       "    <tr>\n",
       "      <th>3</th>\n",
       "      <td>U</td>\n",
       "      <td>우리 반에서 내가 시험 제일 잘 봤다</td>\n",
       "      <td>NaN</td>\n",
       "    </tr>\n",
       "    <tr>\n",
       "      <th>4</th>\n",
       "      <td>U</td>\n",
       "      <td>중간고사 반 1등 먹음</td>\n",
       "      <td>NaN</td>\n",
       "    </tr>\n",
       "  </tbody>\n",
       "</table>\n",
       "</div>"
      ],
      "text/plain": [
       "1 발화구분                     발화문 meme_ID\n",
       "0    U         나 중간고사 반에서 1등했어     NaN\n",
       "1    U  중간고사 점수 내가 반에서 제일 잘 받음     NaN\n",
       "2    U       나 반에서 중간 성적 제일 좋아     NaN\n",
       "3    U    우리 반에서 내가 시험 제일 잘 봤다     NaN\n",
       "4    U            중간고사 반 1등 먹음     NaN"
      ]
     },
     "execution_count": 7,
     "metadata": {},
     "output_type": "execute_result"
    }
   ],
   "source": [
    "df.head()"
   ]
  },
  {
   "cell_type": "code",
   "execution_count": 8,
   "id": "a8eb4cfd",
   "metadata": {},
   "outputs": [],
   "source": [
    "df.rename(columns={'발화구분':'type', '발화문':'content', 'meme_ID':'meme_id'}, inplace=True)"
   ]
  },
  {
   "cell_type": "code",
   "execution_count": 9,
   "id": "e06a85ce",
   "metadata": {},
   "outputs": [
    {
     "data": {
      "text/plain": [
       "(36600, 3)"
      ]
     },
     "execution_count": 9,
     "metadata": {},
     "output_type": "execute_result"
    }
   ],
   "source": [
    "df.shape"
   ]
  },
  {
   "cell_type": "code",
   "execution_count": 10,
   "id": "b4d8715e",
   "metadata": {},
   "outputs": [
    {
     "name": "stdout",
     "output_type": "stream",
     "text": [
      "U      9150\n",
      "CPR    9150\n",
      "MM     9150\n",
      "CPO    9150\n",
      "Name: type, dtype: int64\n",
      "----------------------------------------------------------------------------------------------------\n",
      "뭐야뭐야...👥👤👥 웅성웅성...👤👥👥👤    40\n",
      "말을 잇지 못 하는...             36\n",
      "야 너두? 야 나두!               36\n",
      "너... 뭐 돼...?              31\n",
      "또 나만 진심이었지...             31\n",
      "                          ..\n",
      "작은 아씨들? 책?                 1\n",
      "작은아씨들 넷플에 등판함!             1\n",
      "작은 아씨들 넷플릭스에 나옴            1\n",
      "작은 아씨들 그 ott에 나왔다          1\n",
      "대길쓰 이모님,, 힘숨찐ㄷㄷ            1\n",
      "Name: content, Length: 21194, dtype: int64\n",
      "----------------------------------------------------------------------------------------------------\n",
      "DT0044    30\n",
      "ER0006    30\n",
      "DT0029    30\n",
      "DT0072    30\n",
      "DT0121    30\n",
      "          ..\n",
      "AT0013    30\n",
      "CR0010    30\n",
      "ER0010    30\n",
      "BT0006    30\n",
      "DT0023    30\n",
      "Name: meme_id, Length: 305, dtype: int64\n"
     ]
    }
   ],
   "source": [
    "print(df.type.value_counts())\n",
    "print(\"-\"*100)\n",
    "print(df.content.value_counts())\n",
    "print(\"-\"*100)\n",
    "print(df.meme_id.value_counts())"
   ]
  },
  {
   "cell_type": "markdown",
   "id": "2f548e8a",
   "metadata": {},
   "source": [
    "# "
   ]
  },
  {
   "cell_type": "markdown",
   "id": "35484ae4",
   "metadata": {},
   "source": [
    "# Serial to Parallel"
   ]
  },
  {
   "cell_type": "markdown",
   "id": "6ac9181f",
   "metadata": {},
   "source": [
    "#### 이모티콘에 대한 이슈\n",
    "#### 중복 제거"
   ]
  },
  {
   "cell_type": "markdown",
   "id": "4478a542",
   "metadata": {},
   "source": [
    "### group numbering"
   ]
  },
  {
   "cell_type": "code",
   "execution_count": 11,
   "id": "b2b5a692",
   "metadata": {},
   "outputs": [],
   "source": [
    "num_li = []\n",
    "number = 1\n",
    "\n",
    "for k, v in enumerate(df.iterrows()):\n",
    "    if k != 0 and k % 24 == 0:\n",
    "        number += 1\n",
    "\n",
    "    num_li.append(number)"
   ]
  },
  {
   "cell_type": "code",
   "execution_count": 12,
   "id": "04d8cea4",
   "metadata": {},
   "outputs": [],
   "source": [
    "df['group_no'] = num_li"
   ]
  },
  {
   "cell_type": "markdown",
   "id": "8e52078b",
   "metadata": {},
   "source": [
    "### numbering"
   ]
  },
  {
   "cell_type": "code",
   "execution_count": 13,
   "id": "4f184d0f",
   "metadata": {},
   "outputs": [],
   "source": [
    "num_li = []\n",
    "number = 1\n",
    "\n",
    "for _ in df.iterrows():\n",
    "    num_li.append(number)\n",
    "    number += 1"
   ]
  },
  {
   "cell_type": "code",
   "execution_count": 14,
   "id": "2b04f070",
   "metadata": {},
   "outputs": [
    {
     "data": {
      "text/plain": [
       "[1, 2, 3, 4, 5, 6, 7, 8, 9, 10]"
      ]
     },
     "execution_count": 14,
     "metadata": {},
     "output_type": "execute_result"
    }
   ],
   "source": [
    "num_li[:10]"
   ]
  },
  {
   "cell_type": "code",
   "execution_count": 15,
   "id": "40c4a16e",
   "metadata": {},
   "outputs": [],
   "source": [
    "df['num'] = num_li"
   ]
  },
  {
   "cell_type": "code",
   "execution_count": 16,
   "id": "b460a677",
   "metadata": {},
   "outputs": [],
   "source": [
    "df = df[['group_no', 'num', 'type', 'content']]"
   ]
  },
  {
   "cell_type": "code",
   "execution_count": 17,
   "id": "44ef5f63",
   "metadata": {},
   "outputs": [
    {
     "data": {
      "text/html": [
       "<div>\n",
       "<style scoped>\n",
       "    .dataframe tbody tr th:only-of-type {\n",
       "        vertical-align: middle;\n",
       "    }\n",
       "\n",
       "    .dataframe tbody tr th {\n",
       "        vertical-align: top;\n",
       "    }\n",
       "\n",
       "    .dataframe thead th {\n",
       "        text-align: right;\n",
       "    }\n",
       "</style>\n",
       "<table border=\"1\" class=\"dataframe\">\n",
       "  <thead>\n",
       "    <tr style=\"text-align: right;\">\n",
       "      <th>1</th>\n",
       "      <th>group_no</th>\n",
       "      <th>num</th>\n",
       "      <th>type</th>\n",
       "      <th>content</th>\n",
       "    </tr>\n",
       "  </thead>\n",
       "  <tbody>\n",
       "    <tr>\n",
       "      <th>0</th>\n",
       "      <td>1</td>\n",
       "      <td>1</td>\n",
       "      <td>U</td>\n",
       "      <td>나 중간고사 반에서 1등했어</td>\n",
       "    </tr>\n",
       "    <tr>\n",
       "      <th>1</th>\n",
       "      <td>1</td>\n",
       "      <td>2</td>\n",
       "      <td>U</td>\n",
       "      <td>중간고사 점수 내가 반에서 제일 잘 받음</td>\n",
       "    </tr>\n",
       "    <tr>\n",
       "      <th>2</th>\n",
       "      <td>1</td>\n",
       "      <td>3</td>\n",
       "      <td>U</td>\n",
       "      <td>나 반에서 중간 성적 제일 좋아</td>\n",
       "    </tr>\n",
       "    <tr>\n",
       "      <th>3</th>\n",
       "      <td>1</td>\n",
       "      <td>4</td>\n",
       "      <td>U</td>\n",
       "      <td>우리 반에서 내가 시험 제일 잘 봤다</td>\n",
       "    </tr>\n",
       "    <tr>\n",
       "      <th>4</th>\n",
       "      <td>1</td>\n",
       "      <td>5</td>\n",
       "      <td>U</td>\n",
       "      <td>중간고사 반 1등 먹음</td>\n",
       "    </tr>\n",
       "    <tr>\n",
       "      <th>5</th>\n",
       "      <td>1</td>\n",
       "      <td>6</td>\n",
       "      <td>U</td>\n",
       "      <td>중간시험 내가 반 1등이야</td>\n",
       "    </tr>\n",
       "    <tr>\n",
       "      <th>6</th>\n",
       "      <td>1</td>\n",
       "      <td>7</td>\n",
       "      <td>CPR</td>\n",
       "      <td>그렇다면 통 크게 함 쏴야지!</td>\n",
       "    </tr>\n",
       "    <tr>\n",
       "      <th>7</th>\n",
       "      <td>1</td>\n",
       "      <td>8</td>\n",
       "      <td>CPR</td>\n",
       "      <td>ㄹㅇ? 대길이 한턱 쏴야겠네</td>\n",
       "    </tr>\n",
       "    <tr>\n",
       "      <th>8</th>\n",
       "      <td>1</td>\n",
       "      <td>9</td>\n",
       "      <td>CPR</td>\n",
       "      <td>1등 기념으로 플렉스 함 가즈아~!</td>\n",
       "    </tr>\n",
       "    <tr>\n",
       "      <th>9</th>\n",
       "      <td>1</td>\n",
       "      <td>10</td>\n",
       "      <td>CPR</td>\n",
       "      <td>진심? 그럼 자축하러 가야지</td>\n",
       "    </tr>\n",
       "    <tr>\n",
       "      <th>10</th>\n",
       "      <td>1</td>\n",
       "      <td>11</td>\n",
       "      <td>CPR</td>\n",
       "      <td>한턱 쏴 (짝) 한턱 쏴 (짝)</td>\n",
       "    </tr>\n",
       "    <tr>\n",
       "      <th>11</th>\n",
       "      <td>1</td>\n",
       "      <td>12</td>\n",
       "      <td>CPR</td>\n",
       "      <td>1등턱 가나요~?</td>\n",
       "    </tr>\n",
       "    <tr>\n",
       "      <th>12</th>\n",
       "      <td>1</td>\n",
       "      <td>13</td>\n",
       "      <td>MM</td>\n",
       "      <td>근데 이제 내 것도 곁들인...</td>\n",
       "    </tr>\n",
       "    <tr>\n",
       "      <th>13</th>\n",
       "      <td>1</td>\n",
       "      <td>14</td>\n",
       "      <td>MM</td>\n",
       "      <td>근데 이제 내 몫을 제일 많이 곁들인...</td>\n",
       "    </tr>\n",
       "    <tr>\n",
       "      <th>14</th>\n",
       "      <td>1</td>\n",
       "      <td>15</td>\n",
       "      <td>MM</td>\n",
       "      <td>근데 이제 대춘이 몫도 곁들인...</td>\n",
       "    </tr>\n",
       "    <tr>\n",
       "      <th>15</th>\n",
       "      <td>1</td>\n",
       "      <td>16</td>\n",
       "      <td>MM</td>\n",
       "      <td>근데 이제 배보다 배꼽이 더 큰 걸 곁들인...</td>\n",
       "    </tr>\n",
       "    <tr>\n",
       "      <th>16</th>\n",
       "      <td>1</td>\n",
       "      <td>17</td>\n",
       "      <td>MM</td>\n",
       "      <td>근데 이제 과소비를 곁들인...</td>\n",
       "    </tr>\n",
       "    <tr>\n",
       "      <th>17</th>\n",
       "      <td>1</td>\n",
       "      <td>18</td>\n",
       "      <td>MM</td>\n",
       "      <td>근데 이제 탕진을 곁들인...</td>\n",
       "    </tr>\n",
       "    <tr>\n",
       "      <th>18</th>\n",
       "      <td>1</td>\n",
       "      <td>19</td>\n",
       "      <td>CPO</td>\n",
       "      <td>NaN</td>\n",
       "    </tr>\n",
       "    <tr>\n",
       "      <th>19</th>\n",
       "      <td>1</td>\n",
       "      <td>20</td>\n",
       "      <td>CPO</td>\n",
       "      <td>NaN</td>\n",
       "    </tr>\n",
       "    <tr>\n",
       "      <th>20</th>\n",
       "      <td>1</td>\n",
       "      <td>21</td>\n",
       "      <td>CPO</td>\n",
       "      <td>NaN</td>\n",
       "    </tr>\n",
       "    <tr>\n",
       "      <th>21</th>\n",
       "      <td>1</td>\n",
       "      <td>22</td>\n",
       "      <td>CPO</td>\n",
       "      <td>NaN</td>\n",
       "    </tr>\n",
       "    <tr>\n",
       "      <th>22</th>\n",
       "      <td>1</td>\n",
       "      <td>23</td>\n",
       "      <td>CPO</td>\n",
       "      <td>NaN</td>\n",
       "    </tr>\n",
       "    <tr>\n",
       "      <th>23</th>\n",
       "      <td>1</td>\n",
       "      <td>24</td>\n",
       "      <td>CPO</td>\n",
       "      <td>NaN</td>\n",
       "    </tr>\n",
       "    <tr>\n",
       "      <th>24</th>\n",
       "      <td>2</td>\n",
       "      <td>25</td>\n",
       "      <td>U</td>\n",
       "      <td>너 왜 이렇게 멍청하냐?</td>\n",
       "    </tr>\n",
       "    <tr>\n",
       "      <th>25</th>\n",
       "      <td>2</td>\n",
       "      <td>26</td>\n",
       "      <td>U</td>\n",
       "      <td>이 새끼 빡대가리잖아?</td>\n",
       "    </tr>\n",
       "    <tr>\n",
       "      <th>26</th>\n",
       "      <td>2</td>\n",
       "      <td>27</td>\n",
       "      <td>U</td>\n",
       "      <td>너 말귀 못 알아듣냐고</td>\n",
       "    </tr>\n",
       "    <tr>\n",
       "      <th>27</th>\n",
       "      <td>2</td>\n",
       "      <td>28</td>\n",
       "      <td>U</td>\n",
       "      <td>병신 이해력 딸리네</td>\n",
       "    </tr>\n",
       "    <tr>\n",
       "      <th>28</th>\n",
       "      <td>2</td>\n",
       "      <td>29</td>\n",
       "      <td>U</td>\n",
       "      <td>대가리는 장식임?</td>\n",
       "    </tr>\n",
       "    <tr>\n",
       "      <th>29</th>\n",
       "      <td>2</td>\n",
       "      <td>30</td>\n",
       "      <td>U</td>\n",
       "      <td>얘 밥통이네</td>\n",
       "    </tr>\n",
       "  </tbody>\n",
       "</table>\n",
       "</div>"
      ],
      "text/plain": [
       "1   group_no  num type                     content\n",
       "0          1    1    U             나 중간고사 반에서 1등했어\n",
       "1          1    2    U      중간고사 점수 내가 반에서 제일 잘 받음\n",
       "2          1    3    U           나 반에서 중간 성적 제일 좋아\n",
       "3          1    4    U        우리 반에서 내가 시험 제일 잘 봤다\n",
       "4          1    5    U                중간고사 반 1등 먹음\n",
       "5          1    6    U              중간시험 내가 반 1등이야\n",
       "6          1    7  CPR            그렇다면 통 크게 함 쏴야지!\n",
       "7          1    8  CPR             ㄹㅇ? 대길이 한턱 쏴야겠네\n",
       "8          1    9  CPR         1등 기념으로 플렉스 함 가즈아~!\n",
       "9          1   10  CPR             진심? 그럼 자축하러 가야지\n",
       "10         1   11  CPR           한턱 쏴 (짝) 한턱 쏴 (짝)\n",
       "11         1   12  CPR                   1등턱 가나요~?\n",
       "12         1   13   MM           근데 이제 내 것도 곁들인...\n",
       "13         1   14   MM     근데 이제 내 몫을 제일 많이 곁들인...\n",
       "14         1   15   MM         근데 이제 대춘이 몫도 곁들인...\n",
       "15         1   16   MM  근데 이제 배보다 배꼽이 더 큰 걸 곁들인...\n",
       "16         1   17   MM           근데 이제 과소비를 곁들인...\n",
       "17         1   18   MM            근데 이제 탕진을 곁들인...\n",
       "18         1   19  CPO                         NaN\n",
       "19         1   20  CPO                         NaN\n",
       "20         1   21  CPO                         NaN\n",
       "21         1   22  CPO                         NaN\n",
       "22         1   23  CPO                         NaN\n",
       "23         1   24  CPO                         NaN\n",
       "24         2   25    U               너 왜 이렇게 멍청하냐?\n",
       "25         2   26    U                이 새끼 빡대가리잖아?\n",
       "26         2   27    U                너 말귀 못 알아듣냐고\n",
       "27         2   28    U                  병신 이해력 딸리네\n",
       "28         2   29    U                   대가리는 장식임?\n",
       "29         2   30    U                      얘 밥통이네"
      ]
     },
     "execution_count": 17,
     "metadata": {},
     "output_type": "execute_result"
    }
   ],
   "source": [
    "df.head(30)"
   ]
  },
  {
   "cell_type": "markdown",
   "id": "e9a2f00c",
   "metadata": {},
   "source": [
    "### work to parallelize"
   ]
  },
  {
   "cell_type": "code",
   "execution_count": 18,
   "id": "8fbc7afb",
   "metadata": {},
   "outputs": [],
   "source": [
    "from tqdm import tqdm\n",
    "import pandas as pd"
   ]
  },
  {
   "cell_type": "code",
   "execution_count": 19,
   "id": "64d95882",
   "metadata": {},
   "outputs": [
    {
     "name": "stderr",
     "output_type": "stream",
     "text": [
      "100%|███████████████████████████████████████| 1525/1525 [00:40<00:00, 37.26it/s]\n"
     ]
    }
   ],
   "source": [
    "content_li = []\n",
    "cpr_li = []\n",
    "mm_li = []\n",
    "cpo_li = []\n",
    "\n",
    "\n",
    "for i in tqdm(range(max(df.group_no))):\n",
    "    df_temp = df[df.group_no==i+1]\n",
    "    \n",
    "    # type U\n",
    "    df_temp_u = df_temp[df_temp.type=='U']\n",
    "    df_temp_u.reset_index(inplace=True, drop=True)\n",
    "    for k in range(6):\n",
    "        for _ in range(216):\n",
    "            content_li.append(df_temp_u.content.iloc[k])\n",
    "\n",
    "    # type CPR\n",
    "    df_temp_cpr = df_temp[df_temp.type=='CPR']\n",
    "    df_temp_cpr.reset_index(inplace=True, drop=True)\n",
    "    for _ in range(6):\n",
    "        for k in range(6):\n",
    "            for _ in range(36):\n",
    "                cpr_li.append(df_temp_cpr.content.iloc[k])\n",
    "                \n",
    "    # type MM\n",
    "    df_temp_mm = df_temp[df_temp.type=='MM']\n",
    "    df_temp_mm.reset_index(inplace=True, drop=True)\n",
    "    for _ in range(6):\n",
    "        for _ in range(6):\n",
    "            for k in range(6):\n",
    "                for _ in range(6):\n",
    "                    mm_li.append(df_temp_mm.content.iloc[k])\n",
    "\n",
    "    # type CPO\n",
    "    df_temp_cpo = df_temp[df_temp.type=='CPO']\n",
    "    df_temp_cpo.reset_index(inplace=True, drop=True)\n",
    "    for _ in range(6):\n",
    "        for _ in range(6):\n",
    "            for _ in range(6):\n",
    "                for k in range(6):\n",
    "                        cpo_li.append(df_temp_cpo.content.iloc[k])"
   ]
  },
  {
   "cell_type": "code",
   "execution_count": 20,
   "id": "e1d2786b",
   "metadata": {},
   "outputs": [],
   "source": [
    "df_result = pd.DataFrame([x for x in zip(content_li, cpr_li, mm_li, cpo_li)], columns=['u', 'cpr', 'mm', 'cpo'])"
   ]
  },
  {
   "cell_type": "code",
   "execution_count": 21,
   "id": "29e0b7e1",
   "metadata": {},
   "outputs": [
    {
     "data": {
      "text/plain": [
       "(1976400, 4)"
      ]
     },
     "execution_count": 21,
     "metadata": {},
     "output_type": "execute_result"
    }
   ],
   "source": [
    "df_result.shape"
   ]
  },
  {
   "cell_type": "code",
   "execution_count": 22,
   "id": "f903138d",
   "metadata": {},
   "outputs": [
    {
     "data": {
      "text/html": [
       "<div>\n",
       "<style scoped>\n",
       "    .dataframe tbody tr th:only-of-type {\n",
       "        vertical-align: middle;\n",
       "    }\n",
       "\n",
       "    .dataframe tbody tr th {\n",
       "        vertical-align: top;\n",
       "    }\n",
       "\n",
       "    .dataframe thead th {\n",
       "        text-align: right;\n",
       "    }\n",
       "</style>\n",
       "<table border=\"1\" class=\"dataframe\">\n",
       "  <thead>\n",
       "    <tr style=\"text-align: right;\">\n",
       "      <th></th>\n",
       "      <th>u</th>\n",
       "      <th>cpr</th>\n",
       "      <th>mm</th>\n",
       "      <th>cpo</th>\n",
       "    </tr>\n",
       "  </thead>\n",
       "  <tbody>\n",
       "    <tr>\n",
       "      <th>0</th>\n",
       "      <td>나 중간고사 반에서 1등했어</td>\n",
       "      <td>그렇다면 통 크게 함 쏴야지!</td>\n",
       "      <td>근데 이제 내 것도 곁들인...</td>\n",
       "      <td>NaN</td>\n",
       "    </tr>\n",
       "    <tr>\n",
       "      <th>1</th>\n",
       "      <td>나 중간고사 반에서 1등했어</td>\n",
       "      <td>그렇다면 통 크게 함 쏴야지!</td>\n",
       "      <td>근데 이제 내 것도 곁들인...</td>\n",
       "      <td>NaN</td>\n",
       "    </tr>\n",
       "    <tr>\n",
       "      <th>2</th>\n",
       "      <td>나 중간고사 반에서 1등했어</td>\n",
       "      <td>그렇다면 통 크게 함 쏴야지!</td>\n",
       "      <td>근데 이제 내 것도 곁들인...</td>\n",
       "      <td>NaN</td>\n",
       "    </tr>\n",
       "    <tr>\n",
       "      <th>3</th>\n",
       "      <td>나 중간고사 반에서 1등했어</td>\n",
       "      <td>그렇다면 통 크게 함 쏴야지!</td>\n",
       "      <td>근데 이제 내 것도 곁들인...</td>\n",
       "      <td>NaN</td>\n",
       "    </tr>\n",
       "    <tr>\n",
       "      <th>4</th>\n",
       "      <td>나 중간고사 반에서 1등했어</td>\n",
       "      <td>그렇다면 통 크게 함 쏴야지!</td>\n",
       "      <td>근데 이제 내 것도 곁들인...</td>\n",
       "      <td>NaN</td>\n",
       "    </tr>\n",
       "  </tbody>\n",
       "</table>\n",
       "</div>"
      ],
      "text/plain": [
       "                 u               cpr                 mm  cpo\n",
       "0  나 중간고사 반에서 1등했어  그렇다면 통 크게 함 쏴야지!  근데 이제 내 것도 곁들인...  NaN\n",
       "1  나 중간고사 반에서 1등했어  그렇다면 통 크게 함 쏴야지!  근데 이제 내 것도 곁들인...  NaN\n",
       "2  나 중간고사 반에서 1등했어  그렇다면 통 크게 함 쏴야지!  근데 이제 내 것도 곁들인...  NaN\n",
       "3  나 중간고사 반에서 1등했어  그렇다면 통 크게 함 쏴야지!  근데 이제 내 것도 곁들인...  NaN\n",
       "4  나 중간고사 반에서 1등했어  그렇다면 통 크게 함 쏴야지!  근데 이제 내 것도 곁들인...  NaN"
      ]
     },
     "execution_count": 22,
     "metadata": {},
     "output_type": "execute_result"
    }
   ],
   "source": [
    "df_result.head()"
   ]
  },
  {
   "cell_type": "markdown",
   "id": "9be75a4d",
   "metadata": {},
   "source": [
    "### drop duplicate"
   ]
  },
  {
   "cell_type": "code",
   "execution_count": 23,
   "id": "f62d8ede",
   "metadata": {},
   "outputs": [],
   "source": [
    "df_result.drop_duplicates(inplace=True)"
   ]
  },
  {
   "cell_type": "code",
   "execution_count": 24,
   "id": "f23763a9",
   "metadata": {},
   "outputs": [],
   "source": [
    "df_result.reset_index(inplace=True, drop=True)"
   ]
  },
  {
   "cell_type": "code",
   "execution_count": 25,
   "id": "e536591d",
   "metadata": {},
   "outputs": [
    {
     "data": {
      "text/plain": [
       "(180940, 4)"
      ]
     },
     "execution_count": 25,
     "metadata": {},
     "output_type": "execute_result"
    }
   ],
   "source": [
    "df_result.shape"
   ]
  },
  {
   "cell_type": "code",
   "execution_count": 26,
   "id": "a024d616",
   "metadata": {},
   "outputs": [
    {
     "data": {
      "text/html": [
       "<div>\n",
       "<style scoped>\n",
       "    .dataframe tbody tr th:only-of-type {\n",
       "        vertical-align: middle;\n",
       "    }\n",
       "\n",
       "    .dataframe tbody tr th {\n",
       "        vertical-align: top;\n",
       "    }\n",
       "\n",
       "    .dataframe thead th {\n",
       "        text-align: right;\n",
       "    }\n",
       "</style>\n",
       "<table border=\"1\" class=\"dataframe\">\n",
       "  <thead>\n",
       "    <tr style=\"text-align: right;\">\n",
       "      <th></th>\n",
       "      <th>u</th>\n",
       "      <th>cpr</th>\n",
       "      <th>mm</th>\n",
       "      <th>cpo</th>\n",
       "    </tr>\n",
       "  </thead>\n",
       "  <tbody>\n",
       "    <tr>\n",
       "      <th>0</th>\n",
       "      <td>나 중간고사 반에서 1등했어</td>\n",
       "      <td>그렇다면 통 크게 함 쏴야지!</td>\n",
       "      <td>근데 이제 내 것도 곁들인...</td>\n",
       "      <td>NaN</td>\n",
       "    </tr>\n",
       "    <tr>\n",
       "      <th>1</th>\n",
       "      <td>나 중간고사 반에서 1등했어</td>\n",
       "      <td>그렇다면 통 크게 함 쏴야지!</td>\n",
       "      <td>근데 이제 내 몫을 제일 많이 곁들인...</td>\n",
       "      <td>NaN</td>\n",
       "    </tr>\n",
       "    <tr>\n",
       "      <th>2</th>\n",
       "      <td>나 중간고사 반에서 1등했어</td>\n",
       "      <td>그렇다면 통 크게 함 쏴야지!</td>\n",
       "      <td>근데 이제 대춘이 몫도 곁들인...</td>\n",
       "      <td>NaN</td>\n",
       "    </tr>\n",
       "    <tr>\n",
       "      <th>3</th>\n",
       "      <td>나 중간고사 반에서 1등했어</td>\n",
       "      <td>그렇다면 통 크게 함 쏴야지!</td>\n",
       "      <td>근데 이제 배보다 배꼽이 더 큰 걸 곁들인...</td>\n",
       "      <td>NaN</td>\n",
       "    </tr>\n",
       "    <tr>\n",
       "      <th>4</th>\n",
       "      <td>나 중간고사 반에서 1등했어</td>\n",
       "      <td>그렇다면 통 크게 함 쏴야지!</td>\n",
       "      <td>근데 이제 과소비를 곁들인...</td>\n",
       "      <td>NaN</td>\n",
       "    </tr>\n",
       "  </tbody>\n",
       "</table>\n",
       "</div>"
      ],
      "text/plain": [
       "                 u               cpr                          mm  cpo\n",
       "0  나 중간고사 반에서 1등했어  그렇다면 통 크게 함 쏴야지!           근데 이제 내 것도 곁들인...  NaN\n",
       "1  나 중간고사 반에서 1등했어  그렇다면 통 크게 함 쏴야지!     근데 이제 내 몫을 제일 많이 곁들인...  NaN\n",
       "2  나 중간고사 반에서 1등했어  그렇다면 통 크게 함 쏴야지!         근데 이제 대춘이 몫도 곁들인...  NaN\n",
       "3  나 중간고사 반에서 1등했어  그렇다면 통 크게 함 쏴야지!  근데 이제 배보다 배꼽이 더 큰 걸 곁들인...  NaN\n",
       "4  나 중간고사 반에서 1등했어  그렇다면 통 크게 함 쏴야지!           근데 이제 과소비를 곁들인...  NaN"
      ]
     },
     "execution_count": 26,
     "metadata": {},
     "output_type": "execute_result"
    }
   ],
   "source": [
    "df_result.head()"
   ]
  },
  {
   "cell_type": "markdown",
   "id": "686633e1",
   "metadata": {},
   "source": [
    "# "
   ]
  },
  {
   "cell_type": "markdown",
   "id": "134b6e78",
   "metadata": {},
   "source": [
    "# Save"
   ]
  },
  {
   "cell_type": "code",
   "execution_count": 27,
   "id": "0df19a17",
   "metadata": {},
   "outputs": [
    {
     "name": "stdout",
     "output_type": "stream",
     "text": [
      "Saved 180940 records\n"
     ]
    }
   ],
   "source": [
    "fm.save(config.temp_ref_data, df_result)"
   ]
  },
  {
   "cell_type": "code",
   "execution_count": null,
   "id": "2b2643af",
   "metadata": {},
   "outputs": [],
   "source": []
  }
 ],
 "metadata": {
  "kernelspec": {
   "display_name": "Python 3 (ipykernel)",
   "language": "python",
   "name": "python3"
  },
  "language_info": {
   "codemirror_mode": {
    "name": "ipython",
    "version": 3
   },
   "file_extension": ".py",
   "mimetype": "text/x-python",
   "name": "python",
   "nbconvert_exporter": "python",
   "pygments_lexer": "ipython3",
   "version": "3.8.15"
  }
 },
 "nbformat": 4,
 "nbformat_minor": 5
}
